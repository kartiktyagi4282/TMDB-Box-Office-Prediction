{
  "nbformat": 4,
  "nbformat_minor": 0,
  "metadata": {
    "colab": {
      "name": "TMDB Challenge1.ipynb",
      "version": "0.3.2",
      "provenance": [],
      "collapsed_sections": [
        "TwCAUx0NIyXP",
        "GIQ9a5HnIyZK",
        "bmcxjgmmIya4",
        "iv6TJ76aIybg",
        "__UUorwOIyb-",
        "PjVkWPT7Iyca",
        "bEPHQLXUIycn",
        "6IXorPC2IydC",
        "pnwDFNDwIydM",
        "e_HUaKYre_W1"
      ],
      "include_colab_link": true
    },
    "language_info": {
      "codemirror_mode": {
        "name": "ipython",
        "version": 3
      },
      "file_extension": ".py",
      "mimetype": "text/x-python",
      "name": "python",
      "nbconvert_exporter": "python",
      "pygments_lexer": "ipython3",
      "version": "3.6.8"
    },
    "kernelspec": {
      "name": "python3",
      "display_name": "Python 3"
    },
    "accelerator": "TPU"
  },
  "cells": [
    {
      "cell_type": "markdown",
      "metadata": {
        "id": "view-in-github",
        "colab_type": "text"
      },
      "source": [
        "<a href=\"https://colab.research.google.com/github/kartiktyagi4282/TMDB-Box-Office-Prediction/blob/master/TMDB_Challenge1.ipynb\" target=\"_parent\"><img src=\"https://colab.research.google.com/assets/colab-badge.svg\" alt=\"Open In Colab\"/></a>"
      ]
    },
    {
      "metadata": {
        "id": "9BfyN1acPi8e",
        "colab_type": "text"
      },
      "cell_type": "markdown",
      "source": [
        "### Setting Up Kaggle environment"
      ]
    },
    {
      "metadata": {
        "id": "hDBHDM7K8Euc",
        "colab_type": "code",
        "outputId": "d67d5a4e-5d62-4805-c365-6e6ddf79341c",
        "colab": {
          "resources": {
            "http://localhost:8080/nbextensions/google.colab/files.js": {
              "data": "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",
              "ok": true,
              "headers": [
                [
                  "content-type",
                  "application/javascript"
                ]
              ],
              "status": 200,
              "status_text": ""
            }
          },
          "base_uri": "https://localhost:8080/",
          "height": 92
        }
      },
      "cell_type": "code",
      "source": [
        "import json\n",
        "from google.colab import files\n",
        "files.upload()"
      ],
      "execution_count": 0,
      "outputs": [
        {
          "output_type": "display_data",
          "data": {
            "text/html": [
              "\n",
              "     <input type=\"file\" id=\"files-0cfd3b31-17a6-42d1-abc2-89b2fe8939ee\" name=\"files[]\" multiple disabled />\n",
              "     <output id=\"result-0cfd3b31-17a6-42d1-abc2-89b2fe8939ee\">\n",
              "      Upload widget is only available when the cell has been executed in the\n",
              "      current browser session. Please rerun this cell to enable.\n",
              "      </output>\n",
              "      <script src=\"/nbextensions/google.colab/files.js\"></script> "
            ],
            "text/plain": [
              "<IPython.core.display.HTML object>"
            ]
          },
          "metadata": {
            "tags": []
          }
        },
        {
          "output_type": "stream",
          "text": [
            "Saving kaggle.json to kaggle.json\n"
          ],
          "name": "stdout"
        },
        {
          "output_type": "execute_result",
          "data": {
            "text/plain": [
              "{'kaggle.json': b'{\"username\":\"kartiktyagi4282\",\"key\":\"1168d6b336b726490019f9950077105d\"}'}"
            ]
          },
          "metadata": {
            "tags": []
          },
          "execution_count": 1
        }
      ]
    },
    {
      "metadata": {
        "id": "0HQQ-ThH8ElY",
        "colab_type": "code",
        "colab": {}
      },
      "cell_type": "code",
      "source": [
        "!mkdir -p ~/.kaggle"
      ],
      "execution_count": 0,
      "outputs": []
    },
    {
      "metadata": {
        "id": "Lq0cHVn88EWu",
        "colab_type": "code",
        "colab": {}
      },
      "cell_type": "code",
      "source": [
        "!cp kaggle.json ~/.kaggle/"
      ],
      "execution_count": 0,
      "outputs": []
    },
    {
      "metadata": {
        "id": "5VnColy59VQg",
        "colab_type": "code",
        "colab": {}
      },
      "cell_type": "code",
      "source": [
        "!chmod 600 ~/.kaggle/kaggle.json"
      ],
      "execution_count": 0,
      "outputs": []
    },
    {
      "metadata": {
        "id": "ZK47AGSk9VN6",
        "colab_type": "code",
        "outputId": "922755c0-cfb4-453f-ad34-e3ab83743ae3",
        "colab": {
          "base_uri": "https://localhost:8080/",
          "height": 34
        }
      },
      "cell_type": "code",
      "source": [
        "!ls ~/.kaggle"
      ],
      "execution_count": 0,
      "outputs": [
        {
          "output_type": "stream",
          "text": [
            "kaggle.json\n"
          ],
          "name": "stdout"
        }
      ]
    },
    {
      "metadata": {
        "id": "MvvJYMth9VLV",
        "colab_type": "code",
        "colab": {}
      },
      "cell_type": "code",
      "source": [
        "# !pip install -q kaggle\n",
        "# !pip install -q kaggle-cli"
      ],
      "execution_count": 0,
      "outputs": []
    },
    {
      "metadata": {
        "id": "I_lCABxG9VJX",
        "colab_type": "code",
        "outputId": "364e446f-f20d-4a9b-eaf8-c4b274f23e25",
        "colab": {
          "base_uri": "https://localhost:8080/",
          "height": 417
        }
      },
      "cell_type": "code",
      "source": [
        "!kaggle datasets list"
      ],
      "execution_count": 0,
      "outputs": [
        {
          "output_type": "stream",
          "text": [
            "ref                                                          title                                                size  lastUpdated          downloadCount  \n",
            "-----------------------------------------------------------  --------------------------------------------------  -----  -------------------  -------------  \n",
            "ronitf/heart-disease-uci                                     Heart Disease UCI                                     3KB  2018-06-25 11:33:56          31977  \n",
            "russellyates88/suicide-rates-overview-1985-to-2016           Suicide Rates Overview 1985 to 2016                 396KB  2018-12-01 19:18:25          22597  \n",
            "karangadiya/fifa19                                           FIFA 19 complete player dataset                       2MB  2018-12-21 03:52:59          23431  \n",
            "bigquery/crypto-ethereum-classic                             Ethereum Classic Blockchain                          70GB  2019-03-20 23:21:25              0  \n",
            "mohansacharya/graduate-admissions                            Graduate Admissions                                   9KB  2018-12-28 10:07:14          19390  \n",
            "vjchoudhary7/customer-segmentation-tutorial-in-python        Mall Customer Segmentation Data                       2KB  2018-08-11 07:23:02           7632  \n",
            "iarunava/cell-images-for-detecting-malaria                   Malaria Cell Images Dataset                         337MB  2018-12-05 05:40:21           4823  \n",
            "lava18/google-play-store-apps                                Google Play Store Apps                                2MB  2019-02-03 13:55:47          50314  \n",
            "safegraph/visit-patterns-by-census-block-group               Consumer & Visitor Insights For Neighborhoods        66MB  2018-12-19 21:31:50           1468  \n",
            "jessicali9530/stanford-dogs-dataset                          Stanford Dogs Dataset                               735MB  2019-02-13 05:45:25           2799  \n",
            "jessicali9530/celeba-dataset                                 CelebFaces Attributes (CelebA) Dataset                1GB  2018-06-01 20:08:48           6843  \n",
            "rmisra/news-headlines-dataset-for-sarcasm-detection          News Headlines Dataset For Sarcasm Detection          2MB  2018-06-09 22:14:56           2736  \n",
            "cityofLA/los-angeles-parking-citations                       Los Angeles Parking Citations                       258MB  2019-04-19 22:18:42           3284  \n",
            "noriuk/us-education-datasets-unification-project             U.S. Education Datasets: Unification Project         85MB  2019-03-02 18:41:52           3581  \n",
            "jutrera/stanford-car-dataset-by-classes-folder               Stanford Car Dataset by classes folder                2GB  2018-07-02 07:35:45           2929  \n",
            "safegraph/census-block-group-american-community-survey-data  Census Block Group American Community Survey Data     2GB  2018-12-22 00:29:56            771  \n",
            "anokas/kuzushiji                                             Kuzushiji-MNIST                                     318MB  2018-12-17 01:19:31            848  \n",
            "fivethirtyeight/fivethirtyeight-comic-characters-dataset     FiveThirtyEight Comic Characters Dataset            577KB  2019-03-26 15:01:15           2435  \n",
            "pavansanagapati/urban-sound-classification                   Urban Sound Classification                            6GB  2018-06-16 13:44:36           2376  \n",
            "xvivancos/barcelona-data-sets                                Barcelona data sets                                   1MB  2018-12-13 14:16:53           3946  \n"
          ],
          "name": "stdout"
        }
      ]
    },
    {
      "metadata": {
        "id": "-0jcSj769VGx",
        "colab_type": "code",
        "outputId": "3c6b00fb-cc4a-4f1c-ce67-64943159643f",
        "colab": {
          "base_uri": "https://localhost:8080/",
          "height": 405
        }
      },
      "cell_type": "code",
      "source": [
        "!kaggle competitions list"
      ],
      "execution_count": 0,
      "outputs": [
        {
          "output_type": "stream",
          "text": [
            "ref                                                deadline             category            reward  teamCount  userHasEntered  \n",
            "-------------------------------------------------  -------------------  ---------------  ---------  ---------  --------------  \n",
            "digit-recognizer                                   2030-01-01 00:00:00  Getting Started  Knowledge       2875           False  \n",
            "titanic                                            2030-01-01 00:00:00  Getting Started  Knowledge      11162           False  \n",
            "house-prices-advanced-regression-techniques        2030-01-01 00:00:00  Getting Started  Knowledge       4275           False  \n",
            "imagenet-object-localization-challenge             2029-12-31 07:00:00  Research         Knowledge         40           False  \n",
            "competitive-data-science-predict-future-sales      2019-12-31 23:59:00  Playground           Kudos       2801            True  \n",
            "two-sigma-financial-news                           2019-07-15 23:59:00  Featured          $100,000       2927           False  \n",
            "aerial-cactus-identification                       2019-07-08 23:59:00  Playground       Knowledge        392           False  \n",
            "jigsaw-unintended-bias-in-toxicity-classification  2019-06-26 23:59:00  Featured           $65,000       1073           False  \n",
            "inaturalist-2019-fgvc6                             2019-06-10 23:59:00  Research             Kudos         81           False  \n",
            "freesound-audio-tagging-2019                       2019-06-10 11:59:00  Research            $5,000        289           False  \n",
            "iwildcam-2019-fgvc6                                2019-06-07 23:59:00  Playground           Kudos        112           False  \n",
            "imet-2019-fgvc6                                    2019-06-04 23:59:00  Research             Kudos        248           False  \n",
            "LANL-Earthquake-Prediction                         2019-06-03 23:59:00  Research           $50,000       2883            True  \n",
            "landmark-recognition-2019                          2019-06-03 23:59:00  Research           $25,000         48            True  \n",
            "landmark-retrieval-2019                            2019-06-03 23:59:00  Research           $25,000         44           False  \n",
            "tmdb-box-office-prediction                         2019-05-30 23:59:00  Playground       Knowledge        747            True  \n",
            "dont-overfit-ii                                    2019-05-07 23:59:00  Playground            Swag       1872            True  \n",
            "ciphertext-challenge-ii                            2019-04-25 23:59:00  Playground            Swag         65           False  \n",
            "data-science-for-good-careervillage                2019-04-23 23:59:00  Analytics          $15,000          0           False  \n",
            "gendered-pronoun-resolution                        2019-04-22 23:59:00  Research           $25,000        838           False  \n"
          ],
          "name": "stdout"
        }
      ]
    },
    {
      "metadata": {
        "id": "aKnF79BG9U8T",
        "colab_type": "code",
        "outputId": "8e2aa3b2-ccdb-4bb7-fb41-c5f026cef7ef",
        "colab": {
          "base_uri": "https://localhost:8080/",
          "height": 173
        }
      },
      "cell_type": "code",
      "source": [
        "!kaggle competitions download -c tmdb-box-office-prediction -p /content/kaggle/tmdb"
      ],
      "execution_count": 0,
      "outputs": [
        {
          "output_type": "stream",
          "text": [
            "Downloading sample_submission.csv to /content/kaggle/tmdb\n",
            "\r  0% 0.00/60.1k [00:00<?, ?B/s]\n",
            "100% 60.1k/60.1k [00:00<00:00, 22.5MB/s]\n",
            "Downloading train.csv.zip to /content/kaggle/tmdb\n",
            "  0% 0.00/7.02M [00:00<?, ?B/s]\n",
            "100% 7.02M/7.02M [00:00<00:00, 63.5MB/s]\n",
            "Downloading test.csv.zip to /content/kaggle/tmdb\n",
            " 48% 5.00M/10.3M [00:00<00:00, 38.9MB/s]\n",
            "100% 10.3M/10.3M [00:00<00:00, 66.0MB/s]\n"
          ],
          "name": "stdout"
        }
      ]
    },
    {
      "metadata": {
        "id": "YkQEl9Yb9Uy_",
        "colab_type": "code",
        "outputId": "54c4527f-0b53-4ebf-d5c6-46ee3c9aca2f",
        "colab": {
          "base_uri": "https://localhost:8080/",
          "height": 138
        }
      },
      "cell_type": "code",
      "source": [
        "import os\n",
        "os.chdir('kaggle/tmdb')\n",
        "!unzip \\*.zip"
      ],
      "execution_count": 0,
      "outputs": [
        {
          "output_type": "stream",
          "text": [
            "Archive:  test.csv.zip\n",
            "  inflating: test.csv                \n",
            "\n",
            "Archive:  train.csv.zip\n",
            "  inflating: train.csv               \n",
            "\n",
            "2 archives were successfully processed.\n"
          ],
          "name": "stdout"
        }
      ]
    },
    {
      "metadata": {
        "id": "4G2a5cqHPzBr",
        "colab_type": "text"
      },
      "cell_type": "markdown",
      "source": [
        "### Importing Libraries"
      ]
    },
    {
      "metadata": {
        "id": "YXIjNBBtIySX",
        "colab_type": "code",
        "colab": {}
      },
      "cell_type": "code",
      "source": [
        "import pandas as pd\n",
        "import numpy as np\n",
        "import matplotlib.pyplot as plt\n",
        "import seaborn as sns \n",
        "import ast\n",
        "from tqdm import tqdm\n",
        "import time\n",
        "from collections import Counter\n",
        "from sklearn.preprocessing import MinMaxScaler\n",
        "from sklearn.preprocessing import LabelEncoder,OneHotEncoder\n",
        "import warnings\n",
        "warnings.simplefilter(action='ignore', category=FutureWarning)\n",
        "%matplotlib inline"
      ],
      "execution_count": 0,
      "outputs": []
    },
    {
      "metadata": {
        "id": "e26B_1toJG6C",
        "colab_type": "code",
        "outputId": "582fdc0c-584c-4fc9-9a49-d1d4e676dcee",
        "colab": {
          "base_uri": "https://localhost:8080/",
          "height": 200
        }
      },
      "cell_type": "code",
      "source": [
        "import os\n",
        "os.chdir('kaggle/tmdb')\n",
        "os.listdir()"
      ],
      "execution_count": 0,
      "outputs": [
        {
          "output_type": "error",
          "ename": "FileNotFoundError",
          "evalue": "ignored",
          "traceback": [
            "\u001b[0;31m---------------------------------------------------------------------------\u001b[0m",
            "\u001b[0;31mFileNotFoundError\u001b[0m                         Traceback (most recent call last)",
            "\u001b[0;32m<ipython-input-4-a99e8ae2b27d>\u001b[0m in \u001b[0;36m<module>\u001b[0;34m()\u001b[0m\n\u001b[1;32m      1\u001b[0m \u001b[0;32mimport\u001b[0m \u001b[0mos\u001b[0m\u001b[0;34m\u001b[0m\u001b[0;34m\u001b[0m\u001b[0m\n\u001b[0;32m----> 2\u001b[0;31m \u001b[0mos\u001b[0m\u001b[0;34m.\u001b[0m\u001b[0mchdir\u001b[0m\u001b[0;34m(\u001b[0m\u001b[0;34m'kaggle/tmdb'\u001b[0m\u001b[0;34m)\u001b[0m\u001b[0;34m\u001b[0m\u001b[0;34m\u001b[0m\u001b[0m\n\u001b[0m\u001b[1;32m      3\u001b[0m \u001b[0mos\u001b[0m\u001b[0;34m.\u001b[0m\u001b[0mlistdir\u001b[0m\u001b[0;34m(\u001b[0m\u001b[0;34m)\u001b[0m\u001b[0;34m\u001b[0m\u001b[0;34m\u001b[0m\u001b[0m\n",
            "\u001b[0;31mFileNotFoundError\u001b[0m: [Errno 2] No such file or directory: 'kaggle/tmdb'"
          ]
        }
      ]
    },
    {
      "metadata": {
        "id": "b46c7A9iIySk",
        "colab_type": "code",
        "colab": {}
      },
      "cell_type": "code",
      "source": [
        "test=pd.read_csv('./test.csv')\n",
        "train=pd.read_csv('./train.csv') \n"
      ],
      "execution_count": 0,
      "outputs": []
    },
    {
      "metadata": {
        "id": "CJ7B6Nj9h3-q",
        "colab_type": "text"
      },
      "cell_type": "markdown",
      "source": [
        "### Exploring DataFrame and mean and variance "
      ]
    },
    {
      "metadata": {
        "id": "QX664A-xIySu",
        "colab_type": "code",
        "outputId": "075f07f7-ce1d-49ab-886d-77dcf0912830",
        "colab": {
          "base_uri": "https://localhost:8080/",
          "height": 662
        }
      },
      "cell_type": "code",
      "source": [
        "train.head()"
      ],
      "execution_count": 0,
      "outputs": [
        {
          "output_type": "execute_result",
          "data": {
            "text/html": [
              "<div>\n",
              "<style scoped>\n",
              "    .dataframe tbody tr th:only-of-type {\n",
              "        vertical-align: middle;\n",
              "    }\n",
              "\n",
              "    .dataframe tbody tr th {\n",
              "        vertical-align: top;\n",
              "    }\n",
              "\n",
              "    .dataframe thead th {\n",
              "        text-align: right;\n",
              "    }\n",
              "</style>\n",
              "<table border=\"1\" class=\"dataframe\">\n",
              "  <thead>\n",
              "    <tr style=\"text-align: right;\">\n",
              "      <th></th>\n",
              "      <th>id</th>\n",
              "      <th>belongs_to_collection</th>\n",
              "      <th>budget</th>\n",
              "      <th>genres</th>\n",
              "      <th>homepage</th>\n",
              "      <th>imdb_id</th>\n",
              "      <th>original_language</th>\n",
              "      <th>original_title</th>\n",
              "      <th>overview</th>\n",
              "      <th>popularity</th>\n",
              "      <th>...</th>\n",
              "      <th>release_date</th>\n",
              "      <th>runtime</th>\n",
              "      <th>spoken_languages</th>\n",
              "      <th>status</th>\n",
              "      <th>tagline</th>\n",
              "      <th>title</th>\n",
              "      <th>Keywords</th>\n",
              "      <th>cast</th>\n",
              "      <th>crew</th>\n",
              "      <th>revenue</th>\n",
              "    </tr>\n",
              "  </thead>\n",
              "  <tbody>\n",
              "    <tr>\n",
              "      <th>0</th>\n",
              "      <td>1</td>\n",
              "      <td>[{'id': 313576, 'name': 'Hot Tub Time Machine ...</td>\n",
              "      <td>14000000</td>\n",
              "      <td>[{'id': 35, 'name': 'Comedy'}]</td>\n",
              "      <td>NaN</td>\n",
              "      <td>tt2637294</td>\n",
              "      <td>en</td>\n",
              "      <td>Hot Tub Time Machine 2</td>\n",
              "      <td>When Lou, who has become the \"father of the In...</td>\n",
              "      <td>6.575393</td>\n",
              "      <td>...</td>\n",
              "      <td>2/20/15</td>\n",
              "      <td>93.0</td>\n",
              "      <td>[{'iso_639_1': 'en', 'name': 'English'}]</td>\n",
              "      <td>Released</td>\n",
              "      <td>The Laws of Space and Time are About to be Vio...</td>\n",
              "      <td>Hot Tub Time Machine 2</td>\n",
              "      <td>[{'id': 4379, 'name': 'time travel'}, {'id': 9...</td>\n",
              "      <td>[{'cast_id': 4, 'character': 'Lou', 'credit_id...</td>\n",
              "      <td>[{'credit_id': '59ac067c92514107af02c8c8', 'de...</td>\n",
              "      <td>12314651</td>\n",
              "    </tr>\n",
              "    <tr>\n",
              "      <th>1</th>\n",
              "      <td>2</td>\n",
              "      <td>[{'id': 107674, 'name': 'The Princess Diaries ...</td>\n",
              "      <td>40000000</td>\n",
              "      <td>[{'id': 35, 'name': 'Comedy'}, {'id': 18, 'nam...</td>\n",
              "      <td>NaN</td>\n",
              "      <td>tt0368933</td>\n",
              "      <td>en</td>\n",
              "      <td>The Princess Diaries 2: Royal Engagement</td>\n",
              "      <td>Mia Thermopolis is now a college graduate and ...</td>\n",
              "      <td>8.248895</td>\n",
              "      <td>...</td>\n",
              "      <td>8/6/04</td>\n",
              "      <td>113.0</td>\n",
              "      <td>[{'iso_639_1': 'en', 'name': 'English'}]</td>\n",
              "      <td>Released</td>\n",
              "      <td>It can take a lifetime to find true love; she'...</td>\n",
              "      <td>The Princess Diaries 2: Royal Engagement</td>\n",
              "      <td>[{'id': 2505, 'name': 'coronation'}, {'id': 42...</td>\n",
              "      <td>[{'cast_id': 1, 'character': 'Mia Thermopolis'...</td>\n",
              "      <td>[{'credit_id': '52fe43fe9251416c7502563d', 'de...</td>\n",
              "      <td>95149435</td>\n",
              "    </tr>\n",
              "    <tr>\n",
              "      <th>2</th>\n",
              "      <td>3</td>\n",
              "      <td>NaN</td>\n",
              "      <td>3300000</td>\n",
              "      <td>[{'id': 18, 'name': 'Drama'}]</td>\n",
              "      <td>http://sonyclassics.com/whiplash/</td>\n",
              "      <td>tt2582802</td>\n",
              "      <td>en</td>\n",
              "      <td>Whiplash</td>\n",
              "      <td>Under the direction of a ruthless instructor, ...</td>\n",
              "      <td>64.299990</td>\n",
              "      <td>...</td>\n",
              "      <td>10/10/14</td>\n",
              "      <td>105.0</td>\n",
              "      <td>[{'iso_639_1': 'en', 'name': 'English'}]</td>\n",
              "      <td>Released</td>\n",
              "      <td>The road to greatness can take you to the edge.</td>\n",
              "      <td>Whiplash</td>\n",
              "      <td>[{'id': 1416, 'name': 'jazz'}, {'id': 1523, 'n...</td>\n",
              "      <td>[{'cast_id': 5, 'character': 'Andrew Neimann',...</td>\n",
              "      <td>[{'credit_id': '54d5356ec3a3683ba0000039', 'de...</td>\n",
              "      <td>13092000</td>\n",
              "    </tr>\n",
              "    <tr>\n",
              "      <th>3</th>\n",
              "      <td>4</td>\n",
              "      <td>NaN</td>\n",
              "      <td>1200000</td>\n",
              "      <td>[{'id': 53, 'name': 'Thriller'}, {'id': 18, 'n...</td>\n",
              "      <td>http://kahaanithefilm.com/</td>\n",
              "      <td>tt1821480</td>\n",
              "      <td>hi</td>\n",
              "      <td>Kahaani</td>\n",
              "      <td>Vidya Bagchi (Vidya Balan) arrives in Kolkata ...</td>\n",
              "      <td>3.174936</td>\n",
              "      <td>...</td>\n",
              "      <td>3/9/12</td>\n",
              "      <td>122.0</td>\n",
              "      <td>[{'iso_639_1': 'en', 'name': 'English'}, {'iso...</td>\n",
              "      <td>Released</td>\n",
              "      <td>NaN</td>\n",
              "      <td>Kahaani</td>\n",
              "      <td>[{'id': 10092, 'name': 'mystery'}, {'id': 1054...</td>\n",
              "      <td>[{'cast_id': 1, 'character': 'Vidya Bagchi', '...</td>\n",
              "      <td>[{'credit_id': '52fe48779251416c9108d6eb', 'de...</td>\n",
              "      <td>16000000</td>\n",
              "    </tr>\n",
              "    <tr>\n",
              "      <th>4</th>\n",
              "      <td>5</td>\n",
              "      <td>NaN</td>\n",
              "      <td>0</td>\n",
              "      <td>[{'id': 28, 'name': 'Action'}, {'id': 53, 'nam...</td>\n",
              "      <td>NaN</td>\n",
              "      <td>tt1380152</td>\n",
              "      <td>ko</td>\n",
              "      <td>마린보이</td>\n",
              "      <td>Marine Boy is the story of a former national s...</td>\n",
              "      <td>1.148070</td>\n",
              "      <td>...</td>\n",
              "      <td>2/5/09</td>\n",
              "      <td>118.0</td>\n",
              "      <td>[{'iso_639_1': 'ko', 'name': '한국어/조선말'}]</td>\n",
              "      <td>Released</td>\n",
              "      <td>NaN</td>\n",
              "      <td>Marine Boy</td>\n",
              "      <td>NaN</td>\n",
              "      <td>[{'cast_id': 3, 'character': 'Chun-soo', 'cred...</td>\n",
              "      <td>[{'credit_id': '52fe464b9251416c75073b43', 'de...</td>\n",
              "      <td>3923970</td>\n",
              "    </tr>\n",
              "  </tbody>\n",
              "</table>\n",
              "<p>5 rows × 23 columns</p>\n",
              "</div>"
            ],
            "text/plain": [
              "   id                              belongs_to_collection    budget  \\\n",
              "0   1  [{'id': 313576, 'name': 'Hot Tub Time Machine ...  14000000   \n",
              "1   2  [{'id': 107674, 'name': 'The Princess Diaries ...  40000000   \n",
              "2   3                                                NaN   3300000   \n",
              "3   4                                                NaN   1200000   \n",
              "4   5                                                NaN         0   \n",
              "\n",
              "                                              genres  \\\n",
              "0                     [{'id': 35, 'name': 'Comedy'}]   \n",
              "1  [{'id': 35, 'name': 'Comedy'}, {'id': 18, 'nam...   \n",
              "2                      [{'id': 18, 'name': 'Drama'}]   \n",
              "3  [{'id': 53, 'name': 'Thriller'}, {'id': 18, 'n...   \n",
              "4  [{'id': 28, 'name': 'Action'}, {'id': 53, 'nam...   \n",
              "\n",
              "                            homepage    imdb_id original_language  \\\n",
              "0                                NaN  tt2637294                en   \n",
              "1                                NaN  tt0368933                en   \n",
              "2  http://sonyclassics.com/whiplash/  tt2582802                en   \n",
              "3         http://kahaanithefilm.com/  tt1821480                hi   \n",
              "4                                NaN  tt1380152                ko   \n",
              "\n",
              "                             original_title  \\\n",
              "0                    Hot Tub Time Machine 2   \n",
              "1  The Princess Diaries 2: Royal Engagement   \n",
              "2                                  Whiplash   \n",
              "3                                   Kahaani   \n",
              "4                                      마린보이   \n",
              "\n",
              "                                            overview  popularity    ...     \\\n",
              "0  When Lou, who has become the \"father of the In...    6.575393    ...      \n",
              "1  Mia Thermopolis is now a college graduate and ...    8.248895    ...      \n",
              "2  Under the direction of a ruthless instructor, ...   64.299990    ...      \n",
              "3  Vidya Bagchi (Vidya Balan) arrives in Kolkata ...    3.174936    ...      \n",
              "4  Marine Boy is the story of a former national s...    1.148070    ...      \n",
              "\n",
              "  release_date runtime                                   spoken_languages  \\\n",
              "0      2/20/15    93.0           [{'iso_639_1': 'en', 'name': 'English'}]   \n",
              "1       8/6/04   113.0           [{'iso_639_1': 'en', 'name': 'English'}]   \n",
              "2     10/10/14   105.0           [{'iso_639_1': 'en', 'name': 'English'}]   \n",
              "3       3/9/12   122.0  [{'iso_639_1': 'en', 'name': 'English'}, {'iso...   \n",
              "4       2/5/09   118.0           [{'iso_639_1': 'ko', 'name': '한국어/조선말'}]   \n",
              "\n",
              "     status                                            tagline  \\\n",
              "0  Released  The Laws of Space and Time are About to be Vio...   \n",
              "1  Released  It can take a lifetime to find true love; she'...   \n",
              "2  Released    The road to greatness can take you to the edge.   \n",
              "3  Released                                                NaN   \n",
              "4  Released                                                NaN   \n",
              "\n",
              "                                      title  \\\n",
              "0                    Hot Tub Time Machine 2   \n",
              "1  The Princess Diaries 2: Royal Engagement   \n",
              "2                                  Whiplash   \n",
              "3                                   Kahaani   \n",
              "4                                Marine Boy   \n",
              "\n",
              "                                            Keywords  \\\n",
              "0  [{'id': 4379, 'name': 'time travel'}, {'id': 9...   \n",
              "1  [{'id': 2505, 'name': 'coronation'}, {'id': 42...   \n",
              "2  [{'id': 1416, 'name': 'jazz'}, {'id': 1523, 'n...   \n",
              "3  [{'id': 10092, 'name': 'mystery'}, {'id': 1054...   \n",
              "4                                                NaN   \n",
              "\n",
              "                                                cast  \\\n",
              "0  [{'cast_id': 4, 'character': 'Lou', 'credit_id...   \n",
              "1  [{'cast_id': 1, 'character': 'Mia Thermopolis'...   \n",
              "2  [{'cast_id': 5, 'character': 'Andrew Neimann',...   \n",
              "3  [{'cast_id': 1, 'character': 'Vidya Bagchi', '...   \n",
              "4  [{'cast_id': 3, 'character': 'Chun-soo', 'cred...   \n",
              "\n",
              "                                                crew   revenue  \n",
              "0  [{'credit_id': '59ac067c92514107af02c8c8', 'de...  12314651  \n",
              "1  [{'credit_id': '52fe43fe9251416c7502563d', 'de...  95149435  \n",
              "2  [{'credit_id': '54d5356ec3a3683ba0000039', 'de...  13092000  \n",
              "3  [{'credit_id': '52fe48779251416c9108d6eb', 'de...  16000000  \n",
              "4  [{'credit_id': '52fe464b9251416c75073b43', 'de...   3923970  \n",
              "\n",
              "[5 rows x 23 columns]"
            ]
          },
          "metadata": {
            "tags": []
          },
          "execution_count": 6
        }
      ]
    },
    {
      "metadata": {
        "id": "gZOfM5bGIyTB",
        "colab_type": "code",
        "outputId": "7a4806f0-2b36-408b-e4a4-e44b9d4d7373",
        "colab": {
          "base_uri": "https://localhost:8080/",
          "height": 449
        }
      },
      "cell_type": "code",
      "source": [
        "print(\"Types columns : \\n\" + str(train.dtypes))"
      ],
      "execution_count": 0,
      "outputs": [
        {
          "output_type": "stream",
          "text": [
            "Types columns : \n",
            "id                         int64\n",
            "belongs_to_collection     object\n",
            "budget                     int64\n",
            "genres                    object\n",
            "homepage                  object\n",
            "imdb_id                   object\n",
            "original_language         object\n",
            "original_title            object\n",
            "overview                  object\n",
            "popularity               float64\n",
            "poster_path               object\n",
            "production_companies      object\n",
            "production_countries      object\n",
            "release_date              object\n",
            "runtime                  float64\n",
            "spoken_languages          object\n",
            "status                    object\n",
            "tagline                   object\n",
            "title                     object\n",
            "Keywords                  object\n",
            "cast                      object\n",
            "crew                      object\n",
            "revenue                    int64\n",
            "dtype: object\n"
          ],
          "name": "stdout"
        }
      ]
    },
    {
      "metadata": {
        "id": "aAefwAI-IyTe",
        "colab_type": "code",
        "outputId": "b462c24a-2e8d-4686-f0ac-a38a44d37a34",
        "colab": {
          "base_uri": "https://localhost:8080/",
          "height": 121
        }
      },
      "cell_type": "code",
      "source": [
        "train.columns"
      ],
      "execution_count": 0,
      "outputs": [
        {
          "output_type": "execute_result",
          "data": {
            "text/plain": [
              "Index(['id', 'belongs_to_collection', 'budget', 'genres', 'homepage',\n",
              "       'imdb_id', 'original_language', 'original_title', 'overview',\n",
              "       'popularity', 'poster_path', 'production_companies',\n",
              "       'production_countries', 'release_date', 'runtime', 'spoken_languages',\n",
              "       'status', 'tagline', 'title', 'Keywords', 'cast', 'crew', 'revenue'],\n",
              "      dtype='object')"
            ]
          },
          "metadata": {
            "tags": []
          },
          "execution_count": 9
        }
      ]
    },
    {
      "metadata": {
        "scrolled": false,
        "id": "_wIo-VxgIyTp",
        "colab_type": "code",
        "outputId": "bbc18377-292a-4b2d-fa40-a4071a81ac05",
        "colab": {
          "base_uri": "https://localhost:8080/",
          "height": 501
        }
      },
      "cell_type": "code",
      "source": [
        "train.info() "
      ],
      "execution_count": 0,
      "outputs": [
        {
          "output_type": "stream",
          "text": [
            "<class 'pandas.core.frame.DataFrame'>\n",
            "RangeIndex: 3000 entries, 0 to 2999\n",
            "Data columns (total 23 columns):\n",
            "id                       3000 non-null int64\n",
            "belongs_to_collection    604 non-null object\n",
            "budget                   3000 non-null int64\n",
            "genres                   2993 non-null object\n",
            "homepage                 946 non-null object\n",
            "imdb_id                  3000 non-null object\n",
            "original_language        3000 non-null object\n",
            "original_title           3000 non-null object\n",
            "overview                 2992 non-null object\n",
            "popularity               3000 non-null float64\n",
            "poster_path              2999 non-null object\n",
            "production_companies     2844 non-null object\n",
            "production_countries     2945 non-null object\n",
            "release_date             3000 non-null object\n",
            "runtime                  2998 non-null float64\n",
            "spoken_languages         2980 non-null object\n",
            "status                   3000 non-null object\n",
            "tagline                  2403 non-null object\n",
            "title                    3000 non-null object\n",
            "Keywords                 2724 non-null object\n",
            "cast                     2987 non-null object\n",
            "crew                     2984 non-null object\n",
            "revenue                  3000 non-null int64\n",
            "dtypes: float64(2), int64(3), object(18)\n",
            "memory usage: 539.1+ KB\n"
          ],
          "name": "stdout"
        }
      ]
    },
    {
      "metadata": {
        "id": "sy7P7mJTIyT1",
        "colab_type": "code",
        "outputId": "67618b85-1881-484d-ce85-8a104aec3af4",
        "colab": {
          "base_uri": "https://localhost:8080/",
          "height": 432
        }
      },
      "cell_type": "code",
      "source": [
        "train.isnull().sum() "
      ],
      "execution_count": 0,
      "outputs": [
        {
          "output_type": "execute_result",
          "data": {
            "text/plain": [
              "id                          0\n",
              "belongs_to_collection    2396\n",
              "budget                      0\n",
              "genres                      7\n",
              "homepage                 2054\n",
              "imdb_id                     0\n",
              "original_language           0\n",
              "original_title              0\n",
              "overview                    8\n",
              "popularity                  0\n",
              "poster_path                 1\n",
              "production_companies      156\n",
              "production_countries       55\n",
              "release_date                0\n",
              "runtime                     2\n",
              "spoken_languages           20\n",
              "status                      0\n",
              "tagline                   597\n",
              "title                       0\n",
              "Keywords                  276\n",
              "cast                       13\n",
              "crew                       16\n",
              "revenue                     0\n",
              "dtype: int64"
            ]
          },
          "metadata": {
            "tags": []
          },
          "execution_count": 13
        }
      ]
    },
    {
      "metadata": {
        "id": "vVgFcsOYIyT_",
        "colab_type": "code",
        "outputId": "abb80dc6-8cf5-4fbc-981e-c7530720b8d9",
        "colab": {
          "base_uri": "https://localhost:8080/",
          "height": 415
        }
      },
      "cell_type": "code",
      "source": [
        "test.isnull().sum() "
      ],
      "execution_count": 0,
      "outputs": [
        {
          "output_type": "execute_result",
          "data": {
            "text/plain": [
              "id                          0\n",
              "belongs_to_collection    3521\n",
              "budget                      0\n",
              "genres                     16\n",
              "homepage                 2978\n",
              "imdb_id                     0\n",
              "original_language           0\n",
              "original_title              0\n",
              "overview                   14\n",
              "popularity                  0\n",
              "poster_path                 1\n",
              "production_companies      258\n",
              "production_countries      102\n",
              "release_date                1\n",
              "runtime                     4\n",
              "spoken_languages           42\n",
              "status                      2\n",
              "tagline                   863\n",
              "title                       3\n",
              "Keywords                  393\n",
              "cast                       13\n",
              "crew                       22\n",
              "dtype: int64"
            ]
          },
          "metadata": {
            "tags": []
          },
          "execution_count": 14
        }
      ]
    },
    {
      "metadata": {
        "id": "9sf22BusT4k7",
        "colab_type": "code",
        "colab": {}
      },
      "cell_type": "code",
      "source": [
        "test.loc[test['title'].isnull(),'title'] = test['original_title']"
      ],
      "execution_count": 0,
      "outputs": []
    },
    {
      "metadata": {
        "id": "XtQKk8r1Vcg-",
        "colab_type": "code",
        "outputId": "45052fca-4f67-43de-b45d-5da42e483eeb",
        "colab": {
          "base_uri": "https://localhost:8080/",
          "height": 230
        }
      },
      "cell_type": "code",
      "source": [
        "test[test['title']=='Barefoot']"
      ],
      "execution_count": 0,
      "outputs": [
        {
          "output_type": "execute_result",
          "data": {
            "text/html": [
              "<div>\n",
              "<style scoped>\n",
              "    .dataframe tbody tr th:only-of-type {\n",
              "        vertical-align: middle;\n",
              "    }\n",
              "\n",
              "    .dataframe tbody tr th {\n",
              "        vertical-align: top;\n",
              "    }\n",
              "\n",
              "    .dataframe thead th {\n",
              "        text-align: right;\n",
              "    }\n",
              "</style>\n",
              "<table border=\"1\" class=\"dataframe\">\n",
              "  <thead>\n",
              "    <tr style=\"text-align: right;\">\n",
              "      <th></th>\n",
              "      <th>id</th>\n",
              "      <th>belongs_to_collection</th>\n",
              "      <th>budget</th>\n",
              "      <th>genres</th>\n",
              "      <th>homepage</th>\n",
              "      <th>imdb_id</th>\n",
              "      <th>original_language</th>\n",
              "      <th>original_title</th>\n",
              "      <th>overview</th>\n",
              "      <th>popularity</th>\n",
              "      <th>...</th>\n",
              "      <th>production_countries</th>\n",
              "      <th>release_date</th>\n",
              "      <th>runtime</th>\n",
              "      <th>spoken_languages</th>\n",
              "      <th>status</th>\n",
              "      <th>tagline</th>\n",
              "      <th>title</th>\n",
              "      <th>Keywords</th>\n",
              "      <th>cast</th>\n",
              "      <th>crew</th>\n",
              "    </tr>\n",
              "  </thead>\n",
              "  <tbody>\n",
              "    <tr>\n",
              "      <th>3628</th>\n",
              "      <td>6629</td>\n",
              "      <td>NaN</td>\n",
              "      <td>6000000</td>\n",
              "      <td>[{'id': 35, 'name': 'Comedy'}, {'id': 18, 'nam...</td>\n",
              "      <td>http://barefootthemovie.com/</td>\n",
              "      <td>tt2355495</td>\n",
              "      <td>en</td>\n",
              "      <td>Barefoot</td>\n",
              "      <td>The \"black sheep\" son of a wealthy family meet...</td>\n",
              "      <td>5.939334</td>\n",
              "      <td>...</td>\n",
              "      <td>NaN</td>\n",
              "      <td>2/2/14</td>\n",
              "      <td>90.0</td>\n",
              "      <td>NaN</td>\n",
              "      <td>Released</td>\n",
              "      <td>NaN</td>\n",
              "      <td>Barefoot</td>\n",
              "      <td>[{'id': 2487, 'name': 'naivety'}, {'id': 9714,...</td>\n",
              "      <td>[{'cast_id': 3, 'character': 'Daisy', 'credit_...</td>\n",
              "      <td>[{'credit_id': '52fe4ec2c3a36847f82a65a7', 'de...</td>\n",
              "    </tr>\n",
              "  </tbody>\n",
              "</table>\n",
              "<p>1 rows × 22 columns</p>\n",
              "</div>"
            ],
            "text/plain": [
              "        id belongs_to_collection   budget  \\\n",
              "3628  6629                   NaN  6000000   \n",
              "\n",
              "                                                 genres  \\\n",
              "3628  [{'id': 35, 'name': 'Comedy'}, {'id': 18, 'nam...   \n",
              "\n",
              "                          homepage    imdb_id original_language  \\\n",
              "3628  http://barefootthemovie.com/  tt2355495                en   \n",
              "\n",
              "     original_title                                           overview  \\\n",
              "3628       Barefoot  The \"black sheep\" son of a wealthy family meet...   \n",
              "\n",
              "      popularity                        ...                          \\\n",
              "3628    5.939334                        ...                           \n",
              "\n",
              "     production_countries release_date runtime spoken_languages    status  \\\n",
              "3628                  NaN       2/2/14    90.0              NaN  Released   \n",
              "\n",
              "     tagline     title                                           Keywords  \\\n",
              "3628     NaN  Barefoot  [{'id': 2487, 'name': 'naivety'}, {'id': 9714,...   \n",
              "\n",
              "                                                   cast  \\\n",
              "3628  [{'cast_id': 3, 'character': 'Daisy', 'credit_...   \n",
              "\n",
              "                                                   crew  \n",
              "3628  [{'credit_id': '52fe4ec2c3a36847f82a65a7', 'de...  \n",
              "\n",
              "[1 rows x 22 columns]"
            ]
          },
          "metadata": {
            "tags": []
          },
          "execution_count": 16
        }
      ]
    },
    {
      "metadata": {
        "id": "HsR0D5CyUc-c",
        "colab_type": "code",
        "outputId": "6f2015d4-88b9-4719-e128-0eb40860e874",
        "colab": {
          "base_uri": "https://localhost:8080/",
          "height": 34
        }
      },
      "cell_type": "code",
      "source": [
        "test['title'].isnull().sum()"
      ],
      "execution_count": 0,
      "outputs": [
        {
          "output_type": "execute_result",
          "data": {
            "text/plain": [
              "0"
            ]
          },
          "metadata": {
            "tags": []
          },
          "execution_count": 17
        }
      ]
    },
    {
      "metadata": {
        "id": "2we-DEBWTYiU",
        "colab_type": "code",
        "colab": {}
      },
      "cell_type": "code",
      "source": [
        "train.drop(['imdb_id','poster_path','original_title',],axis=1,inplace=True)\n",
        "test.drop(['imdb_id','poster_path','original_title',],axis=1,inplace=True)"
      ],
      "execution_count": 0,
      "outputs": []
    },
    {
      "metadata": {
        "id": "c_hA6uyhSnDx",
        "colab_type": "text"
      },
      "cell_type": "markdown",
      "source": [
        "### Data Cleaning revenue and budget"
      ]
    },
    {
      "metadata": {
        "colab_type": "code",
        "outputId": "f6269809-8dfd-4105-af69-fc07aad6cfdf",
        "id": "krOgApIlMARz",
        "colab": {
          "base_uri": "https://localhost:8080/",
          "height": 501
        }
      },
      "cell_type": "code",
      "source": [
        "print(\"Count NA Train for the variable budget : \\n\" + str(train[train.budget == 0].shape[0]) + \"\\n\")\n",
        "print(\"Count NA Test for the variable budget : \\n\" + str(test[test.budget == 0].shape[0]) + \"\\n\")\n",
        "print(\"Count NA Train per column : \\n\" + str(train.isna().sum()))"
      ],
      "execution_count": 0,
      "outputs": [
        {
          "output_type": "stream",
          "text": [
            "Count NA Train for the variable budget : \n",
            "796\n",
            "\n",
            "Count NA Test for the variable budget : \n",
            "1171\n",
            "\n",
            "Count NA Train per column : \n",
            "id                          0\n",
            "belongs_to_collection    2396\n",
            "budget                      0\n",
            "genres                      7\n",
            "homepage                 2054\n",
            "original_language           0\n",
            "overview                    8\n",
            "popularity                  0\n",
            "production_companies      156\n",
            "production_countries       55\n",
            "release_date                0\n",
            "runtime                     2\n",
            "spoken_languages           20\n",
            "status                      0\n",
            "tagline                   597\n",
            "title                       0\n",
            "Keywords                  276\n",
            "cast                       13\n",
            "crew                       16\n",
            "revenue                     0\n",
            "dtype: int64\n"
          ],
          "name": "stdout"
        }
      ]
    },
    {
      "metadata": {
        "id": "YR8QHOltLIrJ",
        "colab_type": "code",
        "colab": {}
      },
      "cell_type": "code",
      "source": [
        "# First we have discovered that some films have really strange values such as runtime which are films that has 0 minutes of runtime what is completely impossible\n",
        "#and that info is public and been released before the movie so we can deploy it manually in our model\n",
        "# train\n",
        "train.loc[train['id'] == 16,'revenue'] = 192864          # Skinning\n",
        "train.loc[train['id'] == 90,'budget'] = 30000000         # Sommersby          \n",
        "train.loc[train['id'] == 118,'budget'] = 60000000        # Wild Hogs\n",
        "train.loc[train['id'] == 149,'budget'] = 18000000        # Beethoven\n",
        "train.loc[train['id'] == 313,'revenue'] = 12000000       # The Cookout \n",
        "train.loc[train['id'] == 451,'revenue'] = 12000000       # Chasing Liberty\n",
        "train.loc[train['id'] == 464,'budget'] = 20000000        # Parenthood\n",
        "train.loc[train['id'] == 470,'budget'] = 13000000        # The Karate Kid, Part II\n",
        "train.loc[train['id'] == 513,'budget'] = 930000          # From Prada to Nada\n",
        "train.loc[train['id'] == 797,'budget'] = 8000000         # Welcome to Dongmakgol\n",
        "train.loc[train['id'] == 819,'budget'] = 90000000        # Alvin and the Chipmunks: The Road Chip\n",
        "train.loc[train['id'] == 850,'budget'] = 90000000        # Modern Times\n",
        "train.loc[train['id'] == 1007,'budget'] = 2              # Zyzzyx Road \n",
        "train.loc[train['id'] == 1112,'budget'] = 7500000        # An Officer and a Gentleman\n",
        "train.loc[train['id'] == 1131,'budget'] = 4300000        # Smokey and the Bandit   \n",
        "train.loc[train['id'] == 1359,'budget'] = 10000000       # Stir Crazy \n",
        "train.loc[train['id'] == 1542,'budget'] = 1              # All at Once\n",
        "train.loc[train['id'] == 1570,'budget'] = 15800000       # Crocodile Dundee II\n",
        "train.loc[train['id'] == 1571,'budget'] = 4000000        # Lady and the Tramp\n",
        "train.loc[train['id'] == 1714,'budget'] = 46000000       # The Recruit\n",
        "train.loc[train['id'] == 1721,'budget'] = 17500000       # Cocoon\n",
        "train.loc[train['id'] == 1865,'revenue'] = 25000000      # Scooby-Doo 2: Monsters Unleashed\n",
        "train.loc[train['id'] == 1885,'budget'] = 12             # In the Cut\n",
        "train.loc[train['id'] == 2091,'budget'] = 10             # Deadfall\n",
        "train.loc[train['id'] == 2268,'budget'] = 17500000       # Madea Goes to Jail budget\n",
        "train.loc[train['id'] == 2491,'budget'] = 6              # Never Talk to Strangers\n",
        "train.loc[train['id'] == 2602,'budget'] = 31000000       # Mr. Holland's Opus\n",
        "train.loc[train['id'] == 2612,'budget'] = 15000000       # Field of Dreams\n",
        "train.loc[train['id'] == 2696,'budget'] = 10000000       # Nurse 3-D\n",
        "train.loc[train['id'] == 2801,'budget'] = 10000000       # Fracture\n",
        "train.loc[train['id'] == 335,'budget'] = 2 \n",
        "train.loc[train['id'] == 348,'budget'] = 12\n",
        "train.loc[train['id'] == 470,'budget'] = 13000000 \n",
        "train.loc[train['id'] == 513,'budget'] = 1100000\n",
        "train.loc[train['id'] == 640,'budget'] = 6 \n",
        "train.loc[train['id'] == 696,'budget'] = 1\n",
        "train.loc[train['id'] == 797,'budget'] = 8000000 \n",
        "train.loc[train['id'] == 850,'budget'] = 1500000\n",
        "train.loc[train['id'] == 1199,'budget'] = 5 \n",
        "train.loc[train['id'] == 1282,'budget'] = 9               # Death at a Funeral\n",
        "train.loc[train['id'] == 1347,'budget'] = 1\n",
        "train.loc[train['id'] == 1755,'budget'] = 2\n",
        "train.loc[train['id'] == 1801,'budget'] = 5\n",
        "train.loc[train['id'] == 1918,'budget'] = 592 \n",
        "train.loc[train['id'] == 2033,'budget'] = 4\n",
        "train.loc[train['id'] == 2118,'budget'] = 344 \n",
        "train.loc[train['id'] == 2252,'budget'] = 130\n",
        "train.loc[train['id'] == 2256,'budget'] = 1 \n",
        "train.loc[train['id'] == 2696,'budget'] = 10000000\n",
        "train.loc[train['id'] == 16,'revenue'] = 192864          # Skinning\n",
        "train.loc[train['id'] == 90,'budget'] = 30000000         # Sommersby          \n",
        "train.loc[train['id'] == 118,'budget'] = 60000000        # Wild Hogs\n",
        "train.loc[train['id'] == 149,'budget'] = 18000000        # Beethoven\n",
        "train.loc[train['id'] == 313,'revenue'] = 12000000       # The Cookout \n",
        "train.loc[train['id'] == 451,'revenue'] = 12000000       # Chasing Liberty\n",
        "train.loc[train['id'] == 464,'budget'] = 20000000        # Parenthood\n",
        "train.loc[train['id'] == 470,'budget'] = 13000000        # The Karate Kid, Part II\n",
        "train.loc[train['id'] == 513,'budget'] = 930000          # From Prada to Nada\n",
        "train.loc[train['id'] == 797,'budget'] = 8000000         # Welcome to Dongmakgol\n",
        "train.loc[train['id'] == 819,'budget'] = 90000000        # Alvin and the Chipmunks: The Road Chip\n",
        "train.loc[train['id'] == 850,'budget'] = 90000000        # Modern Times\n",
        "train.loc[train['id'] == 1112,'budget'] = 7500000        # An Officer and a Gentleman\n",
        "train.loc[train['id'] == 1131,'budget'] = 4300000        # Smokey and the Bandit   \n",
        "train.loc[train['id'] == 1359,'budget'] = 10000000       # Stir Crazy \n",
        "train.loc[train['id'] == 1542,'budget'] = 1              # All at Once\n",
        "train.loc[train['id'] == 1542,'budget'] = 15800000       # Crocodile Dundee II\n",
        "train.loc[train['id'] == 1571,'budget'] = 4000000        # Lady and the Tramp\n",
        "train.loc[train['id'] == 1714,'budget'] = 46000000       # The Recruit\n",
        "train.loc[train['id'] == 1721,'budget'] = 17500000       # Cocoon\n",
        "train.loc[train['id'] == 1865,'revenue'] = 25000000      # Scooby-Doo 2: Monsters Unleashed\n",
        "train.loc[train['id'] == 2268,'budget'] = 17500000       # Madea Goes to Jail budget\n",
        "train.loc[train['id'] == 2491,'revenue'] = 6800000       # Never Talk to Strangers\n",
        "train.loc[train['id'] == 2602,'budget'] = 31000000       # Mr. Holland's Opus\n",
        "train.loc[train['id'] == 2612,'budget'] = 15000000       # Field of Dreams\n",
        "train.loc[train['id'] == 2696,'budget'] = 10000000       # Nurse 3-D\n",
        "train.loc[train['id'] == 2801,'budget'] = 10000000       # Fracture\n",
        "#test\n",
        "test.loc[test['id'] == 3033,'budget'] = 250 \n",
        "test.loc[test['id'] == 3051,'budget'] = 50\n",
        "test.loc[test['id'] == 3084,'budget'] = 337\n",
        "test.loc[test['id'] == 3224,'budget'] = 4  \n",
        "test.loc[test['id'] == 3594,'budget'] = 25  \n",
        "test.loc[test['id'] == 3619,'budget'] = 500  \n",
        "test.loc[test['id'] == 3831,'budget'] = 3  \n",
        "test.loc[test['id'] == 3935,'budget'] = 500  \n",
        "test.loc[test['id'] == 4049,'budget'] = 995946 \n",
        "test.loc[test['id'] == 4424,'budget'] = 3  \n",
        "test.loc[test['id'] == 4460,'budget'] = 8  \n",
        "test.loc[test['id'] == 4555,'budget'] = 1200000 \n",
        "test.loc[test['id'] == 4624,'budget'] = 30 \n",
        "test.loc[test['id'] == 4645,'budget'] = 500 \n",
        "test.loc[test['id'] == 4709,'budget'] = 450 \n",
        "test.loc[test['id'] == 4839,'budget'] = 7\n",
        "test.loc[test['id'] == 3125,'budget'] = 25 \n",
        "test.loc[test['id'] == 3142,'budget'] = 1\n",
        "test.loc[test['id'] == 3201,'budget'] = 450\n",
        "test.loc[test['id'] == 3222,'budget'] = 6\n",
        "test.loc[test['id'] == 3545,'budget'] = 38\n",
        "test.loc[test['id'] == 3670,'budget'] = 18\n",
        "test.loc[test['id'] == 3792,'budget'] = 19\n",
        "test.loc[test['id'] == 3881,'budget'] = 7\n",
        "test.loc[test['id'] == 3969,'budget'] = 400\n",
        "test.loc[test['id'] == 4196,'budget'] = 6\n",
        "test.loc[test['id'] == 4221,'budget'] = 11\n",
        "test.loc[test['id'] == 4222,'budget'] = 500\n",
        "test.loc[test['id'] == 4285,'budget'] = 11\n",
        "test.loc[test['id'] == 4319,'budget'] = 1\n",
        "test.loc[test['id'] == 4639,'budget'] = 10\n",
        "test.loc[test['id'] == 4719,'budget'] = 45\n",
        "test.loc[test['id'] == 4822,'budget'] = 22\n",
        "test.loc[test['id'] == 4829,'budget'] = 20\n",
        "test.loc[test['id'] == 4969,'budget'] = 20\n",
        "test.loc[test['id'] == 5021,'budget'] = 40 \n",
        "test.loc[test['id'] == 5035,'budget'] = 1 \n",
        "test.loc[test['id'] == 5063,'budget'] = 14 \n",
        "test.loc[test['id'] == 5119,'budget'] = 2 \n",
        "test.loc[test['id'] == 5214,'budget'] = 30 \n",
        "test.loc[test['id'] == 5221,'budget'] = 50 \n",
        "test.loc[test['id'] == 4903,'budget'] = 15\n",
        "test.loc[test['id'] == 4983,'budget'] = 3\n",
        "test.loc[test['id'] == 5102,'budget'] = 28\n",
        "test.loc[test['id'] == 5217,'budget'] = 75\n",
        "test.loc[test['id'] == 5224,'budget'] = 3 \n",
        "test.loc[test['id'] == 5469,'budget'] = 20 \n",
        "test.loc[test['id'] == 5840,'budget'] = 1 \n",
        "test.loc[test['id'] == 5960,'budget'] = 30\n",
        "test.loc[test['id'] == 6506,'budget'] = 11 \n",
        "test.loc[test['id'] == 6553,'budget'] = 280\n",
        "test.loc[test['id'] == 6561,'budget'] = 7\n",
        "test.loc[test['id'] == 6582,'budget'] = 218\n",
        "test.loc[test['id'] == 6638,'budget'] = 5\n",
        "test.loc[test['id'] == 6749,'budget'] = 8 \n",
        "test.loc[test['id'] == 6759,'budget'] = 50 \n",
        "test.loc[test['id'] == 6856,'budget'] = 10\n",
        "test.loc[test['id'] == 6858,'budget'] =  100\n",
        "test.loc[test['id'] == 6876,'budget'] =  250\n",
        "test.loc[test['id'] == 6972,'budget'] = 1\n",
        "test.loc[test['id'] == 7079,'budget'] = 8000000\n",
        "test.loc[test['id'] == 7150,'budget'] = 118\n",
        "test.loc[test['id'] == 6506,'budget'] = 118\n",
        "test.loc[test['id'] == 7225,'budget'] = 6\n",
        "test.loc[test['id'] == 7231,'budget'] = 85\n",
        "test.loc[test['id'] == 5222,'budget'] = 5\n",
        "test.loc[test['id'] == 5322,'budget'] = 90\n",
        "test.loc[test['id'] == 5350,'budget'] = 70\n",
        "test.loc[test['id'] == 5378,'budget'] = 10\n",
        "test.loc[test['id'] == 5545,'budget'] = 80\n",
        "test.loc[test['id'] == 5810,'budget'] = 8\n",
        "test.loc[test['id'] == 5926,'budget'] = 300\n",
        "test.loc[test['id'] == 5927,'budget'] = 4\n",
        "test.loc[test['id'] == 5986,'budget'] = 1\n",
        "test.loc[test['id'] == 6053,'budget'] = 20\n",
        "test.loc[test['id'] == 6104,'budget'] = 1\n",
        "test.loc[test['id'] == 6130,'budget'] = 30\n",
        "test.loc[test['id'] == 6301,'budget'] = 150\n",
        "test.loc[test['id'] == 6276,'budget'] = 100\n",
        "test.loc[test['id'] == 6473,'budget'] = 100\n",
        "test.loc[test['id'] == 6842,'budget'] = 30\n",
        "test.loc[test['id'] == 3889,'budget'] = 15000000       # Colossal\n",
        "test.loc[test['id'] == 6733,'budget'] = 5000000        # The Big Sick\n",
        "test.loc[test['id'] == 3197,'budget'] = 8000000        # High-Rise\n",
        "test.loc[test['id'] == 6683,'budget'] = 50000000       # The Pink Panther 2\n",
        "test.loc[test['id'] == 5704,'budget'] = 4300000        # French Connection II\n",
        "test.loc[test['id'] == 6109,'budget'] = 281756         # Dogtooth\n",
        "test.loc[test['id'] == 7242,'budget'] = 10000000       # Addams Family Values\n",
        "test.loc[test['id'] == 7021,'budget'] = 17540562       #  Two Is a Family\n",
        "test.loc[test['id'] == 5591,'budget'] = 4000000        # The Orphanage\n",
        "test.loc[test['id'] == 4282,'budget'] = 20000000       # Big Top Pee-wee"
      ],
      "execution_count": 0,
      "outputs": []
    },
    {
      "metadata": {
        "id": "mfTSnoJOS93N",
        "colab_type": "text"
      },
      "cell_type": "markdown",
      "source": [
        "### Fixing some runtimes of movies"
      ]
    },
    {
      "metadata": {
        "id": "56Kb6zItS8Hh",
        "colab_type": "code",
        "outputId": "5fb44b36-4867-4539-9ed3-f3d43c60a9ab",
        "colab": {
          "base_uri": "https://localhost:8080/",
          "height": 1693
        }
      },
      "cell_type": "code",
      "source": [
        "# TRAIN \n",
        "\n",
        "train.runtime[train.id == 391] = 86 #Il peor natagle de la meva vida\n",
        "train.runtime[train.id == 592] = 90 #А поутру они проснулись\n",
        "train.runtime[train.id == 925] = 95 #¿Quién mató a Bambi?\n",
        "train.runtime[train.id == 978] = 93 #La peggior settimana della mia vita\n",
        "train.runtime[train.id == 1256] = 92 #Cipolla Colt\n",
        "train.runtime[train.id == 1542] = 93 #Все и сразу\n",
        "train.runtime[train.id == 1875] = 86 #Vermist\n",
        "train.runtime[train.id == 2151] = 108 #Mechenosets\n",
        "train.runtime[train.id == 2499] = 108 #Na Igre 2. Novyy Uroven\n",
        "train.runtime[train.id == 2646] = 98 #同桌的妳\n",
        "train.runtime[train.id == 2786] = 111 #Revelation\n",
        "train.runtime[train.id == 2866] = 96 #Tutto tutto niente niente\n",
        "\n",
        "# TEST\n",
        "test.runtime[test.id == 4074] = 103 #Shikshanachya Aaicha Gho\n",
        "test.runtime[test.id == 4222] = 93 #Street Knight\n",
        "test.runtime[test.id == 4431] = 100 #Плюс один\n",
        "test.runtime[test.id == 5520] = 86 #Glukhar v kino\n",
        "test.runtime[test.id == 5845] = 83 #Frau Müller muss weg!\n",
        "test.runtime[test.id == 5849] = 140 #Shabd\n",
        "test.runtime[test.id == 6210] = 104 #Le dernier souffle\n",
        "test.runtime[test.id == 6804] = 145 #Chaahat Ek Nasha..\n",
        "test.runtime[test.id == 7321] = 87 #El truco del manco"
      ],
      "execution_count": 0,
      "outputs": [
        {
          "output_type": "stream",
          "text": [
            "/usr/local/lib/python3.6/dist-packages/ipykernel_launcher.py:2: SettingWithCopyWarning: \n",
            "A value is trying to be set on a copy of a slice from a DataFrame\n",
            "\n",
            "See the caveats in the documentation: http://pandas.pydata.org/pandas-docs/stable/indexing.html#indexing-view-versus-copy\n",
            "  \n",
            "/usr/local/lib/python3.6/dist-packages/ipykernel_launcher.py:3: SettingWithCopyWarning: \n",
            "A value is trying to be set on a copy of a slice from a DataFrame\n",
            "\n",
            "See the caveats in the documentation: http://pandas.pydata.org/pandas-docs/stable/indexing.html#indexing-view-versus-copy\n",
            "  This is separate from the ipykernel package so we can avoid doing imports until\n",
            "/usr/local/lib/python3.6/dist-packages/ipykernel_launcher.py:4: SettingWithCopyWarning: \n",
            "A value is trying to be set on a copy of a slice from a DataFrame\n",
            "\n",
            "See the caveats in the documentation: http://pandas.pydata.org/pandas-docs/stable/indexing.html#indexing-view-versus-copy\n",
            "  after removing the cwd from sys.path.\n",
            "/usr/local/lib/python3.6/dist-packages/ipykernel_launcher.py:5: SettingWithCopyWarning: \n",
            "A value is trying to be set on a copy of a slice from a DataFrame\n",
            "\n",
            "See the caveats in the documentation: http://pandas.pydata.org/pandas-docs/stable/indexing.html#indexing-view-versus-copy\n",
            "  \"\"\"\n",
            "/usr/local/lib/python3.6/dist-packages/ipykernel_launcher.py:6: SettingWithCopyWarning: \n",
            "A value is trying to be set on a copy of a slice from a DataFrame\n",
            "\n",
            "See the caveats in the documentation: http://pandas.pydata.org/pandas-docs/stable/indexing.html#indexing-view-versus-copy\n",
            "  \n",
            "/usr/local/lib/python3.6/dist-packages/ipykernel_launcher.py:7: SettingWithCopyWarning: \n",
            "A value is trying to be set on a copy of a slice from a DataFrame\n",
            "\n",
            "See the caveats in the documentation: http://pandas.pydata.org/pandas-docs/stable/indexing.html#indexing-view-versus-copy\n",
            "  import sys\n",
            "/usr/local/lib/python3.6/dist-packages/ipykernel_launcher.py:8: SettingWithCopyWarning: \n",
            "A value is trying to be set on a copy of a slice from a DataFrame\n",
            "\n",
            "See the caveats in the documentation: http://pandas.pydata.org/pandas-docs/stable/indexing.html#indexing-view-versus-copy\n",
            "  \n",
            "/usr/local/lib/python3.6/dist-packages/ipykernel_launcher.py:9: SettingWithCopyWarning: \n",
            "A value is trying to be set on a copy of a slice from a DataFrame\n",
            "\n",
            "See the caveats in the documentation: http://pandas.pydata.org/pandas-docs/stable/indexing.html#indexing-view-versus-copy\n",
            "  if __name__ == '__main__':\n",
            "/usr/local/lib/python3.6/dist-packages/ipykernel_launcher.py:10: SettingWithCopyWarning: \n",
            "A value is trying to be set on a copy of a slice from a DataFrame\n",
            "\n",
            "See the caveats in the documentation: http://pandas.pydata.org/pandas-docs/stable/indexing.html#indexing-view-versus-copy\n",
            "  # Remove the CWD from sys.path while we load stuff.\n",
            "/usr/local/lib/python3.6/dist-packages/ipykernel_launcher.py:11: SettingWithCopyWarning: \n",
            "A value is trying to be set on a copy of a slice from a DataFrame\n",
            "\n",
            "See the caveats in the documentation: http://pandas.pydata.org/pandas-docs/stable/indexing.html#indexing-view-versus-copy\n",
            "  # This is added back by InteractiveShellApp.init_path()\n",
            "/usr/local/lib/python3.6/dist-packages/ipykernel_launcher.py:12: SettingWithCopyWarning: \n",
            "A value is trying to be set on a copy of a slice from a DataFrame\n",
            "\n",
            "See the caveats in the documentation: http://pandas.pydata.org/pandas-docs/stable/indexing.html#indexing-view-versus-copy\n",
            "  if sys.path[0] == '':\n",
            "/usr/local/lib/python3.6/dist-packages/ipykernel_launcher.py:13: SettingWithCopyWarning: \n",
            "A value is trying to be set on a copy of a slice from a DataFrame\n",
            "\n",
            "See the caveats in the documentation: http://pandas.pydata.org/pandas-docs/stable/indexing.html#indexing-view-versus-copy\n",
            "  del sys.path[0]\n",
            "/usr/local/lib/python3.6/dist-packages/ipykernel_launcher.py:16: SettingWithCopyWarning: \n",
            "A value is trying to be set on a copy of a slice from a DataFrame\n",
            "\n",
            "See the caveats in the documentation: http://pandas.pydata.org/pandas-docs/stable/indexing.html#indexing-view-versus-copy\n",
            "  app.launch_new_instance()\n",
            "/usr/local/lib/python3.6/dist-packages/ipykernel_launcher.py:17: SettingWithCopyWarning: \n",
            "A value is trying to be set on a copy of a slice from a DataFrame\n",
            "\n",
            "See the caveats in the documentation: http://pandas.pydata.org/pandas-docs/stable/indexing.html#indexing-view-versus-copy\n",
            "/usr/local/lib/python3.6/dist-packages/ipykernel_launcher.py:18: SettingWithCopyWarning: \n",
            "A value is trying to be set on a copy of a slice from a DataFrame\n",
            "\n",
            "See the caveats in the documentation: http://pandas.pydata.org/pandas-docs/stable/indexing.html#indexing-view-versus-copy\n",
            "/usr/local/lib/python3.6/dist-packages/ipykernel_launcher.py:19: SettingWithCopyWarning: \n",
            "A value is trying to be set on a copy of a slice from a DataFrame\n",
            "\n",
            "See the caveats in the documentation: http://pandas.pydata.org/pandas-docs/stable/indexing.html#indexing-view-versus-copy\n",
            "/usr/local/lib/python3.6/dist-packages/ipykernel_launcher.py:20: SettingWithCopyWarning: \n",
            "A value is trying to be set on a copy of a slice from a DataFrame\n",
            "\n",
            "See the caveats in the documentation: http://pandas.pydata.org/pandas-docs/stable/indexing.html#indexing-view-versus-copy\n",
            "/usr/local/lib/python3.6/dist-packages/ipykernel_launcher.py:21: SettingWithCopyWarning: \n",
            "A value is trying to be set on a copy of a slice from a DataFrame\n",
            "\n",
            "See the caveats in the documentation: http://pandas.pydata.org/pandas-docs/stable/indexing.html#indexing-view-versus-copy\n",
            "/usr/local/lib/python3.6/dist-packages/ipykernel_launcher.py:22: SettingWithCopyWarning: \n",
            "A value is trying to be set on a copy of a slice from a DataFrame\n",
            "\n",
            "See the caveats in the documentation: http://pandas.pydata.org/pandas-docs/stable/indexing.html#indexing-view-versus-copy\n",
            "/usr/local/lib/python3.6/dist-packages/ipykernel_launcher.py:23: SettingWithCopyWarning: \n",
            "A value is trying to be set on a copy of a slice from a DataFrame\n",
            "\n",
            "See the caveats in the documentation: http://pandas.pydata.org/pandas-docs/stable/indexing.html#indexing-view-versus-copy\n",
            "/usr/local/lib/python3.6/dist-packages/ipykernel_launcher.py:24: SettingWithCopyWarning: \n",
            "A value is trying to be set on a copy of a slice from a DataFrame\n",
            "\n",
            "See the caveats in the documentation: http://pandas.pydata.org/pandas-docs/stable/indexing.html#indexing-view-versus-copy\n"
          ],
          "name": "stderr"
        }
      ]
    },
    {
      "metadata": {
        "id": "itR0pLz5TtNg",
        "colab_type": "code",
        "colab": {}
      },
      "cell_type": "code",
      "source": [
        "#Let´s fix the revenue for those films which revenue and budget are significantlly low\n",
        "\n",
        "power_six = train.id[train.budget > 1000][train.revenue < 100]\n",
        "                             #I think this is not right better option would be to use public info available on imdb as done for in above code:)\n",
        "for k in power_six :\n",
        "     train.loc[train['id'] == k,'revenue'] =  train.loc[train['id'] == k,'revenue'] * 1000"
      ],
      "execution_count": 0,
      "outputs": []
    },
    {
      "metadata": {
        "id": "YWqS9HsIweW7",
        "colab_type": "code",
        "outputId": "5bd6cb0e-815d-4d4c-c8ab-ade7eeb2df45",
        "colab": {
          "base_uri": "https://localhost:8080/",
          "height": 121
        }
      },
      "cell_type": "code",
      "source": [
        "power_six"
      ],
      "execution_count": 0,
      "outputs": [
        {
          "output_type": "execute_result",
          "data": {
            "text/plain": [
              "1006    1007\n",
              "1281    1282\n",
              "1541    1542\n",
              "1884    1885\n",
              "2090    2091\n",
              "Name: id, dtype: int64"
            ]
          },
          "metadata": {
            "tags": []
          },
          "execution_count": 133
        }
      ]
    },
    {
      "metadata": {
        "id": "jyb0z1VSxuod",
        "colab_type": "code",
        "outputId": "cb11887b-69d8-4f74-f84a-55ca859452fa",
        "colab": {
          "base_uri": "https://localhost:8080/",
          "height": 190
        }
      },
      "cell_type": "code",
      "source": [
        "for i in power_six:\n",
        "  print(train[train['id']==i][['title','revenue','budget','release_date']])"
      ],
      "execution_count": 0,
      "outputs": [
        {
          "output_type": "stream",
          "text": [
            "            title  revenue   budget release_date\n",
            "1006  Zyzzyx Road    30000  2000000      2/25/06\n",
            "                   title  revenue   budget release_date\n",
            "1281  Death at a Funeral    46000  9000000       2/9/07\n",
            "            title  revenue    budget release_date\n",
            "1541  All at Once     3000  15800000       6/5/14\n",
            "           title  revenue    budget release_date\n",
            "1884  In the Cut    23000  12000000       9/9/03\n",
            "         title  revenue    budget release_date\n",
            "2090  Deadfall    18000  10000000      10/8/93\n"
          ],
          "name": "stdout"
        }
      ]
    },
    {
      "metadata": {
        "id": "w9IwFJdWWQK3",
        "colab_type": "text"
      },
      "cell_type": "markdown",
      "source": [
        "### Exploring Belongs_to_collection and homepage column"
      ]
    },
    {
      "metadata": {
        "id": "7xUIv4-tWOmo",
        "colab_type": "code",
        "colab": {}
      },
      "cell_type": "code",
      "source": [
        "# belongs to collection or not\n",
        "train['belongs_to_collection'] = train['belongs_to_collection'].apply(lambda x: 1 if not pd.isnull(x) else 0)\n",
        "test['belongs_to_collection'] = test['belongs_to_collection'].apply(lambda x: 1 if not pd.isnull(x) else 0)\n",
        "# homepage available or not\n",
        "train['homepage'] = train['homepage'].apply(lambda x: 1 if not pd.isnull(x) else 0)\n",
        "test['homepage'] = test['homepage'].apply(lambda x: 1 if not pd.isnull(x) else 0)"
      ],
      "execution_count": 0,
      "outputs": []
    },
    {
      "metadata": {
        "id": "EbUu7NWHXIdt",
        "colab_type": "code",
        "outputId": "ec123804-eac2-439b-db0a-e289a3e3dac1",
        "colab": {
          "base_uri": "https://localhost:8080/",
          "height": 459
        }
      },
      "cell_type": "code",
      "source": [
        "sns.jointplot(x=train['belongs_to_collection'],y=train['revenue'])"
      ],
      "execution_count": 0,
      "outputs": [
        {
          "output_type": "execute_result",
          "data": {
            "text/plain": [
              "<seaborn.axisgrid.JointGrid at 0x7fa6bc3b1898>"
            ]
          },
          "metadata": {
            "tags": []
          },
          "execution_count": 136
        },
        {
          "output_type": "display_data",
          "data": {
            "image/png": "[encoded data removed]",
            "text/plain": [
              "<Figure size 432x432 with 3 Axes>"
            ]
          },
          "metadata": {
            "tags": []
          }
        }
      ]
    },
    {
      "metadata": {
        "id": "L3iEM6n5ZmSw",
        "colab_type": "code",
        "outputId": "e9fab7f7-b005-4224-d48a-b6def9274cd2",
        "colab": {
          "base_uri": "https://localhost:8080/",
          "height": 459
        }
      },
      "cell_type": "code",
      "source": [
        "sns.jointplot(x=train['homepage'],y=train['revenue'])"
      ],
      "execution_count": 0,
      "outputs": [
        {
          "output_type": "execute_result",
          "data": {
            "text/plain": [
              "<seaborn.axisgrid.JointGrid at 0x7fa6bb391940>"
            ]
          },
          "metadata": {
            "tags": []
          },
          "execution_count": 137
        },
        {
          "output_type": "display_data",
          "data": {
            "image/png": "[encoded data removed]",
            "text/plain": [
              "<Figure size 432x432 with 3 Axes>"
            ]
          },
          "metadata": {
            "tags": []
          }
        }
      ]
    },
    {
      "metadata": {
        "id": "k2k4TTyNXIbf",
        "colab_type": "code",
        "outputId": "3e244903-22a2-41b6-f78d-7d09a99a3cea",
        "colab": {
          "base_uri": "https://localhost:8080/",
          "height": 258
        }
      },
      "cell_type": "code",
      "source": [
        "train.corr()"
      ],
      "execution_count": 0,
      "outputs": [
        {
          "output_type": "execute_result",
          "data": {
            "text/html": [
              "<div>\n",
              "<style scoped>\n",
              "    .dataframe tbody tr th:only-of-type {\n",
              "        vertical-align: middle;\n",
              "    }\n",
              "\n",
              "    .dataframe tbody tr th {\n",
              "        vertical-align: top;\n",
              "    }\n",
              "\n",
              "    .dataframe thead th {\n",
              "        text-align: right;\n",
              "    }\n",
              "</style>\n",
              "<table border=\"1\" class=\"dataframe\">\n",
              "  <thead>\n",
              "    <tr style=\"text-align: right;\">\n",
              "      <th></th>\n",
              "      <th>id</th>\n",
              "      <th>belongs_to_collection</th>\n",
              "      <th>budget</th>\n",
              "      <th>homepage</th>\n",
              "      <th>popularity</th>\n",
              "      <th>runtime</th>\n",
              "      <th>revenue</th>\n",
              "    </tr>\n",
              "  </thead>\n",
              "  <tbody>\n",
              "    <tr>\n",
              "      <th>id</th>\n",
              "      <td>1.000000</td>\n",
              "      <td>-0.010010</td>\n",
              "      <td>0.017519</td>\n",
              "      <td>-0.006177</td>\n",
              "      <td>-0.007470</td>\n",
              "      <td>0.016746</td>\n",
              "      <td>0.000393</td>\n",
              "    </tr>\n",
              "    <tr>\n",
              "      <th>belongs_to_collection</th>\n",
              "      <td>-0.010010</td>\n",
              "      <td>1.000000</td>\n",
              "      <td>0.223811</td>\n",
              "      <td>0.060001</td>\n",
              "      <td>0.155896</td>\n",
              "      <td>-0.039934</td>\n",
              "      <td>0.338677</td>\n",
              "    </tr>\n",
              "    <tr>\n",
              "      <th>budget</th>\n",
              "      <td>0.017519</td>\n",
              "      <td>0.223811</td>\n",
              "      <td>1.000000</td>\n",
              "      <td>0.247798</td>\n",
              "      <td>0.342584</td>\n",
              "      <td>0.239384</td>\n",
              "      <td>0.754983</td>\n",
              "    </tr>\n",
              "    <tr>\n",
              "      <th>homepage</th>\n",
              "      <td>-0.006177</td>\n",
              "      <td>0.060001</td>\n",
              "      <td>0.247798</td>\n",
              "      <td>1.000000</td>\n",
              "      <td>0.164797</td>\n",
              "      <td>0.033635</td>\n",
              "      <td>0.263422</td>\n",
              "    </tr>\n",
              "    <tr>\n",
              "      <th>popularity</th>\n",
              "      <td>-0.007470</td>\n",
              "      <td>0.155896</td>\n",
              "      <td>0.342584</td>\n",
              "      <td>0.164797</td>\n",
              "      <td>1.000000</td>\n",
              "      <td>0.129822</td>\n",
              "      <td>0.461524</td>\n",
              "    </tr>\n",
              "    <tr>\n",
              "      <th>runtime</th>\n",
              "      <td>0.016746</td>\n",
              "      <td>-0.039934</td>\n",
              "      <td>0.239384</td>\n",
              "      <td>0.033635</td>\n",
              "      <td>0.129822</td>\n",
              "      <td>1.000000</td>\n",
              "      <td>0.220559</td>\n",
              "    </tr>\n",
              "    <tr>\n",
              "      <th>revenue</th>\n",
              "      <td>0.000393</td>\n",
              "      <td>0.338677</td>\n",
              "      <td>0.754983</td>\n",
              "      <td>0.263422</td>\n",
              "      <td>0.461524</td>\n",
              "      <td>0.220559</td>\n",
              "      <td>1.000000</td>\n",
              "    </tr>\n",
              "  </tbody>\n",
              "</table>\n",
              "</div>"
            ],
            "text/plain": [
              "                             id  belongs_to_collection    budget  homepage  \\\n",
              "id                     1.000000              -0.010010  0.017519 -0.006177   \n",
              "belongs_to_collection -0.010010               1.000000  0.223811  0.060001   \n",
              "budget                 0.017519               0.223811  1.000000  0.247798   \n",
              "homepage              -0.006177               0.060001  0.247798  1.000000   \n",
              "popularity            -0.007470               0.155896  0.342584  0.164797   \n",
              "runtime                0.016746              -0.039934  0.239384  0.033635   \n",
              "revenue                0.000393               0.338677  0.754983  0.263422   \n",
              "\n",
              "                       popularity   runtime   revenue  \n",
              "id                      -0.007470  0.016746  0.000393  \n",
              "belongs_to_collection    0.155896 -0.039934  0.338677  \n",
              "budget                   0.342584  0.239384  0.754983  \n",
              "homepage                 0.164797  0.033635  0.263422  \n",
              "popularity               1.000000  0.129822  0.461524  \n",
              "runtime                  0.129822  1.000000  0.220559  \n",
              "revenue                  0.461524  0.220559  1.000000  "
            ]
          },
          "metadata": {
            "tags": []
          },
          "execution_count": 138
        }
      ]
    },
    {
      "metadata": {
        "id": "uvq9tzE8aO_y",
        "colab_type": "text"
      },
      "cell_type": "markdown",
      "source": [
        "### Exploring Tagline And Overview column"
      ]
    },
    {
      "metadata": {
        "id": "VXEM6MVpaJl-",
        "colab_type": "code",
        "colab": {}
      },
      "cell_type": "code",
      "source": [
        "# belongs to collection or not\n",
        "tagline_len_train = train['tagline'].apply(lambda x: len(x) if not pd.isnull(x) else 0)\n",
        "tagline_len_test = test['tagline'].apply(lambda x: len(x) if not pd.isnull(x) else 0)\n",
        "# homepage available or not\n",
        "overview_len_train = train['overview'].apply(lambda x: len(x) if not pd.isnull(x) else 0)\n",
        "overview_len_test = test['overview'].apply(lambda x: len(x) if not pd.isnull(x) else 0)"
      ],
      "execution_count": 0,
      "outputs": []
    },
    {
      "metadata": {
        "id": "aZ06ZsmRaL0i",
        "colab_type": "code",
        "outputId": "0f84e601-9efb-4210-f42e-0eec57f8f72c",
        "colab": {
          "base_uri": "https://localhost:8080/",
          "height": 459
        }
      },
      "cell_type": "code",
      "source": [
        "sns.jointplot(x=tagline_len_train,y=train['revenue'])"
      ],
      "execution_count": 0,
      "outputs": [
        {
          "output_type": "execute_result",
          "data": {
            "text/plain": [
              "<seaborn.axisgrid.JointGrid at 0x7fa6bc48c550>"
            ]
          },
          "metadata": {
            "tags": []
          },
          "execution_count": 140
        },
        {
          "output_type": "display_data",
          "data": {
            "image/png": "[encoded data removed]",
            "text/plain": [
              "<Figure size 432x432 with 3 Axes>"
            ]
          },
          "metadata": {
            "tags": []
          }
        }
      ]
    },
    {
      "metadata": {
        "id": "INSiVRGjaMwd",
        "colab_type": "code",
        "outputId": "29878eca-8a41-4e1f-c78a-4bece4b3b703",
        "colab": {
          "base_uri": "https://localhost:8080/",
          "height": 459
        }
      },
      "cell_type": "code",
      "source": [
        "sns.jointplot(x=overview_len_train,y=train['revenue'])\n",
        "# so much distributed data so no correlation"
      ],
      "execution_count": 0,
      "outputs": [
        {
          "output_type": "execute_result",
          "data": {
            "text/plain": [
              "<seaborn.axisgrid.JointGrid at 0x7fa6bb0d7f60>"
            ]
          },
          "metadata": {
            "tags": []
          },
          "execution_count": 141
        },
        {
          "output_type": "display_data",
          "data": {
            "image/png": "[encoded data removed]",
            "text/plain": [
              "<Figure size 432x432 with 3 Axes>"
            ]
          },
          "metadata": {
            "tags": []
          }
        }
      ]
    },
    {
      "metadata": {
        "id": "FkxquvcKaM7a",
        "colab_type": "code",
        "outputId": "8f19b9d5-593e-4d7e-b80d-36abadc29806",
        "colab": {
          "base_uri": "https://localhost:8080/",
          "height": 52
        }
      },
      "cell_type": "code",
      "source": [
        "print(train['revenue'].corr(overview_len_train))\n",
        "print(train['revenue'].corr(tagline_len_train))"
      ],
      "execution_count": 0,
      "outputs": [
        {
          "output_type": "stream",
          "text": [
            "-0.005255905647532908\n",
            "0.01822416648873992\n"
          ],
          "name": "stdout"
        }
      ]
    },
    {
      "metadata": {
        "id": "FOfxB8a8aNFt",
        "colab_type": "code",
        "colab": {}
      },
      "cell_type": "code",
      "source": [
        "# hence there is some patternwith tagline feature but no correlation exists b/w overview length\n",
        "train['tagline']=tagline_len_train\n",
        "test['tagline']=tagline_len_test\n",
        "\n",
        "train.drop(['overview'],axis=1,inplace=True)\n",
        "test.drop(['overview'],axis=1,inplace=True)"
      ],
      "execution_count": 0,
      "outputs": []
    },
    {
      "metadata": {
        "id": "FG1kVUJCSLXC",
        "colab_type": "text"
      },
      "cell_type": "markdown",
      "source": [
        "### Exploring Title Column"
      ]
    },
    {
      "metadata": {
        "id": "IOdM1LlqIyU-",
        "colab_type": "code",
        "outputId": "8490c205-477a-46d6-e387-c784b1e8a180",
        "colab": {
          "base_uri": "https://localhost:8080/",
          "height": 34
        }
      },
      "cell_type": "code",
      "source": [
        "print(len(sorted(train['title'].unique())),train.shape,train['title'].isnull().sum())"
      ],
      "execution_count": 0,
      "outputs": [
        {
          "output_type": "stream",
          "text": [
            "2969 (3000, 19) 0\n"
          ],
          "name": "stdout"
        }
      ]
    },
    {
      "metadata": {
        "id": "FcfZXGA8O5Po",
        "colab_type": "code",
        "outputId": "f393d50e-dfaf-4ffb-df02-7af7bcd0eab7",
        "colab": {
          "base_uri": "https://localhost:8080/",
          "height": 69
        }
      },
      "cell_type": "code",
      "source": [
        "print(train[train['title']=='Casino Royale']['genres'])"
      ],
      "execution_count": 0,
      "outputs": [
        {
          "output_type": "stream",
          "text": [
            "60      [{'id': 12, 'name': 'Adventure'}, {'id': 28, '...\n",
            "2241    [{'id': 12, 'name': 'Adventure'}, {'id': 28, '...\n",
            "Name: genres, dtype: object\n"
          ],
          "name": "stdout"
        }
      ]
    },
    {
      "metadata": {
        "id": "CVjXNRLeK-24",
        "colab_type": "code",
        "outputId": "7fcc03f7-df10-4bb0-83d9-ed0cc62845a0",
        "colab": {
          "base_uri": "https://localhost:8080/",
          "height": 581
        }
      },
      "cell_type": "code",
      "source": [
        "(train[train.title.isin(train['title'].value_counts()[train['title'].value_counts()> 1].index)].head())"
      ],
      "execution_count": 0,
      "outputs": [
        {
          "output_type": "execute_result",
          "data": {
            "text/html": [
              "<div>\n",
              "<style scoped>\n",
              "    .dataframe tbody tr th:only-of-type {\n",
              "        vertical-align: middle;\n",
              "    }\n",
              "\n",
              "    .dataframe tbody tr th {\n",
              "        vertical-align: top;\n",
              "    }\n",
              "\n",
              "    .dataframe thead th {\n",
              "        text-align: right;\n",
              "    }\n",
              "</style>\n",
              "<table border=\"1\" class=\"dataframe\">\n",
              "  <thead>\n",
              "    <tr style=\"text-align: right;\">\n",
              "      <th></th>\n",
              "      <th>id</th>\n",
              "      <th>belongs_to_collection</th>\n",
              "      <th>budget</th>\n",
              "      <th>genres</th>\n",
              "      <th>homepage</th>\n",
              "      <th>original_language</th>\n",
              "      <th>popularity</th>\n",
              "      <th>production_companies</th>\n",
              "      <th>production_countries</th>\n",
              "      <th>release_date</th>\n",
              "      <th>runtime</th>\n",
              "      <th>spoken_languages</th>\n",
              "      <th>status</th>\n",
              "      <th>tagline</th>\n",
              "      <th>title</th>\n",
              "      <th>Keywords</th>\n",
              "      <th>cast</th>\n",
              "      <th>crew</th>\n",
              "      <th>revenue</th>\n",
              "    </tr>\n",
              "  </thead>\n",
              "  <tbody>\n",
              "    <tr>\n",
              "      <th>24</th>\n",
              "      <td>25</td>\n",
              "      <td>0</td>\n",
              "      <td>0</td>\n",
              "      <td>[{'id': 27, 'name': 'Horror'}, {'id': 35, 'nam...</td>\n",
              "      <td>1</td>\n",
              "      <td>en</td>\n",
              "      <td>7.434577</td>\n",
              "      <td>[{'name': 'New Zealand Film Commission', 'id':...</td>\n",
              "      <td>[{'iso_3166_1': 'NZ', 'name': 'New Zealand'}]</td>\n",
              "      <td>9/9/06</td>\n",
              "      <td>87.0</td>\n",
              "      <td>[{'iso_639_1': 'en', 'name': 'English'}, {'iso...</td>\n",
              "      <td>Released</td>\n",
              "      <td>71</td>\n",
              "      <td>Black Sheep</td>\n",
              "      <td>[{'id': 2658, 'name': 'new zealand'}, {'id': 3...</td>\n",
              "      <td>[{'cast_id': 9, 'character': 'Henry Oldfield',...</td>\n",
              "      <td>[{'credit_id': '52fe43a0c3a36847f8063031', 'de...</td>\n",
              "      <td>4947717</td>\n",
              "    </tr>\n",
              "    <tr>\n",
              "      <th>60</th>\n",
              "      <td>61</td>\n",
              "      <td>1</td>\n",
              "      <td>150000000</td>\n",
              "      <td>[{'id': 12, 'name': 'Adventure'}, {'id': 28, '...</td>\n",
              "      <td>1</td>\n",
              "      <td>en</td>\n",
              "      <td>23.065078</td>\n",
              "      <td>[{'name': 'Eon Productions', 'id': 7576}, {'na...</td>\n",
              "      <td>[{'iso_3166_1': 'IT', 'name': 'Italy'}, {'iso_...</td>\n",
              "      <td>11/14/06</td>\n",
              "      <td>144.0</td>\n",
              "      <td>[{'iso_639_1': 'en', 'name': 'English'}, {'iso...</td>\n",
              "      <td>Released</td>\n",
              "      <td>50</td>\n",
              "      <td>Casino Royale</td>\n",
              "      <td>[{'id': 131, 'name': 'italy'}, {'id': 383, 'na...</td>\n",
              "      <td>[{'cast_id': 1, 'character': 'James Bond', 'cr...</td>\n",
              "      <td>[{'credit_id': '53ac1fd7c3a3684bc8001908', 'de...</td>\n",
              "      <td>599045960</td>\n",
              "    </tr>\n",
              "    <tr>\n",
              "      <th>122</th>\n",
              "      <td>123</td>\n",
              "      <td>0</td>\n",
              "      <td>1500000</td>\n",
              "      <td>[{'id': 28, 'name': 'Action'}, {'id': 35, 'nam...</td>\n",
              "      <td>0</td>\n",
              "      <td>en</td>\n",
              "      <td>1.961208</td>\n",
              "      <td>[{'name': 'TriStar Pictures', 'id': 559}]</td>\n",
              "      <td>[{'iso_3166_1': 'US', 'name': 'United States o...</td>\n",
              "      <td>2/9/90</td>\n",
              "      <td>94.0</td>\n",
              "      <td>[{'iso_639_1': 'en', 'name': 'English'}]</td>\n",
              "      <td>Released</td>\n",
              "      <td>0</td>\n",
              "      <td>Loose Cannons</td>\n",
              "      <td>[{'id': 720, 'name': 'helicopter'}, {'id': 155...</td>\n",
              "      <td>[{'cast_id': 2, 'character': 'MacArthur Stern'...</td>\n",
              "      <td>[{'credit_id': '52fe449cc3a368484e02cabf', 'de...</td>\n",
              "      <td>5585154</td>\n",
              "    </tr>\n",
              "    <tr>\n",
              "      <th>127</th>\n",
              "      <td>128</td>\n",
              "      <td>0</td>\n",
              "      <td>10000000</td>\n",
              "      <td>[{'id': 27, 'name': 'Horror'}, {'id': 18, 'nam...</td>\n",
              "      <td>0</td>\n",
              "      <td>en</td>\n",
              "      <td>7.886926</td>\n",
              "      <td>[{'name': 'Lakeshore Entertainment', 'id': 126...</td>\n",
              "      <td>[{'iso_3166_1': 'US', 'name': 'United States o...</td>\n",
              "      <td>12/22/00</td>\n",
              "      <td>111.0</td>\n",
              "      <td>[{'iso_639_1': 'en', 'name': 'English'}]</td>\n",
              "      <td>Released</td>\n",
              "      <td>49</td>\n",
              "      <td>The Gift</td>\n",
              "      <td>[{'id': 663, 'name': 'fortune teller'}, {'id':...</td>\n",
              "      <td>[{'cast_id': 1, 'character': 'Annie Wilson', '...</td>\n",
              "      <td>[{'credit_id': '52fe432fc3a36847f8040ed9', 'de...</td>\n",
              "      <td>12008642</td>\n",
              "    </tr>\n",
              "    <tr>\n",
              "      <th>238</th>\n",
              "      <td>239</td>\n",
              "      <td>0</td>\n",
              "      <td>22000000</td>\n",
              "      <td>[{'id': 14, 'name': 'Fantasy'}, {'id': 18, 'na...</td>\n",
              "      <td>0</td>\n",
              "      <td>en</td>\n",
              "      <td>11.945397</td>\n",
              "      <td>[{'name': 'Paramount Pictures', 'id': 4}]</td>\n",
              "      <td>[{'iso_3166_1': 'US', 'name': 'United States o...</td>\n",
              "      <td>7/12/90</td>\n",
              "      <td>127.0</td>\n",
              "      <td>[{'iso_639_1': 'en', 'name': 'English'}]</td>\n",
              "      <td>Released</td>\n",
              "      <td>30</td>\n",
              "      <td>Ghost</td>\n",
              "      <td>[{'id': 417, 'name': 'corruption'}, {'id': 663...</td>\n",
              "      <td>[{'cast_id': 2, 'character': 'Sam Wheat', 'cre...</td>\n",
              "      <td>[{'credit_id': '52fe422dc3a36847f8009f89', 'de...</td>\n",
              "      <td>505000000</td>\n",
              "    </tr>\n",
              "  </tbody>\n",
              "</table>\n",
              "</div>"
            ],
            "text/plain": [
              "      id  belongs_to_collection     budget  \\\n",
              "24    25                      0          0   \n",
              "60    61                      1  150000000   \n",
              "122  123                      0    1500000   \n",
              "127  128                      0   10000000   \n",
              "238  239                      0   22000000   \n",
              "\n",
              "                                                genres  homepage  \\\n",
              "24   [{'id': 27, 'name': 'Horror'}, {'id': 35, 'nam...         1   \n",
              "60   [{'id': 12, 'name': 'Adventure'}, {'id': 28, '...         1   \n",
              "122  [{'id': 28, 'name': 'Action'}, {'id': 35, 'nam...         0   \n",
              "127  [{'id': 27, 'name': 'Horror'}, {'id': 18, 'nam...         0   \n",
              "238  [{'id': 14, 'name': 'Fantasy'}, {'id': 18, 'na...         0   \n",
              "\n",
              "    original_language  popularity  \\\n",
              "24                 en    7.434577   \n",
              "60                 en   23.065078   \n",
              "122                en    1.961208   \n",
              "127                en    7.886926   \n",
              "238                en   11.945397   \n",
              "\n",
              "                                  production_companies  \\\n",
              "24   [{'name': 'New Zealand Film Commission', 'id':...   \n",
              "60   [{'name': 'Eon Productions', 'id': 7576}, {'na...   \n",
              "122          [{'name': 'TriStar Pictures', 'id': 559}]   \n",
              "127  [{'name': 'Lakeshore Entertainment', 'id': 126...   \n",
              "238          [{'name': 'Paramount Pictures', 'id': 4}]   \n",
              "\n",
              "                                  production_countries release_date  runtime  \\\n",
              "24       [{'iso_3166_1': 'NZ', 'name': 'New Zealand'}]       9/9/06     87.0   \n",
              "60   [{'iso_3166_1': 'IT', 'name': 'Italy'}, {'iso_...     11/14/06    144.0   \n",
              "122  [{'iso_3166_1': 'US', 'name': 'United States o...       2/9/90     94.0   \n",
              "127  [{'iso_3166_1': 'US', 'name': 'United States o...     12/22/00    111.0   \n",
              "238  [{'iso_3166_1': 'US', 'name': 'United States o...      7/12/90    127.0   \n",
              "\n",
              "                                      spoken_languages    status  tagline  \\\n",
              "24   [{'iso_639_1': 'en', 'name': 'English'}, {'iso...  Released       71   \n",
              "60   [{'iso_639_1': 'en', 'name': 'English'}, {'iso...  Released       50   \n",
              "122           [{'iso_639_1': 'en', 'name': 'English'}]  Released        0   \n",
              "127           [{'iso_639_1': 'en', 'name': 'English'}]  Released       49   \n",
              "238           [{'iso_639_1': 'en', 'name': 'English'}]  Released       30   \n",
              "\n",
              "             title                                           Keywords  \\\n",
              "24     Black Sheep  [{'id': 2658, 'name': 'new zealand'}, {'id': 3...   \n",
              "60   Casino Royale  [{'id': 131, 'name': 'italy'}, {'id': 383, 'na...   \n",
              "122  Loose Cannons  [{'id': 720, 'name': 'helicopter'}, {'id': 155...   \n",
              "127       The Gift  [{'id': 663, 'name': 'fortune teller'}, {'id':...   \n",
              "238          Ghost  [{'id': 417, 'name': 'corruption'}, {'id': 663...   \n",
              "\n",
              "                                                  cast  \\\n",
              "24   [{'cast_id': 9, 'character': 'Henry Oldfield',...   \n",
              "60   [{'cast_id': 1, 'character': 'James Bond', 'cr...   \n",
              "122  [{'cast_id': 2, 'character': 'MacArthur Stern'...   \n",
              "127  [{'cast_id': 1, 'character': 'Annie Wilson', '...   \n",
              "238  [{'cast_id': 2, 'character': 'Sam Wheat', 'cre...   \n",
              "\n",
              "                                                  crew    revenue  \n",
              "24   [{'credit_id': '52fe43a0c3a36847f8063031', 'de...    4947717  \n",
              "60   [{'credit_id': '53ac1fd7c3a3684bc8001908', 'de...  599045960  \n",
              "122  [{'credit_id': '52fe449cc3a368484e02cabf', 'de...    5585154  \n",
              "127  [{'credit_id': '52fe432fc3a36847f8040ed9', 'de...   12008642  \n",
              "238  [{'credit_id': '52fe422dc3a36847f8009f89', 'de...  505000000  "
            ]
          },
          "metadata": {
            "tags": []
          },
          "execution_count": 146
        }
      ]
    },
    {
      "metadata": {
        "id": "QRo5fySfSPa0",
        "colab_type": "code",
        "colab": {}
      },
      "cell_type": "code",
      "source": [
        "title_len_train = train['title'].apply(lambda x: len(x) if not pd.isnull(x) else 0)\n",
        "title_len_test = test['title'].apply(lambda x: len(x) if not pd.isnull(x) else 0)"
      ],
      "execution_count": 0,
      "outputs": []
    },
    {
      "metadata": {
        "id": "dzdC0_HuSPYS",
        "colab_type": "code",
        "outputId": "d1c0facc-06fc-40d2-bb75-f5a9fee981a6",
        "colab": {
          "base_uri": "https://localhost:8080/",
          "height": 459
        }
      },
      "cell_type": "code",
      "source": [
        "sns.jointplot(x=title_len_train,y=train['revenue'])"
      ],
      "execution_count": 0,
      "outputs": [
        {
          "output_type": "execute_result",
          "data": {
            "text/plain": [
              "<seaborn.axisgrid.JointGrid at 0x7fa6bafdea20>"
            ]
          },
          "metadata": {
            "tags": []
          },
          "execution_count": 148
        },
        {
          "output_type": "display_data",
          "data": {
            "image/png": "[encoded data removed]",
            "text/plain": [
              "<Figure size 432x432 with 3 Axes>"
            ]
          },
          "metadata": {
            "tags": []
          }
        }
      ]
    },
    {
      "metadata": {
        "id": "0lx8h3b0Unm-",
        "colab_type": "code",
        "outputId": "8a759e8e-4674-4bc7-926c-58053348d8b7",
        "colab": {
          "base_uri": "https://localhost:8080/",
          "height": 34
        }
      },
      "cell_type": "code",
      "source": [
        "# we see good correleation between revenue and title_len\n",
        "train['revenue'].corr(title_len_train)"
      ],
      "execution_count": 0,
      "outputs": [
        {
          "output_type": "execute_result",
          "data": {
            "text/plain": [
              "0.10891185337811261"
            ]
          },
          "metadata": {
            "tags": []
          },
          "execution_count": 149
        }
      ]
    },
    {
      "metadata": {
        "colab_type": "code",
        "id": "twJgpWPUhc0U",
        "colab": {}
      },
      "cell_type": "code",
      "source": [
        "train['title_length'] = title_len_train\n",
        "test['title_length'] = title_len_test"
      ],
      "execution_count": 0,
      "outputs": []
    },
    {
      "metadata": {
        "id": "OM_MmXHWhdgP",
        "colab_type": "code",
        "colab": {}
      },
      "cell_type": "code",
      "source": [
        "train.drop(['title'],axis=1,inplace=True)\n",
        "test.drop(['title'],axis=1,inplace=True)"
      ],
      "execution_count": 0,
      "outputs": []
    },
    {
      "metadata": {
        "id": "jfyTz3bYTw-m",
        "colab_type": "code",
        "outputId": "69f9316c-aa11-4de2-987d-87baf49ae814",
        "colab": {
          "base_uri": "https://localhost:8080/",
          "height": 121
        }
      },
      "cell_type": "code",
      "source": [
        "print(train.columns)"
      ],
      "execution_count": 0,
      "outputs": [
        {
          "output_type": "stream",
          "text": [
            "Index(['id', 'belongs_to_collection', 'budget', 'genres', 'homepage',\n",
            "       'original_language', 'popularity', 'production_companies',\n",
            "       'production_countries', 'release_date', 'runtime', 'spoken_languages',\n",
            "       'status', 'tagline', 'Keywords', 'cast', 'crew', 'revenue',\n",
            "       'title_length'],\n",
            "      dtype='object')\n"
          ],
          "name": "stdout"
        }
      ]
    },
    {
      "metadata": {
        "id": "TwCAUx0NIyXP",
        "colab_type": "text"
      },
      "cell_type": "markdown",
      "source": [
        "### Data Cleaning and Feauture engineering"
      ]
    },
    {
      "metadata": {
        "scrolled": true,
        "id": "ISOggg2lIyXT",
        "colab_type": "code",
        "outputId": "b59040f6-568d-4354-90a4-7289849fdfe1",
        "colab": {
          "base_uri": "https://localhost:8080/",
          "height": 529
        }
      },
      "cell_type": "code",
      "source": [
        "train.head()"
      ],
      "execution_count": 0,
      "outputs": [
        {
          "output_type": "execute_result",
          "data": {
            "text/html": [
              "<div>\n",
              "<style scoped>\n",
              "    .dataframe tbody tr th:only-of-type {\n",
              "        vertical-align: middle;\n",
              "    }\n",
              "\n",
              "    .dataframe tbody tr th {\n",
              "        vertical-align: top;\n",
              "    }\n",
              "\n",
              "    .dataframe thead th {\n",
              "        text-align: right;\n",
              "    }\n",
              "</style>\n",
              "<table border=\"1\" class=\"dataframe\">\n",
              "  <thead>\n",
              "    <tr style=\"text-align: right;\">\n",
              "      <th></th>\n",
              "      <th>id</th>\n",
              "      <th>belongs_to_collection</th>\n",
              "      <th>budget</th>\n",
              "      <th>genres</th>\n",
              "      <th>homepage</th>\n",
              "      <th>original_language</th>\n",
              "      <th>popularity</th>\n",
              "      <th>production_companies</th>\n",
              "      <th>production_countries</th>\n",
              "      <th>release_date</th>\n",
              "      <th>runtime</th>\n",
              "      <th>spoken_languages</th>\n",
              "      <th>status</th>\n",
              "      <th>tagline</th>\n",
              "      <th>Keywords</th>\n",
              "      <th>cast</th>\n",
              "      <th>crew</th>\n",
              "      <th>revenue</th>\n",
              "      <th>title_length</th>\n",
              "    </tr>\n",
              "  </thead>\n",
              "  <tbody>\n",
              "    <tr>\n",
              "      <th>0</th>\n",
              "      <td>1</td>\n",
              "      <td>1</td>\n",
              "      <td>14000000</td>\n",
              "      <td>[{'id': 35, 'name': 'Comedy'}]</td>\n",
              "      <td>0</td>\n",
              "      <td>en</td>\n",
              "      <td>6.575393</td>\n",
              "      <td>[{'name': 'Paramount Pictures', 'id': 4}, {'na...</td>\n",
              "      <td>[{'iso_3166_1': 'US', 'name': 'United States o...</td>\n",
              "      <td>2/20/15</td>\n",
              "      <td>93.0</td>\n",
              "      <td>[{'iso_639_1': 'en', 'name': 'English'}]</td>\n",
              "      <td>Released</td>\n",
              "      <td>52</td>\n",
              "      <td>[{'id': 4379, 'name': 'time travel'}, {'id': 9...</td>\n",
              "      <td>[{'cast_id': 4, 'character': 'Lou', 'credit_id...</td>\n",
              "      <td>[{'credit_id': '59ac067c92514107af02c8c8', 'de...</td>\n",
              "      <td>12314651</td>\n",
              "      <td>22</td>\n",
              "    </tr>\n",
              "    <tr>\n",
              "      <th>1</th>\n",
              "      <td>2</td>\n",
              "      <td>1</td>\n",
              "      <td>40000000</td>\n",
              "      <td>[{'id': 35, 'name': 'Comedy'}, {'id': 18, 'nam...</td>\n",
              "      <td>0</td>\n",
              "      <td>en</td>\n",
              "      <td>8.248895</td>\n",
              "      <td>[{'name': 'Walt Disney Pictures', 'id': 2}]</td>\n",
              "      <td>[{'iso_3166_1': 'US', 'name': 'United States o...</td>\n",
              "      <td>8/6/04</td>\n",
              "      <td>113.0</td>\n",
              "      <td>[{'iso_639_1': 'en', 'name': 'English'}]</td>\n",
              "      <td>Released</td>\n",
              "      <td>60</td>\n",
              "      <td>[{'id': 2505, 'name': 'coronation'}, {'id': 42...</td>\n",
              "      <td>[{'cast_id': 1, 'character': 'Mia Thermopolis'...</td>\n",
              "      <td>[{'credit_id': '52fe43fe9251416c7502563d', 'de...</td>\n",
              "      <td>95149435</td>\n",
              "      <td>40</td>\n",
              "    </tr>\n",
              "    <tr>\n",
              "      <th>2</th>\n",
              "      <td>3</td>\n",
              "      <td>0</td>\n",
              "      <td>3300000</td>\n",
              "      <td>[{'id': 18, 'name': 'Drama'}]</td>\n",
              "      <td>1</td>\n",
              "      <td>en</td>\n",
              "      <td>64.299990</td>\n",
              "      <td>[{'name': 'Bold Films', 'id': 2266}, {'name': ...</td>\n",
              "      <td>[{'iso_3166_1': 'US', 'name': 'United States o...</td>\n",
              "      <td>10/10/14</td>\n",
              "      <td>105.0</td>\n",
              "      <td>[{'iso_639_1': 'en', 'name': 'English'}]</td>\n",
              "      <td>Released</td>\n",
              "      <td>47</td>\n",
              "      <td>[{'id': 1416, 'name': 'jazz'}, {'id': 1523, 'n...</td>\n",
              "      <td>[{'cast_id': 5, 'character': 'Andrew Neimann',...</td>\n",
              "      <td>[{'credit_id': '54d5356ec3a3683ba0000039', 'de...</td>\n",
              "      <td>13092000</td>\n",
              "      <td>8</td>\n",
              "    </tr>\n",
              "    <tr>\n",
              "      <th>3</th>\n",
              "      <td>4</td>\n",
              "      <td>0</td>\n",
              "      <td>1200000</td>\n",
              "      <td>[{'id': 53, 'name': 'Thriller'}, {'id': 18, 'n...</td>\n",
              "      <td>1</td>\n",
              "      <td>hi</td>\n",
              "      <td>3.174936</td>\n",
              "      <td>NaN</td>\n",
              "      <td>[{'iso_3166_1': 'IN', 'name': 'India'}]</td>\n",
              "      <td>3/9/12</td>\n",
              "      <td>122.0</td>\n",
              "      <td>[{'iso_639_1': 'en', 'name': 'English'}, {'iso...</td>\n",
              "      <td>Released</td>\n",
              "      <td>0</td>\n",
              "      <td>[{'id': 10092, 'name': 'mystery'}, {'id': 1054...</td>\n",
              "      <td>[{'cast_id': 1, 'character': 'Vidya Bagchi', '...</td>\n",
              "      <td>[{'credit_id': '52fe48779251416c9108d6eb', 'de...</td>\n",
              "      <td>16000000</td>\n",
              "      <td>7</td>\n",
              "    </tr>\n",
              "    <tr>\n",
              "      <th>4</th>\n",
              "      <td>5</td>\n",
              "      <td>0</td>\n",
              "      <td>0</td>\n",
              "      <td>[{'id': 28, 'name': 'Action'}, {'id': 53, 'nam...</td>\n",
              "      <td>0</td>\n",
              "      <td>ko</td>\n",
              "      <td>1.148070</td>\n",
              "      <td>NaN</td>\n",
              "      <td>[{'iso_3166_1': 'KR', 'name': 'South Korea'}]</td>\n",
              "      <td>2/5/09</td>\n",
              "      <td>118.0</td>\n",
              "      <td>[{'iso_639_1': 'ko', 'name': '한국어/조선말'}]</td>\n",
              "      <td>Released</td>\n",
              "      <td>0</td>\n",
              "      <td>NaN</td>\n",
              "      <td>[{'cast_id': 3, 'character': 'Chun-soo', 'cred...</td>\n",
              "      <td>[{'credit_id': '52fe464b9251416c75073b43', 'de...</td>\n",
              "      <td>3923970</td>\n",
              "      <td>10</td>\n",
              "    </tr>\n",
              "  </tbody>\n",
              "</table>\n",
              "</div>"
            ],
            "text/plain": [
              "   id  belongs_to_collection    budget  \\\n",
              "0   1                      1  14000000   \n",
              "1   2                      1  40000000   \n",
              "2   3                      0   3300000   \n",
              "3   4                      0   1200000   \n",
              "4   5                      0         0   \n",
              "\n",
              "                                              genres  homepage  \\\n",
              "0                     [{'id': 35, 'name': 'Comedy'}]         0   \n",
              "1  [{'id': 35, 'name': 'Comedy'}, {'id': 18, 'nam...         0   \n",
              "2                      [{'id': 18, 'name': 'Drama'}]         1   \n",
              "3  [{'id': 53, 'name': 'Thriller'}, {'id': 18, 'n...         1   \n",
              "4  [{'id': 28, 'name': 'Action'}, {'id': 53, 'nam...         0   \n",
              "\n",
              "  original_language  popularity  \\\n",
              "0                en    6.575393   \n",
              "1                en    8.248895   \n",
              "2                en   64.299990   \n",
              "3                hi    3.174936   \n",
              "4                ko    1.148070   \n",
              "\n",
              "                                production_companies  \\\n",
              "0  [{'name': 'Paramount Pictures', 'id': 4}, {'na...   \n",
              "1        [{'name': 'Walt Disney Pictures', 'id': 2}]   \n",
              "2  [{'name': 'Bold Films', 'id': 2266}, {'name': ...   \n",
              "3                                                NaN   \n",
              "4                                                NaN   \n",
              "\n",
              "                                production_countries release_date  runtime  \\\n",
              "0  [{'iso_3166_1': 'US', 'name': 'United States o...      2/20/15     93.0   \n",
              "1  [{'iso_3166_1': 'US', 'name': 'United States o...       8/6/04    113.0   \n",
              "2  [{'iso_3166_1': 'US', 'name': 'United States o...     10/10/14    105.0   \n",
              "3            [{'iso_3166_1': 'IN', 'name': 'India'}]       3/9/12    122.0   \n",
              "4      [{'iso_3166_1': 'KR', 'name': 'South Korea'}]       2/5/09    118.0   \n",
              "\n",
              "                                    spoken_languages    status  tagline  \\\n",
              "0           [{'iso_639_1': 'en', 'name': 'English'}]  Released       52   \n",
              "1           [{'iso_639_1': 'en', 'name': 'English'}]  Released       60   \n",
              "2           [{'iso_639_1': 'en', 'name': 'English'}]  Released       47   \n",
              "3  [{'iso_639_1': 'en', 'name': 'English'}, {'iso...  Released        0   \n",
              "4           [{'iso_639_1': 'ko', 'name': '한국어/조선말'}]  Released        0   \n",
              "\n",
              "                                            Keywords  \\\n",
              "0  [{'id': 4379, 'name': 'time travel'}, {'id': 9...   \n",
              "1  [{'id': 2505, 'name': 'coronation'}, {'id': 42...   \n",
              "2  [{'id': 1416, 'name': 'jazz'}, {'id': 1523, 'n...   \n",
              "3  [{'id': 10092, 'name': 'mystery'}, {'id': 1054...   \n",
              "4                                                NaN   \n",
              "\n",
              "                                                cast  \\\n",
              "0  [{'cast_id': 4, 'character': 'Lou', 'credit_id...   \n",
              "1  [{'cast_id': 1, 'character': 'Mia Thermopolis'...   \n",
              "2  [{'cast_id': 5, 'character': 'Andrew Neimann',...   \n",
              "3  [{'cast_id': 1, 'character': 'Vidya Bagchi', '...   \n",
              "4  [{'cast_id': 3, 'character': 'Chun-soo', 'cred...   \n",
              "\n",
              "                                                crew   revenue  title_length  \n",
              "0  [{'credit_id': '59ac067c92514107af02c8c8', 'de...  12314651            22  \n",
              "1  [{'credit_id': '52fe43fe9251416c7502563d', 'de...  95149435            40  \n",
              "2  [{'credit_id': '54d5356ec3a3683ba0000039', 'de...  13092000             8  \n",
              "3  [{'credit_id': '52fe48779251416c9108d6eb', 'de...  16000000             7  \n",
              "4  [{'credit_id': '52fe464b9251416c75073b43', 'de...   3923970            10  "
            ]
          },
          "metadata": {
            "tags": []
          },
          "execution_count": 153
        }
      ]
    },
    {
      "metadata": {
        "id": "8WDbjeH3IyXf",
        "colab_type": "code",
        "outputId": "91c20a93-7319-4e2e-b7fc-9b8c6a92dce9",
        "colab": {
          "base_uri": "https://localhost:8080/",
          "height": 34
        }
      },
      "cell_type": "code",
      "source": [
        "train['genres'][101]"
      ],
      "execution_count": 0,
      "outputs": [
        {
          "output_type": "execute_result",
          "data": {
            "text/plain": [
              "\"[{'id': 18, 'name': 'Drama'}, {'id': 10749, 'name': 'Romance'}]\""
            ]
          },
          "metadata": {
            "tags": []
          },
          "execution_count": 154
        }
      ]
    },
    {
      "metadata": {
        "id": "zvPkJ1sHIyXo",
        "colab_type": "code",
        "outputId": "34124ec3-ab89-4806-a92b-401dce358773",
        "colab": {
          "base_uri": "https://localhost:8080/",
          "height": 54
        }
      },
      "cell_type": "code",
      "source": [
        "train['production_companies'][201]"
      ],
      "execution_count": 0,
      "outputs": [
        {
          "output_type": "execute_result",
          "data": {
            "text/plain": [
              "\"[{'name': 'De Laurentiis Entertainment Group (DEG)', 'id': 484}, {'name': 'Kestrel Films', 'id': 27023}, {'name': 'Earth Girls', 'id': 78875}]\""
            ]
          },
          "metadata": {
            "tags": []
          },
          "execution_count": 155
        }
      ]
    },
    {
      "metadata": {
        "id": "fK6STJO_IyX5",
        "colab_type": "code",
        "outputId": "a06b021e-7697-4d69-f27c-615194eddcc4",
        "colab": {
          "base_uri": "https://localhost:8080/",
          "height": 34
        }
      },
      "cell_type": "code",
      "source": [
        "train['production_countries'][201]"
      ],
      "execution_count": 0,
      "outputs": [
        {
          "output_type": "execute_result",
          "data": {
            "text/plain": [
              "\"[{'iso_3166_1': 'GB', 'name': 'United Kingdom'}, {'iso_3166_1': 'US', 'name': 'United States of America'}]\""
            ]
          },
          "metadata": {
            "tags": []
          },
          "execution_count": 156
        }
      ]
    },
    {
      "metadata": {
        "id": "A1u3lY89IyYE",
        "colab_type": "code",
        "outputId": "5cee1825-e731-46d1-895f-b36c45b20e60",
        "colab": {
          "base_uri": "https://localhost:8080/",
          "height": 34
        }
      },
      "cell_type": "code",
      "source": [
        "train['spoken_languages'][201]"
      ],
      "execution_count": 0,
      "outputs": [
        {
          "output_type": "execute_result",
          "data": {
            "text/plain": [
              "\"[{'iso_639_1': 'en', 'name': 'English'}]\""
            ]
          },
          "metadata": {
            "tags": []
          },
          "execution_count": 157
        }
      ]
    },
    {
      "metadata": {
        "id": "wdWQLTIJIyYP",
        "colab_type": "code",
        "outputId": "a71a1a5d-b04d-4d09-deb7-0a775ebb87ac",
        "colab": {
          "base_uri": "https://localhost:8080/",
          "height": 54
        }
      },
      "cell_type": "code",
      "source": [
        "train['Keywords'][201]"
      ],
      "execution_count": 0,
      "outputs": [
        {
          "output_type": "execute_result",
          "data": {
            "text/plain": [
              "\"[{'id': 246, 'name': 'dancing'}, {'id': 572, 'name': 'sex'}, {'id': 1566, 'name': 'dream'}, {'id': 4344, 'name': 'musical'}, {'id': 6149, 'name': 'police'}, {'id': 7984, 'name': 'bikini'}, {'id': 8181, 'name': 'swimming pool'}, {'id': 9749, 'name': 'beauty salon'}, {'id': 9799, 'name': 'romantic comedy'}, {'id': 9831, 'name': 'spaceship'}, {'id': 9840, 'name': 'romance'}, {'id': 9951, 'name': 'alien'}, {'id': 11128, 'name': 'furry'}, {'id': 11612, 'name': 'hospital'}, {'id': 34130, 'name': 'makeover'}, {'id': 163957, 'name': 'nosy neighbor'}, {'id': 177299, 'name': 'discotheque'}, {'id': 177303, 'name': 'valley girl'}]\""
            ]
          },
          "metadata": {
            "tags": []
          },
          "execution_count": 158
        }
      ]
    },
    {
      "metadata": {
        "id": "e5nfWACmIyYZ",
        "colab_type": "code",
        "outputId": "078355a2-5c38-4d3c-c5d8-be20b7263c97",
        "colab": {
          "base_uri": "https://localhost:8080/",
          "height": 54
        }
      },
      "cell_type": "code",
      "source": [
        "train['cast'][201]"
      ],
      "execution_count": 0,
      "outputs": [
        {
          "output_type": "execute_result",
          "data": {
            "text/plain": [
              "'[{\\'cast_id\\': 9, \\'character\\': \\'Valerie\\', \\'credit_id\\': \\'52fe4341c3a36847f804639b\\', \\'gender\\': 1, \\'id\\': 16935, \\'name\\': \\'Geena Davis\\', \\'order\\': 0, \\'profile_path\\': \\'/6b8cRJOItz7yNpYuLCPkl5kv4m2.jpg\\'}, {\\'cast_id\\': 10, \\'character\\': \\'Mac\\', \\'credit_id\\': \\'52fe4341c3a36847f804639f\\', \\'gender\\': 2, \\'id\\': 4785, \\'name\\': \\'Jeff Goldblum\\', \\'order\\': 1, \\'profile_path\\': \\'/w9frUiRJUyRnWvFqihtS31q6LWc.jpg\\'}, {\\'cast_id\\': 11, \\'character\\': \\'Zeebo\\', \\'credit_id\\': \\'52fe4341c3a36847f80463a3\\', \\'gender\\': 2, \\'id\\': 22675, \\'name\\': \\'Damon Wayans\\', \\'order\\': 3, \\'profile_path\\': \\'/pdSOalf1r7GKlcUhpKeBntAqgA6.jpg\\'}, {\\'cast_id\\': 17, \\'character\\': \\'Cindy\\', \\'credit_id\\': \\'52fe4341c3a36847f80463b9\\', \\'gender\\': 1, \\'id\\': 40680, \\'name\\': \\'Julie Brown\\', \\'order\\': 4, \\'profile_path\\': \\'/8a1NwjIyjOWmYTqdj4fuxqKlzR5.jpg\\'}, {\\'cast_id\\': 13, \\'character\\': \\'Woody\\', \\'credit_id\\': \\'52fe4341c3a36847f80463a7\\', \\'gender\\': 2, \\'id\\': 21731, \\'name\\': \\'Michael McKean\\', \\'order\\': 5, \\'profile_path\\': \\'/iVcsvBb15nep7TZ07MlJFcxMzvD.jpg\\'}, {\\'cast_id\\': 20, \\'character\\': \\'Ted\\', \\'credit_id\\': \\'573c4bfac3a3687dbf000f71\\', \\'gender\\': 2, \\'id\\': 7867, \\'name\\': \\'Charles Rocket\\', \\'order\\': 6, \\'profile_path\\': \\'/9UJTYqaPaYNPuVTjGd0Cr4XVNqe.jpg\\'}, {\\'cast_id\\': 21, \\'character\\': \\'Dr. Bob\\', \\'credit_id\\': \\'573c4c159251417a2c000e79\\', \\'gender\\': 2, \\'id\\': 55431, \\'name\\': \\'Larry Linville\\', \\'order\\': 7, \\'profile_path\\': \\'/lQwGDXuk44TNEJjJayIqXpPcElB.jpg\\'}, {\\'cast_id\\': 22, \\'character\\': \\'Dr. Rick\\', \\'credit_id\\': \\'573c4c27c3a3687d8b000f5e\\', \\'gender\\': 2, \\'id\\': 1539, \\'name\\': \\'Rick Overton\\', \\'order\\': 8, \\'profile_path\\': \\'/584g2eLl6ZmZ71ikvGw5tyqEv1p.jpg\\'}, {\\'cast_id\\': 26, \\'character\\': \\'Robin\\', \\'credit_id\\': \\'573c510d9251416a8c001010\\', \\'gender\\': 1, \\'id\\': 157470, \\'name\\': \\'Diane Stilwell\\', \\'order\\': 9, \\'profile_path\\': \\'/jHSe49OuTyUfLBlXYdgvKitQl2u.jpg\\'}, {\\'cast_id\\': 27, \\'character\\': \\'Mrs. Merkin\\', \\'credit_id\\': \\'577aa5b8925141743e001097\\', \\'gender\\': 1, \\'id\\': 112936, \\'name\\': \\'Juney Ellis\\', \\'order\\': 10, \\'profile_path\\': None}, {\\'cast_id\\': 28, \\'character\\': \\'Ramon\\', \\'credit_id\\': \\'577aa5f8c3a36820080013f3\\', \\'gender\\': 0, \\'id\\': 45401, \\'name\\': \\'Felix Montano\\', \\'order\\': 11, \\'profile_path\\': None}, {\\'cast_id\\': 29, \\'character\\': \\'Joe the Cop\\', \\'credit_id\\': \\'577aa668c3a368204f00134b\\', \\'gender\\': 2, \\'id\\': 1215961, \\'name\\': \\'Rick Hurst\\', \\'order\\': 12, \\'profile_path\\': \\'/8zmntJrhLrFFRnkG056eQtXqlFN.jpg\\'}, {\\'cast_id\\': 30, \\'character\\': \\'Mike the Cop\\', \\'credit_id\\': \\'577aa68cc3a36820fe00130c\\', \\'gender\\': 0, \\'id\\': 1377933, \\'name\\': \\'Leslie Morris\\', \\'order\\': 13, \\'profile_path\\': None}, {\\'cast_id\\': 25, \\'character\\': \\'Kikki\\', \\'credit_id\\': \\'573c4dab92514168e1000f93\\', \\'gender\\': 1, \\'id\\': 94498, \\'name\\': \\'Lisa Fuller\\', \\'order\\': 14, \\'profile_path\\': \\'/ycCYR6WTT02FM7TWlnly2euaUuP.jpg\\'}, {\\'cast_id\\': 16, \\'character\\': \\'Tammy\\', \\'credit_id\\': \\'52fe4341c3a36847f80463b5\\', \\'gender\\': 1, \\'id\\': 31714, \\'name\\': \\'Stacey Travis\\', \\'order\\': 15, \\'profile_path\\': \\'/peARleY7mDjxph4fFfeWnV4LMFe.jpg\\'}, {\\'cast_id\\': 19, \\'character\\': \\'Gas Girl\\', \\'credit_id\\': \\'572ec3d3c3a3684bd3002374\\', \\'gender\\': 0, \\'id\\': 44706, \\'name\\': \\'Angelyne\\', \\'order\\': 16, \\'profile_path\\': None}, {\\'cast_id\\': 23, \\'character\\': \\'Bryan\\', \\'credit_id\\': \\'573c4c74c3a36855cd000652\\', \\'gender\\': 2, \\'id\\': 1621813, \\'name\\': \\'Jake Jundef\\', \\'order\\': 17, \\'profile_path\\': \\'/4Lg1bdbzZ4DFc1dtIAP8gQcrgFa.jpg\\'}, {\\'cast_id\\': 24, \\'character\\': \"Bryan\\'s Mother\", \\'credit_id\\': \\'573c4d4fc3a3687dbf000fb5\\', \\'gender\\': 1, \\'id\\': 156617, \\'name\\': \\'Susan Krebs\\', \\'order\\': 18, \\'profile_path\\': \\'/bmMA8XShMcolpmNTtWIEaYBbX7L.jpg\\'}, {\\'cast_id\\': 39, \\'character\\': \\'Curl Up and Dye Dancer\\', \\'credit_id\\': \\'58df4505c3a3683d2a0048c4\\', \\'gender\\': 1, \\'id\\': 1787560, \\'name\\': \\'Larri Thomas\\', \\'order\\': 19, \\'profile_path\\': \\'/gzVGA3VB6Zi0ZWZc4AhAdvHTjS9.jpg\\'}, {\\'cast_id\\': 40, \\'character\\': \\'Demone\\', \\'credit_id\\': \\'59d12e08925141468f01b3be\\', \\'gender\\': 2, \\'id\\': 96402, \\'name\\': \"Wayne \\'Crescendo\\' Ward\", \\'order\\': 20, \\'profile_path\\': \\'/hNRyq50AKMBIMYL2ZSWMomMq58i.jpg\\'}, {\\'cast_id\\': 41, \\'character\\': \\'\\', \\'credit_id\\': \\'59e392f99251410b6700031a\\', \\'gender\\': 2, \\'id\\': 206, \\'name\\': \\'Jim Carrey\\', \\'order\\': 21, \\'profile_path\\': \\'/5tVf0ow8MX4OwjmVoSa5v7qUDka.jpg\\'}]'"
            ]
          },
          "metadata": {
            "tags": []
          },
          "execution_count": 159
        }
      ]
    },
    {
      "metadata": {
        "id": "Da2UguyhIyYr",
        "colab_type": "code",
        "outputId": "3a2467f3-e253-46b8-9dd0-e1bdd4f0b7e0",
        "colab": {
          "base_uri": "https://localhost:8080/",
          "height": 54
        }
      },
      "cell_type": "code",
      "source": [
        "train['crew'][201]"
      ],
      "execution_count": 0,
      "outputs": [
        {
          "output_type": "execute_result",
          "data": {
            "text/plain": [
              "\"[{'credit_id': '577ae729c3a36824260008e9', 'department': 'Art', 'gender': 2, 'id': 4248, 'job': 'Production Design', 'name': 'Dennis Gassner', 'profile_path': None}, {'credit_id': '577ae706c3a3682433000943', 'department': 'Editing', 'gender': 2, 'id': 1918, 'job': 'Editor', 'name': 'Richard Halsey', 'profile_path': None}, {'credit_id': '52fe4341c3a36847f8046391', 'department': 'Sound', 'gender': 2, 'id': 4613, 'job': 'Original Music Composer', 'name': 'Nile Rodgers', 'profile_path': '/bD5bQNACHNhIey4EwixVQIyHQwk.jpg'}, {'credit_id': '577ae6e79251415aed00094b', 'department': 'Production', 'gender': 2, 'id': 6870, 'job': 'Line Producer', 'name': 'Duncan Henderson', 'profile_path': None}, {'credit_id': '577ae690c3a368242e00093b', 'department': 'Writing', 'gender': 1, 'id': 40680, 'job': 'Writer', 'name': 'Julie Brown', 'profile_path': '/8a1NwjIyjOWmYTqdj4fuxqKlzR5.jpg'}, {'credit_id': '52fe4341c3a36847f80463b1', 'department': 'Production', 'gender': 0, 'id': 12847, 'job': 'Casting', 'name': 'Wallis Nicita', 'profile_path': None}, {'credit_id': '52fe4341c3a36847f8046397', 'department': 'Camera', 'gender': 2, 'id': 16425, 'job': 'Director of Photography', 'name': 'Oliver Stapleton', 'profile_path': None}, {'credit_id': '52fe4341c3a36847f804638b', 'department': 'Production', 'gender': 2, 'id': 21841, 'job': 'Producer', 'name': 'Tony Garnett', 'profile_path': '/f94R5eMigA3QMjlSvX5t6Ayl8Sf.jpg'}, {'credit_id': '52fe4341c3a36847f8046379', 'department': 'Directing', 'gender': 2, 'id': 22669, 'job': 'Director', 'name': 'Julien Temple', 'profile_path': '/ktxBwnWZHwbKuMngxwY3MyRotDR.jpg'}, {'credit_id': '577ae660c3a36824210009f8', 'department': 'Writing', 'gender': 2, 'id': 22672, 'job': 'Writer', 'name': 'Terrence E. McNally', 'profile_path': None}, {'credit_id': '577ae6cb9251415aed00093d', 'department': 'Production', 'gender': 2, 'id': 22672, 'job': 'Associate Producer', 'name': 'Terrence E. McNally', 'profile_path': None}, {'credit_id': '577ae6749251415b000008da', 'department': 'Writing', 'gender': 0, 'id': 22671, 'job': 'Writer', 'name': 'Charlie Coffey', 'profile_path': None}, {'credit_id': '577ae742c3a3682423000957', 'department': 'Art', 'gender': 0, 'id': 1299406, 'job': 'Art Direction', 'name': 'Dins W.W. Danielsen', 'profile_path': None}]\""
            ]
          },
          "metadata": {
            "tags": []
          },
          "execution_count": 160
        }
      ]
    },
    {
      "metadata": {
        "id": "GIQ9a5HnIyZK",
        "colab_type": "text"
      },
      "cell_type": "markdown",
      "source": [
        "### One hot encoding status column"
      ]
    },
    {
      "metadata": {
        "id": "Xl03NGvgIyZM",
        "colab_type": "code",
        "outputId": "0cba06ee-c337-441c-c078-f35b6926ff22",
        "colab": {
          "base_uri": "https://localhost:8080/",
          "height": 69
        }
      },
      "cell_type": "code",
      "source": [
        "train['status'].value_counts()"
      ],
      "execution_count": 0,
      "outputs": [
        {
          "output_type": "execute_result",
          "data": {
            "text/plain": [
              "Released    2996\n",
              "Rumored        4\n",
              "Name: status, dtype: int64"
            ]
          },
          "metadata": {
            "tags": []
          },
          "execution_count": 161
        }
      ]
    },
    {
      "metadata": {
        "id": "1rPdgprRIyZX",
        "colab_type": "code",
        "outputId": "6292e67f-cccd-4116-bf09-e14d832cec5f",
        "colab": {
          "base_uri": "https://localhost:8080/",
          "height": 86
        }
      },
      "cell_type": "code",
      "source": [
        "test['status'].value_counts()"
      ],
      "execution_count": 0,
      "outputs": [
        {
          "output_type": "execute_result",
          "data": {
            "text/plain": [
              "Released           4389\n",
              "Post Production       5\n",
              "Rumored               2\n",
              "Name: status, dtype: int64"
            ]
          },
          "metadata": {
            "tags": []
          },
          "execution_count": 162
        }
      ]
    },
    {
      "metadata": {
        "id": "LxYJxfPLIyZi",
        "colab_type": "code",
        "colab": {}
      },
      "cell_type": "code",
      "source": [
        "train['status'].fillna('Released',inplace=True)\n",
        "test['status'].fillna('Released',inplace=True)"
      ],
      "execution_count": 0,
      "outputs": []
    },
    {
      "metadata": {
        "scrolled": true,
        "id": "3a_9ze5lIyZt",
        "colab_type": "code",
        "outputId": "372735b8-5d24-4b04-87e2-9e89529b3c24",
        "colab": {
          "base_uri": "https://localhost:8080/",
          "height": 363
        }
      },
      "cell_type": "code",
      "source": [
        "print(train.isnull().sum())"
      ],
      "execution_count": 0,
      "outputs": [
        {
          "output_type": "stream",
          "text": [
            "id                         0\n",
            "belongs_to_collection      0\n",
            "budget                     0\n",
            "genres                     7\n",
            "homepage                   0\n",
            "original_language          0\n",
            "popularity                 0\n",
            "production_companies     156\n",
            "production_countries      55\n",
            "release_date               0\n",
            "runtime                    2\n",
            "spoken_languages          20\n",
            "status                     0\n",
            "tagline                    0\n",
            "Keywords                 276\n",
            "cast                      13\n",
            "crew                      16\n",
            "revenue                    0\n",
            "title_length               0\n",
            "dtype: int64\n"
          ],
          "name": "stdout"
        }
      ]
    },
    {
      "metadata": {
        "id": "QR_M1Nq6IyZ5",
        "colab_type": "code",
        "colab": {}
      },
      "cell_type": "code",
      "source": [
        "total_unique_values=['Released','Rumored','Post Production']"
      ],
      "execution_count": 0,
      "outputs": []
    },
    {
      "metadata": {
        "id": "wflsZrqGIyZ_",
        "colab_type": "code",
        "colab": {}
      },
      "cell_type": "code",
      "source": [
        "for val in total_unique_values:\n",
        "    train['status_'+val] = train['status'].apply(lambda x: 1 if val == x else 0)"
      ],
      "execution_count": 0,
      "outputs": []
    },
    {
      "metadata": {
        "id": "1YvmX2_fIyaX",
        "colab_type": "code",
        "colab": {}
      },
      "cell_type": "code",
      "source": [
        "for val in total_unique_values:\n",
        "    test['status_'+val] = test['status'].apply(lambda x: 1 if val == x else 0)"
      ],
      "execution_count": 0,
      "outputs": []
    },
    {
      "metadata": {
        "id": "UfYaIFq-hsOf",
        "colab_type": "code",
        "colab": {}
      },
      "cell_type": "code",
      "source": [
        "train.drop(['status'],axis=1,inplace=True)\n",
        "test.drop(['status'],axis=1,inplace=True)"
      ],
      "execution_count": 0,
      "outputs": []
    },
    {
      "metadata": {
        "id": "ryHE19JEIyaq",
        "colab_type": "code",
        "outputId": "ed5c8c5c-b960-49c0-db3f-b9aea683f7fb",
        "colab": {
          "base_uri": "https://localhost:8080/",
          "height": 121
        }
      },
      "cell_type": "code",
      "source": [
        "train.columns"
      ],
      "execution_count": 0,
      "outputs": [
        {
          "output_type": "execute_result",
          "data": {
            "text/plain": [
              "Index(['id', 'belongs_to_collection', 'budget', 'genres', 'homepage',\n",
              "       'original_language', 'popularity', 'production_companies',\n",
              "       'production_countries', 'release_date', 'runtime', 'spoken_languages',\n",
              "       'tagline', 'Keywords', 'cast', 'crew', 'revenue', 'title_length',\n",
              "       'status_Released', 'status_Rumored', 'status_Post Production'],\n",
              "      dtype='object')"
            ]
          },
          "metadata": {
            "tags": []
          },
          "execution_count": 169
        }
      ]
    },
    {
      "metadata": {
        "id": "bmcxjgmmIya4",
        "colab_type": "text"
      },
      "cell_type": "markdown",
      "source": [
        "### One hot encoding original_language column"
      ]
    },
    {
      "metadata": {
        "id": "SvDuZ95OIya6",
        "colab_type": "code",
        "outputId": "ec68a8b9-2038-494f-91bc-d14a27e99c23",
        "colab": {
          "base_uri": "https://localhost:8080/",
          "height": 34
        }
      },
      "cell_type": "code",
      "source": [
        "total_lang=list(train['original_language'])\n",
        "len(total_lang)"
      ],
      "execution_count": 0,
      "outputs": [
        {
          "output_type": "execute_result",
          "data": {
            "text/plain": [
              "3000"
            ]
          },
          "metadata": {
            "tags": []
          },
          "execution_count": 170
        }
      ]
    },
    {
      "metadata": {
        "id": "scnuI4FBIybA",
        "colab_type": "code",
        "outputId": "352cf363-3720-43d8-bd54-b1323065f427",
        "colab": {
          "base_uri": "https://localhost:8080/",
          "height": 34
        }
      },
      "cell_type": "code",
      "source": [
        "total_lang+=list(test['original_language'])\n",
        "len(total_lang)"
      ],
      "execution_count": 0,
      "outputs": [
        {
          "output_type": "execute_result",
          "data": {
            "text/plain": [
              "7398"
            ]
          },
          "metadata": {
            "tags": []
          },
          "execution_count": 171
        }
      ]
    },
    {
      "metadata": {
        "id": "hNSRV2ZiIybN",
        "colab_type": "code",
        "colab": {}
      },
      "cell_type": "code",
      "source": [
        "top_values = [m[0] for m in Counter([j for j in total_lang]).most_common(20)]"
      ],
      "execution_count": 0,
      "outputs": []
    },
    {
      "metadata": {
        "id": "qM0PxH7A5P10",
        "colab_type": "code",
        "outputId": "1ef9193f-552f-43b7-bbdf-df1a2edf011c",
        "colab": {
          "base_uri": "https://localhost:8080/",
          "height": 363
        }
      },
      "cell_type": "code",
      "source": [
        "top_values\n",
        "# we can divide it"
      ],
      "execution_count": 0,
      "outputs": [
        {
          "output_type": "execute_result",
          "data": {
            "text/plain": [
              "['en',\n",
              " 'fr',\n",
              " 'hi',\n",
              " 'ru',\n",
              " 'es',\n",
              " 'ja',\n",
              " 'it',\n",
              " 'ko',\n",
              " 'de',\n",
              " 'zh',\n",
              " 'cn',\n",
              " 'ta',\n",
              " 'sv',\n",
              " 'da',\n",
              " 'pt',\n",
              " 'ml',\n",
              " 'nl',\n",
              " 'tr',\n",
              " 'te',\n",
              " 'ro']"
            ]
          },
          "metadata": {
            "tags": []
          },
          "execution_count": 173
        }
      ]
    },
    {
      "metadata": {
        "id": "8f9LvEsL5PzW",
        "colab_type": "code",
        "colab": {}
      },
      "cell_type": "code",
      "source": [
        "dat={'lan':[],'rev':[]}\n",
        "\n",
        "for i in range(train.shape[0]):\n",
        "    (lan,rev)=train.iloc[i][['original_language','revenue']]\n",
        "    if lan in top_values:\n",
        "        #print(lan,rev)\n",
        "        dat['lan'].append(lan)\n",
        "        dat['rev'].append(rev)\n",
        "        \n",
        "rev_top_lang=pd.DataFrame(data=dat)"
      ],
      "execution_count": 0,
      "outputs": []
    },
    {
      "metadata": {
        "id": "wyjpe0VzKvX_",
        "colab_type": "code",
        "outputId": "6f3b6130-8c76-4e06-f277-daf03f2a5159",
        "colab": {
          "base_uri": "https://localhost:8080/",
          "height": 128
        }
      },
      "cell_type": "code",
      "source": [
        "rev_top_lang.head(20).T"
      ],
      "execution_count": 0,
      "outputs": [
        {
          "output_type": "execute_result",
          "data": {
            "text/html": [
              "<div>\n",
              "<style scoped>\n",
              "    .dataframe tbody tr th:only-of-type {\n",
              "        vertical-align: middle;\n",
              "    }\n",
              "\n",
              "    .dataframe tbody tr th {\n",
              "        vertical-align: top;\n",
              "    }\n",
              "\n",
              "    .dataframe thead th {\n",
              "        text-align: right;\n",
              "    }\n",
              "</style>\n",
              "<table border=\"1\" class=\"dataframe\">\n",
              "  <thead>\n",
              "    <tr style=\"text-align: right;\">\n",
              "      <th></th>\n",
              "      <th>0</th>\n",
              "      <th>1</th>\n",
              "      <th>2</th>\n",
              "      <th>3</th>\n",
              "      <th>4</th>\n",
              "      <th>5</th>\n",
              "      <th>6</th>\n",
              "      <th>7</th>\n",
              "      <th>8</th>\n",
              "      <th>9</th>\n",
              "      <th>10</th>\n",
              "      <th>11</th>\n",
              "      <th>12</th>\n",
              "      <th>13</th>\n",
              "      <th>14</th>\n",
              "      <th>15</th>\n",
              "      <th>16</th>\n",
              "      <th>17</th>\n",
              "      <th>18</th>\n",
              "      <th>19</th>\n",
              "    </tr>\n",
              "  </thead>\n",
              "  <tbody>\n",
              "    <tr>\n",
              "      <th>lan</th>\n",
              "      <td>en</td>\n",
              "      <td>en</td>\n",
              "      <td>en</td>\n",
              "      <td>hi</td>\n",
              "      <td>ko</td>\n",
              "      <td>en</td>\n",
              "      <td>en</td>\n",
              "      <td>en</td>\n",
              "      <td>en</td>\n",
              "      <td>en</td>\n",
              "      <td>en</td>\n",
              "      <td>en</td>\n",
              "      <td>en</td>\n",
              "      <td>en</td>\n",
              "      <td>en</td>\n",
              "      <td>en</td>\n",
              "      <td>en</td>\n",
              "      <td>en</td>\n",
              "      <td>en</td>\n",
              "      <td>en</td>\n",
              "    </tr>\n",
              "    <tr>\n",
              "      <th>rev</th>\n",
              "      <td>12314651</td>\n",
              "      <td>95149435</td>\n",
              "      <td>13092000</td>\n",
              "      <td>16000000</td>\n",
              "      <td>3923970</td>\n",
              "      <td>3261638</td>\n",
              "      <td>85446075</td>\n",
              "      <td>2586511</td>\n",
              "      <td>34327391</td>\n",
              "      <td>18750246</td>\n",
              "      <td>117235147</td>\n",
              "      <td>22642033</td>\n",
              "      <td>356296601</td>\n",
              "      <td>95226116</td>\n",
              "      <td>358372926</td>\n",
              "      <td>57891803</td>\n",
              "      <td>1234254</td>\n",
              "      <td>1749457</td>\n",
              "      <td>85167639</td>\n",
              "      <td>136159423</td>\n",
              "    </tr>\n",
              "  </tbody>\n",
              "</table>\n",
              "</div>"
            ],
            "text/plain": [
              "           0         1         2         3        4        5         6   \\\n",
              "lan        en        en        en        hi       ko       en        en   \n",
              "rev  12314651  95149435  13092000  16000000  3923970  3261638  85446075   \n",
              "\n",
              "          7         8         9          10        11         12        13  \\\n",
              "lan       en        en        en         en        en         en        en   \n",
              "rev  2586511  34327391  18750246  117235147  22642033  356296601  95226116   \n",
              "\n",
              "            14        15       16       17        18         19  \n",
              "lan         en        en       en       en        en         en  \n",
              "rev  358372926  57891803  1234254  1749457  85167639  136159423  "
            ]
          },
          "metadata": {
            "tags": []
          },
          "execution_count": 175
        }
      ]
    },
    {
      "metadata": {
        "id": "yciHuw7N5PwY",
        "colab_type": "code",
        "outputId": "435a82c8-0b7a-4728-8291-f5eb4e5bbf45",
        "colab": {
          "base_uri": "https://localhost:8080/",
          "height": 290
        }
      },
      "cell_type": "code",
      "source": [
        "ax = sns.scatterplot(x=\"lan\", y=\"rev\",data=rev_top_lang)"
      ],
      "execution_count": 0,
      "outputs": [
        {
          "output_type": "display_data",
          "data": {
            "image/png": "[encoded data removed]",
            "text/plain": [
              "<Figure size 432x288 with 1 Axes>"
            ]
          },
          "metadata": {
            "tags": []
          }
        }
      ]
    },
    {
      "metadata": {
        "id": "tiRrAiB6IybY",
        "colab_type": "code",
        "colab": {}
      },
      "cell_type": "code",
      "source": [
        "train['orig_lang_en'] = train['original_language'].apply(lambda x: 1 if x == 'en' else 0)\n",
        "\n",
        "train['orig_lang_fr_hi_ru_es_ja'] = train['original_language'].apply(lambda x: 1 if x == 'fr' or x == 'hi' or x == 'ru' or x == 'es' or x == 'ja' else 0)\n",
        "\n",
        "train['orig_lang_it_ko_de_zh_cn'] = train['original_language'].apply(lambda x: 1 if x == 'it' or x == 'ko' or x == 'de' or x == 'zh' or x == 'cn' else 0)\n",
        "\n",
        "train['orig_lang_smallind'] = train['original_language'].apply(lambda x: 1 if x!='en' and x!='it' and x!='ko' and x!='de' and x!='zh' and x!='cn' and  x!='fr' and x!='hi' and x!='ru' and x!='es' and x!='ja' else 0)"
      ],
      "execution_count": 0,
      "outputs": []
    },
    {
      "metadata": {
        "id": "C4mh0XMzZJUW",
        "colab_type": "code",
        "colab": {}
      },
      "cell_type": "code",
      "source": [
        "test['orig_lang_en'] = test['original_language'].apply(lambda x: 1 if x == 'en' else 0)\n",
        "test['orig_lang_fr_hi_ru_es_ja'] = test['original_language'].apply(lambda x: 1 if x == 'fr' or x == 'hi' or x == 'ru' or x == 'es' or x == 'ja' else 0)\n",
        "test['orig_lang_it_ko_de_zh_cn'] = test['original_language'].apply(lambda x: 1 if x == 'it' or x == 'ko' or x == 'de' or x == 'zh' or x == 'cn' else 0)\n",
        "test['orig_lang_smallind'] = test['original_language'].apply(lambda x: 1 if x!='en' and x!='it' and x!='ko' and x!='de' and x!='zh' and x!='cn' and  x!='fr' and x!='hi' and x!='ru' and x!='es' and x!='ja' else 0)"
      ],
      "execution_count": 0,
      "outputs": []
    },
    {
      "metadata": {
        "id": "kEJ5I_XPI_Gl",
        "colab_type": "code",
        "colab": {}
      },
      "cell_type": "code",
      "source": [
        "train.drop(['original_language'],axis=1,inplace=True)\n",
        "test.drop(['original_language'],axis=1,inplace=True)"
      ],
      "execution_count": 0,
      "outputs": []
    },
    {
      "metadata": {
        "id": "lL-99lULIybd",
        "colab_type": "code",
        "outputId": "bf5284af-f789-4e28-9cde-783fbe75a685",
        "colab": {
          "base_uri": "https://localhost:8080/",
          "height": 155
        }
      },
      "cell_type": "code",
      "source": [
        "print(train.columns)"
      ],
      "execution_count": 0,
      "outputs": [
        {
          "output_type": "stream",
          "text": [
            "Index(['id', 'belongs_to_collection', 'budget', 'genres', 'homepage',\n",
            "       'popularity', 'production_companies', 'production_countries',\n",
            "       'release_date', 'runtime', 'spoken_languages', 'tagline', 'Keywords',\n",
            "       'cast', 'crew', 'revenue', 'title_length', 'status_Released',\n",
            "       'status_Rumored', 'status_Post Production', 'orig_lang_en',\n",
            "       'orig_lang_fr_hi_ru_es_ja', 'orig_lang_it_ko_de_zh_cn',\n",
            "       'orig_lang_smallind'],\n",
            "      dtype='object')\n"
          ],
          "name": "stdout"
        }
      ]
    },
    {
      "metadata": {
        "id": "iv6TJ76aIybg",
        "colab_type": "text"
      },
      "cell_type": "markdown",
      "source": [
        "### feature engineering release_date column"
      ]
    },
    {
      "metadata": {
        "id": "fj0U1Xi5Iybh",
        "colab_type": "code",
        "outputId": "995f1e4a-7231-49fc-bf84-2ca3242e1033",
        "colab": {
          "base_uri": "https://localhost:8080/",
          "height": 104
        }
      },
      "cell_type": "code",
      "source": [
        "train['release_date'].describe()"
      ],
      "execution_count": 0,
      "outputs": [
        {
          "output_type": "execute_result",
          "data": {
            "text/plain": [
              "count        3000\n",
              "unique       2398\n",
              "top       9/10/10\n",
              "freq            5\n",
              "Name: release_date, dtype: object"
            ]
          },
          "metadata": {
            "tags": []
          },
          "execution_count": 181
        }
      ]
    },
    {
      "metadata": {
        "id": "Iyh02a2BIybm",
        "colab_type": "code",
        "colab": {}
      },
      "cell_type": "code",
      "source": [
        "#as year is in yy format we have to handle movies after 20xx.So this method will help to add century to year\n",
        "def clean_date(date):\n",
        "    year = date.split('/')[2]\n",
        "    if int(year) <= 19:\n",
        "        return date[:-2] + '20' + year\n",
        "    else:\n",
        "        return date[:-2] + '19' + year"
      ],
      "execution_count": 0,
      "outputs": []
    },
    {
      "metadata": {
        "id": "Rug3l67XIybq",
        "colab_type": "code",
        "outputId": "a9e19344-b9be-4e3d-a71a-cd7674eb501f",
        "colab": {
          "base_uri": "https://localhost:8080/",
          "height": 52
        }
      },
      "cell_type": "code",
      "source": [
        "#There is one null value in test set\n",
        "test.loc[test['release_date'].isnull() == True]['id']"
      ],
      "execution_count": 0,
      "outputs": [
        {
          "output_type": "execute_result",
          "data": {
            "text/plain": [
              "828    3829\n",
              "Name: id, dtype: int64"
            ]
          },
          "metadata": {
            "tags": []
          },
          "execution_count": 84
        }
      ]
    },
    {
      "metadata": {
        "id": "AR0EPE2TIybw",
        "colab_type": "code",
        "colab": {}
      },
      "cell_type": "code",
      "source": [
        "# when found on the internet it is released on 05/01/00 in 2000\n",
        "test.loc[test['release_date'].isnull() == True, 'release_date'] = '05/01/00'"
      ],
      "execution_count": 0,
      "outputs": []
    },
    {
      "metadata": {
        "id": "ripzKzFFIyb0",
        "colab_type": "code",
        "colab": {}
      },
      "cell_type": "code",
      "source": [
        "train['release_date'] = train['release_date'].apply(lambda x:clean_date(x))\n",
        "test['release_date'] = test['release_date'].apply(lambda x:clean_date(x))\n",
        "train['release_date'] = pd.to_datetime(train['release_date'])\n",
        "test['release_date'] = pd.to_datetime(test['release_date'])"
      ],
      "execution_count": 0,
      "outputs": []
    },
    {
      "metadata": {
        "id": "eR1oVbsHIyb5",
        "colab_type": "code",
        "colab": {}
      },
      "cell_type": "code",
      "source": [
        "#get time period features from date value\n",
        "def date_features(dataset):\n",
        "    \n",
        "    date_sections = [\"year\", \"weekday\", \"month\"]\n",
        "    for sec in date_sections:\n",
        "        section_col = 'release_date' + \"_\" + sec\n",
        "        if sec == \"year\":\n",
        "            dataset[\"release_date_years_passed\"] = 2019-getattr(dataset['release_date'].dt, sec).astype(int)\n",
        "        else:\n",
        "            dataset[section_col] = getattr(dataset['release_date'].dt, sec).astype(int)\n",
        "    return dataset\n"
      ],
      "execution_count": 0,
      "outputs": []
    },
    {
      "metadata": {
        "id": "87VKSSeJIyb8",
        "colab_type": "code",
        "colab": {}
      },
      "cell_type": "code",
      "source": [
        "train = date_features(train)\n",
        "test = date_features(test)"
      ],
      "execution_count": 0,
      "outputs": []
    },
    {
      "metadata": {
        "id": "13S6ypfkd7VV",
        "colab_type": "code",
        "colab": {}
      },
      "cell_type": "code",
      "source": [
        "# dummy month\n",
        "dummies = pd.get_dummies(train['release_date_month'] ,drop_first=True).rename(columns=lambda x: 'month' + str(x))\n",
        "dummies2 = pd.get_dummies(test['release_date_month'] ,drop_first=True).rename(columns=lambda x: 'month' + str(int(x)))\n",
        "train = pd.concat([train, dummies], axis=1)\n",
        "test = pd.concat([test, dummies2], axis = 1)"
      ],
      "execution_count": 0,
      "outputs": []
    },
    {
      "metadata": {
        "id": "8pugSH-gd9AU",
        "colab_type": "code",
        "colab": {}
      },
      "cell_type": "code",
      "source": [
        "#dummy day of week\n",
        "ddow = pd.get_dummies(train['release_date_weekday'] ,drop_first=True).rename(columns=lambda x: 'weekday' + str(x))\n",
        "ddow2 = pd.get_dummies(test['release_date_weekday'] ,drop_first=True).rename(columns=lambda x: 'weekday' + str(int(x)))\n",
        "train = pd.concat([train, ddow], axis=1)\n",
        "test = pd.concat([test, ddow2], axis = 1)"
      ],
      "execution_count": 0,
      "outputs": []
    },
    {
      "metadata": {
        "id": "GaY4N3Tpevw4",
        "colab_type": "code",
        "colab": {}
      },
      "cell_type": "code",
      "source": [
        "train.drop(['release_date'],axis=1,inplace=True)\n",
        "test.drop(['release_date'],axis=1,inplace=True)\n",
        "train.drop(['release_date_weekday'],axis=1,inplace=True)\n",
        "test.drop(['release_date_weekday'],axis=1,inplace=True)\n",
        "train.drop(['release_date_month'],axis=1,inplace=True)\n",
        "test.drop(['release_date_month'],axis=1,inplace=True)"
      ],
      "execution_count": 0,
      "outputs": []
    },
    {
      "metadata": {
        "id": "JXIbBVxVevN-",
        "colab_type": "code",
        "outputId": "9a48aeda-9d53-457b-a798-3b4e44d4a59a",
        "colab": {
          "base_uri": "https://localhost:8080/",
          "height": 190
        }
      },
      "cell_type": "code",
      "source": [
        "train.columns"
      ],
      "execution_count": 0,
      "outputs": [
        {
          "output_type": "execute_result",
          "data": {
            "text/plain": [
              "Index(['id', 'belongs_to_collection', 'budget', 'genres', 'homepage',\n",
              "       'imdb_id', 'popularity', 'production_companies', 'production_countries',\n",
              "       'runtime', 'spoken_languages', 'tagline', 'Keywords', 'cast', 'crew',\n",
              "       'revenue', 'title_length', 'status_Released', 'status_Rumored',\n",
              "       'status_Post Production', 'orig_lang_en', 'orig_lang_fr_hi_ru_es_ja',\n",
              "       'orig_lang_it_ko_de_zh_cn', 'orig_lang_smallind',\n",
              "       'release_date_years_passed', 'month2', 'month3', 'month4', 'month5',\n",
              "       'month6', 'month7', 'month8', 'month9', 'month10', 'month11', 'month12',\n",
              "       'weekday1', 'weekday2', 'weekday3', 'weekday4', 'weekday5', 'weekday6'],\n",
              "      dtype='object')"
            ]
          },
          "metadata": {
            "tags": []
          },
          "execution_count": 92
        }
      ]
    },
    {
      "metadata": {
        "id": "__UUorwOIyb-",
        "colab_type": "text"
      },
      "cell_type": "markdown",
      "source": [
        "### exploring budget"
      ]
    },
    {
      "metadata": {
        "id": "GNzoUtnAIyb_",
        "colab_type": "code",
        "outputId": "14883ffa-96e6-48c9-e164-36a4b473dac3",
        "colab": {
          "base_uri": "https://localhost:8080/",
          "height": 173
        }
      },
      "cell_type": "code",
      "source": [
        "train['budget'].describe()"
      ],
      "execution_count": 0,
      "outputs": [
        {
          "output_type": "execute_result",
          "data": {
            "text/plain": [
              "count    3.000000e+03\n",
              "mean     2.270393e+07\n",
              "std      3.703865e+07\n",
              "min      0.000000e+00\n",
              "25%      0.000000e+00\n",
              "50%      8.000000e+06\n",
              "75%      3.000000e+07\n",
              "max      3.800000e+08\n",
              "Name: budget, dtype: float64"
            ]
          },
          "metadata": {
            "tags": []
          },
          "execution_count": 93
        }
      ]
    },
    {
      "metadata": {
        "id": "2tx7fAVhIycF",
        "colab_type": "code",
        "outputId": "25449205-8cfa-4769-adaf-03a808941b3d",
        "colab": {
          "base_uri": "https://localhost:8080/",
          "height": 34
        }
      },
      "cell_type": "code",
      "source": [
        "len(train[train['budget']==0])\n",
        "# there are 812 rows with 0 budget"
      ],
      "execution_count": 0,
      "outputs": [
        {
          "output_type": "execute_result",
          "data": {
            "text/plain": [
              "797"
            ]
          },
          "metadata": {
            "tags": []
          },
          "execution_count": 94
        }
      ]
    },
    {
      "metadata": {
        "id": "OFpc0LIHIycI",
        "colab_type": "code",
        "outputId": "f4461dff-e0d2-4fd3-e166-a363dcd6a2e9",
        "colab": {
          "base_uri": "https://localhost:8080/",
          "height": 308
        }
      },
      "cell_type": "code",
      "source": [
        "sns.distplot(train['budget'])"
      ],
      "execution_count": 0,
      "outputs": [
        {
          "output_type": "execute_result",
          "data": {
            "text/plain": [
              "<matplotlib.axes._subplots.AxesSubplot at 0x7fa6bc2b7eb8>"
            ]
          },
          "metadata": {
            "tags": []
          },
          "execution_count": 95
        },
        {
          "output_type": "display_data",
          "data": {
            "image/png": "[encoded data removed]",
            "text/plain": [
              "<Figure size 432x288 with 1 Axes>"
            ]
          },
          "metadata": {
            "tags": []
          }
        }
      ]
    },
    {
      "metadata": {
        "id": "KAWlIiLqIycP",
        "colab_type": "code",
        "outputId": "e1521b3e-13ee-4588-883a-21cfea9db2c6",
        "colab": {
          "base_uri": "https://localhost:8080/",
          "height": 301
        }
      },
      "cell_type": "code",
      "source": [
        "sns.distplot(np.log1p(train['budget']))\n",
        "# we see so many values near 0"
      ],
      "execution_count": 0,
      "outputs": [
        {
          "output_type": "execute_result",
          "data": {
            "text/plain": [
              "<matplotlib.axes._subplots.AxesSubplot at 0x7fa6bc1ee908>"
            ]
          },
          "metadata": {
            "tags": []
          },
          "execution_count": 96
        },
        {
          "output_type": "display_data",
          "data": {
            "image/png": "[encoded data removed]",
            "text/plain": [
              "<Figure size 432x288 with 1 Axes>"
            ]
          },
          "metadata": {
            "tags": []
          }
        }
      ]
    },
    {
      "metadata": {
        "id": "nycHiOiAMzmd",
        "colab_type": "code",
        "outputId": "939dac4d-3598-4940-af17-bfcaa8893a18",
        "colab": {
          "base_uri": "https://localhost:8080/",
          "height": 459
        }
      },
      "cell_type": "code",
      "source": [
        "sns.jointplot(x=np.log1p(train['budget']), y=np.log1p(train['revenue']), data=train)"
      ],
      "execution_count": 0,
      "outputs": [
        {
          "output_type": "execute_result",
          "data": {
            "text/plain": [
              "<seaborn.axisgrid.JointGrid at 0x7fa6bc0ea278>"
            ]
          },
          "metadata": {
            "tags": []
          },
          "execution_count": 97
        },
        {
          "output_type": "display_data",
          "data": {
            "image/png": "[encoded data removed]",
            "text/plain": [
              "<Figure size 432x432 with 3 Axes>"
            ]
          },
          "metadata": {
            "tags": []
          }
        }
      ]
    },
    {
      "metadata": {
        "id": "oWema43fMOZj",
        "colab_type": "code",
        "outputId": "7690c073-9ddd-4bc6-dc56-b6635b02563f",
        "colab": {
          "base_uri": "https://localhost:8080/",
          "height": 368
        }
      },
      "cell_type": "code",
      "source": [
        "plt.hist(x=train['budget'])\n",
        "# we see many outliers in budgets we can categorise budget in several categories"
      ],
      "execution_count": 0,
      "outputs": [
        {
          "output_type": "execute_result",
          "data": {
            "text/plain": [
              "(array([2.407e+03, 3.650e+02, 1.250e+02, 5.500e+01, 2.000e+01, 1.700e+01,\n",
              "        7.000e+00, 3.000e+00, 0.000e+00, 1.000e+00]),\n",
              " array([0.00e+00, 3.80e+07, 7.60e+07, 1.14e+08, 1.52e+08, 1.90e+08,\n",
              "        2.28e+08, 2.66e+08, 3.04e+08, 3.42e+08, 3.80e+08]),\n",
              " <a list of 10 Patch objects>)"
            ]
          },
          "metadata": {
            "tags": []
          },
          "execution_count": 98
        },
        {
          "output_type": "display_data",
          "data": {
            "image/png": "[encoded data removed]",
            "text/plain": [
              "<Figure size 432x288 with 1 Axes>"
            ]
          },
          "metadata": {
            "tags": []
          }
        }
      ]
    },
    {
      "metadata": {
        "id": "9TONfxVUIycY",
        "colab_type": "code",
        "colab": {}
      },
      "cell_type": "code",
      "source": [
        "train['budget'] = np.log1p(train.budget.values)\n",
        "test['budget'] = np.log1p(test.budget.values)"
      ],
      "execution_count": 0,
      "outputs": []
    },
    {
      "metadata": {
        "id": "PjVkWPT7Iyca",
        "colab_type": "text"
      },
      "cell_type": "markdown",
      "source": [
        "### exploring popularity"
      ]
    },
    {
      "metadata": {
        "id": "KLcVl9zVIycb",
        "colab_type": "code",
        "outputId": "1432f8c7-fda3-490d-967b-bdc268eeae9a",
        "colab": {
          "base_uri": "https://localhost:8080/",
          "height": 173
        }
      },
      "cell_type": "code",
      "source": [
        "train.popularity.describe()"
      ],
      "execution_count": 0,
      "outputs": [
        {
          "output_type": "execute_result",
          "data": {
            "text/plain": [
              "count    3000.000000\n",
              "mean        8.463274\n",
              "std        12.104000\n",
              "min         0.000001\n",
              "25%         4.018053\n",
              "50%         7.374861\n",
              "75%        10.890983\n",
              "max       294.337037\n",
              "Name: popularity, dtype: float64"
            ]
          },
          "metadata": {
            "tags": []
          },
          "execution_count": 100
        }
      ]
    },
    {
      "metadata": {
        "id": "_evTHR8oIycd",
        "colab_type": "code",
        "outputId": "36f882ba-9995-4c21-a97e-79e26ebebc37",
        "colab": {
          "base_uri": "https://localhost:8080/",
          "height": 301
        }
      },
      "cell_type": "code",
      "source": [
        "sns.distplot(train.popularity)"
      ],
      "execution_count": 0,
      "outputs": [
        {
          "output_type": "execute_result",
          "data": {
            "text/plain": [
              "<matplotlib.axes._subplots.AxesSubplot at 0x7fa6bbf4c208>"
            ]
          },
          "metadata": {
            "tags": []
          },
          "execution_count": 101
        },
        {
          "output_type": "display_data",
          "data": {
            "image/png": "[encoded data removed]",
            "text/plain": [
              "<Figure size 432x288 with 1 Axes>"
            ]
          },
          "metadata": {
            "tags": []
          }
        }
      ]
    },
    {
      "metadata": {
        "id": "q1abbP_IIych",
        "colab_type": "code",
        "outputId": "31eff598-5472-4e9c-c6c7-1cce6b4016f0",
        "colab": {
          "base_uri": "https://localhost:8080/",
          "height": 301
        }
      },
      "cell_type": "code",
      "source": [
        "sns.distplot(np.log1p(train.popularity))"
      ],
      "execution_count": 0,
      "outputs": [
        {
          "output_type": "execute_result",
          "data": {
            "text/plain": [
              "<matplotlib.axes._subplots.AxesSubplot at 0x7fa6bbff9b00>"
            ]
          },
          "metadata": {
            "tags": []
          },
          "execution_count": 102
        },
        {
          "output_type": "display_data",
          "data": {
            "image/png": "[encoded data removed]",
            "text/plain": [
              "<Figure size 432x288 with 1 Axes>"
            ]
          },
          "metadata": {
            "tags": []
          }
        }
      ]
    },
    {
      "metadata": {
        "id": "53bUvAXRIyck",
        "colab_type": "code",
        "colab": {}
      },
      "cell_type": "code",
      "source": [
        "train['popularity'] = np.log1p(train.popularity.values)\n",
        "test['popularity'] = np.log1p(test.popularity.values)"
      ],
      "execution_count": 0,
      "outputs": []
    },
    {
      "metadata": {
        "id": "bEPHQLXUIycn",
        "colab_type": "text"
      },
      "cell_type": "markdown",
      "source": [
        "### exploring run time"
      ]
    },
    {
      "metadata": {
        "id": "OZB7nPyVIyco",
        "colab_type": "code",
        "outputId": "5f375df6-98b2-445c-fe2a-9fb3e807af89",
        "colab": {
          "base_uri": "https://localhost:8080/",
          "height": 173
        }
      },
      "cell_type": "code",
      "source": [
        "train['runtime'].describe()"
      ],
      "execution_count": 0,
      "outputs": [
        {
          "output_type": "execute_result",
          "data": {
            "text/plain": [
              "count    2998.000000\n",
              "mean      108.242161\n",
              "std        21.020877\n",
              "min        11.000000\n",
              "25%        94.000000\n",
              "50%       104.000000\n",
              "75%       118.000000\n",
              "max       338.000000\n",
              "Name: runtime, dtype: float64"
            ]
          },
          "metadata": {
            "tags": []
          },
          "execution_count": 104
        }
      ]
    },
    {
      "metadata": {
        "id": "PdR621ldIycq",
        "colab_type": "code",
        "outputId": "c47b03ae-fee2-43d7-89bb-3b82ed2aa883",
        "colab": {
          "base_uri": "https://localhost:8080/",
          "height": 34
        }
      },
      "cell_type": "code",
      "source": [
        "train['runtime'].isnull().sum()"
      ],
      "execution_count": 0,
      "outputs": [
        {
          "output_type": "execute_result",
          "data": {
            "text/plain": [
              "2"
            ]
          },
          "metadata": {
            "tags": []
          },
          "execution_count": 105
        }
      ]
    },
    {
      "metadata": {
        "id": "-C8hoY8nIycs",
        "colab_type": "code",
        "outputId": "40656790-2680-4cf6-8398-bca7f7b24772",
        "colab": {
          "base_uri": "https://localhost:8080/",
          "height": 34
        }
      },
      "cell_type": "code",
      "source": [
        "test['runtime'].isnull().sum()"
      ],
      "execution_count": 0,
      "outputs": [
        {
          "output_type": "execute_result",
          "data": {
            "text/plain": [
              "4"
            ]
          },
          "metadata": {
            "tags": []
          },
          "execution_count": 106
        }
      ]
    },
    {
      "metadata": {
        "id": "kexirdnsIycw",
        "colab_type": "code",
        "colab": {}
      },
      "cell_type": "code",
      "source": [
        "#replacing with mean\n",
        "train['runtime'] = train['runtime'].fillna(np.mean(train['runtime']))\n",
        "test['runtime'] = test['runtime'].fillna(np.mean(test['runtime']))"
      ],
      "execution_count": 0,
      "outputs": []
    },
    {
      "metadata": {
        "id": "5BOYcarBZ5hf",
        "colab_type": "code",
        "outputId": "ae301463-3f9d-4bcb-8995-d2a214cce9b4",
        "colab": {
          "base_uri": "https://localhost:8080/",
          "height": 34
        }
      },
      "cell_type": "code",
      "source": [
        "train[train['runtime']==0].shape[0]"
      ],
      "execution_count": 0,
      "outputs": [
        {
          "output_type": "execute_result",
          "data": {
            "text/plain": [
              "0"
            ]
          },
          "metadata": {
            "tags": []
          },
          "execution_count": 108
        }
      ]
    },
    {
      "metadata": {
        "id": "v30imkpkZ50r",
        "colab_type": "code",
        "outputId": "c003fc36-c367-43d6-bcba-0e43f70723a0",
        "colab": {
          "base_uri": "https://localhost:8080/",
          "height": 34
        }
      },
      "cell_type": "code",
      "source": [
        "test[test['runtime']==0].shape[0]"
      ],
      "execution_count": 0,
      "outputs": [
        {
          "output_type": "execute_result",
          "data": {
            "text/plain": [
              "0"
            ]
          },
          "metadata": {
            "tags": []
          },
          "execution_count": 109
        }
      ]
    },
    {
      "metadata": {
        "id": "Wr2Zg64kaGXk",
        "colab_type": "code",
        "colab": {}
      },
      "cell_type": "code",
      "source": [
        "# replacing movies with runtime 0 with mean\n",
        "#train['runtime'] = train['runtime'].apply(lambda x: np.mean(train['runtime']) if x == 0 else x)\n",
        "#test['runtime'] = test['runtime'].apply(lambda x: np.mean(test['runtime']) if x == 0 else x)"
      ],
      "execution_count": 0,
      "outputs": []
    },
    {
      "metadata": {
        "id": "awAc8uF9Iycz",
        "colab_type": "code",
        "outputId": "c3cabf63-578e-46ec-d093-43782546b970",
        "colab": {
          "base_uri": "https://localhost:8080/",
          "height": 301
        }
      },
      "cell_type": "code",
      "source": [
        "sns.scatterplot(train['runtime'],np.log1p(train['revenue']))"
      ],
      "execution_count": 0,
      "outputs": [
        {
          "output_type": "execute_result",
          "data": {
            "text/plain": [
              "<matplotlib.axes._subplots.AxesSubplot at 0x7fa6bbe8fef0>"
            ]
          },
          "metadata": {
            "tags": []
          },
          "execution_count": 111
        },
        {
          "output_type": "display_data",
          "data": {
            "image/png": "[encoded data removed]",
            "text/plain": [
              "<Figure size 432x288 with 1 Axes>"
            ]
          },
          "metadata": {
            "tags": []
          }
        }
      ]
    },
    {
      "metadata": {
        "id": "DUXQfmYCIyc6",
        "colab_type": "code",
        "colab": {}
      },
      "cell_type": "code",
      "source": [
        "scaler = MinMaxScaler() \n",
        "x = train[['runtime']].values.astype(float)\n",
        "scaled_values = scaler.fit_transform(x) \n",
        "train['runtime'] = scaled_values\n",
        "\n",
        "scaler = MinMaxScaler() \n",
        "x = test[['runtime']].values.astype(float)\n",
        "scaled_values = scaler.fit_transform(x) \n",
        "test['runtime']= scaled_values"
      ],
      "execution_count": 0,
      "outputs": []
    },
    {
      "metadata": {
        "id": "sCJuxDkMIyc8",
        "colab_type": "code",
        "outputId": "665eae67-1e44-4733-952e-aa147178adcd",
        "colab": {
          "base_uri": "https://localhost:8080/",
          "height": 301
        }
      },
      "cell_type": "code",
      "source": [
        "sns.scatterplot(train['runtime'],np.log1p(train['revenue']))"
      ],
      "execution_count": 0,
      "outputs": [
        {
          "output_type": "execute_result",
          "data": {
            "text/plain": [
              "<matplotlib.axes._subplots.AxesSubplot at 0x7fa6bc11ce80>"
            ]
          },
          "metadata": {
            "tags": []
          },
          "execution_count": 113
        },
        {
          "output_type": "display_data",
          "data": {
            "image/png": "[encoded data removed]",
            "text/plain": [
              "<Figure size 432x288 with 1 Axes>"
            ]
          },
          "metadata": {
            "tags": []
          }
        }
      ]
    },
    {
      "metadata": {
        "id": "6IXorPC2IydC",
        "colab_type": "text"
      },
      "cell_type": "markdown",
      "source": [
        "### column we need in model till now"
      ]
    },
    {
      "metadata": {
        "scrolled": true,
        "id": "CeFsnkvjIydE",
        "colab_type": "code",
        "outputId": "89619d10-522f-4325-a66b-13d526f11c89",
        "colab": {
          "base_uri": "https://localhost:8080/",
          "height": 190
        }
      },
      "cell_type": "code",
      "source": [
        "train.columns"
      ],
      "execution_count": 0,
      "outputs": [
        {
          "output_type": "execute_result",
          "data": {
            "text/plain": [
              "Index(['id', 'belongs_to_collection', 'budget', 'genres', 'homepage',\n",
              "       'imdb_id', 'popularity', 'production_companies', 'production_countries',\n",
              "       'runtime', 'spoken_languages', 'tagline', 'Keywords', 'cast', 'crew',\n",
              "       'revenue', 'title_length', 'status_Released', 'status_Rumored',\n",
              "       'status_Post Production', 'orig_lang_en', 'orig_lang_fr_hi_ru_es_ja',\n",
              "       'orig_lang_it_ko_de_zh_cn', 'orig_lang_smallind',\n",
              "       'release_date_years_passed', 'month2', 'month3', 'month4', 'month5',\n",
              "       'month6', 'month7', 'month8', 'month9', 'month10', 'month11', 'month12',\n",
              "       'weekday1', 'weekday2', 'weekday3', 'weekday4', 'weekday5', 'weekday6'],\n",
              "      dtype='object')"
            ]
          },
          "metadata": {
            "tags": []
          },
          "execution_count": 114
        }
      ]
    },
    {
      "metadata": {
        "id": "pnwDFNDwIydM",
        "colab_type": "text"
      },
      "cell_type": "markdown",
      "source": [
        "### This method will clean feature with dictionary data.Create new feature with total number of values,onehot encoded feature"
      ]
    },
    {
      "metadata": {
        "id": "H_4kC1hbIydM",
        "colab_type": "code",
        "colab": {}
      },
      "cell_type": "code",
      "source": [
        "\n",
        "def clean_dictionary_features(feature_name,train,test,top_common=10):\n",
        "    #convert string to dictionary\n",
        "    \n",
        "    train[feature_name] = train[feature_name].apply(lambda x:{} if pd.isna(x) else ast.literal_eval(str(x)))\n",
        "    test[feature_name] = test[feature_name].apply(lambda x:{} if pd.isna(x) else ast.literal_eval(str(x)))\n",
        "    \n",
        "    #create new feature of total count of values\n",
        "    train[feature_name+'_number'] = train[feature_name].apply(lambda x:len(x) if x!={} else 0)\n",
        "    test[feature_name+'_number'] = test[feature_name].apply(lambda x:len(x) if x!={} else 0)\n",
        "    \n",
        "    #get list of all values\n",
        "    list_of_values = list(train[feature_name].apply(lambda x: [i['name'] for i in x] if x != {} else []).values)\n",
        "    #print(list_of_values)\n",
        "    train[feature_name+'_all'] = train[feature_name].apply(lambda x: ' '.join(sorted([i['name'] for i in x])) if x != {} else '')\n",
        "    \n",
        "    top_values = [m[0] for m in Counter([i for j in list_of_values for i in j]).most_common(top_common)]\n",
        "    #print(train[feature_name+'_all'])\n",
        "    #Create one hot encoded feature\n",
        "    for val in top_values:\n",
        "        train[feature_name +'_'+val] = train[feature_name+'_all'].apply(lambda x: 1 if val in x else 0)\n",
        "    \n",
        "    test[feature_name+'_all'] = test[feature_name].apply(lambda x: ' '.join(sorted([i['name'] for i in x])) if x != {} else '')\n",
        "    for val in top_values:\n",
        "        test[feature_name +'_'+val] = test[feature_name+'_all'].apply(lambda x: 1 if val in x else 0)\n",
        "    \n",
        "#     #Create Lable encoded feature \n",
        "#     le = LabelEncoder()\n",
        "#     le.fit(list(train[feature_name+'_all'].fillna('')) + list(test[feature_name+'_all'].fillna('')))\n",
        "#     train[feature_name+'_all'] = le.transform(train[feature_name+'_all'].fillna('').astype(str))\n",
        "#     test[feature_name+'_all'] = le.transform(test[feature_name+'_all'].fillna('').astype(str))\n",
        "    return train,test"
      ],
      "execution_count": 0,
      "outputs": []
    },
    {
      "metadata": {
        "id": "IK9sxswiIydO",
        "colab_type": "code",
        "colab": {}
      },
      "cell_type": "code",
      "source": [
        "train,test = clean_dictionary_features('genres',train,test,10)\n",
        "train,test = clean_dictionary_features('production_companies',train,test,10)\n",
        "train,test = clean_dictionary_features('production_countries',train,test,10)\n",
        "train,test = clean_dictionary_features('spoken_languages',train,test,10)\n",
        "train,test = clean_dictionary_features('Keywords',train,test,10)\n",
        "train,test = clean_dictionary_features('cast',train,test,10)\n",
        "train,test = clean_dictionary_features('crew',train,test,10)"
      ],
      "execution_count": 0,
      "outputs": []
    },
    {
      "metadata": {
        "id": "pBVFPEJPlGQV",
        "colab_type": "code",
        "colab": {}
      },
      "cell_type": "code",
      "source": [
        "train.drop(['genres','production_companies','production_countries','spoken_languages','Keywords','cast','crew'],axis=1,inplace=True)\n",
        "test.drop(['genres','production_companies','production_countries','spoken_languages','Keywords','cast','crew'],axis=1,inplace=True)\n",
        "train.drop(['genres_all','production_companies_all','production_countries_all','spoken_languages_all','Keywords_all','cast_all','crew_all'],axis=1,inplace=True)\n",
        "test.drop(['genres_all','production_companies_all','production_countries_all','spoken_languages_all','Keywords_all','cast_all','crew_all'],axis=1,inplace=True)"
      ],
      "execution_count": 0,
      "outputs": []
    },
    {
      "metadata": {
        "id": "vp587zMvIydR",
        "colab_type": "code",
        "outputId": "679873b8-18da-45df-d8e9-a9ac8765810e",
        "colab": {
          "base_uri": "https://localhost:8080/",
          "height": 34
        }
      },
      "cell_type": "code",
      "source": [
        "len(train.columns)"
      ],
      "execution_count": 0,
      "outputs": [
        {
          "output_type": "execute_result",
          "data": {
            "text/plain": [
              "111"
            ]
          },
          "metadata": {
            "tags": []
          },
          "execution_count": 100
        }
      ]
    },
    {
      "metadata": {
        "id": "UDv5z3VDIydW",
        "colab_type": "code",
        "outputId": "a048cd8e-9c14-4082-adef-338aad62ca0d",
        "colab": {
          "base_uri": "https://localhost:8080/",
          "height": 155
        }
      },
      "cell_type": "code",
      "source": [
        "print(train.columns)"
      ],
      "execution_count": 0,
      "outputs": [
        {
          "output_type": "stream",
          "text": [
            "Index(['id', 'belongs_to_collection', 'budget', 'homepage', 'popularity',\n",
            "       'runtime', 'tagline', 'revenue', 'title_length', 'status_Released',\n",
            "       ...\n",
            "       'crew_Avy Kaufman', 'crew_Robert Rodriguez', 'crew_Deborah Aquila',\n",
            "       'crew_James Newton Howard', 'crew_Mary Vernieu',\n",
            "       'crew_Steven Spielberg', 'crew_Luc Besson', 'crew_Jerry Goldsmith',\n",
            "       'crew_Francine Maisler', 'crew_Tricia Wood'],\n",
            "      dtype='object', length=111)\n"
          ],
          "name": "stdout"
        }
      ]
    },
    {
      "metadata": {
        "id": "e_HUaKYre_W1",
        "colab_type": "text"
      },
      "cell_type": "markdown",
      "source": [
        "### Chossing the X and y and splitting"
      ]
    },
    {
      "metadata": {
        "id": "HoKJ9kfEN4yg",
        "colab_type": "code",
        "outputId": "07a45c01-2c3c-4da2-855f-58c707b0998f",
        "colab": {
          "base_uri": "https://localhost:8080/",
          "height": 54
        }
      },
      "cell_type": "code",
      "source": [
        "columns_to_keep=[]\n",
        "for x in train.columns:\n",
        "    if x!='id' and x!='revenue':\n",
        "        columns_to_keep.append(x)\n",
        "print(columns_to_keep)\n",
        "X=train[columns_to_keep]\n",
        "y=train['revenue']"
      ],
      "execution_count": 0,
      "outputs": [
        {
          "output_type": "stream",
          "text": [
            "['belongs_to_collection', 'budget', 'homepage', 'popularity', 'runtime', 'tagline', 'title_length', 'status_Released', 'status_Rumored', 'status_Post Production', 'orig_lang_en', 'orig_lang_fr_hi_ru_es_ja', 'orig_lang_it_ko_de_zh_cn', 'orig_lang_smallind', 'release_date_years_passed', 'month2', 'month3', 'month4', 'month5', 'month6', 'month7', 'month8', 'month9', 'month10', 'month11', 'month12', 'weekday1', 'weekday2', 'weekday3', 'weekday4', 'weekday5', 'weekday6', 'genres_number', 'genres_Drama', 'genres_Comedy', 'genres_Thriller', 'genres_Action', 'genres_Romance', 'genres_Crime', 'genres_Adventure', 'genres_Horror', 'genres_Science Fiction', 'genres_Family', 'production_companies_number', 'production_companies_Warner Bros.', 'production_companies_Universal Pictures', 'production_companies_Paramount Pictures', 'production_companies_Twentieth Century Fox Film Corporation', 'production_companies_Columbia Pictures', 'production_companies_Metro-Goldwyn-Mayer (MGM)', 'production_companies_New Line Cinema', 'production_companies_Touchstone Pictures', 'production_companies_Walt Disney Pictures', 'production_companies_Columbia Pictures Corporation', 'production_countries_number', 'production_countries_United States of America', 'production_countries_United Kingdom', 'production_countries_France', 'production_countries_Germany', 'production_countries_Canada', 'production_countries_India', 'production_countries_Italy', 'production_countries_Japan', 'production_countries_Australia', 'production_countries_Russia', 'spoken_languages_number', 'spoken_languages_English', 'spoken_languages_Français', 'spoken_languages_Español', 'spoken_languages_Deutsch', 'spoken_languages_Pусский', 'spoken_languages_Italiano', 'spoken_languages_日本語', 'spoken_languages_普通话', 'spoken_languages_हिन्दी', 'spoken_languages_', 'Keywords_number', 'Keywords_woman director', 'Keywords_independent film', 'Keywords_duringcreditsstinger', 'Keywords_murder', 'Keywords_based on novel', 'Keywords_violence', 'Keywords_sport', 'Keywords_biography', 'Keywords_aftercreditsstinger', 'Keywords_dystopia', 'cast_number', 'cast_Samuel L. Jackson', 'cast_Robert De Niro', 'cast_Morgan Freeman', 'cast_J.K. Simmons', 'cast_Bruce Willis', 'cast_Liam Neeson', 'cast_Susan Sarandon', 'cast_Bruce McGill', 'cast_John Turturro', 'cast_Forest Whitaker', 'crew_number', 'crew_Avy Kaufman', 'crew_Robert Rodriguez', 'crew_Deborah Aquila', 'crew_James Newton Howard', 'crew_Mary Vernieu', 'crew_Steven Spielberg', 'crew_Luc Besson', 'crew_Jerry Goldsmith', 'crew_Francine Maisler', 'crew_Tricia Wood']\n"
          ],
          "name": "stdout"
        }
      ]
    },
    {
      "metadata": {
        "id": "OT27iQb9kQUT",
        "colab_type": "code",
        "colab": {}
      },
      "cell_type": "code",
      "source": [
        "from sklearn import model_selection\n",
        "X_train, X_val, y_train, y_val = model_selection.train_test_split(X, y, test_size=0.15, random_state=41)"
      ],
      "execution_count": 0,
      "outputs": []
    },
    {
      "metadata": {
        "id": "6jziDoSBrIWJ",
        "colab_type": "text"
      },
      "cell_type": "markdown",
      "source": [
        "### First Model"
      ]
    },
    {
      "metadata": {
        "id": "duF43CdPPLWO",
        "colab_type": "code",
        "colab": {}
      },
      "cell_type": "code",
      "source": [
        "from sklearn.ensemble import RandomForestRegressor"
      ],
      "execution_count": 0,
      "outputs": []
    },
    {
      "metadata": {
        "id": "VnKDRWBXj9wG",
        "colab_type": "code",
        "outputId": "719c0589-6936-4ab2-dc12-dd74da84d501",
        "colab": {
          "base_uri": "https://localhost:8080/",
          "height": 121
        }
      },
      "cell_type": "code",
      "source": [
        "model=RandomForestRegressor(random_state=0,n_estimators=100)\n",
        "model.fit(X_train,y_train)"
      ],
      "execution_count": 0,
      "outputs": [
        {
          "output_type": "execute_result",
          "data": {
            "text/plain": [
              "RandomForestRegressor(bootstrap=True, criterion='mse', max_depth=None,\n",
              "           max_features='auto', max_leaf_nodes=None,\n",
              "           min_impurity_decrease=0.0, min_impurity_split=None,\n",
              "           min_samples_leaf=1, min_samples_split=2,\n",
              "           min_weight_fraction_leaf=0.0, n_estimators=100, n_jobs=None,\n",
              "           oob_score=False, random_state=0, verbose=0, warm_start=False)"
            ]
          },
          "metadata": {
            "tags": []
          },
          "execution_count": 100
        }
      ]
    },
    {
      "metadata": {
        "id": "qpzAQn58j9t4",
        "colab_type": "code",
        "outputId": "11c605ee-c8dc-4774-cc74-b2fca2621d19",
        "colab": {
          "base_uri": "https://localhost:8080/",
          "height": 121
        }
      },
      "cell_type": "code",
      "source": [
        "print(model)"
      ],
      "execution_count": 0,
      "outputs": [
        {
          "output_type": "stream",
          "text": [
            "RandomForestRegressor(bootstrap=True, criterion='mse', max_depth=None,\n",
            "           max_features='auto', max_leaf_nodes=None,\n",
            "           min_impurity_decrease=0.0, min_impurity_split=None,\n",
            "           min_samples_leaf=1, min_samples_split=2,\n",
            "           min_weight_fraction_leaf=0.0, n_estimators=100, n_jobs=None,\n",
            "           oob_score=False, random_state=0, verbose=0, warm_start=False)\n"
          ],
          "name": "stdout"
        }
      ]
    },
    {
      "metadata": {
        "id": "hH2lUcECpHKe",
        "colab_type": "code",
        "outputId": "c14c3fa3-d49f-430e-e955-b95c655273b4",
        "colab": {
          "base_uri": "https://localhost:8080/",
          "height": 287
        }
      },
      "cell_type": "code",
      "source": [
        "sns.barplot(x=X_train.columns[0:10],y=model.feature_importances_[0:10])"
      ],
      "execution_count": 0,
      "outputs": [
        {
          "output_type": "execute_result",
          "data": {
            "text/plain": [
              "<matplotlib.axes._subplots.AxesSubplot at 0x7f4cee592ba8>"
            ]
          },
          "metadata": {
            "tags": []
          },
          "execution_count": 102
        },
        {
          "output_type": "display_data",
          "data": {
            "image/png": "[encoded data removed]",
            "text/plain": [
              "<Figure size 432x288 with 1 Axes>"
            ]
          },
          "metadata": {
            "tags": []
          }
        }
      ]
    },
    {
      "metadata": {
        "id": "7idbGLT1pi9w",
        "colab_type": "code",
        "outputId": "a9c09c27-6319-4be2-933e-05bf5d000a29",
        "colab": {
          "base_uri": "https://localhost:8080/",
          "height": 34
        }
      },
      "cell_type": "code",
      "source": [
        "X_train.columns.shape"
      ],
      "execution_count": 0,
      "outputs": [
        {
          "output_type": "execute_result",
          "data": {
            "text/plain": [
              "(109,)"
            ]
          },
          "metadata": {
            "tags": []
          },
          "execution_count": 103
        }
      ]
    },
    {
      "metadata": {
        "id": "XYFW5kJaj9n7",
        "colab_type": "code",
        "colab": {}
      },
      "cell_type": "code",
      "source": [
        "from sklearn.metrics import r2_score"
      ],
      "execution_count": 0,
      "outputs": []
    },
    {
      "metadata": {
        "id": "hGNWSSS_mAEb",
        "colab_type": "code",
        "outputId": "16d385b8-4f5d-46b1-b016-80940b7f1a59",
        "colab": {
          "base_uri": "https://localhost:8080/",
          "height": 34
        }
      },
      "cell_type": "code",
      "source": [
        "r2_score(y_pred=model.predict(X_train),y_true=y_train)"
      ],
      "execution_count": 0,
      "outputs": [
        {
          "output_type": "execute_result",
          "data": {
            "text/plain": [
              "0.9583312207425861"
            ]
          },
          "metadata": {
            "tags": []
          },
          "execution_count": 105
        }
      ]
    },
    {
      "metadata": {
        "id": "WvJOY3cAl_-H",
        "colab_type": "code",
        "outputId": "4fab804f-cddb-4528-a0eb-3ee897ce2144",
        "colab": {
          "base_uri": "https://localhost:8080/",
          "height": 34
        }
      },
      "cell_type": "code",
      "source": [
        "r2_score(y_pred=model.predict(X_val),y_true=y_val)"
      ],
      "execution_count": 0,
      "outputs": [
        {
          "output_type": "execute_result",
          "data": {
            "text/plain": [
              "0.685216071787333"
            ]
          },
          "metadata": {
            "tags": []
          },
          "execution_count": 106
        }
      ]
    },
    {
      "metadata": {
        "colab_type": "code",
        "outputId": "3c94aa17-4d7b-4498-8a15-83360e4343c8",
        "id": "wE1Bgb1CoZ9y",
        "colab": {
          "base_uri": "https://localhost:8080/",
          "height": 34
        }
      },
      "cell_type": "code",
      "source": [
        "from sklearn.metrics import mean_squared_log_error\n",
        "np.sqrt(mean_squared_log_error( y_val, model.predict(X_val) ))"
      ],
      "execution_count": 0,
      "outputs": [
        {
          "output_type": "execute_result",
          "data": {
            "text/plain": [
              "2.571979915326752"
            ]
          },
          "metadata": {
            "tags": []
          },
          "execution_count": 108
        }
      ]
    },
    {
      "metadata": {
        "id": "3UtaWDxnrPdj",
        "colab_type": "text"
      },
      "cell_type": "markdown",
      "source": [
        "### Second Model"
      ]
    },
    {
      "metadata": {
        "id": "9PxBA_GRyo8-",
        "colab_type": "code",
        "outputId": "340f301c-00c9-4b9e-864d-af4afb5e03b6",
        "colab": {
          "base_uri": "https://localhost:8080/",
          "height": 244
        }
      },
      "cell_type": "code",
      "source": [
        "!pip install catboost"
      ],
      "execution_count": 0,
      "outputs": [
        {
          "output_type": "stream",
          "text": [
            "Collecting catboost\n",
            "\u001b[?25l  Downloading https://files.pythonhosted.org/packages/2f/c4/f130237b24efd1941cb685da12496675a90045129b66774751f1bf629dfd/catboost-0.14.2-cp36-none-manylinux1_x86_64.whl (60.6MB)\n",
            "\u001b[K    100% |████████████████████████████████| 60.6MB 577kB/s \n",
            "\u001b[?25hRequirement already satisfied: numpy>=1.11.1 in /usr/local/lib/python3.6/dist-packages (from catboost) (1.16.2)\n",
            "Requirement already satisfied: six in /usr/local/lib/python3.6/dist-packages (from catboost) (1.11.0)\n",
            "Requirement already satisfied: graphviz in /usr/local/lib/python3.6/dist-packages (from catboost) (0.10.1)\n",
            "Requirement already satisfied: pandas>=0.19.1 in /usr/local/lib/python3.6/dist-packages (from catboost) (0.23.4)\n",
            "Requirement already satisfied: enum34 in /usr/local/lib/python3.6/dist-packages (from catboost) (1.1.6)\n",
            "Requirement already satisfied: python-dateutil>=2.5.0 in /usr/local/lib/python3.6/dist-packages (from pandas>=0.19.1->catboost) (2.5.3)\n",
            "Requirement already satisfied: pytz>=2011k in /usr/local/lib/python3.6/dist-packages (from pandas>=0.19.1->catboost) (2018.9)\n",
            "Installing collected packages: catboost\n",
            "Successfully installed catboost-0.14.2\n"
          ],
          "name": "stdout"
        }
      ]
    },
    {
      "metadata": {
        "id": "kjvP9bkJyS4T",
        "colab_type": "code",
        "colab": {}
      },
      "cell_type": "code",
      "source": [
        "import ast\n",
        "from tqdm import tqdm\n",
        "from sklearn.linear_model import LinearRegression,Lasso\n",
        "from sklearn.model_selection import KFold, cross_val_score, train_test_split,GridSearchCV\n",
        "from sklearn.metrics import mean_squared_error\n",
        "from sklearn.ensemble import RandomForestRegressor,GradientBoostingRegressor\n",
        "from sklearn.feature_selection import SelectKBest,chi2\n",
        "import xgboost as xgb\n",
        "import lightgbm as lgb\n",
        "from catboost import CatBoostRegressor\n",
        "from xgboost.sklearn import XGBRegressor\n",
        "from types import FunctionType\n",
        "from xgboost import plot_importance\n",
        "seed = 123"
      ],
      "execution_count": 0,
      "outputs": []
    },
    {
      "metadata": {
        "id": "gGozADJhq1gV",
        "colab_type": "code",
        "colab": {}
      },
      "cell_type": "code",
      "source": [
        "def select_model(X_train, X_val, y_train, y_val):\n",
        "\n",
        "    best_models = {}\n",
        "    models = [\n",
        "        {\n",
        "            'name': 'LinearRegression',\n",
        "            'estimator': LinearRegression(),\n",
        "            'hyperparameters': {},\n",
        "        },\n",
        "       \n",
        "        {\n",
        "            'name': 'GradientBoostingRegressor',\n",
        "            'estimator': GradientBoostingRegressor(),\n",
        "            'hyperparameters':{\n",
        "                'n_estimators': range(100, 200, 10),\n",
        "                'criterion': ['friedman_mse'],\n",
        "                'max_depth': [3, 5, 7, 9],\n",
        "                'max_features': ['log2', 'sqrt'],\n",
        "                'min_samples_leaf': [1, 2, 4],\n",
        "                'min_samples_split': [3, 5, 7]\n",
        "            }\n",
        "            \n",
        "        },\n",
        "\n",
        "        {\n",
        "            'name': 'XGBoost',\n",
        "            'estimator': xgb.XGBRegressor(),\n",
        "            'hyperparameters':{\n",
        "                'booster': ['gbtree', 'gblinear', 'dart'],\n",
        "                'max_depth': range(5, 50, 5),\n",
        "                'n_estimators': [200],\n",
        "                'nthread': [4],\n",
        "                'min_child_weight': range(1, 8, 2),\n",
        "                'learning_rate': [.05, .1, .15],\n",
        "            }\n",
        "        },\n",
        "        {\n",
        "            'name': 'Light GBM',\n",
        "            'estimator': lgb.LGBMRegressor(),\n",
        "            'hyperparameters':{\n",
        "                'max_depth': range(20, 85, 15),\n",
        "                'learning_rate': [.01, .05, .1],\n",
        "                'num_leaves': [300, 600, 900, 1200],\n",
        "                'n_estimators': [200]\n",
        "            }\n",
        "        }\n",
        "    ]\n",
        "    \n",
        "    for model in tqdm(models):\n",
        "        print('\\n', '-'*25, '\\n', model['name'])\n",
        "        start = time.perf_counter()\n",
        "        grid = GridSearchCV(model['estimator'], param_grid=model['hyperparameters'], cv=5, scoring = \"neg_mean_squared_error\", verbose=False, n_jobs=-1)\n",
        "        grid.fit(X_train, y_train)\n",
        "        best_models[model['name']] = {'score': grid.best_score_, 'params': grid.best_params_}\n",
        "        mse_val = mean_squared_error(y_val, grid.predict(X_val))\n",
        "        mse_train = mean_squared_error(y_train, grid.predict(X_train))\n",
        "        print(\"RMSLE train:{}\".format(np.sqrt(mse_train))) \n",
        "        print(\"RMSLE validation:{}\".format(np.sqrt(mse_val)))\n",
        "        print(\"best_params_:{}\".format(grid.best_params_))\n",
        "        run = time.perf_counter() - start\n",
        "        \n",
        "        \n",
        "    return best_models"
      ],
      "execution_count": 0,
      "outputs": []
    },
    {
      "metadata": {
        "id": "HJ4T1TdgzVPE",
        "colab_type": "code",
        "colab": {}
      },
      "cell_type": "code",
      "source": [
        "def get_best_parameters(train,features_list):\n",
        "\n",
        "    X_train = train[features_list]\n",
        "    y_train = np.log1p(train[\"revenue\"]).values\n",
        "      \n",
        "    X_train, X_val, y_train, y_val = train_test_split(X_train, y_train, test_size=0.15, random_state=1)\n",
        "\n",
        "    models = select_model(X_train, X_val, y_train, y_val)\n",
        "    return models"
      ],
      "execution_count": 0,
      "outputs": []
    },
    {
      "metadata": {
        "id": "hUCdKG03zVdR",
        "colab_type": "code",
        "colab": {}
      },
      "cell_type": "code",
      "source": [
        "# A class that will define all the regression models as methods\n",
        "\n",
        "class Models(object):\n",
        "    \n",
        "    \n",
        "    \n",
        "    # Initialization \n",
        "    def __init__(self, x_train, x_validation, y_train, y_validation):\n",
        "        # changing input as dataframe to list\n",
        "        self.x_train = [x_train.iloc[i].tolist() for i in range(len(x_train))]\n",
        "        self.x_validation = [x_validation.iloc[i].tolist() for i in range(len(x_validation))]\n",
        "        self.y_train = y_train.tolist()\n",
        "        self.y_validation = y_validation.tolist()\n",
        "        \n",
        "    \n",
        "    \n",
        "    @staticmethod\n",
        "    def print_info(cross_val_scores, mse_train,mse_val):\n",
        "        print(\"Cross Validation Scores: \", cross_val_scores)\n",
        "        print(\"RMSLE train:{}\".format(np.sqrt(mse_train))) \n",
        "        print(\"RMSLE validation:{}\".format(np.sqrt(mse_val)))\n",
        "        #print(\"Mean Squared Error: \", np.sqrt(mse))\n",
        "        \n",
        "        \n",
        "  \n",
        "    # Gradient Boosting Regressor\n",
        "    def GBR(self, x_train, x_validation,  y_train, y_validation):\n",
        "        gbr = GradientBoostingRegressor(n_estimators=120, learning_rate=0.08,max_features='sqrt',criterion='friedman_mse',\n",
        "                                        min_samples_leaf=1,min_samples_split=3, max_depth=7, random_state=seed)\n",
        "        gbr.fit(self.x_train, self.y_train)\n",
        "        kfold = KFold(n_splits=10, shuffle=True, random_state=seed)\n",
        "        cross_val_scores = cross_val_score(gbr, self.x_train, self.y_train, cv=kfold)\n",
        "        mse_val = mean_squared_error(self.y_validation, gbr.predict(self.x_validation))\n",
        "        mse_train = mean_squared_error(self.y_train, gbr.predict(self.x_train))\n",
        "        print('\\nGradient Boosting Regressor')\n",
        "        self.print_info(cross_val_scores, mse_train,mse_val)\n",
        "        return cross_val_scores, mse_val, gbr\n",
        "    \n",
        "    \n",
        "    # LGBM Regressor \n",
        "    def lgbm(self, x_train, x_validation,  y_train, y_validation):\n",
        "        lgbm =lgb.LGBMRegressor(n_estimators=10000,objective=\"regression\", metric=\"rmse\",num_leaves=20, \n",
        "                             min_child_samples=100,learning_rate=0.01, bagging_fraction=0.8,feature_fraction=0.8, \n",
        "                             bagging_frequency=1,importance_type='gain', bagging_seed=seed,subsample=.9, \n",
        "                             colsample_bytree=.9,use_best_model=True)\n",
        "                                \n",
        "        lgbm.fit(x_train, y_train,eval_set=(x_validation, y_validation),verbose=False)\n",
        "    \n",
        "        kfold = KFold(n_splits=10, shuffle=True, random_state=seed)\n",
        "        cross_val_scores = cross_val_score(lgbm, self.x_train, self.y_train, cv=kfold)\n",
        "        mse_val = mean_squared_error(self.y_validation, lgbm.predict(self.x_validation))\n",
        "        mse_train = mean_squared_error(self.y_train, lgbm.predict(self.x_train))\n",
        "        print('\\nLGBM Regressor')\n",
        "        self.print_info(cross_val_scores, mse_train,mse_val)\n",
        "        return cross_val_scores, mse_val, lgbm\n",
        "    \n",
        "    \n",
        "    # XgBoost Regressor \n",
        "    def xgBoost(self, x_train, x_validation,  y_train, y_validation):\n",
        "        params = {'objective': 'reg:linear','eta': 0.01,'max_depth': 6,'subsample': 0.6,'colsample_bytree': 0.7,  \n",
        "              'eval_metric': 'rmse', 'seed': seed,'silent': True,}\n",
        "    \n",
        "        record = dict()\n",
        "        xg = xgb.train(params, xgb.DMatrix(x_train, y_train), 100000, [(xgb.DMatrix(x_train, y_train), 'train'),\n",
        "                                                                      (xgb.DMatrix(x_validation, y_validation), 'valid')]\n",
        "                      , verbose_eval=False, early_stopping_rounds=500, callbacks = [xgb.callback.record_evaluation(record)])\n",
        "        best_idx = np.argmin(np.array(record['valid']['rmse']))\n",
        "    \n",
        "        #kfold = KFold(n_splits=10, shuffle=True, random_state=seed)\n",
        "        #cross_val_scores = cross_val_score(xg, self.x_train, self.y_train, cv=kfold)\n",
        "        cross_val_scores= 0\n",
        "        mse_val = mean_squared_error(self.y_validation, xg.predict(xgb.DMatrix(x_validation), ntree_limit=xg.best_ntree_limit))\n",
        "        mse_train = mean_squared_error(self.y_train, xg.predict(xgb.DMatrix(x_train), ntree_limit=xg.best_ntree_limit))\n",
        "        print('\\nXgBoost Regressor')\n",
        "        self.print_info(cross_val_scores, mse_train,mse_val)\n",
        "        #plot_importance(xg)\n",
        "        #plt.show()\n",
        "        return cross_val_scores, mse_val, xg"
      ],
      "execution_count": 0,
      "outputs": []
    },
    {
      "metadata": {
        "id": "hyVHhWI4zVib",
        "colab_type": "code",
        "colab": {}
      },
      "cell_type": "code",
      "source": [
        "def evaluate_models(train, test,features_list):\n",
        "\n",
        "    X_train = train[features_list]\n",
        "    y_train = np.log1p(train[\"revenue\"]).values\n",
        "      \n",
        "    X_train, X_val, y_train, y_val = train_test_split(X_train, y_train, test_size=0.15, random_state=1)\n",
        "\n",
        "    methods = [x for x, y in Models.__dict__.items() if type(y) == FunctionType]\n",
        "    methods.remove('__init__')\n",
        "    # Now calling the all regression methods\n",
        "    cross_scores_list, mse_list = [], []\n",
        "    models = {}\n",
        "    for model in methods:\n",
        "        reg = Models(X_train, X_val, y_train, y_val)\n",
        "        cross_val_scores, mse, return_model = getattr(reg, model)(X_train, X_val, y_train, y_val)\n",
        "        cross_scores_list.append(cross_val_scores)\n",
        "        models[model] = return_model\n",
        "        mse_list.append(mse)\n",
        "    return models"
      ],
      "execution_count": 0,
      "outputs": []
    },
    {
      "metadata": {
        "id": "n-t7jh2gzVmj",
        "colab_type": "code",
        "outputId": "fbe780ca-0094-4587-de65-501bd10a1538",
        "colab": {
          "base_uri": "https://localhost:8080/",
          "height": 311
        }
      },
      "cell_type": "code",
      "source": [
        "all_features_models = evaluate_models(train, test,list(columns_to_keep))"
      ],
      "execution_count": 0,
      "outputs": [
        {
          "output_type": "stream",
          "text": [
            "\n",
            "Gradient Boosting Regressor\n",
            "Cross Validation Scores:  [0.54507917 0.54248347 0.49527378 0.51099937 0.51677286 0.46311586\n",
            " 0.50020566 0.59002745 0.52833085 0.54294953]\n",
            "RMSLE train:0.9145673444617535\n",
            "RMSLE validation:1.796344761428888\n",
            "\n",
            "LGBM Regressor\n",
            "Cross Validation Scores:  [0.60867095 0.56010525 0.52549836 0.56901711 0.54907714 0.41165107\n",
            " 0.48291396 0.54064348 0.48613238 0.53076337]\n",
            "RMSLE train:0.6047663773562049\n",
            "RMSLE validation:1.8373720716779625\n",
            "\n",
            "XgBoost Regressor\n",
            "Cross Validation Scores:  0\n",
            "RMSLE train:1.0307909159917084\n",
            "RMSLE validation:1.767739622254152\n"
          ],
          "name": "stdout"
        }
      ]
    },
    {
      "metadata": {
        "id": "dUZQVx_fzVr0",
        "colab_type": "code",
        "colab": {}
      },
      "cell_type": "code",
      "source": [
        "def calculate_test_results(models,test,model_names,features_list):\n",
        "        \n",
        "    X_test = test[features_list]\n",
        "    pred = np.empty(shape=len(X_test)).tolist()\n",
        "    \n",
        "    for model in model_names:\n",
        "        mod = models[model]\n",
        "        if(model=='xgBoost'):\n",
        "            pred = pred + np.expm1(mod.predict(xgb.DMatrix(X_test), ntree_limit=mod.best_ntree_limit))\n",
        "        else:   \n",
        "            pred = pred + np.expm1(mod.predict(X_test))\n",
        "    \n",
        "    return pred"
      ],
      "execution_count": 0,
      "outputs": []
    },
    {
      "metadata": {
        "id": "iAbdXiyvzVw-",
        "colab_type": "code",
        "colab": {}
      },
      "cell_type": "code",
      "source": [
        "xgBoost_results = calculate_test_results(all_features_models,test,['xgBoost'],list(columns_to_keep))\n",
        "gbr_results = calculate_test_results(all_features_models,test,['GBR'],list(columns_to_keep))\n",
        "lgbm_results = calculate_test_results(all_features_models,test,['lgbm'],list(columns_to_keep))\n",
        "\n",
        "#final_pred = 0.4*xgBoost_results + 0.4*gbr_results + 0.2*lgbm_results 2.07\n",
        "#final_pred = 0.7*xgBoost_results + 0.3*gbr_results 2.03\n",
        "#final_pred = 0.3*xgBoost_results + 0.7*gbr_results 2.08\n",
        "#final_pred = 0.5*xgBoost_results + 0.3*gbr_results + 0.2*lgbm_results 2.08\n",
        "#final_pred = 0.6*xgBoost_results + 0.2*gbr_results + 0.2*lgbm_results  2.06723\n",
        "#final_pred = 0.8*xgBoost_results + 0.2*gbr_results 2.02\n",
        "final_pred = 0.8*xgBoost_results + 0.2*lgbm_results 1.98561\n",
        "#final_pred = 0.9*xgBoost_results + 0.1*gbr_results\n",
        "#final_pred = xgBoost_results  2.05923"
      ],
      "execution_count": 0,
      "outputs": []
    },
    {
      "metadata": {
        "id": "nMcpwXYCzV1p",
        "colab_type": "code",
        "colab": {}
      },
      "cell_type": "code",
      "source": [
        "submission = pd.DataFrame()\n",
        "submission['id'] = test['id']\n",
        "submission['revenue'] = final_pred\n",
        "submission.to_csv('submission.csv', index=False)"
      ],
      "execution_count": 0,
      "outputs": []
    },
    {
      "metadata": {
        "id": "cN8UwDWZ3cke",
        "colab_type": "code",
        "colab": {}
      },
      "cell_type": "code",
      "source": [
        "from google.colab import files\n",
        "files.download('submission.csv')"
      ],
      "execution_count": 0,
      "outputs": []
    },
    {
      "metadata": {
        "id": "DARcBlrhq3NT",
        "colab_type": "text"
      },
      "cell_type": "markdown",
      "source": [
        "### Submitting the solution"
      ]
    },
    {
      "metadata": {
        "colab_type": "code",
        "id": "MM08In9EoZQe",
        "colab": {}
      },
      "cell_type": "code",
      "source": [
        "X_test=test[columns_to_keep].copy()"
      ],
      "execution_count": 0,
      "outputs": []
    },
    {
      "metadata": {
        "id": "TwJXI0UhSFvz",
        "colab_type": "code",
        "outputId": "4226cbe0-f39d-40f5-f112-ffe26ceba03a",
        "colab": {
          "base_uri": "https://localhost:8080/",
          "height": 282
        }
      },
      "cell_type": "code",
      "source": [
        "X_test.head()"
      ],
      "execution_count": 0,
      "outputs": [
        {
          "output_type": "execute_result",
          "data": {
            "text/html": [
              "<div>\n",
              "<style scoped>\n",
              "    .dataframe tbody tr th:only-of-type {\n",
              "        vertical-align: middle;\n",
              "    }\n",
              "\n",
              "    .dataframe tbody tr th {\n",
              "        vertical-align: top;\n",
              "    }\n",
              "\n",
              "    .dataframe thead th {\n",
              "        text-align: right;\n",
              "    }\n",
              "</style>\n",
              "<table border=\"1\" class=\"dataframe\">\n",
              "  <thead>\n",
              "    <tr style=\"text-align: right;\">\n",
              "      <th></th>\n",
              "      <th>belongs_to_collection</th>\n",
              "      <th>budget</th>\n",
              "      <th>homepage</th>\n",
              "      <th>popularity</th>\n",
              "      <th>runtime</th>\n",
              "      <th>tagline</th>\n",
              "      <th>title_length</th>\n",
              "      <th>status_Released</th>\n",
              "      <th>status_Rumored</th>\n",
              "      <th>status_Post Production</th>\n",
              "      <th>...</th>\n",
              "      <th>crew_Avy Kaufman</th>\n",
              "      <th>crew_Robert Rodriguez</th>\n",
              "      <th>crew_Deborah Aquila</th>\n",
              "      <th>crew_James Newton Howard</th>\n",
              "      <th>crew_Mary Vernieu</th>\n",
              "      <th>crew_Steven Spielberg</th>\n",
              "      <th>crew_Luc Besson</th>\n",
              "      <th>crew_Jerry Goldsmith</th>\n",
              "      <th>crew_Francine Maisler</th>\n",
              "      <th>crew_Tricia Wood</th>\n",
              "    </tr>\n",
              "  </thead>\n",
              "  <tbody>\n",
              "    <tr>\n",
              "      <th>0</th>\n",
              "      <td>1</td>\n",
              "      <td>0.000000</td>\n",
              "      <td>1</td>\n",
              "      <td>1.579295</td>\n",
              "      <td>0.220339</td>\n",
              "      <td>51</td>\n",
              "      <td>28</td>\n",
              "      <td>1</td>\n",
              "      <td>0</td>\n",
              "      <td>0</td>\n",
              "      <td>...</td>\n",
              "      <td>0</td>\n",
              "      <td>0</td>\n",
              "      <td>0</td>\n",
              "      <td>0</td>\n",
              "      <td>0</td>\n",
              "      <td>0</td>\n",
              "      <td>0</td>\n",
              "      <td>0</td>\n",
              "      <td>0</td>\n",
              "      <td>0</td>\n",
              "    </tr>\n",
              "    <tr>\n",
              "      <th>1</th>\n",
              "      <td>0</td>\n",
              "      <td>11.385103</td>\n",
              "      <td>0</td>\n",
              "      <td>1.517276</td>\n",
              "      <td>0.135593</td>\n",
              "      <td>96</td>\n",
              "      <td>27</td>\n",
              "      <td>1</td>\n",
              "      <td>0</td>\n",
              "      <td>0</td>\n",
              "      <td>...</td>\n",
              "      <td>0</td>\n",
              "      <td>0</td>\n",
              "      <td>0</td>\n",
              "      <td>0</td>\n",
              "      <td>0</td>\n",
              "      <td>0</td>\n",
              "      <td>0</td>\n",
              "      <td>0</td>\n",
              "      <td>0</td>\n",
              "      <td>0</td>\n",
              "    </tr>\n",
              "    <tr>\n",
              "      <th>2</th>\n",
              "      <td>0</td>\n",
              "      <td>0.000000</td>\n",
              "      <td>0</td>\n",
              "      <td>2.206646</td>\n",
              "      <td>0.254237</td>\n",
              "      <td>41</td>\n",
              "      <td>16</td>\n",
              "      <td>1</td>\n",
              "      <td>0</td>\n",
              "      <td>0</td>\n",
              "      <td>...</td>\n",
              "      <td>0</td>\n",
              "      <td>0</td>\n",
              "      <td>0</td>\n",
              "      <td>0</td>\n",
              "      <td>0</td>\n",
              "      <td>0</td>\n",
              "      <td>0</td>\n",
              "      <td>0</td>\n",
              "      <td>0</td>\n",
              "      <td>0</td>\n",
              "    </tr>\n",
              "    <tr>\n",
              "      <th>3</th>\n",
              "      <td>0</td>\n",
              "      <td>15.732433</td>\n",
              "      <td>1</td>\n",
              "      <td>2.261348</td>\n",
              "      <td>0.355932</td>\n",
              "      <td>55</td>\n",
              "      <td>9</td>\n",
              "      <td>1</td>\n",
              "      <td>0</td>\n",
              "      <td>0</td>\n",
              "      <td>...</td>\n",
              "      <td>0</td>\n",
              "      <td>0</td>\n",
              "      <td>0</td>\n",
              "      <td>0</td>\n",
              "      <td>0</td>\n",
              "      <td>0</td>\n",
              "      <td>0</td>\n",
              "      <td>0</td>\n",
              "      <td>0</td>\n",
              "      <td>0</td>\n",
              "    </tr>\n",
              "    <tr>\n",
              "      <th>4</th>\n",
              "      <td>0</td>\n",
              "      <td>14.508658</td>\n",
              "      <td>0</td>\n",
              "      <td>1.439285</td>\n",
              "      <td>0.227119</td>\n",
              "      <td>221</td>\n",
              "      <td>18</td>\n",
              "      <td>1</td>\n",
              "      <td>0</td>\n",
              "      <td>0</td>\n",
              "      <td>...</td>\n",
              "      <td>0</td>\n",
              "      <td>0</td>\n",
              "      <td>0</td>\n",
              "      <td>0</td>\n",
              "      <td>0</td>\n",
              "      <td>0</td>\n",
              "      <td>0</td>\n",
              "      <td>0</td>\n",
              "      <td>0</td>\n",
              "      <td>0</td>\n",
              "    </tr>\n",
              "  </tbody>\n",
              "</table>\n",
              "<p>5 rows × 109 columns</p>\n",
              "</div>"
            ],
            "text/plain": [
              "   belongs_to_collection     budget  homepage  popularity   runtime  tagline  \\\n",
              "0                      1   0.000000         1    1.579295  0.220339       51   \n",
              "1                      0  11.385103         0    1.517276  0.135593       96   \n",
              "2                      0   0.000000         0    2.206646  0.254237       41   \n",
              "3                      0  15.732433         1    2.261348  0.355932       55   \n",
              "4                      0  14.508658         0    1.439285  0.227119      221   \n",
              "\n",
              "   title_length  status_Released  status_Rumored  status_Post Production  \\\n",
              "0            28                1               0                       0   \n",
              "1            27                1               0                       0   \n",
              "2            16                1               0                       0   \n",
              "3             9                1               0                       0   \n",
              "4            18                1               0                       0   \n",
              "\n",
              "         ...         crew_Avy Kaufman  crew_Robert Rodriguez  \\\n",
              "0        ...                        0                      0   \n",
              "1        ...                        0                      0   \n",
              "2        ...                        0                      0   \n",
              "3        ...                        0                      0   \n",
              "4        ...                        0                      0   \n",
              "\n",
              "   crew_Deborah Aquila  crew_James Newton Howard  crew_Mary Vernieu  \\\n",
              "0                    0                         0                  0   \n",
              "1                    0                         0                  0   \n",
              "2                    0                         0                  0   \n",
              "3                    0                         0                  0   \n",
              "4                    0                         0                  0   \n",
              "\n",
              "   crew_Steven Spielberg  crew_Luc Besson  crew_Jerry Goldsmith  \\\n",
              "0                      0                0                     0   \n",
              "1                      0                0                     0   \n",
              "2                      0                0                     0   \n",
              "3                      0                0                     0   \n",
              "4                      0                0                     0   \n",
              "\n",
              "   crew_Francine Maisler  crew_Tricia Wood  \n",
              "0                      0                 0  \n",
              "1                      0                 0  \n",
              "2                      0                 0  \n",
              "3                      0                 0  \n",
              "4                      0                 0  \n",
              "\n",
              "[5 rows x 109 columns]"
            ]
          },
          "metadata": {
            "tags": []
          },
          "execution_count": 110
        }
      ]
    },
    {
      "metadata": {
        "id": "fyRAPfioSHkk",
        "colab_type": "code",
        "colab": {}
      },
      "cell_type": "code",
      "source": [
        "y_pred=model.predict(X_test)"
      ],
      "execution_count": 0,
      "outputs": []
    },
    {
      "metadata": {
        "id": "qdB7M2GNSL3n",
        "colab_type": "code",
        "outputId": "64210db1-3445-4387-9a75-05fc8cbf046d",
        "colab": {
          "base_uri": "https://localhost:8080/",
          "height": 34
        }
      },
      "cell_type": "code",
      "source": [
        "len(y_pred)"
      ],
      "execution_count": 0,
      "outputs": [
        {
          "output_type": "execute_result",
          "data": {
            "text/plain": [
              "4398"
            ]
          },
          "metadata": {
            "tags": []
          },
          "execution_count": 112
        }
      ]
    },
    {
      "metadata": {
        "id": "yOh_6YhsSeA1",
        "colab_type": "code",
        "outputId": "9734804e-f29c-4060-a07d-a4b9e00173e2",
        "colab": {
          "base_uri": "https://localhost:8080/",
          "height": 34
        }
      },
      "cell_type": "code",
      "source": [
        "X_test.shape"
      ],
      "execution_count": 0,
      "outputs": [
        {
          "output_type": "execute_result",
          "data": {
            "text/plain": [
              "(4398, 109)"
            ]
          },
          "metadata": {
            "tags": []
          },
          "execution_count": 113
        }
      ]
    },
    {
      "metadata": {
        "id": "-xgA3SFgTJcC",
        "colab_type": "code",
        "colab": {}
      },
      "cell_type": "code",
      "source": [
        "id=test['id']"
      ],
      "execution_count": 0,
      "outputs": []
    },
    {
      "metadata": {
        "id": "00GhyWWlSiX2",
        "colab_type": "code",
        "colab": {}
      },
      "cell_type": "code",
      "source": [
        "ans={'id':id,'revenue':y_pred}\n",
        "ans=pd.DataFrame(ans)"
      ],
      "execution_count": 0,
      "outputs": []
    },
    {
      "metadata": {
        "id": "pksnezyMUPMa",
        "colab_type": "code",
        "outputId": "2e88466c-7603-4048-89bb-09b1e6088a7e",
        "colab": {
          "base_uri": "https://localhost:8080/",
          "height": 198
        }
      },
      "cell_type": "code",
      "source": [
        "ans.head()"
      ],
      "execution_count": 0,
      "outputs": [
        {
          "output_type": "execute_result",
          "data": {
            "text/html": [
              "<div>\n",
              "<style scoped>\n",
              "    .dataframe tbody tr th:only-of-type {\n",
              "        vertical-align: middle;\n",
              "    }\n",
              "\n",
              "    .dataframe tbody tr th {\n",
              "        vertical-align: top;\n",
              "    }\n",
              "\n",
              "    .dataframe thead th {\n",
              "        text-align: right;\n",
              "    }\n",
              "</style>\n",
              "<table border=\"1\" class=\"dataframe\">\n",
              "  <thead>\n",
              "    <tr style=\"text-align: right;\">\n",
              "      <th></th>\n",
              "      <th>id</th>\n",
              "      <th>revenue</th>\n",
              "    </tr>\n",
              "  </thead>\n",
              "  <tbody>\n",
              "    <tr>\n",
              "      <th>0</th>\n",
              "      <td>3001</td>\n",
              "      <td>19850013.20</td>\n",
              "    </tr>\n",
              "    <tr>\n",
              "      <th>1</th>\n",
              "      <td>3002</td>\n",
              "      <td>15468227.67</td>\n",
              "    </tr>\n",
              "    <tr>\n",
              "      <th>2</th>\n",
              "      <td>3003</td>\n",
              "      <td>10425585.86</td>\n",
              "    </tr>\n",
              "    <tr>\n",
              "      <th>3</th>\n",
              "      <td>3004</td>\n",
              "      <td>44476383.85</td>\n",
              "    </tr>\n",
              "    <tr>\n",
              "      <th>4</th>\n",
              "      <td>3005</td>\n",
              "      <td>5570618.62</td>\n",
              "    </tr>\n",
              "  </tbody>\n",
              "</table>\n",
              "</div>"
            ],
            "text/plain": [
              "     id      revenue\n",
              "0  3001  19850013.20\n",
              "1  3002  15468227.67\n",
              "2  3003  10425585.86\n",
              "3  3004  44476383.85\n",
              "4  3005   5570618.62"
            ]
          },
          "metadata": {
            "tags": []
          },
          "execution_count": 116
        }
      ]
    },
    {
      "metadata": {
        "id": "YdE9xUEWUFHp",
        "colab_type": "code",
        "colab": {}
      },
      "cell_type": "code",
      "source": [
        "ans.to_csv('pred.csv',index=False)"
      ],
      "execution_count": 0,
      "outputs": []
    },
    {
      "metadata": {
        "id": "6h7YQBZgTNgX",
        "colab_type": "code",
        "colab": {}
      },
      "cell_type": "code",
      "source": [
        "from google.colab import files\n",
        "files.download('pred.csv')"
      ],
      "execution_count": 0,
      "outputs": []
    },
    {
      "metadata": {
        "id": "pScH_JSTUXAM",
        "colab_type": "code",
        "colab": {}
      },
      "cell_type": "code",
      "source": [
        ""
      ],
      "execution_count": 0,
      "outputs": []
    }
  ]
}
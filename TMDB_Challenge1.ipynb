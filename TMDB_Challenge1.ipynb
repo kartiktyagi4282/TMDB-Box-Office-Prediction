{
  "nbformat": 4,
  "nbformat_minor": 0,
  "metadata": {
    "colab": {
      "name": "TMDB Challenge1.ipynb",
      "version": "0.3.2",
      "provenance": [],
      "collapsed_sections": [
        "dcmr-ILrIyVS",
        "6JnJqH0KIyWU"
      ]
    },
    "language_info": {
      "codemirror_mode": {
        "name": "ipython",
        "version": 3
      },
      "file_extension": ".py",
      "mimetype": "text/x-python",
      "name": "python",
      "nbconvert_exporter": "python",
      "pygments_lexer": "ipython3",
      "version": "3.6.8"
    },
    "kernelspec": {
      "name": "python3",
      "display_name": "Python 3"
    },
    "accelerator": "GPU"
  },
  "cells": [
    {
      "metadata": {
        "id": "YXIjNBBtIySX",
        "colab_type": "code",
        "colab": {}
      },
      "cell_type": "code",
      "source": [
        "import pandas as pd\n",
        "import numpy as np\n",
        "import matplotlib.pyplot as plt\n",
        "import seaborn as sns \n",
        "import ast\n",
        "from tqdm import tqdm\n",
        "import time\n",
        "from collections import Counter\n",
        "from sklearn.preprocessing import MinMaxScaler\n",
        "from sklearn.preprocessing import LabelEncoder,OneHotEncoder\n",
        "import warnings\n",
        "warnings.simplefilter(action='ignore', category=FutureWarning)\n",
        "%matplotlib inline"
      ],
      "execution_count": 0,
      "outputs": []
    },
    {
      "metadata": {
        "id": "e26B_1toJG6C",
        "colab_type": "code",
        "outputId": "f69c0f86-c515-4694-e9c9-85fbae9952e9",
        "colab": {
          "base_uri": "https://localhost:8080/",
          "height": 34
        }
      },
      "cell_type": "code",
      "source": [
        "import os\n",
        "os.listdir()"
      ],
      "execution_count": 0,
      "outputs": [
        {
          "output_type": "execute_result",
          "data": {
            "text/plain": [
              "['.config', '.ipynb_checkpoints', '.kaggle', 'tmdb', 'sample_data']"
            ]
          },
          "metadata": {
            "tags": []
          },
          "execution_count": 10
        }
      ]
    },
    {
      "metadata": {
        "id": "b46c7A9iIySk",
        "colab_type": "code",
        "colab": {}
      },
      "cell_type": "code",
      "source": [
        "test=pd.read_csv('tmdb/test.csv')\n",
        "train=pd.read_csv('tmdb/train.csv') "
      ],
      "execution_count": 0,
      "outputs": []
    },
    {
      "metadata": {
        "id": "QX664A-xIySu",
        "colab_type": "code",
        "outputId": "ac1eaeeb-bd85-4899-9f66-326c6ab4dabd",
        "colab": {
          "base_uri": "https://localhost:8080/",
          "height": 661
        }
      },
      "cell_type": "code",
      "source": [
        "train.head()"
      ],
      "execution_count": 0,
      "outputs": [
        {
          "output_type": "execute_result",
          "data": {
            "text/html": [
              "<div>\n",
              "<style scoped>\n",
              "    .dataframe tbody tr th:only-of-type {\n",
              "        vertical-align: middle;\n",
              "    }\n",
              "\n",
              "    .dataframe tbody tr th {\n",
              "        vertical-align: top;\n",
              "    }\n",
              "\n",
              "    .dataframe thead th {\n",
              "        text-align: right;\n",
              "    }\n",
              "</style>\n",
              "<table border=\"1\" class=\"dataframe\">\n",
              "  <thead>\n",
              "    <tr style=\"text-align: right;\">\n",
              "      <th></th>\n",
              "      <th>id</th>\n",
              "      <th>belongs_to_collection</th>\n",
              "      <th>budget</th>\n",
              "      <th>genres</th>\n",
              "      <th>homepage</th>\n",
              "      <th>imdb_id</th>\n",
              "      <th>original_language</th>\n",
              "      <th>original_title</th>\n",
              "      <th>overview</th>\n",
              "      <th>popularity</th>\n",
              "      <th>...</th>\n",
              "      <th>release_date</th>\n",
              "      <th>runtime</th>\n",
              "      <th>spoken_languages</th>\n",
              "      <th>status</th>\n",
              "      <th>tagline</th>\n",
              "      <th>title</th>\n",
              "      <th>Keywords</th>\n",
              "      <th>cast</th>\n",
              "      <th>crew</th>\n",
              "      <th>revenue</th>\n",
              "    </tr>\n",
              "  </thead>\n",
              "  <tbody>\n",
              "    <tr>\n",
              "      <th>0</th>\n",
              "      <td>1</td>\n",
              "      <td>[{'id': 313576, 'name': 'Hot Tub Time Machine ...</td>\n",
              "      <td>14000000</td>\n",
              "      <td>[{'id': 35, 'name': 'Comedy'}]</td>\n",
              "      <td>NaN</td>\n",
              "      <td>tt2637294</td>\n",
              "      <td>en</td>\n",
              "      <td>Hot Tub Time Machine 2</td>\n",
              "      <td>When Lou, who has become the \"father of the In...</td>\n",
              "      <td>6.575393</td>\n",
              "      <td>...</td>\n",
              "      <td>2/20/15</td>\n",
              "      <td>93.0</td>\n",
              "      <td>[{'iso_639_1': 'en', 'name': 'English'}]</td>\n",
              "      <td>Released</td>\n",
              "      <td>The Laws of Space and Time are About to be Vio...</td>\n",
              "      <td>Hot Tub Time Machine 2</td>\n",
              "      <td>[{'id': 4379, 'name': 'time travel'}, {'id': 9...</td>\n",
              "      <td>[{'cast_id': 4, 'character': 'Lou', 'credit_id...</td>\n",
              "      <td>[{'credit_id': '59ac067c92514107af02c8c8', 'de...</td>\n",
              "      <td>12314651</td>\n",
              "    </tr>\n",
              "    <tr>\n",
              "      <th>1</th>\n",
              "      <td>2</td>\n",
              "      <td>[{'id': 107674, 'name': 'The Princess Diaries ...</td>\n",
              "      <td>40000000</td>\n",
              "      <td>[{'id': 35, 'name': 'Comedy'}, {'id': 18, 'nam...</td>\n",
              "      <td>NaN</td>\n",
              "      <td>tt0368933</td>\n",
              "      <td>en</td>\n",
              "      <td>The Princess Diaries 2: Royal Engagement</td>\n",
              "      <td>Mia Thermopolis is now a college graduate and ...</td>\n",
              "      <td>8.248895</td>\n",
              "      <td>...</td>\n",
              "      <td>8/6/04</td>\n",
              "      <td>113.0</td>\n",
              "      <td>[{'iso_639_1': 'en', 'name': 'English'}]</td>\n",
              "      <td>Released</td>\n",
              "      <td>It can take a lifetime to find true love; she'...</td>\n",
              "      <td>The Princess Diaries 2: Royal Engagement</td>\n",
              "      <td>[{'id': 2505, 'name': 'coronation'}, {'id': 42...</td>\n",
              "      <td>[{'cast_id': 1, 'character': 'Mia Thermopolis'...</td>\n",
              "      <td>[{'credit_id': '52fe43fe9251416c7502563d', 'de...</td>\n",
              "      <td>95149435</td>\n",
              "    </tr>\n",
              "    <tr>\n",
              "      <th>2</th>\n",
              "      <td>3</td>\n",
              "      <td>NaN</td>\n",
              "      <td>3300000</td>\n",
              "      <td>[{'id': 18, 'name': 'Drama'}]</td>\n",
              "      <td>http://sonyclassics.com/whiplash/</td>\n",
              "      <td>tt2582802</td>\n",
              "      <td>en</td>\n",
              "      <td>Whiplash</td>\n",
              "      <td>Under the direction of a ruthless instructor, ...</td>\n",
              "      <td>64.299990</td>\n",
              "      <td>...</td>\n",
              "      <td>10/10/14</td>\n",
              "      <td>105.0</td>\n",
              "      <td>[{'iso_639_1': 'en', 'name': 'English'}]</td>\n",
              "      <td>Released</td>\n",
              "      <td>The road to greatness can take you to the edge.</td>\n",
              "      <td>Whiplash</td>\n",
              "      <td>[{'id': 1416, 'name': 'jazz'}, {'id': 1523, 'n...</td>\n",
              "      <td>[{'cast_id': 5, 'character': 'Andrew Neimann',...</td>\n",
              "      <td>[{'credit_id': '54d5356ec3a3683ba0000039', 'de...</td>\n",
              "      <td>13092000</td>\n",
              "    </tr>\n",
              "    <tr>\n",
              "      <th>3</th>\n",
              "      <td>4</td>\n",
              "      <td>NaN</td>\n",
              "      <td>1200000</td>\n",
              "      <td>[{'id': 53, 'name': 'Thriller'}, {'id': 18, 'n...</td>\n",
              "      <td>http://kahaanithefilm.com/</td>\n",
              "      <td>tt1821480</td>\n",
              "      <td>hi</td>\n",
              "      <td>Kahaani</td>\n",
              "      <td>Vidya Bagchi (Vidya Balan) arrives in Kolkata ...</td>\n",
              "      <td>3.174936</td>\n",
              "      <td>...</td>\n",
              "      <td>3/9/12</td>\n",
              "      <td>122.0</td>\n",
              "      <td>[{'iso_639_1': 'en', 'name': 'English'}, {'iso...</td>\n",
              "      <td>Released</td>\n",
              "      <td>NaN</td>\n",
              "      <td>Kahaani</td>\n",
              "      <td>[{'id': 10092, 'name': 'mystery'}, {'id': 1054...</td>\n",
              "      <td>[{'cast_id': 1, 'character': 'Vidya Bagchi', '...</td>\n",
              "      <td>[{'credit_id': '52fe48779251416c9108d6eb', 'de...</td>\n",
              "      <td>16000000</td>\n",
              "    </tr>\n",
              "    <tr>\n",
              "      <th>4</th>\n",
              "      <td>5</td>\n",
              "      <td>NaN</td>\n",
              "      <td>0</td>\n",
              "      <td>[{'id': 28, 'name': 'Action'}, {'id': 53, 'nam...</td>\n",
              "      <td>NaN</td>\n",
              "      <td>tt1380152</td>\n",
              "      <td>ko</td>\n",
              "      <td>마린보이</td>\n",
              "      <td>Marine Boy is the story of a former national s...</td>\n",
              "      <td>1.148070</td>\n",
              "      <td>...</td>\n",
              "      <td>2/5/09</td>\n",
              "      <td>118.0</td>\n",
              "      <td>[{'iso_639_1': 'ko', 'name': '한국어/조선말'}]</td>\n",
              "      <td>Released</td>\n",
              "      <td>NaN</td>\n",
              "      <td>Marine Boy</td>\n",
              "      <td>NaN</td>\n",
              "      <td>[{'cast_id': 3, 'character': 'Chun-soo', 'cred...</td>\n",
              "      <td>[{'credit_id': '52fe464b9251416c75073b43', 'de...</td>\n",
              "      <td>3923970</td>\n",
              "    </tr>\n",
              "  </tbody>\n",
              "</table>\n",
              "<p>5 rows × 23 columns</p>\n",
              "</div>"
            ],
            "text/plain": [
              "   id                              belongs_to_collection    budget  \\\n",
              "0   1  [{'id': 313576, 'name': 'Hot Tub Time Machine ...  14000000   \n",
              "1   2  [{'id': 107674, 'name': 'The Princess Diaries ...  40000000   \n",
              "2   3                                                NaN   3300000   \n",
              "3   4                                                NaN   1200000   \n",
              "4   5                                                NaN         0   \n",
              "\n",
              "                                              genres  \\\n",
              "0                     [{'id': 35, 'name': 'Comedy'}]   \n",
              "1  [{'id': 35, 'name': 'Comedy'}, {'id': 18, 'nam...   \n",
              "2                      [{'id': 18, 'name': 'Drama'}]   \n",
              "3  [{'id': 53, 'name': 'Thriller'}, {'id': 18, 'n...   \n",
              "4  [{'id': 28, 'name': 'Action'}, {'id': 53, 'nam...   \n",
              "\n",
              "                            homepage    imdb_id original_language  \\\n",
              "0                                NaN  tt2637294                en   \n",
              "1                                NaN  tt0368933                en   \n",
              "2  http://sonyclassics.com/whiplash/  tt2582802                en   \n",
              "3         http://kahaanithefilm.com/  tt1821480                hi   \n",
              "4                                NaN  tt1380152                ko   \n",
              "\n",
              "                             original_title  \\\n",
              "0                    Hot Tub Time Machine 2   \n",
              "1  The Princess Diaries 2: Royal Engagement   \n",
              "2                                  Whiplash   \n",
              "3                                   Kahaani   \n",
              "4                                      마린보이   \n",
              "\n",
              "                                            overview  popularity    ...     \\\n",
              "0  When Lou, who has become the \"father of the In...    6.575393    ...      \n",
              "1  Mia Thermopolis is now a college graduate and ...    8.248895    ...      \n",
              "2  Under the direction of a ruthless instructor, ...   64.299990    ...      \n",
              "3  Vidya Bagchi (Vidya Balan) arrives in Kolkata ...    3.174936    ...      \n",
              "4  Marine Boy is the story of a former national s...    1.148070    ...      \n",
              "\n",
              "  release_date runtime                                   spoken_languages  \\\n",
              "0      2/20/15    93.0           [{'iso_639_1': 'en', 'name': 'English'}]   \n",
              "1       8/6/04   113.0           [{'iso_639_1': 'en', 'name': 'English'}]   \n",
              "2     10/10/14   105.0           [{'iso_639_1': 'en', 'name': 'English'}]   \n",
              "3       3/9/12   122.0  [{'iso_639_1': 'en', 'name': 'English'}, {'iso...   \n",
              "4       2/5/09   118.0           [{'iso_639_1': 'ko', 'name': '한국어/조선말'}]   \n",
              "\n",
              "     status                                            tagline  \\\n",
              "0  Released  The Laws of Space and Time are About to be Vio...   \n",
              "1  Released  It can take a lifetime to find true love; she'...   \n",
              "2  Released    The road to greatness can take you to the edge.   \n",
              "3  Released                                                NaN   \n",
              "4  Released                                                NaN   \n",
              "\n",
              "                                      title  \\\n",
              "0                    Hot Tub Time Machine 2   \n",
              "1  The Princess Diaries 2: Royal Engagement   \n",
              "2                                  Whiplash   \n",
              "3                                   Kahaani   \n",
              "4                                Marine Boy   \n",
              "\n",
              "                                            Keywords  \\\n",
              "0  [{'id': 4379, 'name': 'time travel'}, {'id': 9...   \n",
              "1  [{'id': 2505, 'name': 'coronation'}, {'id': 42...   \n",
              "2  [{'id': 1416, 'name': 'jazz'}, {'id': 1523, 'n...   \n",
              "3  [{'id': 10092, 'name': 'mystery'}, {'id': 1054...   \n",
              "4                                                NaN   \n",
              "\n",
              "                                                cast  \\\n",
              "0  [{'cast_id': 4, 'character': 'Lou', 'credit_id...   \n",
              "1  [{'cast_id': 1, 'character': 'Mia Thermopolis'...   \n",
              "2  [{'cast_id': 5, 'character': 'Andrew Neimann',...   \n",
              "3  [{'cast_id': 1, 'character': 'Vidya Bagchi', '...   \n",
              "4  [{'cast_id': 3, 'character': 'Chun-soo', 'cred...   \n",
              "\n",
              "                                                crew   revenue  \n",
              "0  [{'credit_id': '59ac067c92514107af02c8c8', 'de...  12314651  \n",
              "1  [{'credit_id': '52fe43fe9251416c7502563d', 'de...  95149435  \n",
              "2  [{'credit_id': '54d5356ec3a3683ba0000039', 'de...  13092000  \n",
              "3  [{'credit_id': '52fe48779251416c9108d6eb', 'de...  16000000  \n",
              "4  [{'credit_id': '52fe464b9251416c75073b43', 'de...   3923970  \n",
              "\n",
              "[5 rows x 23 columns]"
            ]
          },
          "metadata": {
            "tags": []
          },
          "execution_count": 12
        }
      ]
    },
    {
      "metadata": {
        "id": "gZOfM5bGIyTB",
        "colab_type": "code",
        "outputId": "4bc0ef45-330e-4b39-b2cf-b5ced5140d76",
        "colab": {
          "base_uri": "https://localhost:8080/",
          "height": 644
        }
      },
      "cell_type": "code",
      "source": [
        "test.head()"
      ],
      "execution_count": 0,
      "outputs": [
        {
          "output_type": "execute_result",
          "data": {
            "text/html": [
              "<div>\n",
              "<style scoped>\n",
              "    .dataframe tbody tr th:only-of-type {\n",
              "        vertical-align: middle;\n",
              "    }\n",
              "\n",
              "    .dataframe tbody tr th {\n",
              "        vertical-align: top;\n",
              "    }\n",
              "\n",
              "    .dataframe thead th {\n",
              "        text-align: right;\n",
              "    }\n",
              "</style>\n",
              "<table border=\"1\" class=\"dataframe\">\n",
              "  <thead>\n",
              "    <tr style=\"text-align: right;\">\n",
              "      <th></th>\n",
              "      <th>id</th>\n",
              "      <th>belongs_to_collection</th>\n",
              "      <th>budget</th>\n",
              "      <th>genres</th>\n",
              "      <th>homepage</th>\n",
              "      <th>imdb_id</th>\n",
              "      <th>original_language</th>\n",
              "      <th>original_title</th>\n",
              "      <th>overview</th>\n",
              "      <th>popularity</th>\n",
              "      <th>...</th>\n",
              "      <th>production_countries</th>\n",
              "      <th>release_date</th>\n",
              "      <th>runtime</th>\n",
              "      <th>spoken_languages</th>\n",
              "      <th>status</th>\n",
              "      <th>tagline</th>\n",
              "      <th>title</th>\n",
              "      <th>Keywords</th>\n",
              "      <th>cast</th>\n",
              "      <th>crew</th>\n",
              "    </tr>\n",
              "  </thead>\n",
              "  <tbody>\n",
              "    <tr>\n",
              "      <th>0</th>\n",
              "      <td>3001</td>\n",
              "      <td>[{'id': 34055, 'name': 'Pokémon Collection', '...</td>\n",
              "      <td>0</td>\n",
              "      <td>[{'id': 12, 'name': 'Adventure'}, {'id': 16, '...</td>\n",
              "      <td>http://www.pokemon.com/us/movies/movie-pokemon...</td>\n",
              "      <td>tt1226251</td>\n",
              "      <td>ja</td>\n",
              "      <td>ディアルガVSパルキアVSダークライ</td>\n",
              "      <td>Ash and friends (this time accompanied by newc...</td>\n",
              "      <td>3.851534</td>\n",
              "      <td>...</td>\n",
              "      <td>[{'iso_3166_1': 'JP', 'name': 'Japan'}, {'iso_...</td>\n",
              "      <td>7/14/07</td>\n",
              "      <td>90.0</td>\n",
              "      <td>[{'iso_639_1': 'en', 'name': 'English'}, {'iso...</td>\n",
              "      <td>Released</td>\n",
              "      <td>Somewhere Between Time &amp; Space... A Legend Is ...</td>\n",
              "      <td>Pokémon: The Rise of Darkrai</td>\n",
              "      <td>[{'id': 11451, 'name': 'pok√©mon'}, {'id': 115...</td>\n",
              "      <td>[{'cast_id': 3, 'character': 'Tonio', 'credit_...</td>\n",
              "      <td>[{'credit_id': '52fe44e7c3a368484e03d683', 'de...</td>\n",
              "    </tr>\n",
              "    <tr>\n",
              "      <th>1</th>\n",
              "      <td>3002</td>\n",
              "      <td>NaN</td>\n",
              "      <td>88000</td>\n",
              "      <td>[{'id': 27, 'name': 'Horror'}, {'id': 878, 'na...</td>\n",
              "      <td>NaN</td>\n",
              "      <td>tt0051380</td>\n",
              "      <td>en</td>\n",
              "      <td>Attack of the 50 Foot Woman</td>\n",
              "      <td>When an abused wife grows to giant size becaus...</td>\n",
              "      <td>3.559789</td>\n",
              "      <td>...</td>\n",
              "      <td>[{'iso_3166_1': 'US', 'name': 'United States o...</td>\n",
              "      <td>5/19/58</td>\n",
              "      <td>65.0</td>\n",
              "      <td>[{'iso_639_1': 'en', 'name': 'English'}]</td>\n",
              "      <td>Released</td>\n",
              "      <td>A titanic beauty spreads a macabre wave of hor...</td>\n",
              "      <td>Attack of the 50 Foot Woman</td>\n",
              "      <td>[{'id': 9748, 'name': 'revenge'}, {'id': 9951,...</td>\n",
              "      <td>[{'cast_id': 2, 'character': 'Nancy Fowler Arc...</td>\n",
              "      <td>[{'credit_id': '55807805c3a3685b1300060b', 'de...</td>\n",
              "    </tr>\n",
              "    <tr>\n",
              "      <th>2</th>\n",
              "      <td>3003</td>\n",
              "      <td>NaN</td>\n",
              "      <td>0</td>\n",
              "      <td>[{'id': 35, 'name': 'Comedy'}, {'id': 10749, '...</td>\n",
              "      <td>NaN</td>\n",
              "      <td>tt0118556</td>\n",
              "      <td>en</td>\n",
              "      <td>Addicted to Love</td>\n",
              "      <td>Good-natured astronomer Sam is devastated when...</td>\n",
              "      <td>8.085194</td>\n",
              "      <td>...</td>\n",
              "      <td>[{'iso_3166_1': 'US', 'name': 'United States o...</td>\n",
              "      <td>5/23/97</td>\n",
              "      <td>100.0</td>\n",
              "      <td>[{'iso_639_1': 'en', 'name': 'English'}]</td>\n",
              "      <td>Released</td>\n",
              "      <td>A Comedy About Lost Loves And Last Laughs</td>\n",
              "      <td>Addicted to Love</td>\n",
              "      <td>[{'id': 931, 'name': 'jealousy'}, {'id': 9673,...</td>\n",
              "      <td>[{'cast_id': 11, 'character': 'Maggie', 'credi...</td>\n",
              "      <td>[{'credit_id': '52fe4330c3a36847f8041367', 'de...</td>\n",
              "    </tr>\n",
              "    <tr>\n",
              "      <th>3</th>\n",
              "      <td>3004</td>\n",
              "      <td>NaN</td>\n",
              "      <td>6800000</td>\n",
              "      <td>[{'id': 18, 'name': 'Drama'}, {'id': 10752, 'n...</td>\n",
              "      <td>http://www.sonyclassics.com/incendies/</td>\n",
              "      <td>tt1255953</td>\n",
              "      <td>fr</td>\n",
              "      <td>Incendies</td>\n",
              "      <td>A mother's last wishes send twins Jeanne and S...</td>\n",
              "      <td>8.596012</td>\n",
              "      <td>...</td>\n",
              "      <td>[{'iso_3166_1': 'CA', 'name': 'Canada'}, {'iso...</td>\n",
              "      <td>9/4/10</td>\n",
              "      <td>130.0</td>\n",
              "      <td>[{'iso_639_1': 'fr', 'name': 'Français'}, {'is...</td>\n",
              "      <td>Released</td>\n",
              "      <td>The search began at the opening of their mothe...</td>\n",
              "      <td>Incendies</td>\n",
              "      <td>[{'id': 378, 'name': 'prison'}, {'id': 539, 'n...</td>\n",
              "      <td>[{'cast_id': 6, 'character': 'Nawal', 'credit_...</td>\n",
              "      <td>[{'credit_id': '56478092c3a36826140043af', 'de...</td>\n",
              "    </tr>\n",
              "    <tr>\n",
              "      <th>4</th>\n",
              "      <td>3005</td>\n",
              "      <td>NaN</td>\n",
              "      <td>2000000</td>\n",
              "      <td>[{'id': 36, 'name': 'History'}, {'id': 99, 'na...</td>\n",
              "      <td>NaN</td>\n",
              "      <td>tt0418753</td>\n",
              "      <td>en</td>\n",
              "      <td>Inside Deep Throat</td>\n",
              "      <td>In 1972, a seemingly typical shoestring budget...</td>\n",
              "      <td>3.217680</td>\n",
              "      <td>...</td>\n",
              "      <td>[{'iso_3166_1': 'US', 'name': 'United States o...</td>\n",
              "      <td>2/11/05</td>\n",
              "      <td>92.0</td>\n",
              "      <td>[{'iso_639_1': 'en', 'name': 'English'}]</td>\n",
              "      <td>Released</td>\n",
              "      <td>It was filmed in 6 days for 25 thousand dollar...</td>\n",
              "      <td>Inside Deep Throat</td>\n",
              "      <td>[{'id': 279, 'name': 'usa'}, {'id': 1228, 'nam...</td>\n",
              "      <td>[{'cast_id': 1, 'character': 'Narrator (voice)...</td>\n",
              "      <td>[{'credit_id': '52fe44ce9251416c75041967', 'de...</td>\n",
              "    </tr>\n",
              "  </tbody>\n",
              "</table>\n",
              "<p>5 rows × 22 columns</p>\n",
              "</div>"
            ],
            "text/plain": [
              "     id                              belongs_to_collection   budget  \\\n",
              "0  3001  [{'id': 34055, 'name': 'Pokémon Collection', '...        0   \n",
              "1  3002                                                NaN    88000   \n",
              "2  3003                                                NaN        0   \n",
              "3  3004                                                NaN  6800000   \n",
              "4  3005                                                NaN  2000000   \n",
              "\n",
              "                                              genres  \\\n",
              "0  [{'id': 12, 'name': 'Adventure'}, {'id': 16, '...   \n",
              "1  [{'id': 27, 'name': 'Horror'}, {'id': 878, 'na...   \n",
              "2  [{'id': 35, 'name': 'Comedy'}, {'id': 10749, '...   \n",
              "3  [{'id': 18, 'name': 'Drama'}, {'id': 10752, 'n...   \n",
              "4  [{'id': 36, 'name': 'History'}, {'id': 99, 'na...   \n",
              "\n",
              "                                            homepage    imdb_id  \\\n",
              "0  http://www.pokemon.com/us/movies/movie-pokemon...  tt1226251   \n",
              "1                                                NaN  tt0051380   \n",
              "2                                                NaN  tt0118556   \n",
              "3             http://www.sonyclassics.com/incendies/  tt1255953   \n",
              "4                                                NaN  tt0418753   \n",
              "\n",
              "  original_language               original_title  \\\n",
              "0                ja           ディアルガVSパルキアVSダークライ   \n",
              "1                en  Attack of the 50 Foot Woman   \n",
              "2                en             Addicted to Love   \n",
              "3                fr                    Incendies   \n",
              "4                en           Inside Deep Throat   \n",
              "\n",
              "                                            overview  popularity  \\\n",
              "0  Ash and friends (this time accompanied by newc...    3.851534   \n",
              "1  When an abused wife grows to giant size becaus...    3.559789   \n",
              "2  Good-natured astronomer Sam is devastated when...    8.085194   \n",
              "3  A mother's last wishes send twins Jeanne and S...    8.596012   \n",
              "4  In 1972, a seemingly typical shoestring budget...    3.217680   \n",
              "\n",
              "                         ...                          \\\n",
              "0                        ...                           \n",
              "1                        ...                           \n",
              "2                        ...                           \n",
              "3                        ...                           \n",
              "4                        ...                           \n",
              "\n",
              "                                production_countries release_date runtime  \\\n",
              "0  [{'iso_3166_1': 'JP', 'name': 'Japan'}, {'iso_...      7/14/07    90.0   \n",
              "1  [{'iso_3166_1': 'US', 'name': 'United States o...      5/19/58    65.0   \n",
              "2  [{'iso_3166_1': 'US', 'name': 'United States o...      5/23/97   100.0   \n",
              "3  [{'iso_3166_1': 'CA', 'name': 'Canada'}, {'iso...       9/4/10   130.0   \n",
              "4  [{'iso_3166_1': 'US', 'name': 'United States o...      2/11/05    92.0   \n",
              "\n",
              "                                    spoken_languages    status  \\\n",
              "0  [{'iso_639_1': 'en', 'name': 'English'}, {'iso...  Released   \n",
              "1           [{'iso_639_1': 'en', 'name': 'English'}]  Released   \n",
              "2           [{'iso_639_1': 'en', 'name': 'English'}]  Released   \n",
              "3  [{'iso_639_1': 'fr', 'name': 'Français'}, {'is...  Released   \n",
              "4           [{'iso_639_1': 'en', 'name': 'English'}]  Released   \n",
              "\n",
              "                                             tagline  \\\n",
              "0  Somewhere Between Time & Space... A Legend Is ...   \n",
              "1  A titanic beauty spreads a macabre wave of hor...   \n",
              "2          A Comedy About Lost Loves And Last Laughs   \n",
              "3  The search began at the opening of their mothe...   \n",
              "4  It was filmed in 6 days for 25 thousand dollar...   \n",
              "\n",
              "                          title  \\\n",
              "0  Pokémon: The Rise of Darkrai   \n",
              "1   Attack of the 50 Foot Woman   \n",
              "2              Addicted to Love   \n",
              "3                     Incendies   \n",
              "4            Inside Deep Throat   \n",
              "\n",
              "                                            Keywords  \\\n",
              "0  [{'id': 11451, 'name': 'pok√©mon'}, {'id': 115...   \n",
              "1  [{'id': 9748, 'name': 'revenge'}, {'id': 9951,...   \n",
              "2  [{'id': 931, 'name': 'jealousy'}, {'id': 9673,...   \n",
              "3  [{'id': 378, 'name': 'prison'}, {'id': 539, 'n...   \n",
              "4  [{'id': 279, 'name': 'usa'}, {'id': 1228, 'nam...   \n",
              "\n",
              "                                                cast  \\\n",
              "0  [{'cast_id': 3, 'character': 'Tonio', 'credit_...   \n",
              "1  [{'cast_id': 2, 'character': 'Nancy Fowler Arc...   \n",
              "2  [{'cast_id': 11, 'character': 'Maggie', 'credi...   \n",
              "3  [{'cast_id': 6, 'character': 'Nawal', 'credit_...   \n",
              "4  [{'cast_id': 1, 'character': 'Narrator (voice)...   \n",
              "\n",
              "                                                crew  \n",
              "0  [{'credit_id': '52fe44e7c3a368484e03d683', 'de...  \n",
              "1  [{'credit_id': '55807805c3a3685b1300060b', 'de...  \n",
              "2  [{'credit_id': '52fe4330c3a36847f8041367', 'de...  \n",
              "3  [{'credit_id': '56478092c3a36826140043af', 'de...  \n",
              "4  [{'credit_id': '52fe44ce9251416c75041967', 'de...  \n",
              "\n",
              "[5 rows x 22 columns]"
            ]
          },
          "metadata": {
            "tags": []
          },
          "execution_count": 13
        }
      ]
    },
    {
      "metadata": {
        "id": "QTFPLVe6IyTP",
        "colab_type": "code",
        "outputId": "c2342c0e-e16d-4a20-8f03-d5c015feff03",
        "colab": {
          "base_uri": "https://localhost:8080/",
          "height": 34
        }
      },
      "cell_type": "code",
      "source": [
        "train.shape"
      ],
      "execution_count": 0,
      "outputs": [
        {
          "output_type": "execute_result",
          "data": {
            "text/plain": [
              "(3000, 23)"
            ]
          },
          "metadata": {
            "tags": []
          },
          "execution_count": 14
        }
      ]
    },
    {
      "metadata": {
        "id": "aAefwAI-IyTe",
        "colab_type": "code",
        "outputId": "61d10b44-019c-4a25-9f3f-1ce28947f54c",
        "colab": {
          "base_uri": "https://localhost:8080/",
          "height": 119
        }
      },
      "cell_type": "code",
      "source": [
        "train.columns"
      ],
      "execution_count": 0,
      "outputs": [
        {
          "output_type": "execute_result",
          "data": {
            "text/plain": [
              "Index(['id', 'belongs_to_collection', 'budget', 'genres', 'homepage',\n",
              "       'imdb_id', 'original_language', 'original_title', 'overview',\n",
              "       'popularity', 'poster_path', 'production_companies',\n",
              "       'production_countries', 'release_date', 'runtime', 'spoken_languages',\n",
              "       'status', 'tagline', 'title', 'Keywords', 'cast', 'crew', 'revenue'],\n",
              "      dtype='object')"
            ]
          },
          "metadata": {
            "tags": []
          },
          "execution_count": 15
        }
      ]
    },
    {
      "metadata": {
        "scrolled": false,
        "id": "_wIo-VxgIyTp",
        "colab_type": "code",
        "outputId": "26ced60c-d97f-4e2b-8dff-3eb930126a30",
        "colab": {
          "base_uri": "https://localhost:8080/",
          "height": 493
        }
      },
      "cell_type": "code",
      "source": [
        "train.info() "
      ],
      "execution_count": 0,
      "outputs": [
        {
          "output_type": "stream",
          "text": [
            "<class 'pandas.core.frame.DataFrame'>\n",
            "RangeIndex: 3000 entries, 0 to 2999\n",
            "Data columns (total 23 columns):\n",
            "id                       3000 non-null int64\n",
            "belongs_to_collection    604 non-null object\n",
            "budget                   3000 non-null int64\n",
            "genres                   2993 non-null object\n",
            "homepage                 946 non-null object\n",
            "imdb_id                  3000 non-null object\n",
            "original_language        3000 non-null object\n",
            "original_title           3000 non-null object\n",
            "overview                 2992 non-null object\n",
            "popularity               3000 non-null float64\n",
            "poster_path              2999 non-null object\n",
            "production_companies     2844 non-null object\n",
            "production_countries     2945 non-null object\n",
            "release_date             3000 non-null object\n",
            "runtime                  2998 non-null float64\n",
            "spoken_languages         2980 non-null object\n",
            "status                   3000 non-null object\n",
            "tagline                  2403 non-null object\n",
            "title                    3000 non-null object\n",
            "Keywords                 2724 non-null object\n",
            "cast                     2987 non-null object\n",
            "crew                     2984 non-null object\n",
            "revenue                  3000 non-null int64\n",
            "dtypes: float64(2), int64(3), object(18)\n",
            "memory usage: 539.1+ KB\n"
          ],
          "name": "stdout"
        }
      ]
    },
    {
      "metadata": {
        "id": "sy7P7mJTIyT1",
        "colab_type": "code",
        "outputId": "4feeae44-1086-427b-e21c-472c410f3202",
        "colab": {
          "base_uri": "https://localhost:8080/",
          "height": 425
        }
      },
      "cell_type": "code",
      "source": [
        "train.isnull().sum() "
      ],
      "execution_count": 0,
      "outputs": [
        {
          "output_type": "execute_result",
          "data": {
            "text/plain": [
              "id                          0\n",
              "belongs_to_collection    2396\n",
              "budget                      0\n",
              "genres                      7\n",
              "homepage                 2054\n",
              "imdb_id                     0\n",
              "original_language           0\n",
              "original_title              0\n",
              "overview                    8\n",
              "popularity                  0\n",
              "poster_path                 1\n",
              "production_companies      156\n",
              "production_countries       55\n",
              "release_date                0\n",
              "runtime                     2\n",
              "spoken_languages           20\n",
              "status                      0\n",
              "tagline                   597\n",
              "title                       0\n",
              "Keywords                  276\n",
              "cast                       13\n",
              "crew                       16\n",
              "revenue                     0\n",
              "dtype: int64"
            ]
          },
          "metadata": {
            "tags": []
          },
          "execution_count": 17
        }
      ]
    },
    {
      "metadata": {
        "id": "vVgFcsOYIyT_",
        "colab_type": "code",
        "outputId": "ef3225bc-e019-40f2-abfb-006a347b842c",
        "colab": {
          "base_uri": "https://localhost:8080/",
          "height": 408
        }
      },
      "cell_type": "code",
      "source": [
        "test.isnull().sum() "
      ],
      "execution_count": 0,
      "outputs": [
        {
          "output_type": "execute_result",
          "data": {
            "text/plain": [
              "id                          0\n",
              "belongs_to_collection    3521\n",
              "budget                      0\n",
              "genres                     16\n",
              "homepage                 2978\n",
              "imdb_id                     0\n",
              "original_language           0\n",
              "original_title              0\n",
              "overview                   14\n",
              "popularity                  0\n",
              "poster_path                 1\n",
              "production_companies      258\n",
              "production_countries      102\n",
              "release_date                1\n",
              "runtime                     4\n",
              "spoken_languages           42\n",
              "status                      2\n",
              "tagline                   863\n",
              "title                       3\n",
              "Keywords                  393\n",
              "cast                       13\n",
              "crew                       22\n",
              "dtype: int64"
            ]
          },
          "metadata": {
            "tags": []
          },
          "execution_count": 18
        }
      ]
    },
    {
      "metadata": {
        "id": "Xx4jvNEKIyUL",
        "colab_type": "code",
        "outputId": "7c37e87e-7b5a-428c-df8a-20cb9a8c7436",
        "colab": {
          "base_uri": "https://localhost:8080/",
          "height": 34
        }
      },
      "cell_type": "code",
      "source": [
        "train['poster_path'].unique().shape # poster path is of no use 3000 unique vals"
      ],
      "execution_count": 0,
      "outputs": [
        {
          "output_type": "execute_result",
          "data": {
            "text/plain": [
              "(3000,)"
            ]
          },
          "metadata": {
            "tags": []
          },
          "execution_count": 19
        }
      ]
    },
    {
      "metadata": {
        "id": "CGIzpiBaIyUX",
        "colab_type": "code",
        "outputId": "0a9bebb2-271d-47c7-ed0e-ac7fd00d1898",
        "colab": {
          "base_uri": "https://localhost:8080/",
          "height": 54
        }
      },
      "cell_type": "code",
      "source": [
        "train['belongs_to_collection'][0]"
      ],
      "execution_count": 0,
      "outputs": [
        {
          "output_type": "execute_result",
          "data": {
            "text/plain": [
              "\"[{'id': 313576, 'name': 'Hot Tub Time Machine Collection', 'poster_path': '/iEhb00TGPucF0b4joM1ieyY026U.jpg', 'backdrop_path': '/noeTVcgpBiD48fDjFVic1Vz7ope.jpg'}]\""
            ]
          },
          "metadata": {
            "tags": []
          },
          "execution_count": 20
        }
      ]
    },
    {
      "metadata": {
        "id": "xlzC1tFSIyUj",
        "colab_type": "code",
        "outputId": "b7cb537e-18a0-4e8d-9f97-f6d20abb2275",
        "colab": {
          "base_uri": "https://localhost:8080/",
          "height": 16014
        }
      },
      "cell_type": "code",
      "source": [
        "sorted(train['homepage'].value_counts(),reverse=True) # homepage is of no use 3000 unique vals"
      ],
      "execution_count": 0,
      "outputs": [
        {
          "output_type": "execute_result",
          "data": {
            "text/plain": [
              "[4,\n",
              " 2,\n",
              " 2,\n",
              " 1,\n",
              " 1,\n",
              " 1,\n",
              " 1,\n",
              " 1,\n",
              " 1,\n",
              " 1,\n",
              " 1,\n",
              " 1,\n",
              " 1,\n",
              " 1,\n",
              " 1,\n",
              " 1,\n",
              " 1,\n",
              " 1,\n",
              " 1,\n",
              " 1,\n",
              " 1,\n",
              " 1,\n",
              " 1,\n",
              " 1,\n",
              " 1,\n",
              " 1,\n",
              " 1,\n",
              " 1,\n",
              " 1,\n",
              " 1,\n",
              " 1,\n",
              " 1,\n",
              " 1,\n",
              " 1,\n",
              " 1,\n",
              " 1,\n",
              " 1,\n",
              " 1,\n",
              " 1,\n",
              " 1,\n",
              " 1,\n",
              " 1,\n",
              " 1,\n",
              " 1,\n",
              " 1,\n",
              " 1,\n",
              " 1,\n",
              " 1,\n",
              " 1,\n",
              " 1,\n",
              " 1,\n",
              " 1,\n",
              " 1,\n",
              " 1,\n",
              " 1,\n",
              " 1,\n",
              " 1,\n",
              " 1,\n",
              " 1,\n",
              " 1,\n",
              " 1,\n",
              " 1,\n",
              " 1,\n",
              " 1,\n",
              " 1,\n",
              " 1,\n",
              " 1,\n",
              " 1,\n",
              " 1,\n",
              " 1,\n",
              " 1,\n",
              " 1,\n",
              " 1,\n",
              " 1,\n",
              " 1,\n",
              " 1,\n",
              " 1,\n",
              " 1,\n",
              " 1,\n",
              " 1,\n",
              " 1,\n",
              " 1,\n",
              " 1,\n",
              " 1,\n",
              " 1,\n",
              " 1,\n",
              " 1,\n",
              " 1,\n",
              " 1,\n",
              " 1,\n",
              " 1,\n",
              " 1,\n",
              " 1,\n",
              " 1,\n",
              " 1,\n",
              " 1,\n",
              " 1,\n",
              " 1,\n",
              " 1,\n",
              " 1,\n",
              " 1,\n",
              " 1,\n",
              " 1,\n",
              " 1,\n",
              " 1,\n",
              " 1,\n",
              " 1,\n",
              " 1,\n",
              " 1,\n",
              " 1,\n",
              " 1,\n",
              " 1,\n",
              " 1,\n",
              " 1,\n",
              " 1,\n",
              " 1,\n",
              " 1,\n",
              " 1,\n",
              " 1,\n",
              " 1,\n",
              " 1,\n",
              " 1,\n",
              " 1,\n",
              " 1,\n",
              " 1,\n",
              " 1,\n",
              " 1,\n",
              " 1,\n",
              " 1,\n",
              " 1,\n",
              " 1,\n",
              " 1,\n",
              " 1,\n",
              " 1,\n",
              " 1,\n",
              " 1,\n",
              " 1,\n",
              " 1,\n",
              " 1,\n",
              " 1,\n",
              " 1,\n",
              " 1,\n",
              " 1,\n",
              " 1,\n",
              " 1,\n",
              " 1,\n",
              " 1,\n",
              " 1,\n",
              " 1,\n",
              " 1,\n",
              " 1,\n",
              " 1,\n",
              " 1,\n",
              " 1,\n",
              " 1,\n",
              " 1,\n",
              " 1,\n",
              " 1,\n",
              " 1,\n",
              " 1,\n",
              " 1,\n",
              " 1,\n",
              " 1,\n",
              " 1,\n",
              " 1,\n",
              " 1,\n",
              " 1,\n",
              " 1,\n",
              " 1,\n",
              " 1,\n",
              " 1,\n",
              " 1,\n",
              " 1,\n",
              " 1,\n",
              " 1,\n",
              " 1,\n",
              " 1,\n",
              " 1,\n",
              " 1,\n",
              " 1,\n",
              " 1,\n",
              " 1,\n",
              " 1,\n",
              " 1,\n",
              " 1,\n",
              " 1,\n",
              " 1,\n",
              " 1,\n",
              " 1,\n",
              " 1,\n",
              " 1,\n",
              " 1,\n",
              " 1,\n",
              " 1,\n",
              " 1,\n",
              " 1,\n",
              " 1,\n",
              " 1,\n",
              " 1,\n",
              " 1,\n",
              " 1,\n",
              " 1,\n",
              " 1,\n",
              " 1,\n",
              " 1,\n",
              " 1,\n",
              " 1,\n",
              " 1,\n",
              " 1,\n",
              " 1,\n",
              " 1,\n",
              " 1,\n",
              " 1,\n",
              " 1,\n",
              " 1,\n",
              " 1,\n",
              " 1,\n",
              " 1,\n",
              " 1,\n",
              " 1,\n",
              " 1,\n",
              " 1,\n",
              " 1,\n",
              " 1,\n",
              " 1,\n",
              " 1,\n",
              " 1,\n",
              " 1,\n",
              " 1,\n",
              " 1,\n",
              " 1,\n",
              " 1,\n",
              " 1,\n",
              " 1,\n",
              " 1,\n",
              " 1,\n",
              " 1,\n",
              " 1,\n",
              " 1,\n",
              " 1,\n",
              " 1,\n",
              " 1,\n",
              " 1,\n",
              " 1,\n",
              " 1,\n",
              " 1,\n",
              " 1,\n",
              " 1,\n",
              " 1,\n",
              " 1,\n",
              " 1,\n",
              " 1,\n",
              " 1,\n",
              " 1,\n",
              " 1,\n",
              " 1,\n",
              " 1,\n",
              " 1,\n",
              " 1,\n",
              " 1,\n",
              " 1,\n",
              " 1,\n",
              " 1,\n",
              " 1,\n",
              " 1,\n",
              " 1,\n",
              " 1,\n",
              " 1,\n",
              " 1,\n",
              " 1,\n",
              " 1,\n",
              " 1,\n",
              " 1,\n",
              " 1,\n",
              " 1,\n",
              " 1,\n",
              " 1,\n",
              " 1,\n",
              " 1,\n",
              " 1,\n",
              " 1,\n",
              " 1,\n",
              " 1,\n",
              " 1,\n",
              " 1,\n",
              " 1,\n",
              " 1,\n",
              " 1,\n",
              " 1,\n",
              " 1,\n",
              " 1,\n",
              " 1,\n",
              " 1,\n",
              " 1,\n",
              " 1,\n",
              " 1,\n",
              " 1,\n",
              " 1,\n",
              " 1,\n",
              " 1,\n",
              " 1,\n",
              " 1,\n",
              " 1,\n",
              " 1,\n",
              " 1,\n",
              " 1,\n",
              " 1,\n",
              " 1,\n",
              " 1,\n",
              " 1,\n",
              " 1,\n",
              " 1,\n",
              " 1,\n",
              " 1,\n",
              " 1,\n",
              " 1,\n",
              " 1,\n",
              " 1,\n",
              " 1,\n",
              " 1,\n",
              " 1,\n",
              " 1,\n",
              " 1,\n",
              " 1,\n",
              " 1,\n",
              " 1,\n",
              " 1,\n",
              " 1,\n",
              " 1,\n",
              " 1,\n",
              " 1,\n",
              " 1,\n",
              " 1,\n",
              " 1,\n",
              " 1,\n",
              " 1,\n",
              " 1,\n",
              " 1,\n",
              " 1,\n",
              " 1,\n",
              " 1,\n",
              " 1,\n",
              " 1,\n",
              " 1,\n",
              " 1,\n",
              " 1,\n",
              " 1,\n",
              " 1,\n",
              " 1,\n",
              " 1,\n",
              " 1,\n",
              " 1,\n",
              " 1,\n",
              " 1,\n",
              " 1,\n",
              " 1,\n",
              " 1,\n",
              " 1,\n",
              " 1,\n",
              " 1,\n",
              " 1,\n",
              " 1,\n",
              " 1,\n",
              " 1,\n",
              " 1,\n",
              " 1,\n",
              " 1,\n",
              " 1,\n",
              " 1,\n",
              " 1,\n",
              " 1,\n",
              " 1,\n",
              " 1,\n",
              " 1,\n",
              " 1,\n",
              " 1,\n",
              " 1,\n",
              " 1,\n",
              " 1,\n",
              " 1,\n",
              " 1,\n",
              " 1,\n",
              " 1,\n",
              " 1,\n",
              " 1,\n",
              " 1,\n",
              " 1,\n",
              " 1,\n",
              " 1,\n",
              " 1,\n",
              " 1,\n",
              " 1,\n",
              " 1,\n",
              " 1,\n",
              " 1,\n",
              " 1,\n",
              " 1,\n",
              " 1,\n",
              " 1,\n",
              " 1,\n",
              " 1,\n",
              " 1,\n",
              " 1,\n",
              " 1,\n",
              " 1,\n",
              " 1,\n",
              " 1,\n",
              " 1,\n",
              " 1,\n",
              " 1,\n",
              " 1,\n",
              " 1,\n",
              " 1,\n",
              " 1,\n",
              " 1,\n",
              " 1,\n",
              " 1,\n",
              " 1,\n",
              " 1,\n",
              " 1,\n",
              " 1,\n",
              " 1,\n",
              " 1,\n",
              " 1,\n",
              " 1,\n",
              " 1,\n",
              " 1,\n",
              " 1,\n",
              " 1,\n",
              " 1,\n",
              " 1,\n",
              " 1,\n",
              " 1,\n",
              " 1,\n",
              " 1,\n",
              " 1,\n",
              " 1,\n",
              " 1,\n",
              " 1,\n",
              " 1,\n",
              " 1,\n",
              " 1,\n",
              " 1,\n",
              " 1,\n",
              " 1,\n",
              " 1,\n",
              " 1,\n",
              " 1,\n",
              " 1,\n",
              " 1,\n",
              " 1,\n",
              " 1,\n",
              " 1,\n",
              " 1,\n",
              " 1,\n",
              " 1,\n",
              " 1,\n",
              " 1,\n",
              " 1,\n",
              " 1,\n",
              " 1,\n",
              " 1,\n",
              " 1,\n",
              " 1,\n",
              " 1,\n",
              " 1,\n",
              " 1,\n",
              " 1,\n",
              " 1,\n",
              " 1,\n",
              " 1,\n",
              " 1,\n",
              " 1,\n",
              " 1,\n",
              " 1,\n",
              " 1,\n",
              " 1,\n",
              " 1,\n",
              " 1,\n",
              " 1,\n",
              " 1,\n",
              " 1,\n",
              " 1,\n",
              " 1,\n",
              " 1,\n",
              " 1,\n",
              " 1,\n",
              " 1,\n",
              " 1,\n",
              " 1,\n",
              " 1,\n",
              " 1,\n",
              " 1,\n",
              " 1,\n",
              " 1,\n",
              " 1,\n",
              " 1,\n",
              " 1,\n",
              " 1,\n",
              " 1,\n",
              " 1,\n",
              " 1,\n",
              " 1,\n",
              " 1,\n",
              " 1,\n",
              " 1,\n",
              " 1,\n",
              " 1,\n",
              " 1,\n",
              " 1,\n",
              " 1,\n",
              " 1,\n",
              " 1,\n",
              " 1,\n",
              " 1,\n",
              " 1,\n",
              " 1,\n",
              " 1,\n",
              " 1,\n",
              " 1,\n",
              " 1,\n",
              " 1,\n",
              " 1,\n",
              " 1,\n",
              " 1,\n",
              " 1,\n",
              " 1,\n",
              " 1,\n",
              " 1,\n",
              " 1,\n",
              " 1,\n",
              " 1,\n",
              " 1,\n",
              " 1,\n",
              " 1,\n",
              " 1,\n",
              " 1,\n",
              " 1,\n",
              " 1,\n",
              " 1,\n",
              " 1,\n",
              " 1,\n",
              " 1,\n",
              " 1,\n",
              " 1,\n",
              " 1,\n",
              " 1,\n",
              " 1,\n",
              " 1,\n",
              " 1,\n",
              " 1,\n",
              " 1,\n",
              " 1,\n",
              " 1,\n",
              " 1,\n",
              " 1,\n",
              " 1,\n",
              " 1,\n",
              " 1,\n",
              " 1,\n",
              " 1,\n",
              " 1,\n",
              " 1,\n",
              " 1,\n",
              " 1,\n",
              " 1,\n",
              " 1,\n",
              " 1,\n",
              " 1,\n",
              " 1,\n",
              " 1,\n",
              " 1,\n",
              " 1,\n",
              " 1,\n",
              " 1,\n",
              " 1,\n",
              " 1,\n",
              " 1,\n",
              " 1,\n",
              " 1,\n",
              " 1,\n",
              " 1,\n",
              " 1,\n",
              " 1,\n",
              " 1,\n",
              " 1,\n",
              " 1,\n",
              " 1,\n",
              " 1,\n",
              " 1,\n",
              " 1,\n",
              " 1,\n",
              " 1,\n",
              " 1,\n",
              " 1,\n",
              " 1,\n",
              " 1,\n",
              " 1,\n",
              " 1,\n",
              " 1,\n",
              " 1,\n",
              " 1,\n",
              " 1,\n",
              " 1,\n",
              " 1,\n",
              " 1,\n",
              " 1,\n",
              " 1,\n",
              " 1,\n",
              " 1,\n",
              " 1,\n",
              " 1,\n",
              " 1,\n",
              " 1,\n",
              " 1,\n",
              " 1,\n",
              " 1,\n",
              " 1,\n",
              " 1,\n",
              " 1,\n",
              " 1,\n",
              " 1,\n",
              " 1,\n",
              " 1,\n",
              " 1,\n",
              " 1,\n",
              " 1,\n",
              " 1,\n",
              " 1,\n",
              " 1,\n",
              " 1,\n",
              " 1,\n",
              " 1,\n",
              " 1,\n",
              " 1,\n",
              " 1,\n",
              " 1,\n",
              " 1,\n",
              " 1,\n",
              " 1,\n",
              " 1,\n",
              " 1,\n",
              " 1,\n",
              " 1,\n",
              " 1,\n",
              " 1,\n",
              " 1,\n",
              " 1,\n",
              " 1,\n",
              " 1,\n",
              " 1,\n",
              " 1,\n",
              " 1,\n",
              " 1,\n",
              " 1,\n",
              " 1,\n",
              " 1,\n",
              " 1,\n",
              " 1,\n",
              " 1,\n",
              " 1,\n",
              " 1,\n",
              " 1,\n",
              " 1,\n",
              " 1,\n",
              " 1,\n",
              " 1,\n",
              " 1,\n",
              " 1,\n",
              " 1,\n",
              " 1,\n",
              " 1,\n",
              " 1,\n",
              " 1,\n",
              " 1,\n",
              " 1,\n",
              " 1,\n",
              " 1,\n",
              " 1,\n",
              " 1,\n",
              " 1,\n",
              " 1,\n",
              " 1,\n",
              " 1,\n",
              " 1,\n",
              " 1,\n",
              " 1,\n",
              " 1,\n",
              " 1,\n",
              " 1,\n",
              " 1,\n",
              " 1,\n",
              " 1,\n",
              " 1,\n",
              " 1,\n",
              " 1,\n",
              " 1,\n",
              " 1,\n",
              " 1,\n",
              " 1,\n",
              " 1,\n",
              " 1,\n",
              " 1,\n",
              " 1,\n",
              " 1,\n",
              " 1,\n",
              " 1,\n",
              " 1,\n",
              " 1,\n",
              " 1,\n",
              " 1,\n",
              " 1,\n",
              " 1,\n",
              " 1,\n",
              " 1,\n",
              " 1,\n",
              " 1,\n",
              " 1,\n",
              " 1,\n",
              " 1,\n",
              " 1,\n",
              " 1,\n",
              " 1,\n",
              " 1,\n",
              " 1,\n",
              " 1,\n",
              " 1,\n",
              " 1,\n",
              " 1,\n",
              " 1,\n",
              " 1,\n",
              " 1,\n",
              " 1,\n",
              " 1,\n",
              " 1,\n",
              " 1,\n",
              " 1,\n",
              " 1,\n",
              " 1,\n",
              " 1,\n",
              " 1,\n",
              " 1,\n",
              " 1,\n",
              " 1,\n",
              " 1,\n",
              " 1,\n",
              " 1,\n",
              " 1,\n",
              " 1,\n",
              " 1,\n",
              " 1,\n",
              " 1,\n",
              " 1,\n",
              " 1,\n",
              " 1,\n",
              " 1,\n",
              " 1,\n",
              " 1,\n",
              " 1,\n",
              " 1,\n",
              " 1,\n",
              " 1,\n",
              " 1,\n",
              " 1,\n",
              " 1,\n",
              " 1,\n",
              " 1,\n",
              " 1,\n",
              " 1,\n",
              " 1,\n",
              " 1,\n",
              " 1,\n",
              " 1,\n",
              " 1,\n",
              " 1,\n",
              " 1,\n",
              " 1,\n",
              " 1,\n",
              " 1,\n",
              " 1,\n",
              " 1,\n",
              " 1,\n",
              " 1,\n",
              " 1,\n",
              " 1,\n",
              " 1,\n",
              " 1,\n",
              " 1,\n",
              " 1,\n",
              " 1,\n",
              " 1,\n",
              " 1,\n",
              " 1,\n",
              " 1,\n",
              " 1,\n",
              " 1,\n",
              " 1,\n",
              " 1,\n",
              " 1,\n",
              " 1,\n",
              " 1,\n",
              " 1,\n",
              " 1,\n",
              " 1,\n",
              " 1,\n",
              " 1,\n",
              " 1,\n",
              " 1,\n",
              " 1,\n",
              " 1,\n",
              " 1,\n",
              " 1,\n",
              " 1,\n",
              " 1,\n",
              " 1,\n",
              " 1,\n",
              " 1,\n",
              " 1,\n",
              " 1,\n",
              " 1,\n",
              " 1,\n",
              " 1,\n",
              " 1,\n",
              " 1,\n",
              " 1,\n",
              " 1,\n",
              " 1,\n",
              " 1,\n",
              " 1,\n",
              " 1,\n",
              " 1,\n",
              " 1,\n",
              " 1,\n",
              " 1,\n",
              " 1,\n",
              " 1,\n",
              " 1,\n",
              " 1,\n",
              " 1,\n",
              " 1,\n",
              " 1,\n",
              " 1,\n",
              " 1,\n",
              " 1,\n",
              " 1,\n",
              " 1,\n",
              " 1,\n",
              " 1,\n",
              " 1,\n",
              " 1,\n",
              " 1,\n",
              " 1,\n",
              " 1,\n",
              " 1,\n",
              " 1,\n",
              " 1,\n",
              " 1,\n",
              " 1,\n",
              " 1,\n",
              " 1,\n",
              " 1,\n",
              " 1,\n",
              " 1,\n",
              " 1,\n",
              " 1,\n",
              " 1,\n",
              " 1,\n",
              " 1,\n",
              " 1,\n",
              " 1,\n",
              " 1,\n",
              " 1,\n",
              " 1,\n",
              " 1,\n",
              " 1,\n",
              " 1,\n",
              " 1,\n",
              " 1,\n",
              " 1,\n",
              " 1,\n",
              " 1,\n",
              " 1,\n",
              " 1,\n",
              " 1,\n",
              " 1,\n",
              " 1,\n",
              " 1,\n",
              " 1,\n",
              " 1,\n",
              " 1,\n",
              " 1,\n",
              " 1,\n",
              " 1,\n",
              " 1,\n",
              " 1,\n",
              " 1,\n",
              " 1,\n",
              " 1,\n",
              " 1,\n",
              " 1,\n",
              " 1,\n",
              " 1,\n",
              " 1,\n",
              " 1,\n",
              " 1,\n",
              " 1,\n",
              " 1,\n",
              " 1,\n",
              " 1,\n",
              " 1,\n",
              " 1,\n",
              " 1,\n",
              " 1,\n",
              " 1,\n",
              " 1,\n",
              " 1,\n",
              " 1,\n",
              " 1,\n",
              " 1,\n",
              " 1,\n",
              " 1,\n",
              " 1,\n",
              " 1,\n",
              " 1,\n",
              " 1,\n",
              " 1,\n",
              " 1,\n",
              " 1,\n",
              " 1,\n",
              " 1,\n",
              " 1,\n",
              " 1,\n",
              " 1,\n",
              " 1,\n",
              " 1,\n",
              " 1,\n",
              " 1,\n",
              " 1,\n",
              " 1,\n",
              " 1,\n",
              " 1]"
            ]
          },
          "metadata": {
            "tags": []
          },
          "execution_count": 21
        }
      ]
    },
    {
      "metadata": {
        "id": "RQ3IJD6CIyUv",
        "colab_type": "code",
        "colab": {}
      },
      "cell_type": "code",
      "source": [
        "# removing id,homepage, post_path and belongs_to_collection columns (out of 3000 entries 2396 are null 'in belongs_to_collection' column)\n",
        "# dropping original title column because it is in regional languages like japanese , czeck and chinese\n",
        "\n",
        "train.drop(['id','homepage','poster_path','belongs_to_collection','tagline','overview','original_title'],axis=1,inplace=True)\n",
        "test.drop(['id','homepage','poster_path','belongs_to_collection','tagline','overview','original_title'],axis=1,inplace=True) "
      ],
      "execution_count": 0,
      "outputs": []
    },
    {
      "metadata": {
        "id": "IOdM1LlqIyU-",
        "colab_type": "code",
        "outputId": "3fdc5041-5c61-4f7e-efcf-86a91ccd6f69",
        "colab": {
          "base_uri": "https://localhost:8080/",
          "height": 17034
        }
      },
      "cell_type": "code",
      "source": [
        "sorted(train['title'].unique())"
      ],
      "execution_count": 0,
      "outputs": [
        {
          "output_type": "execute_result",
          "data": {
            "text/plain": [
              "[\"'71\",\n",
              " '(500) Days of Summer',\n",
              " '10 Cloverfield Lane',\n",
              " '10 Items or Less',\n",
              " '10 Things I Hate About You',\n",
              " '10 to Midnight',\n",
              " '10,000 BC',\n",
              " '10th & Wolf',\n",
              " '12 Rounds',\n",
              " '13',\n",
              " '13 Assassins',\n",
              " '13 Hours: The Secret Soldiers of Benghazi',\n",
              " '13 Minutes',\n",
              " '1492: Conquest of Paradise',\n",
              " '15 Minutes',\n",
              " '1969',\n",
              " '2 Days in Paris',\n",
              " '20,000 Leagues Under the Sea',\n",
              " '2010',\n",
              " '21',\n",
              " '21 & Over',\n",
              " '21 Grams',\n",
              " '22 Jump Street',\n",
              " '25th Hour',\n",
              " '28 Days Later',\n",
              " '2:22',\n",
              " '3 Braves',\n",
              " '3 Godfathers',\n",
              " '3 Strikes',\n",
              " '300: Rise of an Empire',\n",
              " '31',\n",
              " '4 Months, 3 Weeks and 2 Days',\n",
              " '4.3.2.1',\n",
              " '48 Hrs.',\n",
              " '49 Up',\n",
              " '5 Flights Up',\n",
              " '50 First Dates',\n",
              " '54',\n",
              " '55 Days at Peking',\n",
              " '8MM',\n",
              " '9',\n",
              " 'A Band Called Death',\n",
              " 'A Beautiful Mind',\n",
              " 'A Better Life',\n",
              " 'A Better Tomorrow',\n",
              " 'A Bigger Splash',\n",
              " 'A Bridge Too Far',\n",
              " 'A Case of You',\n",
              " 'A Chorus Line',\n",
              " 'A Cinderella Story',\n",
              " 'A Civil Action',\n",
              " 'A Clockwork Orange',\n",
              " 'A Coffee in Berlin',\n",
              " 'A Company Man',\n",
              " 'A Dirty Shame',\n",
              " \"A Dog's Purpose\",\n",
              " 'A Farewell to Arms',\n",
              " 'A Few Best Men',\n",
              " 'A Few Good Men',\n",
              " 'A Field in England',\n",
              " 'A Fine Mess',\n",
              " 'A Goofy Movie',\n",
              " 'A Gorgeous Girl Like Me',\n",
              " 'A Guy Named Joe',\n",
              " 'A Guy Thing',\n",
              " 'A History of Violence',\n",
              " 'A Home at the End of the World',\n",
              " 'A Kiss Before Dying',\n",
              " \"A Knight's Tale\",\n",
              " 'A Little Bit of Heaven',\n",
              " 'A Lonely Place to Die',\n",
              " 'A Lot Like Love',\n",
              " 'A Love Song for Bobby Long',\n",
              " 'A Man Apart',\n",
              " 'A Man Who Was Superman',\n",
              " 'A Man for All Seasons',\n",
              " 'A Mighty Heart',\n",
              " 'A Mighty Wind',\n",
              " 'A Moment of Innocence',\n",
              " 'A Passage to India',\n",
              " 'A Patch of Blue',\n",
              " 'A Perfect World',\n",
              " 'A Place Called Chiapas',\n",
              " 'A Price Above Rubies',\n",
              " 'A Prince (almost) Charming',\n",
              " 'A Rage in Harlem',\n",
              " 'A Royal Night Out',\n",
              " 'A Scanner Darkly',\n",
              " 'A Shot in the Dark',\n",
              " 'A Simple Life',\n",
              " 'A Sound of Thunder',\n",
              " 'A Star Is Born',\n",
              " 'A Street Cat Named Bob',\n",
              " 'A Thousand Words',\n",
              " 'A Touch of Sin',\n",
              " 'A Troll in Central Park',\n",
              " 'A View to a Kill',\n",
              " 'A War',\n",
              " 'A.P.E.X.',\n",
              " 'ABCs of Death 2',\n",
              " 'ATL',\n",
              " 'Aadukalam',\n",
              " 'Aasai',\n",
              " 'Abduction',\n",
              " 'About Adam',\n",
              " 'About Cherry',\n",
              " 'About Last Night',\n",
              " 'About Schmidt',\n",
              " 'About Time',\n",
              " 'About a Boy',\n",
              " 'Absolute Power',\n",
              " 'Absolutely Fabulous: The Movie',\n",
              " 'Accepted',\n",
              " 'Ace Ventura: Pet Detective',\n",
              " 'Ace Ventura: When Nature Calls',\n",
              " 'Ace in the Hole',\n",
              " 'Across to Singapore',\n",
              " 'Act of Valor',\n",
              " 'Action Hero Biju',\n",
              " 'Action Jackson',\n",
              " 'Admiral',\n",
              " 'Admission',\n",
              " 'Adore',\n",
              " 'Aferim!',\n",
              " 'African Cats',\n",
              " 'After Earth',\n",
              " 'After Hours',\n",
              " 'Aftershock',\n",
              " 'Against the Ropes',\n",
              " 'Agent Cody Banks',\n",
              " 'Ai Weiwei: Never Sorry',\n",
              " \"Ain't Them Bodies Saints\",\n",
              " 'Air America',\n",
              " 'Air Bud: Golden Receiver',\n",
              " 'Air Force One',\n",
              " 'Airborne',\n",
              " 'Airport',\n",
              " 'Airport 1975',\n",
              " 'Akeelah and the Bee',\n",
              " 'Alaipayuthey',\n",
              " 'Alan Partridge: Alpha Papa',\n",
              " 'Alesha Popovich and Tugarin the Dragon',\n",
              " 'Alex Cross',\n",
              " \"Alexander's Ragtime Band\",\n",
              " 'Alfie',\n",
              " 'Alice in Wonderland',\n",
              " 'Alien',\n",
              " 'Alien Nation',\n",
              " 'Alien: Resurrection',\n",
              " 'Aliens',\n",
              " 'Aliens in the Attic',\n",
              " 'Alien³',\n",
              " 'All About Eve',\n",
              " 'All About My Mother',\n",
              " 'All About Steve',\n",
              " 'All About the Benjamins',\n",
              " 'All Night Long',\n",
              " \"All The Queen's Men\",\n",
              " 'All at Once',\n",
              " \"All the King's Men\",\n",
              " \"All the President's Men\",\n",
              " 'Aloft',\n",
              " 'Aloha',\n",
              " 'Alone With Her',\n",
              " 'Alone in the Dark',\n",
              " 'Along Came Polly',\n",
              " 'Along Came a Spider',\n",
              " 'Alpha Dog',\n",
              " 'Alpha and Omega',\n",
              " 'Alvin and the Chipmunks: The Road Chip',\n",
              " 'Always',\n",
              " 'Always - Sunset on Third Street',\n",
              " 'Amadeus',\n",
              " 'Amarkalam',\n",
              " 'American Adobo',\n",
              " 'American Beauty',\n",
              " 'American Buffalo',\n",
              " 'American Cyborg: Steel Warrior',\n",
              " 'American Dream',\n",
              " 'American Flyers',\n",
              " 'American History X',\n",
              " 'American Honey',\n",
              " 'American Hustle',\n",
              " 'American Ninja',\n",
              " 'American Pie',\n",
              " 'American Pie 2',\n",
              " 'American Pop',\n",
              " 'American Warships',\n",
              " 'Amores perros',\n",
              " 'An American Werewolf in Paris',\n",
              " 'An Education',\n",
              " 'An Eye for Beauty',\n",
              " 'An Ideal Husband',\n",
              " 'An Officer and a Gentleman',\n",
              " 'Analyze This',\n",
              " 'Anastasia',\n",
              " \"And Here's What's Happening to Me\",\n",
              " 'And So It Goes',\n",
              " 'And You Thought Your Parents Were Weird!',\n",
              " 'Angel Eyes',\n",
              " 'Angel Heart',\n",
              " 'Anger Management',\n",
              " 'Animal House',\n",
              " 'Animal Kingdom',\n",
              " 'Anjaana Anjaani',\n",
              " 'Anna Karenina',\n",
              " 'Annabelle',\n",
              " 'Annie',\n",
              " 'Anniyan',\n",
              " 'Anomalisa',\n",
              " 'Anonymous',\n",
              " 'Another 48 Hrs.',\n",
              " 'Another Year',\n",
              " 'Anthropoid',\n",
              " 'Antikiller',\n",
              " 'Antitrust',\n",
              " 'Antwone Fisher',\n",
              " 'Any Given Sunday',\n",
              " 'Apartment 18',\n",
              " 'Apocalypse Now',\n",
              " 'Apollo 13',\n",
              " 'Appaloosa',\n",
              " 'Appleseed',\n",
              " 'Aquarius',\n",
              " 'Arachnophobia',\n",
              " 'Argo',\n",
              " 'Army of Shadows',\n",
              " 'Around the World in 80 Days',\n",
              " 'Arrambam',\n",
              " 'Arthur 2: On the Rocks',\n",
              " 'Article 99',\n",
              " 'Arundhati',\n",
              " 'Ashby',\n",
              " 'Assault on Precinct 13',\n",
              " 'Assembly',\n",
              " 'Asterix & Obelix Take on Caesar',\n",
              " 'Asterix at the Olympic Games',\n",
              " 'At Play in the Fields of the Lord',\n",
              " 'Atlantis: The Lost Empire',\n",
              " 'Atlas Shrugged Part I',\n",
              " 'Atlas Shrugged Part III: Who is John Galt?',\n",
              " 'Attack Force Z',\n",
              " 'Australia',\n",
              " 'Avengers: Age of Ultron',\n",
              " 'Away We Go',\n",
              " 'Ayan',\n",
              " 'B.A.P.S.',\n",
              " 'Babe',\n",
              " 'Baby Driver',\n",
              " 'Baby Mama',\n",
              " \"Baby's Day Out\",\n",
              " 'Bachelorette',\n",
              " 'Back to 1942',\n",
              " 'Back to the Future Part II',\n",
              " 'Back to the Future Part III',\n",
              " 'Backdraft',\n",
              " 'Bad Boys',\n",
              " 'Bad Day at Black Rock',\n",
              " 'Bad Dreams',\n",
              " 'Bad Education',\n",
              " 'Bad Words',\n",
              " 'Baggage Claim',\n",
              " 'Bairavaa',\n",
              " 'Bajirao Mastani',\n",
              " 'Balls of Fury',\n",
              " 'Balto',\n",
              " 'Band of Outsiders',\n",
              " 'Bandits',\n",
              " 'Barbara',\n",
              " 'Barbarella',\n",
              " 'Barbershop',\n",
              " 'Barfi',\n",
              " 'Barfly',\n",
              " 'Basic',\n",
              " 'Basic Instinct',\n",
              " 'Batman & Robin',\n",
              " 'Batman Begins',\n",
              " 'Batman Returns',\n",
              " 'Batman: Assault on Arkham',\n",
              " 'Batman: The Killing Joke',\n",
              " 'Bats',\n",
              " 'Batteries not Included',\n",
              " 'Battle Beyond the Stars',\n",
              " 'Battle for Terra',\n",
              " 'Battle for the Planet of the Apes',\n",
              " 'Battle in Heaven',\n",
              " 'Battle in Seattle',\n",
              " 'Battle: Los Angeles',\n",
              " 'Battleship Potemkin',\n",
              " 'Be Cool',\n",
              " 'Beaches',\n",
              " 'Beasts of No Nation',\n",
              " 'Beasts of the Southern Wild',\n",
              " 'Beauty and the Beast',\n",
              " 'Bedazzled',\n",
              " 'Bee Season',\n",
              " 'Beer for My Horses',\n",
              " 'Beerfest',\n",
              " 'Beethoven',\n",
              " 'Beetle Queen Conquers Tokyo',\n",
              " 'Beetlejuice',\n",
              " 'Before I Disappear',\n",
              " 'Before I Wake',\n",
              " 'Before Midnight',\n",
              " 'Before Sunset',\n",
              " \"Before the Devil Knows You're Dead\",\n",
              " 'Before the Fall',\n",
              " 'Beginners',\n",
              " 'Behind Enemy Lines',\n",
              " 'Behind the Burly Q',\n",
              " \"Being Elmo: A Puppeteer's Journey\",\n",
              " 'Being Flynn',\n",
              " 'Bel Ami',\n",
              " 'Belle',\n",
              " 'Bellflower',\n",
              " 'Below',\n",
              " 'Ben-Hur',\n",
              " 'Bend It Like Beckham',\n",
              " 'Beneath the Planet of the Apes',\n",
              " 'Benny & Joon',\n",
              " 'Best Defense',\n",
              " 'Best Man Down',\n",
              " 'Better Living Through Chemistry',\n",
              " 'Betty Blue',\n",
              " 'Beyond',\n",
              " 'Beyond the Mat',\n",
              " 'Bhaag Milkha Bhaag',\n",
              " 'Big Bully',\n",
              " 'Big Eyes',\n",
              " 'Big Fat Liar',\n",
              " 'Big Game',\n",
              " 'Big Miracle',\n",
              " \"Big Momma's House 2\",\n",
              " 'Big Time',\n",
              " 'Big Trouble in Little China',\n",
              " 'Biker Boyz',\n",
              " 'Bikini Spring Break',\n",
              " \"Bill & Ted's Excellent Adventure\",\n",
              " 'Billy Elliot',\n",
              " 'Billy Gardell: Halftime',\n",
              " 'Billy Madison',\n",
              " 'Biloxi Blues',\n",
              " 'Birdman of Alcatraz',\n",
              " 'Birdy',\n",
              " 'Bitch Slap',\n",
              " 'Bitter Moon',\n",
              " 'Biutiful',\n",
              " 'Black Dynamite',\n",
              " 'Black Gold',\n",
              " 'Black Sheep',\n",
              " 'Black Snake Moan',\n",
              " 'Black Snow',\n",
              " 'Black Swan',\n",
              " 'Blade: Trinity',\n",
              " 'Blank City',\n",
              " 'Blast from the Past',\n",
              " 'Blaze',\n",
              " 'Blazing Saddles',\n",
              " 'Bleed for This',\n",
              " 'Blended',\n",
              " 'Bless Me, Ultima',\n",
              " 'Blind Fury',\n",
              " 'Bliss',\n",
              " 'Blood Diamond',\n",
              " 'Blood Work',\n",
              " 'Blood on the Moon',\n",
              " 'Blood, Guts, Bullets and Octane',\n",
              " 'BloodRayne',\n",
              " 'Bloodsport',\n",
              " 'Bloody Sunday',\n",
              " 'Blow Dry',\n",
              " 'Blow Out',\n",
              " 'Blue',\n",
              " 'Blues Brothers 2000',\n",
              " 'Bodies, Rest & Motion',\n",
              " 'Body Shots',\n",
              " 'Body of Evidence',\n",
              " 'Bodyguard',\n",
              " 'Bodyguards and Assassins',\n",
              " 'Bombay Velvet',\n",
              " 'Boogeyman',\n",
              " 'Bordello of Blood',\n",
              " 'Boris - Il film',\n",
              " 'Born into Brothels',\n",
              " 'Born to Be Blue',\n",
              " 'Born to Be Wild',\n",
              " 'Borsalino',\n",
              " 'Bottle Rocket',\n",
              " 'Bottle Shock',\n",
              " 'Boulevard',\n",
              " 'Bounce',\n",
              " 'Bound',\n",
              " 'Boxing Helena',\n",
              " 'Boy A',\n",
              " 'Boy Culture',\n",
              " 'Boyhood',\n",
              " \"Boys Don't Cry\",\n",
              " 'Boys Life 2',\n",
              " 'Boys on the Side',\n",
              " 'Braddock: Missing in Action III',\n",
              " 'Brain Donors',\n",
              " 'Brainscan',\n",
              " 'Braveheart',\n",
              " 'Breakdown',\n",
              " 'Breaking Away',\n",
              " 'Breakout',\n",
              " 'Breathe In',\n",
              " 'Breathless',\n",
              " 'Brick',\n",
              " 'Bride of Chucky',\n",
              " 'Brideshead Revisited',\n",
              " 'Bridge of Spies',\n",
              " \"Bridget Jones's Baby\",\n",
              " 'Bringing Down the House',\n",
              " 'Brokedown Palace',\n",
              " 'Broken City',\n",
              " 'Broken Flowers',\n",
              " \"Brooklyn's Finest\",\n",
              " 'Buck',\n",
              " 'Bull Durham',\n",
              " 'Bunny and the Bull',\n",
              " 'Burn',\n",
              " 'Burnt',\n",
              " 'Burnt by the Sun',\n",
              " 'Bus 174',\n",
              " \"But I'm a Cheerleader\",\n",
              " 'Butch Cassidy and the Sundance Kid',\n",
              " 'Butterfly',\n",
              " 'CB4',\n",
              " 'CJ7',\n",
              " 'Ca$h',\n",
              " 'Cabin Boy',\n",
              " 'Cabin Fever',\n",
              " 'Cabin in the Sky',\n",
              " 'Caché',\n",
              " 'Caddyshack',\n",
              " \"Cameron's Closet\",\n",
              " 'Camille Claudel 1915',\n",
              " 'Campus Man',\n",
              " \"Can't Hardly Wait\",\n",
              " 'Candy Razors',\n",
              " 'Capote',\n",
              " 'Captain America: The Winter Soldier',\n",
              " 'Captain Phillips',\n",
              " 'Captive',\n",
              " 'Capturing the Friedmans',\n",
              " 'Car 54, Where Are You?',\n",
              " 'Cargo 200',\n",
              " 'Carlos',\n",
              " 'Carol',\n",
              " 'Cars',\n",
              " 'Cars 2',\n",
              " 'Cars 3',\n",
              " 'Casablanca',\n",
              " 'Case 39',\n",
              " 'Casino Royale',\n",
              " 'Casshern',\n",
              " 'Casual Sex?',\n",
              " 'Cat People',\n",
              " 'Catch a Fire',\n",
              " 'Cats & Dogs',\n",
              " \"Cats Don't Dance\",\n",
              " 'Cedar Rapids',\n",
              " 'Cell',\n",
              " 'Cell 211',\n",
              " 'Cellular',\n",
              " 'Central Station',\n",
              " 'Ceremony',\n",
              " 'Chain Reaction',\n",
              " 'Chalet Girl',\n",
              " 'Chandni Chowk To China',\n",
              " 'Changeling',\n",
              " 'Changing Lanes',\n",
              " 'Chapiteau-Show',\n",
              " 'Chappie',\n",
              " 'Charlie Countryman',\n",
              " 'Charlie St. Cloud',\n",
              " \"Charlotte's Web\",\n",
              " 'Chasers',\n",
              " 'Chasing Liberty',\n",
              " 'Chasing Trane',\n",
              " 'Cheetah',\n",
              " 'Chennai Express',\n",
              " 'Chernobyl Diaries',\n",
              " 'Cherry 2000',\n",
              " 'Child 44',\n",
              " \"Child's Play\",\n",
              " \"Child's Play 2\",\n",
              " \"Child's Play 3\",\n",
              " 'Children of Heaven',\n",
              " 'Children of the Corn',\n",
              " 'Chill Factor',\n",
              " 'Chloe',\n",
              " 'Chocolat',\n",
              " 'Christopher Columbus: The Discovery',\n",
              " 'Cinderella Man',\n",
              " 'Cinderfella',\n",
              " 'Cinema Paradiso',\n",
              " 'Circo',\n",
              " \"Cirque du Freak: The Vampire's Assistant\",\n",
              " 'Cirque du Soleil: Worlds Away',\n",
              " 'City of Joy',\n",
              " 'City of Life and Death',\n",
              " 'City of Men',\n",
              " 'Class of 1999',\n",
              " 'Clean and Sober',\n",
              " 'Cleopatra',\n",
              " 'Clerks',\n",
              " 'Clerks II',\n",
              " 'Click',\n",
              " 'Clockers',\n",
              " 'Clockstoppers',\n",
              " 'Close My Eyes',\n",
              " 'Cloud Atlas',\n",
              " 'Clouds of Sils Maria',\n",
              " 'Club Dread',\n",
              " 'Club Paradise',\n",
              " 'Cobra',\n",
              " 'Cocaine Cowboys',\n",
              " 'Cocktail',\n",
              " 'Cocoon',\n",
              " 'Code Name: Jackal',\n",
              " 'Coffee and Cigarettes',\n",
              " 'Cohen and Tate',\n",
              " 'Coherence',\n",
              " 'Cold Mountain',\n",
              " 'Cold Turkey',\n",
              " 'Colegas',\n",
              " 'Collateral',\n",
              " 'Collateral Beauty',\n",
              " 'Collateral Damage',\n",
              " 'Collide',\n",
              " 'Colombiana',\n",
              " 'Colors',\n",
              " 'Come Back to the 5 & Dime, Jimmy Dean, Jimmy Dean',\n",
              " 'Comedian',\n",
              " 'Coming to America',\n",
              " 'Communion',\n",
              " 'Company Business',\n",
              " 'Compliance',\n",
              " 'Conan the Destroyer',\n",
              " 'Confessions of a Dangerous Mind',\n",
              " 'Congo',\n",
              " 'Connie and Carla',\n",
              " 'Conquest of the Planet of the Apes',\n",
              " 'Constantine',\n",
              " 'Contact',\n",
              " 'Control Room',\n",
              " 'Conversations with Other Women',\n",
              " 'Cool Hand Luke',\n",
              " 'Cool Runnings',\n",
              " 'Cool World',\n",
              " 'Cop Out',\n",
              " 'Coriolanus',\n",
              " 'Corky Romano',\n",
              " 'Corvette Summer',\n",
              " 'Country Strong',\n",
              " 'Courageous',\n",
              " 'Cowboys & Aliens',\n",
              " 'Cowboys & Angels',\n",
              " \"Cowgirls n' Angels\",\n",
              " 'Cradle 2 the Grave',\n",
              " 'Crank: High Voltage',\n",
              " 'Crash',\n",
              " 'Crazy About Ya',\n",
              " 'Crazy Love',\n",
              " 'Crazy, Stupid, Love.',\n",
              " 'Crazy/Beautiful',\n",
              " 'Creature from the Black Lagoon',\n",
              " 'Creepshow',\n",
              " 'Crime After Crime',\n",
              " 'Crime Story',\n",
              " 'Crimson Tide',\n",
              " 'Crocodile Dundee II',\n",
              " 'Crooked Arrows',\n",
              " 'Cropsey',\n",
              " 'Crossing Over',\n",
              " 'Crossover',\n",
              " 'Crossroads',\n",
              " 'Cry, Onion!',\n",
              " 'Cry-Baby',\n",
              " 'Cuban Rafters',\n",
              " 'Cure',\n",
              " 'Curse of the Pink Panther',\n",
              " 'Cut and Run',\n",
              " 'Cutthroat Island',\n",
              " 'Czech Dream',\n",
              " 'D.A.R.Y.L.',\n",
              " 'D.O.A.',\n",
              " 'Dad',\n",
              " 'Daddy Day Camp',\n",
              " 'Daddy Day Care',\n",
              " \"Daddy's Dyin'... Who's Got the Will?\",\n",
              " \"Daddy's Little Girls\",\n",
              " 'Dances with Wolves',\n",
              " 'Dangal',\n",
              " \"Dante's Peak\",\n",
              " 'Dark Angel',\n",
              " 'Dark Blue',\n",
              " 'Dark City',\n",
              " 'Dark Places',\n",
              " 'Dark Tide',\n",
              " 'Darkman',\n",
              " 'Day Watch',\n",
              " 'Day for Night',\n",
              " 'Daybreakers',\n",
              " 'Dazed and Confused',\n",
              " 'Dead & Buried',\n",
              " 'Dead Bang',\n",
              " 'Dead Poets Society',\n",
              " 'Dead Ringers',\n",
              " 'Dead Snow',\n",
              " 'Dead Snow 2: Red vs. Dead',\n",
              " 'Deadfall',\n",
              " 'Deadpool',\n",
              " 'Dear Guest, When Will You Leave?',\n",
              " 'Dear Zindagi',\n",
              " 'Death Note',\n",
              " 'Death Race',\n",
              " 'Death Sentence',\n",
              " 'Death Wish 5: The Face of Death',\n",
              " 'Death at a Funeral',\n",
              " 'Death on the Nile',\n",
              " 'Deathwatch',\n",
              " 'December Boys',\n",
              " 'Deep Blue Sea',\n",
              " 'Deep Rising',\n",
              " 'DeepStar Six',\n",
              " 'Deepwater Horizon',\n",
              " 'Deewane Huye Paagal',\n",
              " 'Defence of the Realm',\n",
              " 'Definitely, Maybe',\n",
              " 'Delhi Dance',\n",
              " 'Delta Force 2: The Colombian Connection',\n",
              " 'Demolition Man',\n",
              " 'Denial',\n",
              " 'Dennis the Menace',\n",
              " 'Departures',\n",
              " 'Desert Flower',\n",
              " 'Desert Hearts',\n",
              " 'Desperado',\n",
              " 'Desperately Seeking Susan',\n",
              " 'Detective Dee and the Mystery of the Phantom Flame',\n",
              " 'Dheepan',\n",
              " 'Dhoom 3',\n",
              " 'Diamonds Are Forever',\n",
              " 'Diary of a Hitman',\n",
              " 'Diary of a Wimpy Kid: Dog Days',\n",
              " 'Diary of a Wimpy Kid: Rodrick Rules',\n",
              " 'Diary of a Wimpy Kid: The Long Haul',\n",
              " 'Dick',\n",
              " 'Die Another Day',\n",
              " 'Die, Mommie, Die!',\n",
              " 'Difret',\n",
              " 'Dil Se..',\n",
              " 'Dinosaur',\n",
              " 'Dirty Dancing',\n",
              " 'District 9',\n",
              " 'District B13',\n",
              " 'Disturbia',\n",
              " 'Django',\n",
              " 'Doctor Dolittle',\n",
              " 'Doctor Who',\n",
              " 'Dolphin Tale',\n",
              " 'Dom Hemingway',\n",
              " 'Domestic Disturbance',\n",
              " 'Don Juan DeMarco',\n",
              " \"Don's Plum\",\n",
              " \"Don't Breathe\",\n",
              " \"Don't Say a Word\",\n",
              " \"Don't Tell Mom the Babysitter's Dead\",\n",
              " \"Don't Think Twice\",\n",
              " 'Donnie Brasco',\n",
              " 'Doom',\n",
              " 'Dope',\n",
              " 'Dorian Gray',\n",
              " 'Double Impact',\n",
              " 'Double Jeopardy',\n",
              " 'Down',\n",
              " 'Downfall',\n",
              " 'Downtown',\n",
              " 'Dr. Cabbie',\n",
              " 'Dr. Giggles',\n",
              " 'Dracula',\n",
              " 'Dracula 2000',\n",
              " 'Dracula Untold',\n",
              " 'Dracula: Prince of Darkness',\n",
              " 'Dragon Tiger Gate',\n",
              " 'Dragonfly',\n",
              " 'Dream House',\n",
              " 'Dreamcatcher',\n",
              " 'Dreamgirls',\n",
              " 'Dreaming of Space',\n",
              " 'Dressed to Kill',\n",
              " 'Drinking Buddies',\n",
              " 'Drive',\n",
              " 'Drive Angry',\n",
              " 'Driven',\n",
              " 'Drop Dead Fred',\n",
              " 'Drop Dead Gorgeous',\n",
              " 'Drowning Mona',\n",
              " 'Drumline',\n",
              " 'Dude, Where’s My Car?',\n",
              " 'Due Date',\n",
              " 'Duplicity',\n",
              " 'Dylan Dog: Dead of Night',\n",
              " 'Earth Girls Are Easy',\n",
              " 'Earthquake',\n",
              " 'East of Eden',\n",
              " 'Easy on the Eyes',\n",
              " 'Eat Pray Love',\n",
              " 'Ed Wood',\n",
              " 'Eddie Murphy Raw',\n",
              " 'Eddie the Eagle',\n",
              " 'Eden Lake',\n",
              " 'Edge of Darkness',\n",
              " 'Edward II',\n",
              " 'Eight Below',\n",
              " 'El Estudiante',\n",
              " 'El Mariachi',\n",
              " 'El pico 2',\n",
              " 'El robobo de la jojoya',\n",
              " 'Elections Day 2',\n",
              " 'Elektra',\n",
              " 'Elektra Luxx',\n",
              " 'Elevator to the Gallows',\n",
              " 'Elizabeth',\n",
              " 'Elizabethtown',\n",
              " 'Elmer Gantry',\n",
              " 'Elvis & Nixon',\n",
              " 'Elysium',\n",
              " 'Empire',\n",
              " 'Empire State',\n",
              " 'End of Watch',\n",
              " 'Enemy Mine',\n",
              " 'Enemy of the State',\n",
              " 'Enter the Void',\n",
              " 'Enthiran',\n",
              " 'Epic',\n",
              " 'Eraser',\n",
              " 'Escape from L.A.',\n",
              " 'Escape from New York',\n",
              " 'Evan Almighty',\n",
              " 'Evangelion: 2.0 You Can (Not) Advance',\n",
              " 'Everest',\n",
              " 'Every Day',\n",
              " 'Every Thing Will Be Fine',\n",
              " 'Every Which Way But Loose',\n",
              " 'Everybody Dies But Me',\n",
              " 'Everybody Wants Some!!',\n",
              " \"Everyone's Hero\",\n",
              " 'Everything is Illuminated',\n",
              " 'Evil Dead',\n",
              " 'Evil Dead II',\n",
              " 'Evita',\n",
              " 'Ex Machina',\n",
              " 'Excalibur',\n",
              " 'Exit Wounds',\n",
              " 'Exit to Eden',\n",
              " 'Exorcist: The Beginning',\n",
              " 'Exposed',\n",
              " 'Exterminators of the Year 3000',\n",
              " 'Extract',\n",
              " 'Extraction',\n",
              " 'Extraordinary Measures',\n",
              " 'Extreme Measures',\n",
              " 'Extreme Ops',\n",
              " 'Extremities',\n",
              " 'Eye in the Sky',\n",
              " 'Eye of the Dolphin',\n",
              " 'Eyes Wide Shut',\n",
              " 'FBI: Frikis buscan incordiar',\n",
              " 'FC Venus',\n",
              " 'Facing Windows',\n",
              " 'Fading Gigolo',\n",
              " 'Fair Game',\n",
              " 'Faithful',\n",
              " 'Fallen',\n",
              " 'Falling Down',\n",
              " 'Falling in Love',\n",
              " 'Fan',\n",
              " 'Fanaa',\n",
              " 'Fanny & Alexander',\n",
              " 'Fantastic Four',\n",
              " 'Fantastic Mr. Fox',\n",
              " 'Far from the Madding Crowd',\n",
              " 'Faraway, So Close!',\n",
              " 'Fargo',\n",
              " 'Fast & Furious',\n",
              " 'Fast Times at Ridgemont High',\n",
              " 'Fast, Cheap & Out of Control',\n",
              " 'Fatal Attraction',\n",
              " 'Father Hood',\n",
              " 'Father of the Bride Part II',\n",
              " 'Feast of Love',\n",
              " 'FernGully: The Last Rainforest',\n",
              " \"Ferris Bueller's Day Off\",\n",
              " 'Fever Pitch',\n",
              " 'Fido',\n",
              " 'Field of Dreams',\n",
              " 'Fight Club',\n",
              " 'Filth',\n",
              " 'Final Destination 2',\n",
              " 'Final Destination 3',\n",
              " 'Final: The Rapture',\n",
              " 'Find Me Guilty',\n",
              " 'Finding Dory',\n",
              " 'Finding Forrester',\n",
              " 'Fire and Ice',\n",
              " 'Fired Up!',\n",
              " 'Fireproof',\n",
              " 'Firewalker',\n",
              " 'First Blood',\n",
              " 'First Knight',\n",
              " 'First Love',\n",
              " 'First Snow',\n",
              " 'First Strike',\n",
              " 'Fish Tank',\n",
              " 'Fishtales',\n",
              " 'Five Graves to Cairo',\n",
              " 'Flashback',\n",
              " 'Flashbacks of a Fool',\n",
              " 'Flatliners',\n",
              " 'Flawless',\n",
              " 'Fletch',\n",
              " 'Fletch Lives',\n",
              " 'Flicka',\n",
              " 'Flight of the Navigator',\n",
              " 'Flipper',\n",
              " 'Florence Foster Jenkins',\n",
              " 'Flyboys',\n",
              " 'Folks!',\n",
              " 'Following',\n",
              " 'For Keeps',\n",
              " 'For Me and My Gal',\n",
              " 'For Your Eyes Only',\n",
              " 'Forever Fever',\n",
              " 'Four Brothers',\n",
              " 'Four Christmases',\n",
              " 'Four Days in September',\n",
              " 'Four Lions',\n",
              " 'Four Weddings and a Funeral',\n",
              " 'Fracture',\n",
              " 'Frances Ha',\n",
              " 'Frank',\n",
              " 'Frank & Lola',\n",
              " 'Frankenweenie',\n",
              " 'Freaky Friday',\n",
              " 'Fred Claus',\n",
              " 'Freddy vs. Jason',\n",
              " 'Free Birds',\n",
              " 'Free State of Jones',\n",
              " 'Free Style',\n",
              " 'Free Willy',\n",
              " 'Freedomland',\n",
              " 'Freeheld',\n",
              " 'Frequency',\n",
              " 'Frida',\n",
              " 'Friday',\n",
              " 'Friday the 13th',\n",
              " 'Friday the 13th Part 2',\n",
              " 'Friday the 13th Part III',\n",
              " 'Friday the 13th Part VI: Jason Lives',\n",
              " 'Friday the 13th Part VIII: Jason Takes Manhattan',\n",
              " 'Friday the 13th: A New Beginning',\n",
              " 'Friends & Lovers',\n",
              " 'Fright Night',\n",
              " 'From Beyond',\n",
              " 'From Dusk Till Dawn',\n",
              " 'From Hell',\n",
              " 'From Prada to Nada',\n",
              " 'From Within',\n",
              " 'From the Hip',\n",
              " 'From the Land of the Moon',\n",
              " 'Frozen',\n",
              " 'Fuck You Goethe 2',\n",
              " 'Full Frontal',\n",
              " 'Fun with Dick and Jane',\n",
              " 'Furious 7',\n",
              " 'Furry Vengeance',\n",
              " 'G',\n",
              " 'Gabbar Is Back',\n",
              " 'Gaby: A True Story',\n",
              " 'Gandhi',\n",
              " 'Gang Related',\n",
              " 'Gangs of New York',\n",
              " 'Gangster Squad',\n",
              " 'Gardens of Stone',\n",
              " \"Gary Gulman: It's About Time\",\n",
              " \"Gentleman's Agreement\",\n",
              " 'Get Carter',\n",
              " 'Get Out',\n",
              " 'Get Smart',\n",
              " 'Get on Up',\n",
              " 'Get on the Bus',\n",
              " 'Ghajini',\n",
              " 'Ghost',\n",
              " 'Ghost Rider: Spirit of Vengeance',\n",
              " 'Ghost Ship',\n",
              " 'Ghost in the Shell',\n",
              " 'Ghostbusters II',\n",
              " \"Ghosts Can't Do It\",\n",
              " 'Ghosts of Mars',\n",
              " 'Gigli',\n",
              " 'Girl with a Pearl Earring',\n",
              " 'Glass: A Portrait of Philip in Twelve Parts',\n",
              " 'Glee: The Concert Movie',\n",
              " \"Glen Campbell: I'll Be Me\",\n",
              " 'Glory',\n",
              " 'Glory Road',\n",
              " 'Gnomeo & Juliet',\n",
              " 'Go',\n",
              " 'Goal!: The Dream Begins',\n",
              " 'Goat',\n",
              " \"God's Not Dead 2\",\n",
              " 'Gods and Generals',\n",
              " 'Godzilla 1985',\n",
              " 'Going My Way',\n",
              " 'Going by the Book',\n",
              " 'Gold',\n",
              " 'GoldenEye',\n",
              " 'Gone Girl',\n",
              " 'Good Kill',\n",
              " 'Good Night, and Good Luck.',\n",
              " 'Goodbye Pork Pie',\n",
              " 'Goon',\n",
              " 'Gosford Park',\n",
              " 'Gothika',\n",
              " \"Goya's Ghosts\",\n",
              " 'Grand Hotel',\n",
              " 'Grand Masti',\n",
              " \"Grandma's Boy\",\n",
              " 'Grandmaster',\n",
              " 'Graveyard Shift',\n",
              " 'Gravity',\n",
              " 'Gray Lady Down',\n",
              " 'Green Zone',\n",
              " 'Gremlins',\n",
              " 'Gremlins 2: The New Batch',\n",
              " 'Gridiron Gang',\n",
              " 'Grimsby',\n",
              " 'Groundhog Day',\n",
              " 'Guardians of the Galaxy',\n",
              " 'Guardians of the Galaxy Vol. 2',\n",
              " 'Guess Who',\n",
              " \"Guess Who's Coming to Dinner\",\n",
              " 'Guilty as Sin',\n",
              " 'Gun Shy',\n",
              " 'Gunfight at the O.K. Corral',\n",
              " 'Gung Ho',\n",
              " 'Gwendoline',\n",
              " 'Hackers',\n",
              " 'Haiku Tunnel',\n",
              " 'Hallam Foe',\n",
              " 'Halloween 4: The Return of Michael Myers',\n",
              " 'Halloween 5: The Revenge of Michael Myers',\n",
              " 'Halloween: Resurrection',\n",
              " 'Halo Legends',\n",
              " 'Hamlet',\n",
              " 'Hammer of the Gods',\n",
              " 'Hannah Montana: The Movie',\n",
              " 'Hannah and Her Sisters',\n",
              " 'Hannibal',\n",
              " 'Hansel & Gretel: Witch Hunters',\n",
              " 'Happiness',\n",
              " 'Happy Accidents',\n",
              " 'Happy Days',\n",
              " 'Happy Family',\n",
              " 'Happy Feet',\n",
              " 'Happy Gilmore',\n",
              " 'Happy New Year',\n",
              " 'Happy Times',\n",
              " 'Happy Weekend',\n",
              " 'Happythankyoumoreplease',\n",
              " 'Hard Candy',\n",
              " 'Hard to Kill',\n",
              " 'Harold & Kumar Escape from Guantanamo Bay',\n",
              " 'Harper',\n",
              " 'Harry Potter and the Chamber of Secrets',\n",
              " 'Harry Potter and the Half-Blood Prince',\n",
              " 'Harry and the Hendersons',\n",
              " 'Harsh Times',\n",
              " \"Hart's War\",\n",
              " 'Harvard Beats Yale 29-29',\n",
              " 'Hatchet II',\n",
              " 'Haunted Honeymoon',\n",
              " 'Hawaii',\n",
              " 'He Got Game',\n",
              " 'He Named Me Malala',\n",
              " 'He-Man and She-Ra: The Secret of the Sword',\n",
              " 'Head On',\n",
              " 'Heart and Souls',\n",
              " 'Heartbeats',\n",
              " 'Heartbreak Ridge',\n",
              " 'Heathers',\n",
              " 'Heaven is for Real',\n",
              " \"Heaven's Gate\",\n",
              " 'Heavy Traffic',\n",
              " 'Hector and the Search for Happiness',\n",
              " 'Hell & Back',\n",
              " ...]"
            ]
          },
          "metadata": {
            "tags": []
          },
          "execution_count": 23
        }
      ]
    },
    {
      "metadata": {
        "id": "dcmr-ILrIyVS",
        "colab_type": "text"
      },
      "cell_type": "markdown",
      "source": [
        "### Can we make a column to check if the movie is sequel of previous movies or next part of the movie ?\n",
        "### Will do later"
      ]
    },
    {
      "metadata": {
        "id": "cPH2F8VZIyVV",
        "colab_type": "code",
        "colab": {}
      },
      "cell_type": "code",
      "source": [
        ""
      ],
      "execution_count": 0,
      "outputs": []
    },
    {
      "metadata": {
        "id": "gKO6Jr4TIyVd",
        "colab_type": "code",
        "colab": {}
      },
      "cell_type": "code",
      "source": [
        ""
      ],
      "execution_count": 0,
      "outputs": []
    },
    {
      "metadata": {
        "id": "YGk8V2M1IyVl",
        "colab_type": "code",
        "colab": {}
      },
      "cell_type": "code",
      "source": [
        ""
      ],
      "execution_count": 0,
      "outputs": []
    },
    {
      "metadata": {
        "id": "HPaffjMsIyVy",
        "colab_type": "code",
        "colab": {}
      },
      "cell_type": "code",
      "source": [
        ""
      ],
      "execution_count": 0,
      "outputs": []
    },
    {
      "metadata": {
        "id": "QDNfWWNYIyWK",
        "colab_type": "code",
        "colab": {}
      },
      "cell_type": "code",
      "source": [
        ""
      ],
      "execution_count": 0,
      "outputs": []
    },
    {
      "metadata": {
        "id": "6JnJqH0KIyWU",
        "colab_type": "text"
      },
      "cell_type": "markdown",
      "source": [
        "### is there any use of imdb_id ? will see later.."
      ]
    },
    {
      "metadata": {
        "scrolled": true,
        "id": "yPsc3dH_IyWW",
        "colab_type": "code",
        "outputId": "89ff2641-2c76-4573-c3d8-6865973c5d54",
        "colab": {}
      },
      "cell_type": "code",
      "source": [
        "cnt={}\n",
        "for i in train['imdb_id']:\n",
        "    if i[0:4] not in cnt.keys():\n",
        "        cnt[i[0:4]]=1\n",
        "    else:\n",
        "        cnt[i[0:4]]+=1\n",
        "print(cnt)\n",
        "print(sorted(cnt.keys()))"
      ],
      "execution_count": 0,
      "outputs": [
        {
          "output_type": "stream",
          "text": [
            "{'tt26': 15, 'tt03': 227, 'tt25': 13, 'tt18': 41, 'tt13': 49, 'tt00': 638, 'tt04': 233, 'tt01': 579, 'tt11': 70, 'tt17': 52, 'tt14': 62, 'tt21': 33, 'tt16': 65, 'tt07': 31, 'tt02': 180, 'tt29': 16, 'tt27': 16, 'tt34': 10, 'tt09': 37, 'tt32': 7, 'tt10': 62, 'tt12': 74, 'tt28': 17, 'tt38': 15, 'tt24': 31, 'tt08': 77, 'tt15': 50, 'tt52': 5, 'tt31': 11, 'tt20': 38, 'tt33': 15, 'tt56': 5, 'tt23': 39, 'tt22': 22, 'tt44': 9, 'tt49': 7, 'tt19': 31, 'tt36': 8, 'tt46': 8, 'tt42': 10, 'tt66': 1, 'tt50': 5, 'tt30': 12, 'tt37': 16, 'tt40': 7, 'tt45': 5, 'tt65': 1, 'tt43': 6, 'tt51': 3, 'tt39': 3, 'tt35': 6, 'tt41': 8, 'tt47': 5, 'tt62': 1, 'tt54': 2, 'tt48': 4, 'tt57': 1, 'tt58': 1, 'tt55': 2, 'tt59': 1, 'tt60': 1, 'tt53': 1}\n",
            "['tt00', 'tt01', 'tt02', 'tt03', 'tt04', 'tt07', 'tt08', 'tt09', 'tt10', 'tt11', 'tt12', 'tt13', 'tt14', 'tt15', 'tt16', 'tt17', 'tt18', 'tt19', 'tt20', 'tt21', 'tt22', 'tt23', 'tt24', 'tt25', 'tt26', 'tt27', 'tt28', 'tt29', 'tt30', 'tt31', 'tt32', 'tt33', 'tt34', 'tt35', 'tt36', 'tt37', 'tt38', 'tt39', 'tt40', 'tt41', 'tt42', 'tt43', 'tt44', 'tt45', 'tt46', 'tt47', 'tt48', 'tt49', 'tt50', 'tt51', 'tt52', 'tt53', 'tt54', 'tt55', 'tt56', 'tt57', 'tt58', 'tt59', 'tt60', 'tt62', 'tt65', 'tt66']\n"
          ],
          "name": "stdout"
        }
      ]
    },
    {
      "metadata": {
        "id": "HLSX42gwIyWh",
        "colab_type": "code",
        "outputId": "f1d2ba99-b581-4035-a970-23e03cb0f845",
        "colab": {}
      },
      "cell_type": "code",
      "source": [
        "len(cnt) "
      ],
      "execution_count": 0,
      "outputs": [
        {
          "output_type": "execute_result",
          "data": {
            "text/plain": [
              "62"
            ]
          },
          "metadata": {
            "tags": []
          },
          "execution_count": 162
        }
      ]
    },
    {
      "metadata": {
        "id": "nw2qYyCBIyWt",
        "colab_type": "code",
        "outputId": "7556c202-50a1-4c22-8083-34fca35d86ff",
        "colab": {}
      },
      "cell_type": "code",
      "source": [
        "cnt={}\n",
        "for i in test['imdb_id']:\n",
        "    if i[0:4] not in cnt.keys():\n",
        "        cnt[i[0:4]]=1\n",
        "    else:\n",
        "        cnt[i[0:4]]+=1\n",
        "print(cnt)\n",
        "print(sorted(cnt.keys()))\n",
        "print(len(cnt))"
      ],
      "execution_count": 0,
      "outputs": [
        {
          "output_type": "stream",
          "text": [
            "{'tt12': 103, 'tt00': 945, 'tt01': 839, 'tt04': 364, 'tt15': 92, 'tt02': 239, 'tt36': 22, 'tt03': 329, 'tt08': 102, 'tt22': 49, 'tt10': 83, 'tt17': 81, 'tt21': 43, 'tt19': 53, 'tt29': 19, 'tt23': 71, 'tt38': 13, 'tt18': 55, 'tt16': 95, 'tt32': 19, 'tt09': 73, 'tt07': 40, 'tt13': 85, 'tt33': 20, 'tt11': 105, 'tt45': 9, 'tt20': 37, 'tt40': 15, 'tt14': 87, 'tt30': 21, 'tt34': 18, 'tt25': 27, 'tt24': 30, 'tt49': 4, 'tt27': 19, 'tt41': 14, 'tt56': 3, 'tt31': 15, 'tt47': 9, 'tt42': 14, 'tt35': 16, 'tt28': 17, 'tt46': 9, 'tt37': 21, 'tt43': 10, 'tt54': 4, 'tt26': 12, 'tt58': 2, 'tt48': 9, 'tt60': 1, 'tt39': 4, 'tt59': 2, 'tt51': 4, 'tt53': 4, 'tt57': 3, 'tt50': 6, 'tt44': 7, 'tt52': 3, 'tt62': 2, 'tt55': 1}\n",
            "['tt00', 'tt01', 'tt02', 'tt03', 'tt04', 'tt07', 'tt08', 'tt09', 'tt10', 'tt11', 'tt12', 'tt13', 'tt14', 'tt15', 'tt16', 'tt17', 'tt18', 'tt19', 'tt20', 'tt21', 'tt22', 'tt23', 'tt24', 'tt25', 'tt26', 'tt27', 'tt28', 'tt29', 'tt30', 'tt31', 'tt32', 'tt33', 'tt34', 'tt35', 'tt36', 'tt37', 'tt38', 'tt39', 'tt40', 'tt41', 'tt42', 'tt43', 'tt44', 'tt45', 'tt46', 'tt47', 'tt48', 'tt49', 'tt50', 'tt51', 'tt52', 'tt53', 'tt54', 'tt55', 'tt56', 'tt57', 'tt58', 'tt59', 'tt60', 'tt62']\n",
            "60\n"
          ],
          "name": "stdout"
        }
      ]
    },
    {
      "metadata": {
        "id": "uwe8ZE2SIyW_",
        "colab_type": "code",
        "colab": {}
      },
      "cell_type": "code",
      "source": [
        ""
      ],
      "execution_count": 0,
      "outputs": []
    },
    {
      "metadata": {
        "id": "6t1IThOsIyXF",
        "colab_type": "code",
        "outputId": "f630e7d1-8a4d-4d1f-ca29-cb39986b6a87",
        "colab": {}
      },
      "cell_type": "code",
      "source": [
        "sns.heatmap(train.corr(),annot=True)"
      ],
      "execution_count": 0,
      "outputs": [
        {
          "output_type": "execute_result",
          "data": {
            "text/plain": [
              "<matplotlib.axes._subplots.AxesSubplot at 0x244f5b1e208>"
            ]
          },
          "metadata": {
            "tags": []
          },
          "execution_count": 164
        },
        {
          "output_type": "display_data",
          "data": {
            "image/png": "[encoded data removed]",
            "text/plain": [
              "<Figure size 432x288 with 2 Axes>"
            ]
          },
          "metadata": {
            "tags": [],
            "needs_background": "light"
          }
        }
      ]
    },
    {
      "metadata": {
        "id": "TwCAUx0NIyXP",
        "colab_type": "text"
      },
      "cell_type": "markdown",
      "source": [
        "## Data Cleaning and Feauture engineering"
      ]
    },
    {
      "metadata": {
        "scrolled": true,
        "id": "ISOggg2lIyXT",
        "colab_type": "code",
        "outputId": "acafc490-550c-47fb-eda4-de2a5716d29b",
        "colab": {
          "base_uri": "https://localhost:8080/",
          "height": 530
        }
      },
      "cell_type": "code",
      "source": [
        "train.head()"
      ],
      "execution_count": 0,
      "outputs": [
        {
          "output_type": "execute_result",
          "data": {
            "text/html": [
              "<div>\n",
              "<style scoped>\n",
              "    .dataframe tbody tr th:only-of-type {\n",
              "        vertical-align: middle;\n",
              "    }\n",
              "\n",
              "    .dataframe tbody tr th {\n",
              "        vertical-align: top;\n",
              "    }\n",
              "\n",
              "    .dataframe thead th {\n",
              "        text-align: right;\n",
              "    }\n",
              "</style>\n",
              "<table border=\"1\" class=\"dataframe\">\n",
              "  <thead>\n",
              "    <tr style=\"text-align: right;\">\n",
              "      <th></th>\n",
              "      <th>budget</th>\n",
              "      <th>genres</th>\n",
              "      <th>imdb_id</th>\n",
              "      <th>original_language</th>\n",
              "      <th>popularity</th>\n",
              "      <th>production_companies</th>\n",
              "      <th>production_countries</th>\n",
              "      <th>release_date</th>\n",
              "      <th>runtime</th>\n",
              "      <th>spoken_languages</th>\n",
              "      <th>status</th>\n",
              "      <th>title</th>\n",
              "      <th>Keywords</th>\n",
              "      <th>cast</th>\n",
              "      <th>crew</th>\n",
              "      <th>revenue</th>\n",
              "    </tr>\n",
              "  </thead>\n",
              "  <tbody>\n",
              "    <tr>\n",
              "      <th>0</th>\n",
              "      <td>14000000</td>\n",
              "      <td>[{'id': 35, 'name': 'Comedy'}]</td>\n",
              "      <td>tt2637294</td>\n",
              "      <td>en</td>\n",
              "      <td>6.575393</td>\n",
              "      <td>[{'name': 'Paramount Pictures', 'id': 4}, {'na...</td>\n",
              "      <td>[{'iso_3166_1': 'US', 'name': 'United States o...</td>\n",
              "      <td>2/20/15</td>\n",
              "      <td>93.0</td>\n",
              "      <td>[{'iso_639_1': 'en', 'name': 'English'}]</td>\n",
              "      <td>Released</td>\n",
              "      <td>Hot Tub Time Machine 2</td>\n",
              "      <td>[{'id': 4379, 'name': 'time travel'}, {'id': 9...</td>\n",
              "      <td>[{'cast_id': 4, 'character': 'Lou', 'credit_id...</td>\n",
              "      <td>[{'credit_id': '59ac067c92514107af02c8c8', 'de...</td>\n",
              "      <td>12314651</td>\n",
              "    </tr>\n",
              "    <tr>\n",
              "      <th>1</th>\n",
              "      <td>40000000</td>\n",
              "      <td>[{'id': 35, 'name': 'Comedy'}, {'id': 18, 'nam...</td>\n",
              "      <td>tt0368933</td>\n",
              "      <td>en</td>\n",
              "      <td>8.248895</td>\n",
              "      <td>[{'name': 'Walt Disney Pictures', 'id': 2}]</td>\n",
              "      <td>[{'iso_3166_1': 'US', 'name': 'United States o...</td>\n",
              "      <td>8/6/04</td>\n",
              "      <td>113.0</td>\n",
              "      <td>[{'iso_639_1': 'en', 'name': 'English'}]</td>\n",
              "      <td>Released</td>\n",
              "      <td>The Princess Diaries 2: Royal Engagement</td>\n",
              "      <td>[{'id': 2505, 'name': 'coronation'}, {'id': 42...</td>\n",
              "      <td>[{'cast_id': 1, 'character': 'Mia Thermopolis'...</td>\n",
              "      <td>[{'credit_id': '52fe43fe9251416c7502563d', 'de...</td>\n",
              "      <td>95149435</td>\n",
              "    </tr>\n",
              "    <tr>\n",
              "      <th>2</th>\n",
              "      <td>3300000</td>\n",
              "      <td>[{'id': 18, 'name': 'Drama'}]</td>\n",
              "      <td>tt2582802</td>\n",
              "      <td>en</td>\n",
              "      <td>64.299990</td>\n",
              "      <td>[{'name': 'Bold Films', 'id': 2266}, {'name': ...</td>\n",
              "      <td>[{'iso_3166_1': 'US', 'name': 'United States o...</td>\n",
              "      <td>10/10/14</td>\n",
              "      <td>105.0</td>\n",
              "      <td>[{'iso_639_1': 'en', 'name': 'English'}]</td>\n",
              "      <td>Released</td>\n",
              "      <td>Whiplash</td>\n",
              "      <td>[{'id': 1416, 'name': 'jazz'}, {'id': 1523, 'n...</td>\n",
              "      <td>[{'cast_id': 5, 'character': 'Andrew Neimann',...</td>\n",
              "      <td>[{'credit_id': '54d5356ec3a3683ba0000039', 'de...</td>\n",
              "      <td>13092000</td>\n",
              "    </tr>\n",
              "    <tr>\n",
              "      <th>3</th>\n",
              "      <td>1200000</td>\n",
              "      <td>[{'id': 53, 'name': 'Thriller'}, {'id': 18, 'n...</td>\n",
              "      <td>tt1821480</td>\n",
              "      <td>hi</td>\n",
              "      <td>3.174936</td>\n",
              "      <td>NaN</td>\n",
              "      <td>[{'iso_3166_1': 'IN', 'name': 'India'}]</td>\n",
              "      <td>3/9/12</td>\n",
              "      <td>122.0</td>\n",
              "      <td>[{'iso_639_1': 'en', 'name': 'English'}, {'iso...</td>\n",
              "      <td>Released</td>\n",
              "      <td>Kahaani</td>\n",
              "      <td>[{'id': 10092, 'name': 'mystery'}, {'id': 1054...</td>\n",
              "      <td>[{'cast_id': 1, 'character': 'Vidya Bagchi', '...</td>\n",
              "      <td>[{'credit_id': '52fe48779251416c9108d6eb', 'de...</td>\n",
              "      <td>16000000</td>\n",
              "    </tr>\n",
              "    <tr>\n",
              "      <th>4</th>\n",
              "      <td>0</td>\n",
              "      <td>[{'id': 28, 'name': 'Action'}, {'id': 53, 'nam...</td>\n",
              "      <td>tt1380152</td>\n",
              "      <td>ko</td>\n",
              "      <td>1.148070</td>\n",
              "      <td>NaN</td>\n",
              "      <td>[{'iso_3166_1': 'KR', 'name': 'South Korea'}]</td>\n",
              "      <td>2/5/09</td>\n",
              "      <td>118.0</td>\n",
              "      <td>[{'iso_639_1': 'ko', 'name': '한국어/조선말'}]</td>\n",
              "      <td>Released</td>\n",
              "      <td>Marine Boy</td>\n",
              "      <td>NaN</td>\n",
              "      <td>[{'cast_id': 3, 'character': 'Chun-soo', 'cred...</td>\n",
              "      <td>[{'credit_id': '52fe464b9251416c75073b43', 'de...</td>\n",
              "      <td>3923970</td>\n",
              "    </tr>\n",
              "  </tbody>\n",
              "</table>\n",
              "</div>"
            ],
            "text/plain": [
              "     budget                                             genres    imdb_id  \\\n",
              "0  14000000                     [{'id': 35, 'name': 'Comedy'}]  tt2637294   \n",
              "1  40000000  [{'id': 35, 'name': 'Comedy'}, {'id': 18, 'nam...  tt0368933   \n",
              "2   3300000                      [{'id': 18, 'name': 'Drama'}]  tt2582802   \n",
              "3   1200000  [{'id': 53, 'name': 'Thriller'}, {'id': 18, 'n...  tt1821480   \n",
              "4         0  [{'id': 28, 'name': 'Action'}, {'id': 53, 'nam...  tt1380152   \n",
              "\n",
              "  original_language  popularity  \\\n",
              "0                en    6.575393   \n",
              "1                en    8.248895   \n",
              "2                en   64.299990   \n",
              "3                hi    3.174936   \n",
              "4                ko    1.148070   \n",
              "\n",
              "                                production_companies  \\\n",
              "0  [{'name': 'Paramount Pictures', 'id': 4}, {'na...   \n",
              "1        [{'name': 'Walt Disney Pictures', 'id': 2}]   \n",
              "2  [{'name': 'Bold Films', 'id': 2266}, {'name': ...   \n",
              "3                                                NaN   \n",
              "4                                                NaN   \n",
              "\n",
              "                                production_countries release_date  runtime  \\\n",
              "0  [{'iso_3166_1': 'US', 'name': 'United States o...      2/20/15     93.0   \n",
              "1  [{'iso_3166_1': 'US', 'name': 'United States o...       8/6/04    113.0   \n",
              "2  [{'iso_3166_1': 'US', 'name': 'United States o...     10/10/14    105.0   \n",
              "3            [{'iso_3166_1': 'IN', 'name': 'India'}]       3/9/12    122.0   \n",
              "4      [{'iso_3166_1': 'KR', 'name': 'South Korea'}]       2/5/09    118.0   \n",
              "\n",
              "                                    spoken_languages    status  \\\n",
              "0           [{'iso_639_1': 'en', 'name': 'English'}]  Released   \n",
              "1           [{'iso_639_1': 'en', 'name': 'English'}]  Released   \n",
              "2           [{'iso_639_1': 'en', 'name': 'English'}]  Released   \n",
              "3  [{'iso_639_1': 'en', 'name': 'English'}, {'iso...  Released   \n",
              "4           [{'iso_639_1': 'ko', 'name': '한국어/조선말'}]  Released   \n",
              "\n",
              "                                      title  \\\n",
              "0                    Hot Tub Time Machine 2   \n",
              "1  The Princess Diaries 2: Royal Engagement   \n",
              "2                                  Whiplash   \n",
              "3                                   Kahaani   \n",
              "4                                Marine Boy   \n",
              "\n",
              "                                            Keywords  \\\n",
              "0  [{'id': 4379, 'name': 'time travel'}, {'id': 9...   \n",
              "1  [{'id': 2505, 'name': 'coronation'}, {'id': 42...   \n",
              "2  [{'id': 1416, 'name': 'jazz'}, {'id': 1523, 'n...   \n",
              "3  [{'id': 10092, 'name': 'mystery'}, {'id': 1054...   \n",
              "4                                                NaN   \n",
              "\n",
              "                                                cast  \\\n",
              "0  [{'cast_id': 4, 'character': 'Lou', 'credit_id...   \n",
              "1  [{'cast_id': 1, 'character': 'Mia Thermopolis'...   \n",
              "2  [{'cast_id': 5, 'character': 'Andrew Neimann',...   \n",
              "3  [{'cast_id': 1, 'character': 'Vidya Bagchi', '...   \n",
              "4  [{'cast_id': 3, 'character': 'Chun-soo', 'cred...   \n",
              "\n",
              "                                                crew   revenue  \n",
              "0  [{'credit_id': '59ac067c92514107af02c8c8', 'de...  12314651  \n",
              "1  [{'credit_id': '52fe43fe9251416c7502563d', 'de...  95149435  \n",
              "2  [{'credit_id': '54d5356ec3a3683ba0000039', 'de...  13092000  \n",
              "3  [{'credit_id': '52fe48779251416c9108d6eb', 'de...  16000000  \n",
              "4  [{'credit_id': '52fe464b9251416c75073b43', 'de...   3923970  "
            ]
          },
          "metadata": {
            "tags": []
          },
          "execution_count": 24
        }
      ]
    },
    {
      "metadata": {
        "id": "8WDbjeH3IyXf",
        "colab_type": "code",
        "outputId": "999b040f-e707-4650-f5a9-f35e942c0c04",
        "colab": {
          "base_uri": "https://localhost:8080/",
          "height": 34
        }
      },
      "cell_type": "code",
      "source": [
        "train['genres'][101]"
      ],
      "execution_count": 0,
      "outputs": [
        {
          "output_type": "execute_result",
          "data": {
            "text/plain": [
              "\"[{'id': 18, 'name': 'Drama'}, {'id': 10749, 'name': 'Romance'}]\""
            ]
          },
          "metadata": {
            "tags": []
          },
          "execution_count": 25
        }
      ]
    },
    {
      "metadata": {
        "id": "zvPkJ1sHIyXo",
        "colab_type": "code",
        "outputId": "5bdcc6e5-f6a6-47ff-98cb-7bac90bbd5ed",
        "colab": {
          "base_uri": "https://localhost:8080/",
          "height": 34
        }
      },
      "cell_type": "code",
      "source": [
        "train['production_companies'][201]"
      ],
      "execution_count": 0,
      "outputs": [
        {
          "output_type": "execute_result",
          "data": {
            "text/plain": [
              "\"[{'name': 'De Laurentiis Entertainment Group (DEG)', 'id': 484}, {'name': 'Kestrel Films', 'id': 27023}, {'name': 'Earth Girls', 'id': 78875}]\""
            ]
          },
          "metadata": {
            "tags": []
          },
          "execution_count": 26
        }
      ]
    },
    {
      "metadata": {
        "id": "fK6STJO_IyX5",
        "colab_type": "code",
        "outputId": "01b38f74-64f8-44f1-8a66-b4fb8c1d38ca",
        "colab": {
          "base_uri": "https://localhost:8080/",
          "height": 34
        }
      },
      "cell_type": "code",
      "source": [
        "train['production_countries'][201]"
      ],
      "execution_count": 0,
      "outputs": [
        {
          "output_type": "execute_result",
          "data": {
            "text/plain": [
              "\"[{'iso_3166_1': 'GB', 'name': 'United Kingdom'}, {'iso_3166_1': 'US', 'name': 'United States of America'}]\""
            ]
          },
          "metadata": {
            "tags": []
          },
          "execution_count": 27
        }
      ]
    },
    {
      "metadata": {
        "id": "A1u3lY89IyYE",
        "colab_type": "code",
        "outputId": "5d2289e2-3e49-45dd-a891-6b5db3946029",
        "colab": {
          "base_uri": "https://localhost:8080/",
          "height": 34
        }
      },
      "cell_type": "code",
      "source": [
        "train['spoken_languages'][201]"
      ],
      "execution_count": 0,
      "outputs": [
        {
          "output_type": "execute_result",
          "data": {
            "text/plain": [
              "\"[{'iso_639_1': 'en', 'name': 'English'}]\""
            ]
          },
          "metadata": {
            "tags": []
          },
          "execution_count": 28
        }
      ]
    },
    {
      "metadata": {
        "id": "wdWQLTIJIyYP",
        "colab_type": "code",
        "outputId": "f607d3a7-089d-4e1c-a1d3-f52330f7ca2d",
        "colab": {
          "base_uri": "https://localhost:8080/",
          "height": 54
        }
      },
      "cell_type": "code",
      "source": [
        "train['Keywords'][201]"
      ],
      "execution_count": 0,
      "outputs": [
        {
          "output_type": "execute_result",
          "data": {
            "text/plain": [
              "\"[{'id': 246, 'name': 'dancing'}, {'id': 572, 'name': 'sex'}, {'id': 1566, 'name': 'dream'}, {'id': 4344, 'name': 'musical'}, {'id': 6149, 'name': 'police'}, {'id': 7984, 'name': 'bikini'}, {'id': 8181, 'name': 'swimming pool'}, {'id': 9749, 'name': 'beauty salon'}, {'id': 9799, 'name': 'romantic comedy'}, {'id': 9831, 'name': 'spaceship'}, {'id': 9840, 'name': 'romance'}, {'id': 9951, 'name': 'alien'}, {'id': 11128, 'name': 'furry'}, {'id': 11612, 'name': 'hospital'}, {'id': 34130, 'name': 'makeover'}, {'id': 163957, 'name': 'nosy neighbor'}, {'id': 177299, 'name': 'discotheque'}, {'id': 177303, 'name': 'valley girl'}]\""
            ]
          },
          "metadata": {
            "tags": []
          },
          "execution_count": 29
        }
      ]
    },
    {
      "metadata": {
        "id": "e5nfWACmIyYZ",
        "colab_type": "code",
        "outputId": "b7f88107-65b8-468b-e10a-a9d2a1bd89c3",
        "colab": {
          "base_uri": "https://localhost:8080/",
          "height": 54
        }
      },
      "cell_type": "code",
      "source": [
        "train['cast'][201]"
      ],
      "execution_count": 0,
      "outputs": [
        {
          "output_type": "execute_result",
          "data": {
            "text/plain": [
              "'[{\\'cast_id\\': 9, \\'character\\': \\'Valerie\\', \\'credit_id\\': \\'52fe4341c3a36847f804639b\\', \\'gender\\': 1, \\'id\\': 16935, \\'name\\': \\'Geena Davis\\', \\'order\\': 0, \\'profile_path\\': \\'/6b8cRJOItz7yNpYuLCPkl5kv4m2.jpg\\'}, {\\'cast_id\\': 10, \\'character\\': \\'Mac\\', \\'credit_id\\': \\'52fe4341c3a36847f804639f\\', \\'gender\\': 2, \\'id\\': 4785, \\'name\\': \\'Jeff Goldblum\\', \\'order\\': 1, \\'profile_path\\': \\'/w9frUiRJUyRnWvFqihtS31q6LWc.jpg\\'}, {\\'cast_id\\': 11, \\'character\\': \\'Zeebo\\', \\'credit_id\\': \\'52fe4341c3a36847f80463a3\\', \\'gender\\': 2, \\'id\\': 22675, \\'name\\': \\'Damon Wayans\\', \\'order\\': 3, \\'profile_path\\': \\'/pdSOalf1r7GKlcUhpKeBntAqgA6.jpg\\'}, {\\'cast_id\\': 17, \\'character\\': \\'Cindy\\', \\'credit_id\\': \\'52fe4341c3a36847f80463b9\\', \\'gender\\': 1, \\'id\\': 40680, \\'name\\': \\'Julie Brown\\', \\'order\\': 4, \\'profile_path\\': \\'/8a1NwjIyjOWmYTqdj4fuxqKlzR5.jpg\\'}, {\\'cast_id\\': 13, \\'character\\': \\'Woody\\', \\'credit_id\\': \\'52fe4341c3a36847f80463a7\\', \\'gender\\': 2, \\'id\\': 21731, \\'name\\': \\'Michael McKean\\', \\'order\\': 5, \\'profile_path\\': \\'/iVcsvBb15nep7TZ07MlJFcxMzvD.jpg\\'}, {\\'cast_id\\': 20, \\'character\\': \\'Ted\\', \\'credit_id\\': \\'573c4bfac3a3687dbf000f71\\', \\'gender\\': 2, \\'id\\': 7867, \\'name\\': \\'Charles Rocket\\', \\'order\\': 6, \\'profile_path\\': \\'/9UJTYqaPaYNPuVTjGd0Cr4XVNqe.jpg\\'}, {\\'cast_id\\': 21, \\'character\\': \\'Dr. Bob\\', \\'credit_id\\': \\'573c4c159251417a2c000e79\\', \\'gender\\': 2, \\'id\\': 55431, \\'name\\': \\'Larry Linville\\', \\'order\\': 7, \\'profile_path\\': \\'/lQwGDXuk44TNEJjJayIqXpPcElB.jpg\\'}, {\\'cast_id\\': 22, \\'character\\': \\'Dr. Rick\\', \\'credit_id\\': \\'573c4c27c3a3687d8b000f5e\\', \\'gender\\': 2, \\'id\\': 1539, \\'name\\': \\'Rick Overton\\', \\'order\\': 8, \\'profile_path\\': \\'/584g2eLl6ZmZ71ikvGw5tyqEv1p.jpg\\'}, {\\'cast_id\\': 26, \\'character\\': \\'Robin\\', \\'credit_id\\': \\'573c510d9251416a8c001010\\', \\'gender\\': 1, \\'id\\': 157470, \\'name\\': \\'Diane Stilwell\\', \\'order\\': 9, \\'profile_path\\': \\'/jHSe49OuTyUfLBlXYdgvKitQl2u.jpg\\'}, {\\'cast_id\\': 27, \\'character\\': \\'Mrs. Merkin\\', \\'credit_id\\': \\'577aa5b8925141743e001097\\', \\'gender\\': 1, \\'id\\': 112936, \\'name\\': \\'Juney Ellis\\', \\'order\\': 10, \\'profile_path\\': None}, {\\'cast_id\\': 28, \\'character\\': \\'Ramon\\', \\'credit_id\\': \\'577aa5f8c3a36820080013f3\\', \\'gender\\': 0, \\'id\\': 45401, \\'name\\': \\'Felix Montano\\', \\'order\\': 11, \\'profile_path\\': None}, {\\'cast_id\\': 29, \\'character\\': \\'Joe the Cop\\', \\'credit_id\\': \\'577aa668c3a368204f00134b\\', \\'gender\\': 2, \\'id\\': 1215961, \\'name\\': \\'Rick Hurst\\', \\'order\\': 12, \\'profile_path\\': \\'/8zmntJrhLrFFRnkG056eQtXqlFN.jpg\\'}, {\\'cast_id\\': 30, \\'character\\': \\'Mike the Cop\\', \\'credit_id\\': \\'577aa68cc3a36820fe00130c\\', \\'gender\\': 0, \\'id\\': 1377933, \\'name\\': \\'Leslie Morris\\', \\'order\\': 13, \\'profile_path\\': None}, {\\'cast_id\\': 25, \\'character\\': \\'Kikki\\', \\'credit_id\\': \\'573c4dab92514168e1000f93\\', \\'gender\\': 1, \\'id\\': 94498, \\'name\\': \\'Lisa Fuller\\', \\'order\\': 14, \\'profile_path\\': \\'/ycCYR6WTT02FM7TWlnly2euaUuP.jpg\\'}, {\\'cast_id\\': 16, \\'character\\': \\'Tammy\\', \\'credit_id\\': \\'52fe4341c3a36847f80463b5\\', \\'gender\\': 1, \\'id\\': 31714, \\'name\\': \\'Stacey Travis\\', \\'order\\': 15, \\'profile_path\\': \\'/peARleY7mDjxph4fFfeWnV4LMFe.jpg\\'}, {\\'cast_id\\': 19, \\'character\\': \\'Gas Girl\\', \\'credit_id\\': \\'572ec3d3c3a3684bd3002374\\', \\'gender\\': 0, \\'id\\': 44706, \\'name\\': \\'Angelyne\\', \\'order\\': 16, \\'profile_path\\': None}, {\\'cast_id\\': 23, \\'character\\': \\'Bryan\\', \\'credit_id\\': \\'573c4c74c3a36855cd000652\\', \\'gender\\': 2, \\'id\\': 1621813, \\'name\\': \\'Jake Jundef\\', \\'order\\': 17, \\'profile_path\\': \\'/4Lg1bdbzZ4DFc1dtIAP8gQcrgFa.jpg\\'}, {\\'cast_id\\': 24, \\'character\\': \"Bryan\\'s Mother\", \\'credit_id\\': \\'573c4d4fc3a3687dbf000fb5\\', \\'gender\\': 1, \\'id\\': 156617, \\'name\\': \\'Susan Krebs\\', \\'order\\': 18, \\'profile_path\\': \\'/bmMA8XShMcolpmNTtWIEaYBbX7L.jpg\\'}, {\\'cast_id\\': 39, \\'character\\': \\'Curl Up and Dye Dancer\\', \\'credit_id\\': \\'58df4505c3a3683d2a0048c4\\', \\'gender\\': 1, \\'id\\': 1787560, \\'name\\': \\'Larri Thomas\\', \\'order\\': 19, \\'profile_path\\': \\'/gzVGA3VB6Zi0ZWZc4AhAdvHTjS9.jpg\\'}, {\\'cast_id\\': 40, \\'character\\': \\'Demone\\', \\'credit_id\\': \\'59d12e08925141468f01b3be\\', \\'gender\\': 2, \\'id\\': 96402, \\'name\\': \"Wayne \\'Crescendo\\' Ward\", \\'order\\': 20, \\'profile_path\\': \\'/hNRyq50AKMBIMYL2ZSWMomMq58i.jpg\\'}, {\\'cast_id\\': 41, \\'character\\': \\'\\', \\'credit_id\\': \\'59e392f99251410b6700031a\\', \\'gender\\': 2, \\'id\\': 206, \\'name\\': \\'Jim Carrey\\', \\'order\\': 21, \\'profile_path\\': \\'/5tVf0ow8MX4OwjmVoSa5v7qUDka.jpg\\'}]'"
            ]
          },
          "metadata": {
            "tags": []
          },
          "execution_count": 30
        }
      ]
    },
    {
      "metadata": {
        "id": "Da2UguyhIyYr",
        "colab_type": "code",
        "outputId": "f4341bcc-fac0-4f52-d1dc-0314a2b8e96d",
        "colab": {
          "base_uri": "https://localhost:8080/",
          "height": 54
        }
      },
      "cell_type": "code",
      "source": [
        "train['crew'][201]"
      ],
      "execution_count": 0,
      "outputs": [
        {
          "output_type": "execute_result",
          "data": {
            "text/plain": [
              "\"[{'credit_id': '577ae729c3a36824260008e9', 'department': 'Art', 'gender': 2, 'id': 4248, 'job': 'Production Design', 'name': 'Dennis Gassner', 'profile_path': None}, {'credit_id': '577ae706c3a3682433000943', 'department': 'Editing', 'gender': 2, 'id': 1918, 'job': 'Editor', 'name': 'Richard Halsey', 'profile_path': None}, {'credit_id': '52fe4341c3a36847f8046391', 'department': 'Sound', 'gender': 2, 'id': 4613, 'job': 'Original Music Composer', 'name': 'Nile Rodgers', 'profile_path': '/bD5bQNACHNhIey4EwixVQIyHQwk.jpg'}, {'credit_id': '577ae6e79251415aed00094b', 'department': 'Production', 'gender': 2, 'id': 6870, 'job': 'Line Producer', 'name': 'Duncan Henderson', 'profile_path': None}, {'credit_id': '577ae690c3a368242e00093b', 'department': 'Writing', 'gender': 1, 'id': 40680, 'job': 'Writer', 'name': 'Julie Brown', 'profile_path': '/8a1NwjIyjOWmYTqdj4fuxqKlzR5.jpg'}, {'credit_id': '52fe4341c3a36847f80463b1', 'department': 'Production', 'gender': 0, 'id': 12847, 'job': 'Casting', 'name': 'Wallis Nicita', 'profile_path': None}, {'credit_id': '52fe4341c3a36847f8046397', 'department': 'Camera', 'gender': 2, 'id': 16425, 'job': 'Director of Photography', 'name': 'Oliver Stapleton', 'profile_path': None}, {'credit_id': '52fe4341c3a36847f804638b', 'department': 'Production', 'gender': 2, 'id': 21841, 'job': 'Producer', 'name': 'Tony Garnett', 'profile_path': '/f94R5eMigA3QMjlSvX5t6Ayl8Sf.jpg'}, {'credit_id': '52fe4341c3a36847f8046379', 'department': 'Directing', 'gender': 2, 'id': 22669, 'job': 'Director', 'name': 'Julien Temple', 'profile_path': '/ktxBwnWZHwbKuMngxwY3MyRotDR.jpg'}, {'credit_id': '577ae660c3a36824210009f8', 'department': 'Writing', 'gender': 2, 'id': 22672, 'job': 'Writer', 'name': 'Terrence E. McNally', 'profile_path': None}, {'credit_id': '577ae6cb9251415aed00093d', 'department': 'Production', 'gender': 2, 'id': 22672, 'job': 'Associate Producer', 'name': 'Terrence E. McNally', 'profile_path': None}, {'credit_id': '577ae6749251415b000008da', 'department': 'Writing', 'gender': 0, 'id': 22671, 'job': 'Writer', 'name': 'Charlie Coffey', 'profile_path': None}, {'credit_id': '577ae742c3a3682423000957', 'department': 'Art', 'gender': 0, 'id': 1299406, 'job': 'Art Direction', 'name': 'Dins W.W. Danielsen', 'profile_path': None}]\""
            ]
          },
          "metadata": {
            "tags": []
          },
          "execution_count": 31
        }
      ]
    },
    {
      "metadata": {
        "id": "p5lW5gZ4IyY8",
        "colab_type": "text"
      },
      "cell_type": "markdown",
      "source": [
        "#### Let's create set of columns which we think will be useful for revenue prediction"
      ]
    },
    {
      "metadata": {
        "id": "z5zMzHC4IyY_",
        "colab_type": "code",
        "colab": {}
      },
      "cell_type": "code",
      "source": [
        "columns_to_keep = set()\n",
        "columns_to_keep.add('budget')\n",
        "columns_to_keep.add('popularity')\n",
        "columns_to_keep.add('budget')\n",
        "columns_to_keep.add('runtime')\n",
        "\n",
        "# all remaining columns we will cover one by one "
      ],
      "execution_count": 0,
      "outputs": []
    },
    {
      "metadata": {
        "id": "GIQ9a5HnIyZK",
        "colab_type": "text"
      },
      "cell_type": "markdown",
      "source": [
        "## One hot encoding status column"
      ]
    },
    {
      "metadata": {
        "id": "Xl03NGvgIyZM",
        "colab_type": "code",
        "outputId": "3cd471c2-deaf-422f-9103-ec2bd6270379",
        "colab": {
          "base_uri": "https://localhost:8080/",
          "height": 68
        }
      },
      "cell_type": "code",
      "source": [
        "train['status'].value_counts()"
      ],
      "execution_count": 0,
      "outputs": [
        {
          "output_type": "execute_result",
          "data": {
            "text/plain": [
              "Released    2996\n",
              "Rumored        4\n",
              "Name: status, dtype: int64"
            ]
          },
          "metadata": {
            "tags": []
          },
          "execution_count": 33
        }
      ]
    },
    {
      "metadata": {
        "id": "1rPdgprRIyZX",
        "colab_type": "code",
        "outputId": "9b3ff00b-c873-4a71-d16c-3c289e7fb163",
        "colab": {
          "base_uri": "https://localhost:8080/",
          "height": 85
        }
      },
      "cell_type": "code",
      "source": [
        "test['status'].value_counts()"
      ],
      "execution_count": 0,
      "outputs": [
        {
          "output_type": "execute_result",
          "data": {
            "text/plain": [
              "Released           4389\n",
              "Post Production       5\n",
              "Rumored               2\n",
              "Name: status, dtype: int64"
            ]
          },
          "metadata": {
            "tags": []
          },
          "execution_count": 34
        }
      ]
    },
    {
      "metadata": {
        "id": "LxYJxfPLIyZi",
        "colab_type": "code",
        "colab": {}
      },
      "cell_type": "code",
      "source": [
        "train['status'].fillna('Released',inplace=True)\n",
        "test['status'].fillna('Released',inplace=True)"
      ],
      "execution_count": 0,
      "outputs": []
    },
    {
      "metadata": {
        "scrolled": true,
        "id": "3a_9ze5lIyZt",
        "colab_type": "code",
        "outputId": "06c20ff9-1110-43af-9dac-27c7f506122a",
        "colab": {
          "base_uri": "https://localhost:8080/",
          "height": 306
        }
      },
      "cell_type": "code",
      "source": [
        "print(train.isnull().sum())"
      ],
      "execution_count": 0,
      "outputs": [
        {
          "output_type": "stream",
          "text": [
            "budget                    0\n",
            "genres                    7\n",
            "imdb_id                   0\n",
            "original_language         0\n",
            "popularity                0\n",
            "production_companies    156\n",
            "production_countries     55\n",
            "release_date              0\n",
            "runtime                   2\n",
            "spoken_languages         20\n",
            "status                    0\n",
            "title                     0\n",
            "Keywords                276\n",
            "cast                     13\n",
            "crew                     16\n",
            "revenue                   0\n",
            "dtype: int64\n"
          ],
          "name": "stdout"
        }
      ]
    },
    {
      "metadata": {
        "id": "QR_M1Nq6IyZ5",
        "colab_type": "code",
        "colab": {}
      },
      "cell_type": "code",
      "source": [
        "total_unique_values=['Released','Rumored','Post Production']"
      ],
      "execution_count": 0,
      "outputs": []
    },
    {
      "metadata": {
        "id": "wflsZrqGIyZ_",
        "colab_type": "code",
        "colab": {}
      },
      "cell_type": "code",
      "source": [
        "for val in total_unique_values:\n",
        "    train['status_'+val] = train['status'].apply(lambda x: 1 if val == x else 0)\n",
        "    columns_to_keep.add('status_'+val)"
      ],
      "execution_count": 0,
      "outputs": []
    },
    {
      "metadata": {
        "id": "1YvmX2_fIyaX",
        "colab_type": "code",
        "colab": {}
      },
      "cell_type": "code",
      "source": [
        "for val in total_unique_values:\n",
        "    test['status_'+val] = test['status'].apply(lambda x: 1 if val == x else 0)"
      ],
      "execution_count": 0,
      "outputs": []
    },
    {
      "metadata": {
        "id": "ryHE19JEIyaq",
        "colab_type": "code",
        "outputId": "5786d0b4-90e2-4911-8d67-6fb633e0df33",
        "colab": {
          "base_uri": "https://localhost:8080/",
          "height": 119
        }
      },
      "cell_type": "code",
      "source": [
        "train.columns"
      ],
      "execution_count": 0,
      "outputs": [
        {
          "output_type": "execute_result",
          "data": {
            "text/plain": [
              "Index(['budget', 'genres', 'imdb_id', 'original_language', 'popularity',\n",
              "       'production_companies', 'production_countries', 'release_date',\n",
              "       'runtime', 'spoken_languages', 'status', 'title', 'Keywords', 'cast',\n",
              "       'crew', 'revenue', 'status_Released', 'status_Rumored',\n",
              "       'status_Post Production'],\n",
              "      dtype='object')"
            ]
          },
          "metadata": {
            "tags": []
          },
          "execution_count": 40
        }
      ]
    },
    {
      "metadata": {
        "id": "bmcxjgmmIya4",
        "colab_type": "text"
      },
      "cell_type": "markdown",
      "source": [
        "## One hot encoding original_language column"
      ]
    },
    {
      "metadata": {
        "id": "SvDuZ95OIya6",
        "colab_type": "code",
        "outputId": "891e9434-d0e4-4ebd-a893-7c57fc00277a",
        "colab": {
          "base_uri": "https://localhost:8080/",
          "height": 34
        }
      },
      "cell_type": "code",
      "source": [
        "total_lang=list(train['original_language'])\n",
        "len(total_lang)"
      ],
      "execution_count": 0,
      "outputs": [
        {
          "output_type": "execute_result",
          "data": {
            "text/plain": [
              "3000"
            ]
          },
          "metadata": {
            "tags": []
          },
          "execution_count": 41
        }
      ]
    },
    {
      "metadata": {
        "id": "scnuI4FBIybA",
        "colab_type": "code",
        "outputId": "db9b7730-df7e-4cca-caa9-7e658554c484",
        "colab": {
          "base_uri": "https://localhost:8080/",
          "height": 34
        }
      },
      "cell_type": "code",
      "source": [
        "total_lang+=list(test['original_language'])\n",
        "len(total_lang)"
      ],
      "execution_count": 0,
      "outputs": [
        {
          "output_type": "execute_result",
          "data": {
            "text/plain": [
              "7398"
            ]
          },
          "metadata": {
            "tags": []
          },
          "execution_count": 42
        }
      ]
    },
    {
      "metadata": {
        "id": "hNSRV2ZiIybN",
        "colab_type": "code",
        "colab": {}
      },
      "cell_type": "code",
      "source": [
        "top_values = [m[0] for m in Counter([j for j in total_lang]).most_common(20)]"
      ],
      "execution_count": 0,
      "outputs": []
    },
    {
      "metadata": {
        "id": "zNYe_OIZIybS",
        "colab_type": "code",
        "outputId": "77b4fd35-1ee6-4bfc-b760-2e97fb7225bd",
        "colab": {
          "base_uri": "https://localhost:8080/",
          "height": 34
        }
      },
      "cell_type": "code",
      "source": [
        "print(top_values)"
      ],
      "execution_count": 0,
      "outputs": [
        {
          "output_type": "stream",
          "text": [
            "['en', 'fr', 'hi', 'ru', 'es', 'ja', 'it', 'ko', 'de', 'zh', 'cn', 'ta', 'sv', 'da', 'pt', 'ml', 'nl', 'tr', 'te', 'ro']\n"
          ],
          "name": "stdout"
        }
      ]
    },
    {
      "metadata": {
        "id": "tiRrAiB6IybY",
        "colab_type": "code",
        "colab": {}
      },
      "cell_type": "code",
      "source": [
        "for val in top_values:\n",
        "    train['language_'+val] = train['original_language'].apply(lambda x: 1 if val == x else 0)\n",
        "    columns_to_keep.add('language_'+val)"
      ],
      "execution_count": 0,
      "outputs": []
    },
    {
      "metadata": {
        "id": "0wMaXid5Iyba",
        "colab_type": "code",
        "colab": {}
      },
      "cell_type": "code",
      "source": [
        "for val in top_values:\n",
        "    test['language_'+val] = test['original_language'].apply(lambda x: 1 if val == x else 0)\n",
        "    columns_to_keep.add('language_'+val)"
      ],
      "execution_count": 0,
      "outputs": []
    },
    {
      "metadata": {
        "id": "lL-99lULIybd",
        "colab_type": "code",
        "outputId": "f3d20bd7-95f2-4792-fd7a-757887c8fb3c",
        "colab": {
          "base_uri": "https://localhost:8080/",
          "height": 204
        }
      },
      "cell_type": "code",
      "source": [
        "train.columns"
      ],
      "execution_count": 0,
      "outputs": [
        {
          "output_type": "execute_result",
          "data": {
            "text/plain": [
              "Index(['budget', 'genres', 'imdb_id', 'original_language', 'popularity',\n",
              "       'production_companies', 'production_countries', 'release_date',\n",
              "       'runtime', 'spoken_languages', 'status', 'title', 'Keywords', 'cast',\n",
              "       'crew', 'revenue', 'status_Released', 'status_Rumored',\n",
              "       'status_Post Production', 'language_en', 'language_fr', 'language_hi',\n",
              "       'language_ru', 'language_es', 'language_ja', 'language_it',\n",
              "       'language_ko', 'language_de', 'language_zh', 'language_cn',\n",
              "       'language_ta', 'language_sv', 'language_da', 'language_pt',\n",
              "       'language_ml', 'language_nl', 'language_tr', 'language_te',\n",
              "       'language_ro'],\n",
              "      dtype='object')"
            ]
          },
          "metadata": {
            "tags": []
          },
          "execution_count": 47
        }
      ]
    },
    {
      "metadata": {
        "id": "iv6TJ76aIybg",
        "colab_type": "text"
      },
      "cell_type": "markdown",
      "source": [
        "## feature engineering release_date column"
      ]
    },
    {
      "metadata": {
        "id": "fj0U1Xi5Iybh",
        "colab_type": "code",
        "outputId": "8681bb05-8d8f-4249-db62-4392a054f728",
        "colab": {
          "base_uri": "https://localhost:8080/",
          "height": 102
        }
      },
      "cell_type": "code",
      "source": [
        "train['release_date'].describe()"
      ],
      "execution_count": 0,
      "outputs": [
        {
          "output_type": "execute_result",
          "data": {
            "text/plain": [
              "count        3000\n",
              "unique       2398\n",
              "top       9/10/15\n",
              "freq            5\n",
              "Name: release_date, dtype: object"
            ]
          },
          "metadata": {
            "tags": []
          },
          "execution_count": 48
        }
      ]
    },
    {
      "metadata": {
        "id": "Iyh02a2BIybm",
        "colab_type": "code",
        "colab": {}
      },
      "cell_type": "code",
      "source": [
        "#as year is in yy format we have to handle movies after 20xx.So this method will help to add century to year\n",
        "def clean_date(date):\n",
        "    year = date.split('/')[2]\n",
        "    if int(year) <= 19:\n",
        "        return date[:-2] + '20' + year\n",
        "    else:\n",
        "        return date[:-2] + '19' + year"
      ],
      "execution_count": 0,
      "outputs": []
    },
    {
      "metadata": {
        "id": "Rug3l67XIybq",
        "colab_type": "code",
        "outputId": "73c6fb0d-0647-4a85-f606-37217fed7a2c",
        "colab": {
          "base_uri": "https://localhost:8080/",
          "height": 51
        }
      },
      "cell_type": "code",
      "source": [
        "#There is one null value in test set\n",
        "test.loc[test['release_date'].isnull() == True]['title']"
      ],
      "execution_count": 0,
      "outputs": [
        {
          "output_type": "execute_result",
          "data": {
            "text/plain": [
              "828    Jails, Hospitals & Hip-Hop\n",
              "Name: title, dtype: object"
            ]
          },
          "metadata": {
            "tags": []
          },
          "execution_count": 50
        }
      ]
    },
    {
      "metadata": {
        "id": "AR0EPE2TIybw",
        "colab_type": "code",
        "colab": {}
      },
      "cell_type": "code",
      "source": [
        "# when found on the internet it is released on 05/01/00 in 2000\n",
        "test.loc[test['release_date'].isnull() == True, 'release_date'] = '05/01/00'"
      ],
      "execution_count": 0,
      "outputs": []
    },
    {
      "metadata": {
        "id": "ripzKzFFIyb0",
        "colab_type": "code",
        "colab": {}
      },
      "cell_type": "code",
      "source": [
        "train['release_date'] = train['release_date'].apply(lambda x:clean_date(x))\n",
        "test['release_date'] = test['release_date'].apply(lambda x:clean_date(x))\n",
        "train['release_date'] = pd.to_datetime(train['release_date'])\n",
        "test['release_date'] = pd.to_datetime(test['release_date'])"
      ],
      "execution_count": 0,
      "outputs": []
    },
    {
      "metadata": {
        "id": "eR1oVbsHIyb5",
        "colab_type": "code",
        "colab": {}
      },
      "cell_type": "code",
      "source": [
        "#get time period features from date value\n",
        "def date_features(dataset):\n",
        "    \n",
        "    date_sections = [\"year\", \"weekday\", \"month\"]\n",
        "    for sec in date_sections:\n",
        "        section_col = 'release_date' + \"_\" + sec\n",
        "        if sec == \"year\":\n",
        "            dataset[\"release_date_years_passed\"] = 2019-getattr(dataset['release_date'].dt, sec).astype(int)\n",
        "            columns_to_keep.add(\"release_date_years_passed\")\n",
        "        else:\n",
        "            dataset[section_col] = getattr(dataset['release_date'].dt, sec).astype(int)\n",
        "            columns_to_keep.add(section_col)\n",
        "    return dataset\n"
      ],
      "execution_count": 0,
      "outputs": []
    },
    {
      "metadata": {
        "id": "87VKSSeJIyb8",
        "colab_type": "code",
        "colab": {}
      },
      "cell_type": "code",
      "source": [
        "train = date_features(train)\n",
        "test = date_features(test)"
      ],
      "execution_count": 0,
      "outputs": []
    },
    {
      "metadata": {
        "id": "__UUorwOIyb-",
        "colab_type": "text"
      },
      "cell_type": "markdown",
      "source": [
        "## exploring budget"
      ]
    },
    {
      "metadata": {
        "id": "GNzoUtnAIyb_",
        "colab_type": "code",
        "outputId": "f2f6e562-2846-4b45-8180-a8a76ce58d10",
        "colab": {
          "base_uri": "https://localhost:8080/",
          "height": 170
        }
      },
      "cell_type": "code",
      "source": [
        "train['budget'].describe()"
      ],
      "execution_count": 0,
      "outputs": [
        {
          "output_type": "execute_result",
          "data": {
            "text/plain": [
              "count    3.000000e+03\n",
              "mean     2.253133e+07\n",
              "std      3.702609e+07\n",
              "min      0.000000e+00\n",
              "25%      0.000000e+00\n",
              "50%      8.000000e+06\n",
              "75%      2.900000e+07\n",
              "max      3.800000e+08\n",
              "Name: budget, dtype: float64"
            ]
          },
          "metadata": {
            "tags": []
          },
          "execution_count": 55
        }
      ]
    },
    {
      "metadata": {
        "id": "2tx7fAVhIycF",
        "colab_type": "code",
        "outputId": "6dbead99-c5ed-4ae2-8af1-09a7e8f4f69f",
        "colab": {
          "base_uri": "https://localhost:8080/",
          "height": 34
        }
      },
      "cell_type": "code",
      "source": [
        "len(train[train['budget']==0])\n",
        "# there are 812 rows with 0 budget"
      ],
      "execution_count": 0,
      "outputs": [
        {
          "output_type": "execute_result",
          "data": {
            "text/plain": [
              "812"
            ]
          },
          "metadata": {
            "tags": []
          },
          "execution_count": 56
        }
      ]
    },
    {
      "metadata": {
        "id": "OFpc0LIHIycI",
        "colab_type": "code",
        "outputId": "a6ccb20a-4672-47b9-aa99-35fdbb1565d7",
        "colab": {
          "base_uri": "https://localhost:8080/",
          "height": 307
        }
      },
      "cell_type": "code",
      "source": [
        "sns.distplot(train['budget'])"
      ],
      "execution_count": 0,
      "outputs": [
        {
          "output_type": "execute_result",
          "data": {
            "text/plain": [
              "<matplotlib.axes._subplots.AxesSubplot at 0x7f9e3ec0e128>"
            ]
          },
          "metadata": {
            "tags": []
          },
          "execution_count": 57
        },
        {
          "output_type": "display_data",
          "data": {
            "image/png": "[encoded data removed]",
            "text/plain": [
              "<Figure size 432x288 with 1 Axes>"
            ]
          },
          "metadata": {
            "tags": []
          }
        }
      ]
    },
    {
      "metadata": {
        "id": "KAWlIiLqIycP",
        "colab_type": "code",
        "outputId": "0e87a19e-b3c3-4bd4-aa13-4bd5cb284023",
        "colab": {
          "base_uri": "https://localhost:8080/",
          "height": 300
        }
      },
      "cell_type": "code",
      "source": [
        "sns.distplot(np.log1p(train['budget']))\n",
        "# we see so many"
      ],
      "execution_count": 0,
      "outputs": [
        {
          "output_type": "execute_result",
          "data": {
            "text/plain": [
              "<matplotlib.axes._subplots.AxesSubplot at 0x7f9e3ec7b438>"
            ]
          },
          "metadata": {
            "tags": []
          },
          "execution_count": 58
        },
        {
          "output_type": "display_data",
          "data": {
            "image/png": "[encoded data removed]",
            "text/plain": [
              "<Figure size 432x288 with 1 Axes>"
            ]
          },
          "metadata": {
            "tags": []
          }
        }
      ]
    },
    {
      "metadata": {
        "id": "u-Y6o9jkIycU",
        "colab_type": "code",
        "outputId": "f666753f-ee28-4460-e6bf-3e0aec32f50e",
        "colab": {
          "base_uri": "https://localhost:8080/",
          "height": 458
        }
      },
      "cell_type": "code",
      "source": [
        "sns.jointplot(x=np.log1p(train['budget']), y=np.log1p(train['revenue']), data=train)"
      ],
      "execution_count": 0,
      "outputs": [
        {
          "output_type": "execute_result",
          "data": {
            "text/plain": [
              "<seaborn.axisgrid.JointGrid at 0x7f9e3eeca400>"
            ]
          },
          "metadata": {
            "tags": []
          },
          "execution_count": 59
        },
        {
          "output_type": "display_data",
          "data": {
            "image/png": "[encoded data removed]",
            "text/plain": [
              "<Figure size 432x432 with 3 Axes>"
            ]
          },
          "metadata": {
            "tags": []
          }
        }
      ]
    },
    {
      "metadata": {
        "id": "9TONfxVUIycY",
        "colab_type": "code",
        "colab": {}
      },
      "cell_type": "code",
      "source": [
        "train['budget'] = np.log1p(train.budget.values)\n",
        "test['budget'] = np.log1p(test.budget.values)"
      ],
      "execution_count": 0,
      "outputs": []
    },
    {
      "metadata": {
        "id": "PjVkWPT7Iyca",
        "colab_type": "text"
      },
      "cell_type": "markdown",
      "source": [
        "## exploring popularity"
      ]
    },
    {
      "metadata": {
        "id": "KLcVl9zVIycb",
        "colab_type": "code",
        "outputId": "7c00b1f3-c1c2-4176-9da3-bdafaf9bf3ba",
        "colab": {
          "base_uri": "https://localhost:8080/",
          "height": 170
        }
      },
      "cell_type": "code",
      "source": [
        "train.popularity.describe()"
      ],
      "execution_count": 0,
      "outputs": [
        {
          "output_type": "execute_result",
          "data": {
            "text/plain": [
              "count    3000.000000\n",
              "mean        8.463274\n",
              "std        12.104000\n",
              "min         0.000001\n",
              "25%         4.018053\n",
              "50%         7.374861\n",
              "75%        10.890983\n",
              "max       294.337037\n",
              "Name: popularity, dtype: float64"
            ]
          },
          "metadata": {
            "tags": []
          },
          "execution_count": 61
        }
      ]
    },
    {
      "metadata": {
        "id": "_evTHR8oIycd",
        "colab_type": "code",
        "outputId": "fb794162-cb41-4bf2-f9b6-5420cee08e55",
        "colab": {
          "base_uri": "https://localhost:8080/",
          "height": 300
        }
      },
      "cell_type": "code",
      "source": [
        "sns.distplot(train.popularity)"
      ],
      "execution_count": 0,
      "outputs": [
        {
          "output_type": "execute_result",
          "data": {
            "text/plain": [
              "<matplotlib.axes._subplots.AxesSubplot at 0x7f9e3f22d438>"
            ]
          },
          "metadata": {
            "tags": []
          },
          "execution_count": 62
        },
        {
          "output_type": "display_data",
          "data": {
            "image/png": "[encoded data removed]",
            "text/plain": [
              "<Figure size 432x288 with 1 Axes>"
            ]
          },
          "metadata": {
            "tags": []
          }
        }
      ]
    },
    {
      "metadata": {
        "id": "q1abbP_IIych",
        "colab_type": "code",
        "outputId": "f546f2df-457d-47bd-b1fb-7264addfc7dc",
        "colab": {
          "base_uri": "https://localhost:8080/",
          "height": 300
        }
      },
      "cell_type": "code",
      "source": [
        "sns.distplot(np.log1p(train.popularity))"
      ],
      "execution_count": 0,
      "outputs": [
        {
          "output_type": "execute_result",
          "data": {
            "text/plain": [
              "<matplotlib.axes._subplots.AxesSubplot at 0x7f9e3eda1c88>"
            ]
          },
          "metadata": {
            "tags": []
          },
          "execution_count": 63
        },
        {
          "output_type": "display_data",
          "data": {
            "image/png": "[encoded data removed]",
            "text/plain": [
              "<Figure size 432x288 with 1 Axes>"
            ]
          },
          "metadata": {
            "tags": []
          }
        }
      ]
    },
    {
      "metadata": {
        "id": "53bUvAXRIyck",
        "colab_type": "code",
        "colab": {}
      },
      "cell_type": "code",
      "source": [
        "train['popularity'] = np.log1p(train.popularity.values)\n",
        "test['popularity'] = np.log1p(test.popularity.values)"
      ],
      "execution_count": 0,
      "outputs": []
    },
    {
      "metadata": {
        "id": "bEPHQLXUIycn",
        "colab_type": "text"
      },
      "cell_type": "markdown",
      "source": [
        "## exploring run time"
      ]
    },
    {
      "metadata": {
        "id": "OZB7nPyVIyco",
        "colab_type": "code",
        "outputId": "0beea56a-0244-4aed-95a5-84a4b044d14d",
        "colab": {
          "base_uri": "https://localhost:8080/",
          "height": 170
        }
      },
      "cell_type": "code",
      "source": [
        "train['runtime'].describe()"
      ],
      "execution_count": 0,
      "outputs": [
        {
          "output_type": "execute_result",
          "data": {
            "text/plain": [
              "count    2998.000000\n",
              "mean      107.856571\n",
              "std        22.086434\n",
              "min         0.000000\n",
              "25%        94.000000\n",
              "50%       104.000000\n",
              "75%       118.000000\n",
              "max       338.000000\n",
              "Name: runtime, dtype: float64"
            ]
          },
          "metadata": {
            "tags": []
          },
          "execution_count": 65
        }
      ]
    },
    {
      "metadata": {
        "id": "PdR621ldIycq",
        "colab_type": "code",
        "outputId": "16d9cae8-94ac-4629-cbe7-9a96b0b8ebe1",
        "colab": {
          "base_uri": "https://localhost:8080/",
          "height": 34
        }
      },
      "cell_type": "code",
      "source": [
        "train['runtime'].isnull().sum()"
      ],
      "execution_count": 0,
      "outputs": [
        {
          "output_type": "execute_result",
          "data": {
            "text/plain": [
              "2"
            ]
          },
          "metadata": {
            "tags": []
          },
          "execution_count": 66
        }
      ]
    },
    {
      "metadata": {
        "id": "-C8hoY8nIycs",
        "colab_type": "code",
        "outputId": "af5fc46d-6eeb-4814-d7c7-1f139945fa03",
        "colab": {
          "base_uri": "https://localhost:8080/",
          "height": 34
        }
      },
      "cell_type": "code",
      "source": [
        "test['runtime'].isnull().sum()"
      ],
      "execution_count": 0,
      "outputs": [
        {
          "output_type": "execute_result",
          "data": {
            "text/plain": [
              "4"
            ]
          },
          "metadata": {
            "tags": []
          },
          "execution_count": 67
        }
      ]
    },
    {
      "metadata": {
        "id": "kexirdnsIycw",
        "colab_type": "code",
        "colab": {}
      },
      "cell_type": "code",
      "source": [
        "#replacing with mean\n",
        "train['runtime'] = train['runtime'].fillna(np.mean(train['runtime']))\n",
        "test['runtime'] = test['runtime'].fillna(np.mean(test['runtime']))"
      ],
      "execution_count": 0,
      "outputs": []
    },
    {
      "metadata": {
        "id": "awAc8uF9Iycz",
        "colab_type": "code",
        "outputId": "dc087336-8759-4417-b91d-43b7b26d408d",
        "colab": {
          "base_uri": "https://localhost:8080/",
          "height": 300
        }
      },
      "cell_type": "code",
      "source": [
        "sns.scatterplot(train['runtime'],np.log1p(train['revenue']))"
      ],
      "execution_count": 0,
      "outputs": [
        {
          "output_type": "execute_result",
          "data": {
            "text/plain": [
              "<matplotlib.axes._subplots.AxesSubplot at 0x7f9e3f0e6208>"
            ]
          },
          "metadata": {
            "tags": []
          },
          "execution_count": 69
        },
        {
          "output_type": "display_data",
          "data": {
            "image/png": "[encoded data removed]",
            "text/plain": [
              "<Figure size 432x288 with 1 Axes>"
            ]
          },
          "metadata": {
            "tags": []
          }
        }
      ]
    },
    {
      "metadata": {
        "id": "DUXQfmYCIyc6",
        "colab_type": "code",
        "colab": {}
      },
      "cell_type": "code",
      "source": [
        "scaler = MinMaxScaler() \n",
        "x = train[['runtime']].values.astype(float)\n",
        "scaled_values = scaler.fit_transform(x) \n",
        "train['runtime'] = scaled_values\n",
        "\n",
        "scaler = MinMaxScaler() \n",
        "x = test[['runtime']].values.astype(float)\n",
        "scaled_values = scaler.fit_transform(x) \n",
        "test['runtime']= scaled_values"
      ],
      "execution_count": 0,
      "outputs": []
    },
    {
      "metadata": {
        "id": "sCJuxDkMIyc8",
        "colab_type": "code",
        "outputId": "4d0d65d6-4588-418a-8ada-256c55025505",
        "colab": {
          "base_uri": "https://localhost:8080/",
          "height": 300
        }
      },
      "cell_type": "code",
      "source": [
        "sns.scatterplot(train['runtime'],np.log1p(train['revenue']))"
      ],
      "execution_count": 0,
      "outputs": [
        {
          "output_type": "execute_result",
          "data": {
            "text/plain": [
              "<matplotlib.axes._subplots.AxesSubplot at 0x7f9e3ed37fd0>"
            ]
          },
          "metadata": {
            "tags": []
          },
          "execution_count": 71
        },
        {
          "output_type": "display_data",
          "data": {
            "image/png": "[encoded data removed]",
            "text/plain": [
              "<Figure size 432x288 with 1 Axes>"
            ]
          },
          "metadata": {
            "tags": []
          }
        }
      ]
    },
    {
      "metadata": {
        "id": "xB16eWdkIyc_",
        "colab_type": "code",
        "colab": {}
      },
      "cell_type": "code",
      "source": [
        ""
      ],
      "execution_count": 0,
      "outputs": []
    },
    {
      "metadata": {
        "id": "iCK9MMqVIydB",
        "colab_type": "code",
        "colab": {}
      },
      "cell_type": "code",
      "source": [
        ""
      ],
      "execution_count": 0,
      "outputs": []
    },
    {
      "metadata": {
        "id": "6IXorPC2IydC",
        "colab_type": "text"
      },
      "cell_type": "markdown",
      "source": [
        "#### column we need in model till now"
      ]
    },
    {
      "metadata": {
        "scrolled": true,
        "id": "CeFsnkvjIydE",
        "colab_type": "code",
        "outputId": "f49521d7-6cd0-4378-b514-29d563cbe63f",
        "colab": {
          "base_uri": "https://localhost:8080/",
          "height": 510
        }
      },
      "cell_type": "code",
      "source": [
        "columns_to_keep"
      ],
      "execution_count": 0,
      "outputs": [
        {
          "output_type": "execute_result",
          "data": {
            "text/plain": [
              "{'budget',\n",
              " 'language_cn',\n",
              " 'language_da',\n",
              " 'language_de',\n",
              " 'language_en',\n",
              " 'language_es',\n",
              " 'language_fr',\n",
              " 'language_hi',\n",
              " 'language_it',\n",
              " 'language_ja',\n",
              " 'language_ko',\n",
              " 'language_ml',\n",
              " 'language_nl',\n",
              " 'language_pt',\n",
              " 'language_ro',\n",
              " 'language_ru',\n",
              " 'language_sv',\n",
              " 'language_ta',\n",
              " 'language_te',\n",
              " 'language_tr',\n",
              " 'language_zh',\n",
              " 'popularity',\n",
              " 'release_date_month',\n",
              " 'release_date_weekday',\n",
              " 'release_date_years_passed',\n",
              " 'runtime',\n",
              " 'status_Post Production',\n",
              " 'status_Released',\n",
              " 'status_Rumored'}"
            ]
          },
          "metadata": {
            "tags": []
          },
          "execution_count": 72
        }
      ]
    },
    {
      "metadata": {
        "id": "W1fK3Ox-IydH",
        "colab_type": "code",
        "colab": {}
      },
      "cell_type": "code",
      "source": [
        ""
      ],
      "execution_count": 0,
      "outputs": []
    },
    {
      "metadata": {
        "id": "VruTbEUIIydI",
        "colab_type": "code",
        "colab": {}
      },
      "cell_type": "code",
      "source": [
        ""
      ],
      "execution_count": 0,
      "outputs": []
    },
    {
      "metadata": {
        "id": "pnwDFNDwIydM",
        "colab_type": "text"
      },
      "cell_type": "markdown",
      "source": [
        "### This method will clean feature with dictionary data.Create new feature with total number of values,onehot encoded feature"
      ]
    },
    {
      "metadata": {
        "id": "H_4kC1hbIydM",
        "colab_type": "code",
        "colab": {}
      },
      "cell_type": "code",
      "source": [
        "\n",
        "def clean_dictionary_features(feature_name,train,test):\n",
        "    #convert string to dictionary\n",
        "    \n",
        "    train[feature_name] = train[feature_name].apply(lambda x:{} if pd.isna(x) else ast.literal_eval(str(x)))\n",
        "    test[feature_name] = test[feature_name].apply(lambda x:{} if pd.isna(x) else ast.literal_eval(str(x)))\n",
        "    \n",
        "    #create new feature of total count of values\n",
        "    train[feature_name+'_number'] = train[feature_name].apply(lambda x:len(x) if x!={} else 0)\n",
        "    test[feature_name+'_number'] = test[feature_name].apply(lambda x:len(x) if x!={} else 0)\n",
        "    columns_to_keep.add(feature_name+'_number')\n",
        "    \n",
        "    #get list of all values\n",
        "    list_of_values = list(train[feature_name].apply(lambda x: [i['name'] for i in x] if x != {} else []).values)\n",
        "    #print(list_of_values)\n",
        "    train[feature_name+'_all'] = train[feature_name].apply(lambda x: ' '.join(sorted([i['name'] for i in x])) if x != {} else '')\n",
        "    \n",
        "    top_values = [m[0] for m in Counter([i for j in list_of_values for i in j]).most_common(20)]\n",
        "    #print(train[feature_name+'_all'])\n",
        "    #Create one hot encoded feature\n",
        "    for val in top_values:\n",
        "        train[feature_name +'_'+val] = train[feature_name+'_all'].apply(lambda x: 1 if val in x else 0)\n",
        "        columns_to_keep.add(feature_name +'_'+val)\n",
        "    \n",
        "    test[feature_name+'_all'] = test[feature_name].apply(lambda x: ' '.join(sorted([i['name'] for i in x])) if x != {} else '')\n",
        "    for val in top_values:\n",
        "        test[feature_name +'_'+val] = test[feature_name+'_all'].apply(lambda x: 1 if val in x else 0)\n",
        "    \n",
        "#     #Create Lable encoded feature \n",
        "#     le = LabelEncoder()\n",
        "#     le.fit(list(train[feature_name+'_all'].fillna('')) + list(test[feature_name+'_all'].fillna('')))\n",
        "#     train[feature_name+'_all'] = le.transform(train[feature_name+'_all'].fillna('').astype(str))\n",
        "#     test[feature_name+'_all'] = le.transform(test[feature_name+'_all'].fillna('').astype(str))\n",
        "#     columns_to_keep.add(feature_name+'_all')\n",
        "    return train,test"
      ],
      "execution_count": 0,
      "outputs": []
    },
    {
      "metadata": {
        "id": "7UTWSIwLIydN",
        "colab_type": "code",
        "colab": {}
      },
      "cell_type": "code",
      "source": [
        ""
      ],
      "execution_count": 0,
      "outputs": []
    },
    {
      "metadata": {
        "id": "IK9sxswiIydO",
        "colab_type": "code",
        "colab": {}
      },
      "cell_type": "code",
      "source": [
        "train,test = clean_dictionary_features('genres',train,test)\n",
        "train,test = clean_dictionary_features('production_companies',train,test)\n",
        "train,test = clean_dictionary_features('production_countries',train,test)\n",
        "train,test = clean_dictionary_features('spoken_languages',train,test)\n",
        "train,test = clean_dictionary_features('Keywords',train,test)\n",
        "train,test = clean_dictionary_features('cast',train,test)\n",
        "train,test = clean_dictionary_features('crew',train,test)"
      ],
      "execution_count": 0,
      "outputs": []
    },
    {
      "metadata": {
        "id": "vp587zMvIydR",
        "colab_type": "code",
        "outputId": "64ade001-e11c-44c7-89cb-aef47b9b934f",
        "colab": {
          "base_uri": "https://localhost:8080/",
          "height": 34
        }
      },
      "cell_type": "code",
      "source": [
        "train.columns.shape[0]"
      ],
      "execution_count": 0,
      "outputs": [
        {
          "output_type": "execute_result",
          "data": {
            "text/plain": [
              "196"
            ]
          },
          "metadata": {
            "tags": []
          },
          "execution_count": 75
        }
      ]
    },
    {
      "metadata": {
        "id": "GBhJ-WWlIydT",
        "colab_type": "code",
        "outputId": "666a6bf5-c36c-42da-ce8d-e837e329f03e",
        "colab": {
          "base_uri": "https://localhost:8080/",
          "height": 34
        }
      },
      "cell_type": "code",
      "source": [
        "test.columns.shape[0]"
      ],
      "execution_count": 0,
      "outputs": [
        {
          "output_type": "execute_result",
          "data": {
            "text/plain": [
              "195"
            ]
          },
          "metadata": {
            "tags": []
          },
          "execution_count": 76
        }
      ]
    },
    {
      "metadata": {
        "id": "UDv5z3VDIydW",
        "colab_type": "code",
        "outputId": "7f0de795-c8ad-4807-ed90-0941fd904353",
        "colab": {
          "base_uri": "https://localhost:8080/",
          "height": 3009
        }
      },
      "cell_type": "code",
      "source": [
        "columns_to_keep"
      ],
      "execution_count": 0,
      "outputs": [
        {
          "output_type": "execute_result",
          "data": {
            "text/plain": [
              "{'Keywords_aftercreditsstinger',\n",
              " 'Keywords_based on novel',\n",
              " 'Keywords_biography',\n",
              " 'Keywords_duringcreditsstinger',\n",
              " 'Keywords_dystopia',\n",
              " 'Keywords_female nudity',\n",
              " 'Keywords_friendship',\n",
              " 'Keywords_independent film',\n",
              " 'Keywords_love',\n",
              " 'Keywords_murder',\n",
              " 'Keywords_nudity',\n",
              " 'Keywords_number',\n",
              " 'Keywords_police',\n",
              " 'Keywords_revenge',\n",
              " 'Keywords_sequel',\n",
              " 'Keywords_sex',\n",
              " 'Keywords_sport',\n",
              " 'Keywords_suspense',\n",
              " 'Keywords_teenager',\n",
              " 'Keywords_violence',\n",
              " 'Keywords_woman director',\n",
              " 'budget',\n",
              " 'cast_Bill Murray',\n",
              " 'cast_Bruce McGill',\n",
              " 'cast_Bruce Willis',\n",
              " 'cast_Forest Whitaker',\n",
              " 'cast_J.K. Simmons',\n",
              " 'cast_Jason Statham',\n",
              " 'cast_John Goodman',\n",
              " 'cast_John Turturro',\n",
              " 'cast_Keith David',\n",
              " 'cast_Liam Neeson',\n",
              " 'cast_Mel Gibson',\n",
              " 'cast_Morgan Freeman',\n",
              " 'cast_Nicolas Cage',\n",
              " 'cast_Owen Wilson',\n",
              " 'cast_Robert De Niro',\n",
              " 'cast_Samuel L. Jackson',\n",
              " 'cast_Sigourney Weaver',\n",
              " 'cast_Susan Sarandon',\n",
              " 'cast_Sylvester Stallone',\n",
              " 'cast_Willem Dafoe',\n",
              " 'cast_number',\n",
              " 'crew_Avy Kaufman',\n",
              " 'crew_Bob Weinstein',\n",
              " 'crew_Deborah Aquila',\n",
              " 'crew_Francine Maisler',\n",
              " 'crew_Francis Ford Coppola',\n",
              " 'crew_Hans Zimmer',\n",
              " 'crew_Harvey Weinstein',\n",
              " 'crew_James Horner',\n",
              " 'crew_James Newton Howard',\n",
              " 'crew_Jane Jenkins',\n",
              " 'crew_Janet Hirshenson',\n",
              " 'crew_Jerry Goldsmith',\n",
              " 'crew_John Debney',\n",
              " 'crew_John Papsidera',\n",
              " 'crew_Kerry Barden',\n",
              " 'crew_Luc Besson',\n",
              " 'crew_Mary Vernieu',\n",
              " 'crew_Robert Rodriguez',\n",
              " 'crew_Steven Spielberg',\n",
              " 'crew_Tricia Wood',\n",
              " 'crew_number',\n",
              " 'genres_Action',\n",
              " 'genres_Adventure',\n",
              " 'genres_Animation',\n",
              " 'genres_Comedy',\n",
              " 'genres_Crime',\n",
              " 'genres_Documentary',\n",
              " 'genres_Drama',\n",
              " 'genres_Family',\n",
              " 'genres_Fantasy',\n",
              " 'genres_Foreign',\n",
              " 'genres_History',\n",
              " 'genres_Horror',\n",
              " 'genres_Music',\n",
              " 'genres_Mystery',\n",
              " 'genres_Romance',\n",
              " 'genres_Science Fiction',\n",
              " 'genres_TV Movie',\n",
              " 'genres_Thriller',\n",
              " 'genres_War',\n",
              " 'genres_Western',\n",
              " 'genres_number',\n",
              " 'language_cn',\n",
              " 'language_da',\n",
              " 'language_de',\n",
              " 'language_en',\n",
              " 'language_es',\n",
              " 'language_fr',\n",
              " 'language_hi',\n",
              " 'language_it',\n",
              " 'language_ja',\n",
              " 'language_ko',\n",
              " 'language_ml',\n",
              " 'language_nl',\n",
              " 'language_pt',\n",
              " 'language_ro',\n",
              " 'language_ru',\n",
              " 'language_sv',\n",
              " 'language_ta',\n",
              " 'language_te',\n",
              " 'language_tr',\n",
              " 'language_zh',\n",
              " 'popularity',\n",
              " 'production_companies_BBC Films',\n",
              " 'production_companies_Canal+',\n",
              " 'production_companies_Columbia Pictures',\n",
              " 'production_companies_Columbia Pictures Corporation',\n",
              " 'production_companies_Dune Entertainment',\n",
              " 'production_companies_Metro-Goldwyn-Mayer (MGM)',\n",
              " 'production_companies_Miramax Films',\n",
              " 'production_companies_New Line Cinema',\n",
              " 'production_companies_Paramount Pictures',\n",
              " 'production_companies_Regency Enterprises',\n",
              " 'production_companies_Relativity Media',\n",
              " 'production_companies_Touchstone Pictures',\n",
              " 'production_companies_TriStar Pictures',\n",
              " 'production_companies_Twentieth Century Fox Film Corporation',\n",
              " 'production_companies_United Artists',\n",
              " 'production_companies_Universal Pictures',\n",
              " 'production_companies_Village Roadshow Pictures',\n",
              " 'production_companies_Walt Disney Pictures',\n",
              " 'production_companies_Warner Bros.',\n",
              " 'production_companies_Working Title Films',\n",
              " 'production_companies_number',\n",
              " 'production_countries_Australia',\n",
              " 'production_countries_Belgium',\n",
              " 'production_countries_Canada',\n",
              " 'production_countries_China',\n",
              " 'production_countries_France',\n",
              " 'production_countries_Germany',\n",
              " 'production_countries_Hong Kong',\n",
              " 'production_countries_India',\n",
              " 'production_countries_Ireland',\n",
              " 'production_countries_Italy',\n",
              " 'production_countries_Japan',\n",
              " 'production_countries_Mexico',\n",
              " 'production_countries_Netherlands',\n",
              " 'production_countries_New Zealand',\n",
              " 'production_countries_Russia',\n",
              " 'production_countries_South Korea',\n",
              " 'production_countries_Spain',\n",
              " 'production_countries_Sweden',\n",
              " 'production_countries_United Kingdom',\n",
              " 'production_countries_United States of America',\n",
              " 'production_countries_number',\n",
              " 'release_date_month',\n",
              " 'release_date_weekday',\n",
              " 'release_date_years_passed',\n",
              " 'runtime',\n",
              " 'spoken_languages_',\n",
              " 'spoken_languages_Deutsch',\n",
              " 'spoken_languages_English',\n",
              " 'spoken_languages_Español',\n",
              " 'spoken_languages_Français',\n",
              " 'spoken_languages_Italiano',\n",
              " 'spoken_languages_Latin',\n",
              " 'spoken_languages_Magyar',\n",
              " 'spoken_languages_Polski',\n",
              " 'spoken_languages_Português',\n",
              " 'spoken_languages_Pусский',\n",
              " 'spoken_languages_number',\n",
              " 'spoken_languages_svenska',\n",
              " 'spoken_languages_العربية',\n",
              " 'spoken_languages_हिन्दी',\n",
              " 'spoken_languages_தமிழ்',\n",
              " 'spoken_languages_ภาษาไทย',\n",
              " 'spoken_languages_广州话 / 廣州話',\n",
              " 'spoken_languages_日本語',\n",
              " 'spoken_languages_普通话',\n",
              " 'spoken_languages_한국어/조선말',\n",
              " 'status_Post Production',\n",
              " 'status_Released',\n",
              " 'status_Rumored'}"
            ]
          },
          "metadata": {
            "tags": []
          },
          "execution_count": 77
        }
      ]
    },
    {
      "metadata": {
        "scrolled": true,
        "id": "K_FsOSoeIydX",
        "colab_type": "code",
        "colab": {}
      },
      "cell_type": "code",
      "source": [
        "columns_to_keep=list(columns_to_keep)"
      ],
      "execution_count": 0,
      "outputs": []
    },
    {
      "metadata": {
        "id": "adTnLi7nIydY",
        "colab_type": "code",
        "colab": {}
      },
      "cell_type": "code",
      "source": [
        "##First model\n"
      ],
      "execution_count": 0,
      "outputs": []
    },
    {
      "metadata": {
        "id": "e_HUaKYre_W1",
        "colab_type": "text"
      },
      "cell_type": "markdown",
      "source": [
        "# First Model"
      ]
    },
    {
      "metadata": {
        "id": "HoKJ9kfEN4yg",
        "colab_type": "code",
        "colab": {}
      },
      "cell_type": "code",
      "source": [
        "df_train=train[columns_to_keep].copy()"
      ],
      "execution_count": 0,
      "outputs": []
    },
    {
      "metadata": {
        "id": "otc5L9x6N44j",
        "colab_type": "code",
        "outputId": "3cf43c9b-d5b7-4d61-8eef-71ce27c45c37",
        "colab": {
          "base_uri": "https://localhost:8080/",
          "height": 270
        }
      },
      "cell_type": "code",
      "source": [
        "df_train.head()"
      ],
      "execution_count": 0,
      "outputs": [
        {
          "output_type": "execute_result",
          "data": {
            "text/html": [
              "<div>\n",
              "<style scoped>\n",
              "    .dataframe tbody tr th:only-of-type {\n",
              "        vertical-align: middle;\n",
              "    }\n",
              "\n",
              "    .dataframe tbody tr th {\n",
              "        vertical-align: top;\n",
              "    }\n",
              "\n",
              "    .dataframe thead th {\n",
              "        text-align: right;\n",
              "    }\n",
              "</style>\n",
              "<table border=\"1\" class=\"dataframe\">\n",
              "  <thead>\n",
              "    <tr style=\"text-align: right;\">\n",
              "      <th></th>\n",
              "      <th>Keywords_female nudity</th>\n",
              "      <th>production_countries_Germany</th>\n",
              "      <th>production_countries_South Korea</th>\n",
              "      <th>genres_War</th>\n",
              "      <th>spoken_languages_Português</th>\n",
              "      <th>language_it</th>\n",
              "      <th>Keywords_friendship</th>\n",
              "      <th>Keywords_police</th>\n",
              "      <th>release_date_month</th>\n",
              "      <th>production_companies_Working Title Films</th>\n",
              "      <th>...</th>\n",
              "      <th>spoken_languages_Pусский</th>\n",
              "      <th>production_countries_Spain</th>\n",
              "      <th>production_companies_Dune Entertainment</th>\n",
              "      <th>production_countries_Russia</th>\n",
              "      <th>Keywords_woman director</th>\n",
              "      <th>cast_Bruce McGill</th>\n",
              "      <th>production_companies_Walt Disney Pictures</th>\n",
              "      <th>spoken_languages_ภาษาไทย</th>\n",
              "      <th>Keywords_suspense</th>\n",
              "      <th>language_en</th>\n",
              "    </tr>\n",
              "  </thead>\n",
              "  <tbody>\n",
              "    <tr>\n",
              "      <th>0</th>\n",
              "      <td>0</td>\n",
              "      <td>0</td>\n",
              "      <td>0</td>\n",
              "      <td>0</td>\n",
              "      <td>0</td>\n",
              "      <td>0</td>\n",
              "      <td>0</td>\n",
              "      <td>0</td>\n",
              "      <td>2</td>\n",
              "      <td>0</td>\n",
              "      <td>...</td>\n",
              "      <td>0</td>\n",
              "      <td>0</td>\n",
              "      <td>0</td>\n",
              "      <td>0</td>\n",
              "      <td>0</td>\n",
              "      <td>0</td>\n",
              "      <td>0</td>\n",
              "      <td>0</td>\n",
              "      <td>0</td>\n",
              "      <td>1</td>\n",
              "    </tr>\n",
              "    <tr>\n",
              "      <th>1</th>\n",
              "      <td>0</td>\n",
              "      <td>0</td>\n",
              "      <td>0</td>\n",
              "      <td>0</td>\n",
              "      <td>0</td>\n",
              "      <td>0</td>\n",
              "      <td>0</td>\n",
              "      <td>0</td>\n",
              "      <td>8</td>\n",
              "      <td>0</td>\n",
              "      <td>...</td>\n",
              "      <td>0</td>\n",
              "      <td>0</td>\n",
              "      <td>0</td>\n",
              "      <td>0</td>\n",
              "      <td>0</td>\n",
              "      <td>0</td>\n",
              "      <td>1</td>\n",
              "      <td>0</td>\n",
              "      <td>0</td>\n",
              "      <td>1</td>\n",
              "    </tr>\n",
              "    <tr>\n",
              "      <th>2</th>\n",
              "      <td>0</td>\n",
              "      <td>0</td>\n",
              "      <td>0</td>\n",
              "      <td>0</td>\n",
              "      <td>0</td>\n",
              "      <td>0</td>\n",
              "      <td>0</td>\n",
              "      <td>0</td>\n",
              "      <td>10</td>\n",
              "      <td>0</td>\n",
              "      <td>...</td>\n",
              "      <td>0</td>\n",
              "      <td>0</td>\n",
              "      <td>0</td>\n",
              "      <td>0</td>\n",
              "      <td>0</td>\n",
              "      <td>0</td>\n",
              "      <td>0</td>\n",
              "      <td>0</td>\n",
              "      <td>0</td>\n",
              "      <td>1</td>\n",
              "    </tr>\n",
              "    <tr>\n",
              "      <th>3</th>\n",
              "      <td>0</td>\n",
              "      <td>0</td>\n",
              "      <td>0</td>\n",
              "      <td>0</td>\n",
              "      <td>0</td>\n",
              "      <td>0</td>\n",
              "      <td>0</td>\n",
              "      <td>1</td>\n",
              "      <td>3</td>\n",
              "      <td>0</td>\n",
              "      <td>...</td>\n",
              "      <td>0</td>\n",
              "      <td>0</td>\n",
              "      <td>0</td>\n",
              "      <td>0</td>\n",
              "      <td>0</td>\n",
              "      <td>0</td>\n",
              "      <td>0</td>\n",
              "      <td>0</td>\n",
              "      <td>0</td>\n",
              "      <td>0</td>\n",
              "    </tr>\n",
              "    <tr>\n",
              "      <th>4</th>\n",
              "      <td>0</td>\n",
              "      <td>0</td>\n",
              "      <td>1</td>\n",
              "      <td>0</td>\n",
              "      <td>0</td>\n",
              "      <td>0</td>\n",
              "      <td>0</td>\n",
              "      <td>0</td>\n",
              "      <td>2</td>\n",
              "      <td>0</td>\n",
              "      <td>...</td>\n",
              "      <td>0</td>\n",
              "      <td>0</td>\n",
              "      <td>0</td>\n",
              "      <td>0</td>\n",
              "      <td>0</td>\n",
              "      <td>0</td>\n",
              "      <td>0</td>\n",
              "      <td>0</td>\n",
              "      <td>0</td>\n",
              "      <td>0</td>\n",
              "    </tr>\n",
              "  </tbody>\n",
              "</table>\n",
              "<p>5 rows × 176 columns</p>\n",
              "</div>"
            ],
            "text/plain": [
              "   Keywords_female nudity  production_countries_Germany  \\\n",
              "0                       0                             0   \n",
              "1                       0                             0   \n",
              "2                       0                             0   \n",
              "3                       0                             0   \n",
              "4                       0                             0   \n",
              "\n",
              "   production_countries_South Korea  genres_War  spoken_languages_Português  \\\n",
              "0                                 0           0                           0   \n",
              "1                                 0           0                           0   \n",
              "2                                 0           0                           0   \n",
              "3                                 0           0                           0   \n",
              "4                                 1           0                           0   \n",
              "\n",
              "   language_it  Keywords_friendship  Keywords_police  release_date_month  \\\n",
              "0            0                    0                0                   2   \n",
              "1            0                    0                0                   8   \n",
              "2            0                    0                0                  10   \n",
              "3            0                    0                1                   3   \n",
              "4            0                    0                0                   2   \n",
              "\n",
              "   production_companies_Working Title Films     ...       \\\n",
              "0                                         0     ...        \n",
              "1                                         0     ...        \n",
              "2                                         0     ...        \n",
              "3                                         0     ...        \n",
              "4                                         0     ...        \n",
              "\n",
              "   spoken_languages_Pусский  production_countries_Spain  \\\n",
              "0                         0                           0   \n",
              "1                         0                           0   \n",
              "2                         0                           0   \n",
              "3                         0                           0   \n",
              "4                         0                           0   \n",
              "\n",
              "   production_companies_Dune Entertainment  production_countries_Russia  \\\n",
              "0                                        0                            0   \n",
              "1                                        0                            0   \n",
              "2                                        0                            0   \n",
              "3                                        0                            0   \n",
              "4                                        0                            0   \n",
              "\n",
              "   Keywords_woman director  cast_Bruce McGill  \\\n",
              "0                        0                  0   \n",
              "1                        0                  0   \n",
              "2                        0                  0   \n",
              "3                        0                  0   \n",
              "4                        0                  0   \n",
              "\n",
              "   production_companies_Walt Disney Pictures  spoken_languages_ภาษาไทย  \\\n",
              "0                                          0                         0   \n",
              "1                                          1                         0   \n",
              "2                                          0                         0   \n",
              "3                                          0                         0   \n",
              "4                                          0                         0   \n",
              "\n",
              "   Keywords_suspense  language_en  \n",
              "0                  0            1  \n",
              "1                  0            1  \n",
              "2                  0            1  \n",
              "3                  0            0  \n",
              "4                  0            0  \n",
              "\n",
              "[5 rows x 176 columns]"
            ]
          },
          "metadata": {
            "tags": []
          },
          "execution_count": 82
        }
      ]
    },
    {
      "metadata": {
        "id": "whLCkL5kPBl1",
        "colab_type": "code",
        "colab": {}
      },
      "cell_type": "code",
      "source": [
        "y=train['revenue']\n"
      ],
      "execution_count": 0,
      "outputs": []
    },
    {
      "metadata": {
        "id": "duF43CdPPLWO",
        "colab_type": "code",
        "outputId": "40537cfe-0ac5-47fe-cbd1-c15a13610839",
        "colab": {
          "base_uri": "https://localhost:8080/",
          "height": 51
        }
      },
      "cell_type": "code",
      "source": [
        "from sklearn import svm\n",
        "clf=svm.SVR(gamma='scale')\n",
        "clf.fit(df_train,y)"
      ],
      "execution_count": 0,
      "outputs": [
        {
          "output_type": "execute_result",
          "data": {
            "text/plain": [
              "SVR(C=1.0, cache_size=200, coef0=0.0, degree=3, epsilon=0.1, gamma='scale',\n",
              "  kernel='rbf', max_iter=-1, shrinking=True, tol=0.001, verbose=False)"
            ]
          },
          "metadata": {
            "tags": []
          },
          "execution_count": 89
        }
      ]
    },
    {
      "metadata": {
        "id": "E3G1PgGpPkkU",
        "colab_type": "code",
        "outputId": "6877602c-e54b-4058-ce59-a1b965aead53",
        "colab": {
          "base_uri": "https://localhost:8080/",
          "height": 34
        }
      },
      "cell_type": "code",
      "source": [
        "from sklearn.metrics import mean_squared_log_error\n",
        "np.sqrt(mean_squared_log_error( y, clf.predict(df_train) ))"
      ],
      "execution_count": 0,
      "outputs": [
        {
          "output_type": "execute_result",
          "data": {
            "text/plain": [
              "3.134414112158151"
            ]
          },
          "metadata": {
            "tags": []
          },
          "execution_count": 90
        }
      ]
    },
    {
      "metadata": {
        "id": "pKBL1cEfR4c8",
        "colab_type": "code",
        "colab": {}
      },
      "cell_type": "code",
      "source": [
        "df_test=test[columns_to_keep].copy()"
      ],
      "execution_count": 0,
      "outputs": []
    },
    {
      "metadata": {
        "id": "TwJXI0UhSFvz",
        "colab_type": "code",
        "outputId": "b4d8f5cb-7773-40ae-9cc6-09eb780d9c17",
        "colab": {
          "base_uri": "https://localhost:8080/",
          "height": 270
        }
      },
      "cell_type": "code",
      "source": [
        "df_test.head()"
      ],
      "execution_count": 0,
      "outputs": [
        {
          "output_type": "execute_result",
          "data": {
            "text/html": [
              "<div>\n",
              "<style scoped>\n",
              "    .dataframe tbody tr th:only-of-type {\n",
              "        vertical-align: middle;\n",
              "    }\n",
              "\n",
              "    .dataframe tbody tr th {\n",
              "        vertical-align: top;\n",
              "    }\n",
              "\n",
              "    .dataframe thead th {\n",
              "        text-align: right;\n",
              "    }\n",
              "</style>\n",
              "<table border=\"1\" class=\"dataframe\">\n",
              "  <thead>\n",
              "    <tr style=\"text-align: right;\">\n",
              "      <th></th>\n",
              "      <th>Keywords_female nudity</th>\n",
              "      <th>production_countries_Germany</th>\n",
              "      <th>production_countries_South Korea</th>\n",
              "      <th>genres_War</th>\n",
              "      <th>spoken_languages_Português</th>\n",
              "      <th>language_it</th>\n",
              "      <th>Keywords_friendship</th>\n",
              "      <th>Keywords_police</th>\n",
              "      <th>release_date_month</th>\n",
              "      <th>production_companies_Working Title Films</th>\n",
              "      <th>...</th>\n",
              "      <th>spoken_languages_Pусский</th>\n",
              "      <th>production_countries_Spain</th>\n",
              "      <th>production_companies_Dune Entertainment</th>\n",
              "      <th>production_countries_Russia</th>\n",
              "      <th>Keywords_woman director</th>\n",
              "      <th>cast_Bruce McGill</th>\n",
              "      <th>production_companies_Walt Disney Pictures</th>\n",
              "      <th>spoken_languages_ภาษาไทย</th>\n",
              "      <th>Keywords_suspense</th>\n",
              "      <th>language_en</th>\n",
              "    </tr>\n",
              "  </thead>\n",
              "  <tbody>\n",
              "    <tr>\n",
              "      <th>0</th>\n",
              "      <td>0</td>\n",
              "      <td>0</td>\n",
              "      <td>0</td>\n",
              "      <td>0</td>\n",
              "      <td>0</td>\n",
              "      <td>0</td>\n",
              "      <td>0</td>\n",
              "      <td>0</td>\n",
              "      <td>7</td>\n",
              "      <td>0</td>\n",
              "      <td>...</td>\n",
              "      <td>0</td>\n",
              "      <td>0</td>\n",
              "      <td>0</td>\n",
              "      <td>0</td>\n",
              "      <td>0</td>\n",
              "      <td>0</td>\n",
              "      <td>0</td>\n",
              "      <td>0</td>\n",
              "      <td>0</td>\n",
              "      <td>0</td>\n",
              "    </tr>\n",
              "    <tr>\n",
              "      <th>1</th>\n",
              "      <td>0</td>\n",
              "      <td>0</td>\n",
              "      <td>0</td>\n",
              "      <td>0</td>\n",
              "      <td>0</td>\n",
              "      <td>0</td>\n",
              "      <td>0</td>\n",
              "      <td>0</td>\n",
              "      <td>5</td>\n",
              "      <td>0</td>\n",
              "      <td>...</td>\n",
              "      <td>0</td>\n",
              "      <td>0</td>\n",
              "      <td>0</td>\n",
              "      <td>0</td>\n",
              "      <td>0</td>\n",
              "      <td>0</td>\n",
              "      <td>0</td>\n",
              "      <td>0</td>\n",
              "      <td>0</td>\n",
              "      <td>1</td>\n",
              "    </tr>\n",
              "    <tr>\n",
              "      <th>2</th>\n",
              "      <td>0</td>\n",
              "      <td>0</td>\n",
              "      <td>0</td>\n",
              "      <td>0</td>\n",
              "      <td>0</td>\n",
              "      <td>0</td>\n",
              "      <td>0</td>\n",
              "      <td>0</td>\n",
              "      <td>5</td>\n",
              "      <td>0</td>\n",
              "      <td>...</td>\n",
              "      <td>0</td>\n",
              "      <td>0</td>\n",
              "      <td>0</td>\n",
              "      <td>0</td>\n",
              "      <td>0</td>\n",
              "      <td>0</td>\n",
              "      <td>0</td>\n",
              "      <td>0</td>\n",
              "      <td>0</td>\n",
              "      <td>1</td>\n",
              "    </tr>\n",
              "    <tr>\n",
              "      <th>3</th>\n",
              "      <td>0</td>\n",
              "      <td>0</td>\n",
              "      <td>0</td>\n",
              "      <td>1</td>\n",
              "      <td>0</td>\n",
              "      <td>0</td>\n",
              "      <td>0</td>\n",
              "      <td>0</td>\n",
              "      <td>9</td>\n",
              "      <td>0</td>\n",
              "      <td>...</td>\n",
              "      <td>0</td>\n",
              "      <td>0</td>\n",
              "      <td>0</td>\n",
              "      <td>0</td>\n",
              "      <td>0</td>\n",
              "      <td>0</td>\n",
              "      <td>0</td>\n",
              "      <td>0</td>\n",
              "      <td>0</td>\n",
              "      <td>0</td>\n",
              "    </tr>\n",
              "    <tr>\n",
              "      <th>4</th>\n",
              "      <td>0</td>\n",
              "      <td>0</td>\n",
              "      <td>0</td>\n",
              "      <td>0</td>\n",
              "      <td>0</td>\n",
              "      <td>0</td>\n",
              "      <td>0</td>\n",
              "      <td>0</td>\n",
              "      <td>2</td>\n",
              "      <td>0</td>\n",
              "      <td>...</td>\n",
              "      <td>0</td>\n",
              "      <td>0</td>\n",
              "      <td>0</td>\n",
              "      <td>0</td>\n",
              "      <td>0</td>\n",
              "      <td>0</td>\n",
              "      <td>0</td>\n",
              "      <td>0</td>\n",
              "      <td>0</td>\n",
              "      <td>1</td>\n",
              "    </tr>\n",
              "  </tbody>\n",
              "</table>\n",
              "<p>5 rows × 176 columns</p>\n",
              "</div>"
            ],
            "text/plain": [
              "   Keywords_female nudity  production_countries_Germany  \\\n",
              "0                       0                             0   \n",
              "1                       0                             0   \n",
              "2                       0                             0   \n",
              "3                       0                             0   \n",
              "4                       0                             0   \n",
              "\n",
              "   production_countries_South Korea  genres_War  spoken_languages_Português  \\\n",
              "0                                 0           0                           0   \n",
              "1                                 0           0                           0   \n",
              "2                                 0           0                           0   \n",
              "3                                 0           1                           0   \n",
              "4                                 0           0                           0   \n",
              "\n",
              "   language_it  Keywords_friendship  Keywords_police  release_date_month  \\\n",
              "0            0                    0                0                   7   \n",
              "1            0                    0                0                   5   \n",
              "2            0                    0                0                   5   \n",
              "3            0                    0                0                   9   \n",
              "4            0                    0                0                   2   \n",
              "\n",
              "   production_companies_Working Title Films     ...       \\\n",
              "0                                         0     ...        \n",
              "1                                         0     ...        \n",
              "2                                         0     ...        \n",
              "3                                         0     ...        \n",
              "4                                         0     ...        \n",
              "\n",
              "   spoken_languages_Pусский  production_countries_Spain  \\\n",
              "0                         0                           0   \n",
              "1                         0                           0   \n",
              "2                         0                           0   \n",
              "3                         0                           0   \n",
              "4                         0                           0   \n",
              "\n",
              "   production_companies_Dune Entertainment  production_countries_Russia  \\\n",
              "0                                        0                            0   \n",
              "1                                        0                            0   \n",
              "2                                        0                            0   \n",
              "3                                        0                            0   \n",
              "4                                        0                            0   \n",
              "\n",
              "   Keywords_woman director  cast_Bruce McGill  \\\n",
              "0                        0                  0   \n",
              "1                        0                  0   \n",
              "2                        0                  0   \n",
              "3                        0                  0   \n",
              "4                        0                  0   \n",
              "\n",
              "   production_companies_Walt Disney Pictures  spoken_languages_ภาษาไทย  \\\n",
              "0                                          0                         0   \n",
              "1                                          0                         0   \n",
              "2                                          0                         0   \n",
              "3                                          0                         0   \n",
              "4                                          0                         0   \n",
              "\n",
              "   Keywords_suspense  language_en  \n",
              "0                  0            0  \n",
              "1                  0            1  \n",
              "2                  0            1  \n",
              "3                  0            0  \n",
              "4                  0            1  \n",
              "\n",
              "[5 rows x 176 columns]"
            ]
          },
          "metadata": {
            "tags": []
          },
          "execution_count": 94
        }
      ]
    },
    {
      "metadata": {
        "id": "fyRAPfioSHkk",
        "colab_type": "code",
        "colab": {}
      },
      "cell_type": "code",
      "source": [
        "y_pred=clf.predict(df_test)"
      ],
      "execution_count": 0,
      "outputs": []
    },
    {
      "metadata": {
        "id": "qdB7M2GNSL3n",
        "colab_type": "code",
        "outputId": "ecb20fcd-0852-43bc-fc90-1942c212d908",
        "colab": {
          "base_uri": "https://localhost:8080/",
          "height": 34
        }
      },
      "cell_type": "code",
      "source": [
        "len(y_pred)"
      ],
      "execution_count": 0,
      "outputs": [
        {
          "output_type": "execute_result",
          "data": {
            "text/plain": [
              "4398"
            ]
          },
          "metadata": {
            "tags": []
          },
          "execution_count": 97
        }
      ]
    },
    {
      "metadata": {
        "id": "yOh_6YhsSeA1",
        "colab_type": "code",
        "outputId": "02391444-508e-428d-a813-66908feb3cb7",
        "colab": {
          "base_uri": "https://localhost:8080/",
          "height": 34
        }
      },
      "cell_type": "code",
      "source": [
        "df_test.shape"
      ],
      "execution_count": 0,
      "outputs": [
        {
          "output_type": "execute_result",
          "data": {
            "text/plain": [
              "(4398, 176)"
            ]
          },
          "metadata": {
            "tags": []
          },
          "execution_count": 98
        }
      ]
    },
    {
      "metadata": {
        "id": "A3EijdQZTAis",
        "colab_type": "code",
        "colab": {}
      },
      "cell_type": "code",
      "source": [
        "tes=pd.read_csv('tmdb/test.csv')"
      ],
      "execution_count": 0,
      "outputs": []
    },
    {
      "metadata": {
        "id": "-xgA3SFgTJcC",
        "colab_type": "code",
        "colab": {}
      },
      "cell_type": "code",
      "source": [
        "id=tes['id']"
      ],
      "execution_count": 0,
      "outputs": []
    },
    {
      "metadata": {
        "id": "00GhyWWlSiX2",
        "colab_type": "code",
        "colab": {}
      },
      "cell_type": "code",
      "source": [
        "ans={'id':id,'revenue':y_pred}\n",
        "ans=pd.DataFrame(ans)"
      ],
      "execution_count": 0,
      "outputs": []
    },
    {
      "metadata": {
        "id": "pksnezyMUPMa",
        "colab_type": "code",
        "outputId": "cd6a4095-ca32-46ce-9527-041ee19ca22a",
        "colab": {
          "base_uri": "https://localhost:8080/",
          "height": 204
        }
      },
      "cell_type": "code",
      "source": [
        "ans.head()"
      ],
      "execution_count": 0,
      "outputs": [
        {
          "output_type": "execute_result",
          "data": {
            "text/html": [
              "<div>\n",
              "<style scoped>\n",
              "    .dataframe tbody tr th:only-of-type {\n",
              "        vertical-align: middle;\n",
              "    }\n",
              "\n",
              "    .dataframe tbody tr th {\n",
              "        vertical-align: top;\n",
              "    }\n",
              "\n",
              "    .dataframe thead th {\n",
              "        text-align: right;\n",
              "    }\n",
              "</style>\n",
              "<table border=\"1\" class=\"dataframe\">\n",
              "  <thead>\n",
              "    <tr style=\"text-align: right;\">\n",
              "      <th></th>\n",
              "      <th>id</th>\n",
              "      <th>revenue</th>\n",
              "    </tr>\n",
              "  </thead>\n",
              "  <tbody>\n",
              "    <tr>\n",
              "      <th>0</th>\n",
              "      <td>3001</td>\n",
              "      <td>1.680702e+07</td>\n",
              "    </tr>\n",
              "    <tr>\n",
              "      <th>1</th>\n",
              "      <td>3002</td>\n",
              "      <td>1.680715e+07</td>\n",
              "    </tr>\n",
              "    <tr>\n",
              "      <th>2</th>\n",
              "      <td>3003</td>\n",
              "      <td>1.680704e+07</td>\n",
              "    </tr>\n",
              "    <tr>\n",
              "      <th>3</th>\n",
              "      <td>3004</td>\n",
              "      <td>1.680750e+07</td>\n",
              "    </tr>\n",
              "    <tr>\n",
              "      <th>4</th>\n",
              "      <td>3005</td>\n",
              "      <td>1.680710e+07</td>\n",
              "    </tr>\n",
              "  </tbody>\n",
              "</table>\n",
              "</div>"
            ],
            "text/plain": [
              "     id       revenue\n",
              "0  3001  1.680702e+07\n",
              "1  3002  1.680715e+07\n",
              "2  3003  1.680704e+07\n",
              "3  3004  1.680750e+07\n",
              "4  3005  1.680710e+07"
            ]
          },
          "metadata": {
            "tags": []
          },
          "execution_count": 104
        }
      ]
    },
    {
      "metadata": {
        "id": "YdE9xUEWUFHp",
        "colab_type": "code",
        "colab": {}
      },
      "cell_type": "code",
      "source": [
        "ans.to_csv('tmdb/pred.csv',index=False)"
      ],
      "execution_count": 0,
      "outputs": []
    },
    {
      "metadata": {
        "id": "6h7YQBZgTNgX",
        "colab_type": "code",
        "colab": {}
      },
      "cell_type": "code",
      "source": [
        "from google.colab import files\n",
        "files.download('pred.csv')"
      ],
      "execution_count": 0,
      "outputs": []
    },
    {
      "metadata": {
        "id": "pScH_JSTUXAM",
        "colab_type": "code",
        "colab": {}
      },
      "cell_type": "code",
      "source": [
        ""
      ],
      "execution_count": 0,
      "outputs": []
    }
  ]
}